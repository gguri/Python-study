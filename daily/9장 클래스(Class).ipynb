{
 "cells": [
  {
   "cell_type": "markdown",
   "metadata": {},
   "source": [
    "### 181107\n",
    "\n",
    "# 파이썬 클래스\n",
    "\n",
    "속성과 메서드를 가졌으며 프로퍼티를 추가하여 만들 수 있다.  \n",
    "\n",
    "캡슐화 : 속성과 메서드를 하나로 묶어서 처리하도록 제공하는 것  \n",
    "상속 : 기존에 만들어진 클래스를 상속받아 속성이나 메서드를 재사용  \n",
    "다형성 : 상속 받은 메서드에 대한 오버라이딩과 오버로딩을 처리\n",
    "\n",
    "### 인스턴스 객체\n",
    "\n",
    "클래스 객체에 의해 만들어진 객체  \n",
    "`__init__` 메서드 내부에 지정된 속성을 가지는 네임스페이스만 있고 메서드는 클래스에 있는 것을 사용"
   ]
  },
  {
   "cell_type": "markdown",
   "metadata": {},
   "source": [
    "### 인스턴스를 초기화하는 `__init__`\n",
    "\n",
    "### 1. 책에 대한 정보만을 관리하는 하나의 클래스"
   ]
  },
  {
   "cell_type": "code",
   "execution_count": 1,
   "metadata": {},
   "outputs": [],
   "source": [
    "class BookInfo:\n",
    "    def __init__(self, title, author, date, publisher, page):\n",
    "        self.title = title\n",
    "        self.author = author\n",
    "        self.date = date\n",
    "        self.publisher = publisher\n",
    "        self.page = page"
   ]
  },
  {
   "cell_type": "markdown",
   "metadata": {},
   "source": [
    "BookInfo 클래스를 상속받아 책을 분류하는 클래스를 생성\n",
    "\n",
    "### 2. 책에 대한 분류를 관리하는 BookClass\n",
    "\n",
    "생성자에는 BookInfo에 생성된 인스턴스를 이용해 인스턴스의 네임스페이스에 접근하여 고정 키워드 인자로 처리"
   ]
  },
  {
   "cell_type": "code",
   "execution_count": 8,
   "metadata": {},
   "outputs": [],
   "source": [
    "class BookClass(BookInfo):\n",
    "    def __init__(self, title, author, date, publisher, page, isdn = None):\n",
    "        super().__init__(title, author, date, publisher, page)\n",
    "        self.isdn = isdn"
   ]
  },
  {
   "cell_type": "code",
   "execution_count": 3,
   "metadata": {},
   "outputs": [],
   "source": [
    "book1 = BookInfo(\"서시\", \"윤동주\", \"1939\", \"출판사\", 100)"
   ]
  },
  {
   "cell_type": "code",
   "execution_count": 5,
   "metadata": {},
   "outputs": [
    {
     "data": {
      "text/plain": [
       "{'title': '서시',\n",
       " 'author': '윤동주',\n",
       " 'date': '1939',\n",
       " 'publisher': '출판사',\n",
       " 'page': 100}"
      ]
     },
     "execution_count": 5,
     "metadata": {},
     "output_type": "execute_result"
    }
   ],
   "source": [
    "book1.__dict__"
   ]
  },
  {
   "cell_type": "code",
   "execution_count": 11,
   "metadata": {},
   "outputs": [
    {
     "name": "stdout",
     "output_type": "stream",
     "text": [
      "{'author': '윤동주',\n",
      " 'date': '1939',\n",
      " 'isdn': '1111111',\n",
      " 'page': 100,\n",
      " 'publisher': '출판사',\n",
      " 'title': '서시'}\n"
     ]
    }
   ],
   "source": [
    "import pprint\n",
    "\n",
    "bookclass1 = BookClass(**book1.__dict__, isdn = \"1111111\")\n",
    "pprint.pprint(bookclass1.__dict__)"
   ]
  },
  {
   "cell_type": "markdown",
   "metadata": {},
   "source": [
    "### 3. 실물 책에 대한 재고 관리\n",
    "\n",
    "BookInfo 클래스를 상속받아 재고로 관리하는 실물의 책들에 대한 BookInv 클래스"
   ]
  },
  {
   "cell_type": "code",
   "execution_count": 12,
   "metadata": {},
   "outputs": [],
   "source": [
    "class BookInv(BookClass):\n",
    "    def __init__(self, title, author, date, publisher, page, isdn, invento = None):\n",
    "        super().__init__(title, author, date, publisher, page, isdn)\n",
    "        self.invento = invento"
   ]
  },
  {
   "cell_type": "code",
   "execution_count": 14,
   "metadata": {},
   "outputs": [
    {
     "name": "stdout",
     "output_type": "stream",
     "text": [
      "{'author': '윤동주',\n",
      " 'date': '1939',\n",
      " 'invento': 3000,\n",
      " 'isdn': '1111111',\n",
      " 'page': 100,\n",
      " 'publisher': '출판사',\n",
      " 'title': '서시'}\n"
     ]
    }
   ],
   "source": [
    "bookinv1 = BookInv(**bookclass1.__dict__, invento = 3000)\n",
    "pprint.pprint(bookinv1.__dict__)"
   ]
  },
  {
   "cell_type": "markdown",
   "metadata": {},
   "source": [
    "## 객체의 특징\n",
    "\n",
    "**정체성(identity)** : 객체가 만들어지면 각각의 객체는 명확히 구별되어야 한다.  \n",
    "**책임성(responsibility)** : 각 객체는 자신만의 명확한 행위를 가지고 있다."
   ]
  },
  {
   "cell_type": "markdown",
   "metadata": {},
   "source": [
    "### 1. 정체성(identity)\n",
    "\n",
    "모든 객체는 각각의 객체가 유일하다는 것을 구분할 수 있어야 한다.  \n",
    "객체가 생성되면 유일한 레퍼런스를 가진다."
   ]
  },
  {
   "cell_type": "code",
   "execution_count": 16,
   "metadata": {},
   "outputs": [
    {
     "name": "stdout",
     "output_type": "stream",
     "text": [
      "False\n",
      "3245805386864 3245805386800\n"
     ]
    }
   ],
   "source": [
    "a = object()\n",
    "b = object()\n",
    "\n",
    "print(a is b)\n",
    "print(id(a), id(b))"
   ]
  },
  {
   "cell_type": "markdown",
   "metadata": {},
   "source": [
    "tuple생성자를 이용해서 기존에 정의된 인스턴스로 다시 생성하면 있는 그대로 반환하는 **인터닝(interning)**이 발생해서 동일한 인스턴스의 레퍼런스를 전달하므로 별도의 사본이 만들어지는 것은 아니다."
   ]
  },
  {
   "cell_type": "code",
   "execution_count": 17,
   "metadata": {},
   "outputs": [
    {
     "name": "stdout",
     "output_type": "stream",
     "text": [
      "True\n",
      "3245875137704 3245875137704\n"
     ]
    }
   ],
   "source": [
    "t = (1,2,3)\n",
    "\n",
    "ts = tuple(t)\n",
    "\n",
    "print(t is ts)\n",
    "print(id(t), id(ts))"
   ]
  },
  {
   "cell_type": "markdown",
   "metadata": {},
   "source": [
    "아무 것도 하지 않는 클래스를 사용할 경우 클래스도 하나의 레퍼런스를 가지고 있다면 다른 인스턴스 객체와 동일하다."
   ]
  },
  {
   "cell_type": "code",
   "execution_count": 18,
   "metadata": {},
   "outputs": [
    {
     "name": "stdout",
     "output_type": "stream",
     "text": [
      "3245849426616\n"
     ]
    }
   ],
   "source": [
    "class Klass : \n",
    "    pass\n",
    "\n",
    "print(id(Klass))"
   ]
  },
  {
   "cell_type": "markdown",
   "metadata": {},
   "source": [
    "### 2. 책임성(responsibility)\n",
    "\n",
    "객체는 행위(behavior)중심으로 분류를 하기므로 **객체가 가져야할 행위**에 대한 책임성이 아주 중요하다.\n",
    "\n",
    "책임성을 준수하는 범위 내에서 객체의 행위인 메서드가 만들어지고 이 메서드가 외부로 공개되어 처리된다.  \n",
    "메서드는 이 객체가 해야 할 일을 명확히 보장해야 한다."
   ]
  },
  {
   "cell_type": "markdown",
   "metadata": {},
   "source": [
    "### int 클래스에 대한 책임성 확인하기\n",
    "\n",
    "정수는 사칙연산을 정수로 반환해야 하는 책임성을 가진다.  \n",
    "클래스는 수학의 정수형 값에 대한 행위인 메서드가 구현되어 있다."
   ]
  },
  {
   "cell_type": "code",
   "execution_count": 22,
   "metadata": {},
   "outputs": [
    {
     "name": "stdout",
     "output_type": "stream",
     "text": [
      "__abs__   __add__   __and__   __bool__   __ceil__   \n",
      "__class__   __delattr__   __dir__   __divmod__   __doc__   \n",
      "__eq__   __float__   __floor__   __floordiv__   __format__   \n",
      "__ge__   __getattribute__   __getnewargs__   __gt__   __hash__   \n",
      "__index__   __init__   __init_subclass__   __int__   __invert__   \n",
      "__le__   __lshift__   __lt__   __mod__   __mul__   \n",
      "__ne__   __neg__   __new__   __or__   __pos__   \n",
      "__pow__   __radd__   __rand__   __rdivmod__   __reduce__   \n",
      "__reduce_ex__   __repr__   __rfloordiv__   __rlshift__   __rmod__   \n",
      "__rmul__   __ror__   __round__   __rpow__   __rrshift__   \n",
      "__rshift__   __rsub__   __rtruediv__   __rxor__   __setattr__   \n",
      "__sizeof__   __str__   __sub__   __subclasshook__   __truediv__   \n",
      "__trunc__   __xor__   bit_length   conjugate   denominator   \n",
      "from_bytes   imag   numerator   real   to_bytes   \n"
     ]
    }
   ],
   "source": [
    "count = 0\n",
    "\n",
    "for i in dir(int):\n",
    "    print(i, end = \"   \")\n",
    "    count += 1\n",
    "    print() if count % 5 == 0 else _"
   ]
  },
  {
   "cell_type": "markdown",
   "metadata": {},
   "source": [
    "### 3. 자료형(data type)\n",
    "\n",
    "파이선에서 객체는 인스턴스 객체이므로 자신이 속한 클래스 객체를 항상 가지고 다닌다.\n",
    "\n",
    "자신이 속한 클래스가 이 인스턴스 객체가 처리할 모든 메서드를 가지므로 자신을 만든 클래스가 아주 중요하다.\n",
    "\n",
    "### 숫자 클래스 내에서 관리하는 속성과 메서드 확인하기\n",
    "\n",
    "파이썬에서 숫자를 처리하는 int와 float 클래스는 숫자 처리를 위한 책임성을 가지고 있다."
   ]
  },
  {
   "cell_type": "code",
   "execution_count": 26,
   "metadata": {},
   "outputs": [
    {
     "name": "stdout",
     "output_type": "stream",
     "text": [
      "__abs__   __add__   __bool__   __class__   __delattr__   \n",
      "__dir__   __divmod__   __doc__   __eq__   __float__   \n",
      "__floordiv__   __format__   __ge__   __getattribute__   __getformat__   \n",
      "__getnewargs__   __gt__   __hash__   __init__   __init_subclass__   \n",
      "__int__   __le__   __lt__   __mod__   __mul__   \n",
      "__ne__   __neg__   __new__   __pos__   __pow__   \n",
      "__radd__   __rdivmod__   __reduce__   __reduce_ex__   __repr__   \n",
      "__rfloordiv__   __rmod__   __rmul__   __round__   __rpow__   \n",
      "__rsub__   __rtruediv__   __setattr__   __setformat__   __sizeof__   \n",
      "__str__   __sub__   __subclasshook__   __truediv__   __trunc__   \n",
      "as_integer_ratio   conjugate   fromhex   hex   imag   \n",
      "is_integer   real   "
     ]
    }
   ],
   "source": [
    "for i, v in enumerate(dir(float), 1):\n",
    "    print(v, end = \"   \")\n",
    "    if i % 5 == 0:\n",
    "        print()"
   ]
  },
  {
   "cell_type": "markdown",
   "metadata": {},
   "source": [
    "실수는 포맷에 관련된 처리와 hex 처리 메서드가 추가되어 있다."
   ]
  },
  {
   "cell_type": "code",
   "execution_count": 27,
   "metadata": {},
   "outputs": [
    {
     "name": "stdout",
     "output_type": "stream",
     "text": [
      "{'__setformat__', 'fromhex', 'as_integer_ratio', 'is_integer', 'hex', '__getformat__'}\n"
     ]
    }
   ],
   "source": [
    "i = set(dir(int))\n",
    "f = set(dir(float))\n",
    "\n",
    "print(f - i)"
   ]
  },
  {
   "cell_type": "markdown",
   "metadata": {},
   "source": [
    "정수는 이진수에 대한 처리도 추가해서 실수와 다른 메서드를 가진다."
   ]
  },
  {
   "cell_type": "code",
   "execution_count": 28,
   "metadata": {},
   "outputs": [
    {
     "name": "stdout",
     "output_type": "stream",
     "text": [
      "{'__rxor__', 'numerator', '__lshift__', '__rshift__', 'to_bytes', '__invert__', '__rlshift__', '__rrshift__', '__rand__', '__index__', 'bit_length', '__xor__', '__ror__', 'from_bytes', '__ceil__', '__and__', '__or__', 'denominator', '__floor__'}\n"
     ]
    }
   ],
   "source": [
    "print(i - f)"
   ]
  },
  {
   "cell_type": "markdown",
   "metadata": {},
   "source": [
    "## 최상위 클래스 object\n",
    "\n",
    "파이썬의 모든 클래스는 기본적으로 object 클래스를 상속받아 만들어지므로 이 클래스가 모든 클래스의 최상위 부모 클래스가 된다.\n",
    "\n",
    "object 클래스 내에는 **스페셜 메서드(special method)** 와 **스페셜 속성** 으로만 구성된다.  \n",
    "> 특히 `__dict__`속성이 존재하지 않아서 런타임에 속성을 추가할 수 없다."
   ]
  },
  {
   "cell_type": "code",
   "execution_count": 29,
   "metadata": {},
   "outputs": [
    {
     "name": "stdout",
     "output_type": "stream",
     "text": [
      "__class__   __delattr__   __dir__   __doc__   __eq__   \n",
      "__format__   __ge__   __getattribute__   __gt__   __hash__   \n",
      "__init__   __init_subclass__   __le__   __lt__   __ne__   \n",
      "__new__   __reduce__   __reduce_ex__   __repr__   __setattr__   \n",
      "__sizeof__   __str__   __subclasshook__   "
     ]
    }
   ],
   "source": [
    "for i, v in enumerate(dir(object), 1):\n",
    "    print(v, end = \"   \")\n",
    "    if i % 5 == 0:\n",
    "        print()"
   ]
  },
  {
   "cell_type": "markdown",
   "metadata": {},
   "source": [
    "object 클래스 내부의 도움말  \n",
    "이 객체의 이름 속성을 조회  \n",
    "클래스가 어떻게 출력되어야 하는지 `__str__`, `__repr__`"
   ]
  },
  {
   "cell_type": "code",
   "execution_count": 30,
   "metadata": {},
   "outputs": [
    {
     "name": "stdout",
     "output_type": "stream",
     "text": [
      "The most base type\n",
      "object\n",
      "<class 'object'>\n",
      "<type object at 0x0000000069D8C580>\n"
     ]
    }
   ],
   "source": [
    "print(object.__doc__)\n",
    "print(object.__name__)\n",
    "print(object.__str__(object))\n",
    "print(object.__repr__(object))"
   ]
  },
  {
   "cell_type": "markdown",
   "metadata": {},
   "source": [
    "`__eq__` 메서드를 사용해서 동일한 클래스를 비교하면 레퍼런스로 비교하므로 is 키워드를 통해 처리하는 것과 동일한 결과"
   ]
  },
  {
   "cell_type": "code",
   "execution_count": 31,
   "metadata": {},
   "outputs": [
    {
     "name": "stdout",
     "output_type": "stream",
     "text": [
      "True\n",
      "True\n"
     ]
    }
   ],
   "source": [
    "print(object.__eq__(object, object))\n",
    "print(object is object)"
   ]
  },
  {
   "cell_type": "markdown",
   "metadata": {},
   "source": [
    "object 클래스를 가지고 하나의 인스턴스를 만들고 `__dict__`를 조회하면 에러가 난다.\n",
    "> 인스턴스에서 보관하는 별도의 네임스페이스가 없다는 뜻"
   ]
  },
  {
   "cell_type": "code",
   "execution_count": 32,
   "metadata": {},
   "outputs": [
    {
     "name": "stdout",
     "output_type": "stream",
     "text": [
      "<object object at 0x000002F3B913BC50>\n"
     ]
    },
    {
     "ename": "AttributeError",
     "evalue": "'object' object has no attribute '__dict__'",
     "output_type": "error",
     "traceback": [
      "\u001b[1;31m---------------------------------------------------------------------------\u001b[0m",
      "\u001b[1;31mAttributeError\u001b[0m                            Traceback (most recent call last)",
      "\u001b[1;32m<ipython-input-32-0e03ec709cb1>\u001b[0m in \u001b[0;36m<module>\u001b[1;34m()\u001b[0m\n\u001b[0;32m      2\u001b[0m \u001b[1;33m\u001b[0m\u001b[0m\n\u001b[0;32m      3\u001b[0m \u001b[0mprint\u001b[0m\u001b[1;33m(\u001b[0m\u001b[0mo\u001b[0m\u001b[1;33m)\u001b[0m\u001b[1;33m\u001b[0m\u001b[0m\n\u001b[1;32m----> 4\u001b[1;33m \u001b[0mprint\u001b[0m\u001b[1;33m(\u001b[0m\u001b[0mo\u001b[0m\u001b[1;33m.\u001b[0m\u001b[0m__dict__\u001b[0m\u001b[1;33m)\u001b[0m\u001b[1;33m\u001b[0m\u001b[0m\n\u001b[0m",
      "\u001b[1;31mAttributeError\u001b[0m: 'object' object has no attribute '__dict__'"
     ]
    }
   ],
   "source": [
    "o = object()\n",
    "\n",
    "print(o)\n",
    "print(o.__dict__)"
   ]
  }
 ],
 "metadata": {
  "kernelspec": {
   "display_name": "Python 3",
   "language": "python",
   "name": "python3"
  },
  "language_info": {
   "codemirror_mode": {
    "name": "ipython",
    "version": 3
   },
   "file_extension": ".py",
   "mimetype": "text/x-python",
   "name": "python",
   "nbconvert_exporter": "python",
   "pygments_lexer": "ipython3",
   "version": "3.6.5"
  }
 },
 "nbformat": 4,
 "nbformat_minor": 2
}

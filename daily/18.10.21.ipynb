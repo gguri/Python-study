{
 "cells": [
  {
   "cell_type": "markdown",
   "metadata": {},
   "source": [
    "### 손에 잡히는 파이썬_문용준\n",
    "### 18.10.21"
   ]
  },
  {
   "cell_type": "code",
   "execution_count": 10,
   "metadata": {},
   "outputs": [],
   "source": [
    "import sys"
   ]
  },
  {
   "cell_type": "code",
   "execution_count": 11,
   "metadata": {},
   "outputs": [
    {
     "data": {
      "text/plain": [
       "'3.6.5 |Anaconda, Inc.| (default, Mar 29 2018, 13:32:41) [MSC v.1900 64 bit (AMD64)]'"
      ]
     },
     "execution_count": 11,
     "metadata": {},
     "output_type": "execute_result"
    }
   ],
   "source": [
    "sys.version"
   ]
  },
  {
   "cell_type": "markdown",
   "metadata": {},
   "source": [
    "# 1.1 값(value)처리\n",
    "\n",
    "파이썬은 모든 것을 값으로 처리  \n",
    "why) 실행된 것을 객체로 관리하므로 객체를 일관성을 가지고 평하살 수 있는 규칙을 도입했기 때문"
   ]
  },
  {
   "cell_type": "markdown",
   "metadata": {},
   "source": [
    "## 1.1.1 리터럴(literal)\n",
    "\n",
    "프로그래밍 언어로 작성된 코드에서 값을 대표하는 용어  \n",
    "파이썬에서는 객체로 평가되며 모든 것을 값으로 처리하고 이를 통해 결과를 출력  \n",
    "주피터 노트북에서 리터럴=값을 셀에 입력하고 실행하면 그 결과를 처리한다."
   ]
  },
  {
   "cell_type": "code",
   "execution_count": 12,
   "metadata": {},
   "outputs": [
    {
     "data": {
      "text/plain": [
       "1"
      ]
     },
     "execution_count": 12,
     "metadata": {},
     "output_type": "execute_result"
    }
   ],
   "source": [
    "1"
   ]
  },
  {
   "cell_type": "code",
   "execution_count": 13,
   "metadata": {},
   "outputs": [
    {
     "data": {
      "text/plain": [
       "1.1"
      ]
     },
     "execution_count": 13,
     "metadata": {},
     "output_type": "execute_result"
    }
   ],
   "source": [
    "1.1"
   ]
  },
  {
   "cell_type": "code",
   "execution_count": 14,
   "metadata": {},
   "outputs": [
    {
     "data": {
      "text/plain": [
       "'문자열'"
      ]
     },
     "execution_count": 14,
     "metadata": {},
     "output_type": "execute_result"
    }
   ],
   "source": [
    "\"문자열\""
   ]
  },
  {
   "cell_type": "markdown",
   "metadata": {},
   "source": [
    "## 1.1.2 표현식(expression)\n",
    "\n",
    "리터럴은 단순히 하나의 값  \n",
    "표현식은 여러 개의 값을 하나로 묶어서 처리하는 방법  \n",
    "\n",
    "표현식을 표시하려면?\n",
    "- 일반적인 리터럴 값인 **피연산자(operand)**와 이 피연산자를 평가하거나 계산하는 **연산자(operator)**가 필요\n",
    "\n",
    "표현식의 결과는 항상 평가된 결과인 값으로 처리"
   ]
  },
  {
   "cell_type": "code",
   "execution_count": 15,
   "metadata": {},
   "outputs": [
    {
     "data": {
      "text/plain": [
       "7"
      ]
     },
     "execution_count": 15,
     "metadata": {},
     "output_type": "execute_result"
    }
   ],
   "source": [
    "3+4"
   ]
  },
  {
   "cell_type": "code",
   "execution_count": 16,
   "metadata": {},
   "outputs": [
    {
     "data": {
      "text/plain": [
       "'문자열'"
      ]
     },
     "execution_count": 16,
     "metadata": {},
     "output_type": "execute_result"
    }
   ],
   "source": [
    "\"문자\" + \"열\""
   ]
  },
  {
   "cell_type": "markdown",
   "metadata": {},
   "source": [
    "## 1.1.3 조건식(condition expression)\n",
    "\n",
    "표현식에서 특정 조건문 등에 제한적으로 사용되는 것"
   ]
  },
  {
   "cell_type": "code",
   "execution_count": 17,
   "metadata": {},
   "outputs": [
    {
     "data": {
      "text/plain": [
       "False"
      ]
     },
     "execution_count": 17,
     "metadata": {},
     "output_type": "execute_result"
    }
   ],
   "source": [
    "bool(\"\")"
   ]
  },
  {
   "cell_type": "code",
   "execution_count": 20,
   "metadata": {},
   "outputs": [
    {
     "name": "stdout",
     "output_type": "stream",
     "text": [
      "False\n"
     ]
    }
   ],
   "source": [
    "if \"\" :\n",
    "    print(\"True\")\n",
    "else :\n",
    "    print(\"False\")"
   ]
  },
  {
   "cell_type": "markdown",
   "metadata": {},
   "source": [
    "# 1.2 이름(name)처리\n",
    "\n",
    "프로그램을 작성한다는 것은 값들을 저장하고, 다음에 필요할 경우 이를 읽어와서 계산하고 다시 저장해서 처리한다는 뜻  \n",
    "프로그램에서 이런 값들의 변화를 저장해서 관리하는 기준이 필요하고, **파이썬에서는 이를 위해 네임스페이스를 만들어서 관리**  \n",
    "\n",
    "이름을 구별해야 하므로 이를 식별자(identifier)라는 용어를 사용  \n",
    "이름으로 지정할 요소 : 변수, 함수, 클래스, 모듈, 패키지 등\n",
    "\n",
    "이 중에서 변수를 빼면 다 객체로 사용되므로 값으로 관리되는 것"
   ]
  },
  {
   "cell_type": "markdown",
   "metadata": {},
   "source": [
    "## 1.2.1 예약어(keyword)\n",
    "\n",
    "변수, 함수, 클래스 등은 예약어와 동일한 이름으로 정의할 수 없고 파이썬 내부 문법 규칙에서만 사용할 수 있도록 정의한 것  \n",
    "파이썬에서 모듈(module)은 프로그램을 관리하는 하나의 단위이고 이 내부에 변수, 함수, 클래스 등을 지정해서 관리\n",
    "\n",
    "파이썬 내부의 예약어를 보유주기 위해 하나의 모듈로 관리하며 그 모듈의 이름이 keyword"
   ]
  },
  {
   "cell_type": "code",
   "execution_count": 24,
   "metadata": {},
   "outputs": [
    {
     "name": "stdout",
     "output_type": "stream",
     "text": [
      "['False', 'None', 'True', 'and', 'as', 'assert', 'break', 'class', 'continue',\n",
      " 'def', 'del', 'elif', 'else', 'except', 'finally', 'for', 'from', 'global',\n",
      " 'if', 'import', 'in', 'is', 'lambda', 'nonlocal', 'not', 'or', 'pass', 'raise',\n",
      " 'return', 'try', 'while', 'with', 'yield']\n"
     ]
    }
   ],
   "source": [
    "import keyword\n",
    "import pprint\n",
    "\n",
    "pprint.pprint(keyword.kwlist, width = 80, compact = True)"
   ]
  },
  {
   "cell_type": "code",
   "execution_count": 25,
   "metadata": {},
   "outputs": [
    {
     "name": "stdout",
     "output_type": "stream",
     "text": [
      "Help on function pprint in module pprint:\n",
      "\n",
      "pprint(object, stream=None, indent=1, width=80, depth=None, *, compact=False)\n",
      "    Pretty-print a Python object to a stream [default is sys.stdout].\n",
      "\n"
     ]
    }
   ],
   "source": [
    "help(pprint.pprint)"
   ]
  },
  {
   "cell_type": "markdown",
   "metadata": {},
   "source": [
    "### 모듈 내에 식별자 이름이 중복될 경우\n",
    "\n",
    "파이썬은 하나의 프로그램을 작성하는 기준이 모듈이므로 모듈 단위로 이름을 관리할 수 있는 하나의 영역이 존재  \n",
    "이렇게 모듈 단위로 관리하는 하나의 이름 관리 영역을 **전역 네임스페이스(global name space)** 라고 한다.\n",
    "\n",
    "동일한 모듈 내에서 동일한 이름으로 변수, 함수를 지정하면 동일한 이름으로 처리되어 사용되어 명확한 에러가 발생하지 않지만,\n",
    "이 이름을 호출해서 사용할 때 실행 상의 예외나 다른 처리 결과가 발생한다.  \n",
    "\n",
    "작성된 모듈 내에 동일한 이름으로 저장되지 않도록 변수와 함수 등을 구분해서 정의하고 사용한다."
   ]
  },
  {
   "cell_type": "code",
   "execution_count": 26,
   "metadata": {},
   "outputs": [
    {
     "name": "stdout",
     "output_type": "stream",
     "text": [
      "<class 'module'>\n",
      "<class 'int'>\n"
     ]
    }
   ],
   "source": [
    "import sys\n",
    "\n",
    "print(type(sys))\n",
    "\n",
    "sys = 100\n",
    "print(type(sys))"
   ]
  },
  {
   "cell_type": "markdown",
   "metadata": {},
   "source": [
    "모듈 sys는 예약어가 아니므로 프로그램 작성시 변수로 정의할 수 있다."
   ]
  },
  {
   "cell_type": "markdown",
   "metadata": {},
   "source": [
    "## 1.2.2 명명 규칙(naming convention)\n",
    "\n",
    "파이썬은 다양한 이름에 대한 명명 규칙을 처리하는 규약을 제공하고 관행적으로 이를 따라 이름을 정의하면 이름 간의 충돌을 예방할 수 있다."
   ]
  },
  {
   "cell_type": "markdown",
   "metadata": {},
   "source": [
    "### 문자열 모듈 알아보기"
   ]
  },
  {
   "cell_type": "code",
   "execution_count": 29,
   "metadata": {},
   "outputs": [
    {
     "name": "stdout",
     "output_type": "stream",
     "text": [
      "abcdefghijklmnopqrstuvwxyzABCDEFGHIJKLMNOPQRSTUVWXYZ\n",
      "abcdefghijklmnopqrstuvwxyz\n",
      "ABCDEFGHIJKLMNOPQRSTUVWXYZ\n",
      "0123456789\n",
      "!\"#$%&'()*+,-./:;<=>?@[\\]^_`{|}~\n"
     ]
    }
   ],
   "source": [
    "import string\n",
    "\n",
    "print(string.ascii_letters)\n",
    "print(string.ascii_lowercase)\n",
    "print(string.ascii_uppercase)\n",
    "print(string.digits)\n",
    "print(string.punctuation)"
   ]
  },
  {
   "cell_type": "markdown",
   "metadata": {},
   "source": [
    "### PEP8 스타일 가이드 참고"
   ]
  },
  {
   "cell_type": "markdown",
   "metadata": {},
   "source": [
    "## 1.2.3 변수(variable)\n",
    "\n",
    "파이썬에서 변수는 특정한 자료형 등을 배정하지 않는다.  \n",
    "변수는 단순히 이름만 지정하고 이 변수에 값을 할당해서 사용하므로 다양한 자료형이 할당된다.\n",
    "\n",
    "파이썬에서 변수는 단순히 값을 보관하는 장소가 아니라 값들의 임시 저장 장소로만 사용한다.  \n",
    "변수는 단순히 이름으로 구별하는 것이고 변수에는 값인 객체가 어디에 있는지에 대한 주소인 레퍼런스(reference)만 보관한다.  \n",
    "프로그램을 작성할 때 이 변수에 다양한 객체를 할당할 수 있는 이유는 **단순히 레퍼런스만 저장**하고 있으므로 자료형의 종류와 상관없이 관리\n",
    "\n",
    "#### 즉, 변수는 자료형으로 만들어진 객체에 대한 주소만을 관리하는 역할을 수행한다.\n",
    "\n",
    "Variable 정의 = 값 할당 리터럴(객체)  \n",
    "변수 내의 값<= 객체의 참조이므로 주소를 저장한다.  \n",
    "\n",
    "변수에 들어갈 수 있는 형태\n",
    "1. 수치값\n",
    "2. 컨테이너\n",
    "3. 함수\n",
    "4. 클래스\n",
    "\n",
    "이 중 2. 컨테이너는 문자열(string), 집합(set), 튜플(tuple), 리스트(list), 딕셔너리(dict)로 나뉜다.\n",
    "\n",
    "변수를 정의할 때 별도로 초기화하는 문법이 없으므로 반드시 변수가 정의되면 이 변수에 어떠한 값이라도 할당해야한다."
   ]
  },
  {
   "cell_type": "code",
   "execution_count": 30,
   "metadata": {},
   "outputs": [
    {
     "ename": "NameError",
     "evalue": "name 'var_x' is not defined",
     "output_type": "error",
     "traceback": [
      "\u001b[1;31m---------------------------------------------------------------------------\u001b[0m",
      "\u001b[1;31mNameError\u001b[0m                                 Traceback (most recent call last)",
      "\u001b[1;32m<ipython-input-30-13ee32ee677b>\u001b[0m in \u001b[0;36m<module>\u001b[1;34m()\u001b[0m\n\u001b[1;32m----> 1\u001b[1;33m \u001b[0mvar_x\u001b[0m\u001b[1;33m\u001b[0m\u001b[0m\n\u001b[0m",
      "\u001b[1;31mNameError\u001b[0m: name 'var_x' is not defined"
     ]
    }
   ],
   "source": [
    "var_x"
   ]
  },
  {
   "cell_type": "markdown",
   "metadata": {},
   "source": [
    "var_x = 1\n",
    "pir"
   ]
  }
 ],
 "metadata": {
  "kernelspec": {
   "display_name": "Python 3",
   "language": "python",
   "name": "python3"
  },
  "language_info": {
   "codemirror_mode": {
    "name": "ipython",
    "version": 3
   },
   "file_extension": ".py",
   "mimetype": "text/x-python",
   "name": "python",
   "nbconvert_exporter": "python",
   "pygments_lexer": "ipython3",
   "version": "3.6.5"
  }
 },
 "nbformat": 4,
 "nbformat_minor": 2
}

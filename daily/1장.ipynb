{
 "cells": [
  {
   "cell_type": "markdown",
   "metadata": {},
   "source": [
    "### 손에 잡히는 파이썬_문용준\n",
    "### 18.10.21"
   ]
  },
  {
   "cell_type": "code",
   "execution_count": 10,
   "metadata": {},
   "outputs": [],
   "source": [
    "import sys"
   ]
  },
  {
   "cell_type": "code",
   "execution_count": 11,
   "metadata": {},
   "outputs": [
    {
     "data": {
      "text/plain": [
       "'3.6.5 |Anaconda, Inc.| (default, Mar 29 2018, 13:32:41) [MSC v.1900 64 bit (AMD64)]'"
      ]
     },
     "execution_count": 11,
     "metadata": {},
     "output_type": "execute_result"
    }
   ],
   "source": [
    "sys.version"
   ]
  },
  {
   "cell_type": "markdown",
   "metadata": {},
   "source": [
    "# 1.1 값(value)처리\n",
    "\n",
    "파이썬은 모든 것을 값으로 처리  \n",
    "why) 실행된 것을 객체로 관리하므로 객체를 일관성을 가지고 평하살 수 있는 규칙을 도입했기 때문"
   ]
  },
  {
   "cell_type": "markdown",
   "metadata": {},
   "source": [
    "## 1.1.1 리터럴(literal)\n",
    "\n",
    "프로그래밍 언어로 작성된 코드에서 값을 대표하는 용어  \n",
    "파이썬에서는 객체로 평가되며 모든 것을 값으로 처리하고 이를 통해 결과를 출력  \n",
    "주피터 노트북에서 리터럴=값을 셀에 입력하고 실행하면 그 결과를 처리한다."
   ]
  },
  {
   "cell_type": "code",
   "execution_count": 12,
   "metadata": {},
   "outputs": [
    {
     "data": {
      "text/plain": [
       "1"
      ]
     },
     "execution_count": 12,
     "metadata": {},
     "output_type": "execute_result"
    }
   ],
   "source": [
    "1"
   ]
  },
  {
   "cell_type": "code",
   "execution_count": 13,
   "metadata": {},
   "outputs": [
    {
     "data": {
      "text/plain": [
       "1.1"
      ]
     },
     "execution_count": 13,
     "metadata": {},
     "output_type": "execute_result"
    }
   ],
   "source": [
    "1.1"
   ]
  },
  {
   "cell_type": "code",
   "execution_count": 14,
   "metadata": {},
   "outputs": [
    {
     "data": {
      "text/plain": [
       "'문자열'"
      ]
     },
     "execution_count": 14,
     "metadata": {},
     "output_type": "execute_result"
    }
   ],
   "source": [
    "\"문자열\""
   ]
  },
  {
   "cell_type": "markdown",
   "metadata": {},
   "source": [
    "## 1.1.2 표현식(expression)\n",
    "\n",
    "리터럴은 단순히 하나의 값  \n",
    "표현식은 여러 개의 값을 하나로 묶어서 처리하는 방법  \n",
    "\n",
    "표현식을 표시하려면?\n",
    "- 일반적인 리터럴 값인 **피연산자(operand)**와 이 피연산자를 평가하거나 계산하는 **연산자(operator)**가 필요\n",
    "\n",
    "표현식의 결과는 항상 평가된 결과인 값으로 처리"
   ]
  },
  {
   "cell_type": "code",
   "execution_count": 15,
   "metadata": {},
   "outputs": [
    {
     "data": {
      "text/plain": [
       "7"
      ]
     },
     "execution_count": 15,
     "metadata": {},
     "output_type": "execute_result"
    }
   ],
   "source": [
    "3+4"
   ]
  },
  {
   "cell_type": "code",
   "execution_count": 16,
   "metadata": {},
   "outputs": [
    {
     "data": {
      "text/plain": [
       "'문자열'"
      ]
     },
     "execution_count": 16,
     "metadata": {},
     "output_type": "execute_result"
    }
   ],
   "source": [
    "\"문자\" + \"열\""
   ]
  },
  {
   "cell_type": "markdown",
   "metadata": {},
   "source": [
    "## 1.1.3 조건식(condition expression)\n",
    "\n",
    "표현식에서 특정 조건문 등에 제한적으로 사용되는 것"
   ]
  },
  {
   "cell_type": "code",
   "execution_count": 17,
   "metadata": {},
   "outputs": [
    {
     "data": {
      "text/plain": [
       "False"
      ]
     },
     "execution_count": 17,
     "metadata": {},
     "output_type": "execute_result"
    }
   ],
   "source": [
    "bool(\"\")"
   ]
  },
  {
   "cell_type": "code",
   "execution_count": 20,
   "metadata": {},
   "outputs": [
    {
     "name": "stdout",
     "output_type": "stream",
     "text": [
      "False\n"
     ]
    }
   ],
   "source": [
    "if \"\" :\n",
    "    print(\"True\")\n",
    "else :\n",
    "    print(\"False\")"
   ]
  },
  {
   "cell_type": "markdown",
   "metadata": {},
   "source": [
    "# 1.2 이름(name)처리\n",
    "\n",
    "프로그램을 작성한다는 것은 값들을 저장하고, 다음에 필요할 경우 이를 읽어와서 계산하고 다시 저장해서 처리한다는 뜻  \n",
    "프로그램에서 이런 값들의 변화를 저장해서 관리하는 기준이 필요하고, **파이썬에서는 이를 위해 네임스페이스를 만들어서 관리**  \n",
    "\n",
    "이름을 구별해야 하므로 이를 식별자(identifier)라는 용어를 사용  \n",
    "이름으로 지정할 요소 : 변수, 함수, 클래스, 모듈, 패키지 등\n",
    "\n",
    "이 중에서 변수를 빼면 다 객체로 사용되므로 값으로 관리되는 것"
   ]
  },
  {
   "cell_type": "markdown",
   "metadata": {},
   "source": [
    "## 1.2.1 예약어(keyword)\n",
    "\n",
    "변수, 함수, 클래스 등은 예약어와 동일한 이름으로 정의할 수 없고 파이썬 내부 문법 규칙에서만 사용할 수 있도록 정의한 것  \n",
    "파이썬에서 모듈(module)은 프로그램을 관리하는 하나의 단위이고 이 내부에 변수, 함수, 클래스 등을 지정해서 관리\n",
    "\n",
    "파이썬 내부의 예약어를 보유주기 위해 하나의 모듈로 관리하며 그 모듈의 이름이 keyword"
   ]
  },
  {
   "cell_type": "code",
   "execution_count": 24,
   "metadata": {},
   "outputs": [
    {
     "name": "stdout",
     "output_type": "stream",
     "text": [
      "['False', 'None', 'True', 'and', 'as', 'assert', 'break', 'class', 'continue',\n",
      " 'def', 'del', 'elif', 'else', 'except', 'finally', 'for', 'from', 'global',\n",
      " 'if', 'import', 'in', 'is', 'lambda', 'nonlocal', 'not', 'or', 'pass', 'raise',\n",
      " 'return', 'try', 'while', 'with', 'yield']\n"
     ]
    }
   ],
   "source": [
    "import keyword\n",
    "import pprint\n",
    "\n",
    "pprint.pprint(keyword.kwlist, width = 80, compact = True)"
   ]
  },
  {
   "cell_type": "code",
   "execution_count": 25,
   "metadata": {},
   "outputs": [
    {
     "name": "stdout",
     "output_type": "stream",
     "text": [
      "Help on function pprint in module pprint:\n",
      "\n",
      "pprint(object, stream=None, indent=1, width=80, depth=None, *, compact=False)\n",
      "    Pretty-print a Python object to a stream [default is sys.stdout].\n",
      "\n"
     ]
    }
   ],
   "source": [
    "help(pprint.pprint)"
   ]
  },
  {
   "cell_type": "markdown",
   "metadata": {},
   "source": [
    "### 모듈 내에 식별자 이름이 중복될 경우\n",
    "\n",
    "파이썬은 하나의 프로그램을 작성하는 기준이 모듈이므로 모듈 단위로 이름을 관리할 수 있는 하나의 영역이 존재  \n",
    "이렇게 모듈 단위로 관리하는 하나의 이름 관리 영역을 **전역 네임스페이스(global name space)** 라고 한다.\n",
    "\n",
    "동일한 모듈 내에서 동일한 이름으로 변수, 함수를 지정하면 동일한 이름으로 처리되어 사용되어 명확한 에러가 발생하지 않지만,\n",
    "이 이름을 호출해서 사용할 때 실행 상의 예외나 다른 처리 결과가 발생한다.  \n",
    "\n",
    "작성된 모듈 내에 동일한 이름으로 저장되지 않도록 변수와 함수 등을 구분해서 정의하고 사용한다."
   ]
  },
  {
   "cell_type": "code",
   "execution_count": 26,
   "metadata": {},
   "outputs": [
    {
     "name": "stdout",
     "output_type": "stream",
     "text": [
      "<class 'module'>\n",
      "<class 'int'>\n"
     ]
    }
   ],
   "source": [
    "import sys\n",
    "\n",
    "print(type(sys))\n",
    "\n",
    "sys = 100\n",
    "print(type(sys))"
   ]
  },
  {
   "cell_type": "markdown",
   "metadata": {},
   "source": [
    "모듈 sys는 예약어가 아니므로 프로그램 작성시 변수로 정의할 수 있다."
   ]
  },
  {
   "cell_type": "markdown",
   "metadata": {},
   "source": [
    "## 1.2.2 명명 규칙(naming convention)\n",
    "\n",
    "파이썬은 다양한 이름에 대한 명명 규칙을 처리하는 규약을 제공하고 관행적으로 이를 따라 이름을 정의하면 이름 간의 충돌을 예방할 수 있다."
   ]
  },
  {
   "cell_type": "markdown",
   "metadata": {},
   "source": [
    "### 문자열 모듈 알아보기"
   ]
  },
  {
   "cell_type": "code",
   "execution_count": 29,
   "metadata": {},
   "outputs": [
    {
     "name": "stdout",
     "output_type": "stream",
     "text": [
      "abcdefghijklmnopqrstuvwxyzABCDEFGHIJKLMNOPQRSTUVWXYZ\n",
      "abcdefghijklmnopqrstuvwxyz\n",
      "ABCDEFGHIJKLMNOPQRSTUVWXYZ\n",
      "0123456789\n",
      "!\"#$%&'()*+,-./:;<=>?@[\\]^_`{|}~\n"
     ]
    }
   ],
   "source": [
    "import string\n",
    "\n",
    "print(string.ascii_letters)\n",
    "print(string.ascii_lowercase)\n",
    "print(string.ascii_uppercase)\n",
    "print(string.digits)\n",
    "print(string.punctuation)"
   ]
  },
  {
   "cell_type": "markdown",
   "metadata": {},
   "source": [
    "### PEP8 스타일 가이드 참고"
   ]
  },
  {
   "cell_type": "markdown",
   "metadata": {},
   "source": [
    "## 1.2.3 변수(variable)\n",
    "\n",
    "파이썬에서 변수는 특정한 자료형 등을 배정하지 않는다.  \n",
    "변수는 단순히 이름만 지정하고 이 변수에 값을 할당해서 사용하므로 다양한 자료형이 할당된다.\n",
    "\n",
    "파이썬에서 변수는 단순히 값을 보관하는 장소가 아니라 값들의 임시 저장 장소로만 사용한다.  \n",
    "변수는 단순히 이름으로 구별하는 것이고 변수에는 값인 객체가 어디에 있는지에 대한 주소인 레퍼런스(reference)만 보관한다.  \n",
    "프로그램을 작성할 때 이 변수에 다양한 객체를 할당할 수 있는 이유는 **단순히 레퍼런스만 저장**하고 있으므로 자료형의 종류와 상관없이 관리\n",
    "\n",
    "#### 즉, 변수는 자료형으로 만들어진 객체에 대한 주소만을 관리하는 역할을 수행한다.\n",
    "\n",
    "Variable 정의 = 값 할당 리터럴(객체)  \n",
    "변수 내의 값<= 객체의 참조이므로 주소를 저장한다.  \n",
    "\n",
    "변수에 들어갈 수 있는 형태\n",
    "1. 수치값\n",
    "2. 컨테이너\n",
    "3. 함수\n",
    "4. 클래스\n",
    "\n",
    "이 중 2. 컨테이너는 문자열(string), 집합(set), 튜플(tuple), 리스트(list), 딕셔너리(dict)로 나뉜다.\n",
    "\n",
    "변수를 정의할 때 별도로 초기화하는 문법이 없으므로 반드시 변수가 정의되면 이 변수에 어떠한 값이라도 할당해야한다."
   ]
  },
  {
   "cell_type": "code",
   "execution_count": 30,
   "metadata": {},
   "outputs": [
    {
     "ename": "NameError",
     "evalue": "name 'var_x' is not defined",
     "output_type": "error",
     "traceback": [
      "\u001b[1;31m---------------------------------------------------------------------------\u001b[0m",
      "\u001b[1;31mNameError\u001b[0m                                 Traceback (most recent call last)",
      "\u001b[1;32m<ipython-input-30-13ee32ee677b>\u001b[0m in \u001b[0;36m<module>\u001b[1;34m()\u001b[0m\n\u001b[1;32m----> 1\u001b[1;33m \u001b[0mvar_x\u001b[0m\u001b[1;33m\u001b[0m\u001b[0m\n\u001b[0m",
      "\u001b[1;31mNameError\u001b[0m: name 'var_x' is not defined"
     ]
    }
   ],
   "source": [
    "var_x"
   ]
  },
  {
   "cell_type": "markdown",
   "metadata": {},
   "source": [
    "var_x = 1\n",
    "pir"
   ]
  },
  {
   "cell_type": "markdown",
   "metadata": {},
   "source": [
    "# 18.10.22 "
   ]
  },
  {
   "cell_type": "markdown",
   "metadata": {},
   "source": [
    "# 1.3 데이터 모델(data meodel)\n",
    "\n",
    "파이썬이 제공하는 자료형에 대한 관리 규칙  \n",
    "파이썬은 내부에서 제공하는 모든 객체들 즉, 자료형(data type)을 어떻게 만드는지에 대한 규칙을 데이터 모델로 관리"
   ]
  },
  {
   "cell_type": "markdown",
   "metadata": {},
   "source": [
    "## 1.3.1 클래스(class), 객체(object), 인스턴스(instance)\n",
    "\n",
    "파이썬은 객체지향 개념을 수용 - 만들어지는 모든 값은 객체이고 객체를 처리하기 위해 속성과 메소드를 제공  \n",
    "\n",
    "### 클래스\n",
    "\n",
    "객체를 만드는 틀로 사용하도록 고안  \n",
    "파이썬에서도 클래스를 정의하고 이 클래스를 이용해서 객체를 만든다.  \n",
    "이때 만들어진 객체를 **인스턴스 객체**라고 한다.  \n",
    "파이썬은 클래스도 별도의 객체로 인식해서 사용할 수 있으므로 클래스 객체로 사용된다.\n",
    "\n",
    "파이썬에서는 클래스와 인스턴스로 구분해서 사용하는 것이 좋다.\n",
    "\n",
    "파이썬에서 클래스가 정의되면 \n",
    " - 모든 메서드와 클래스 내부에 있는 속성은 클래스에서 관리\n",
    " - 객체가 만들어질 경우만 인스턴스 속성을 관리\n",
    "\n",
    "인스턴스로 인스턴스 메서드를 호출하면 클래스에 메서드 이름을 검색한 후에 **바인딩**해서 사용하는 개념으로 처리가 된다."
   ]
  },
  {
   "cell_type": "markdown",
   "metadata": {},
   "source": [
    "### * 객체 내부 검사(object introspection)\n",
    "\n",
    "- dir 함수 : 객체 내부의 속성과 메서드 확인\n",
    "- type 클래스 : 객체를 누가 만들었는지에 대한 정보를 확인\n",
    "- id 함수 : 객체들의 레퍼런스를 정수로 확인"
   ]
  },
  {
   "cell_type": "markdown",
   "metadata": {},
   "source": [
    "### * 클래스 객체(class object)\n",
    "\n",
    "파이썬에서 내장으로 제공하는 최상위 클래스인 object 클래스를 이용하여 클래스 내에 어떤 속성과 메서드가 있는지 확인"
   ]
  },
  {
   "cell_type": "code",
   "execution_count": 2,
   "metadata": {},
   "outputs": [
    {
     "name": "stdout",
     "output_type": "stream",
     "text": [
      "<class 'object'>\n",
      "<class 'object'>\n",
      "1638516096\n"
     ]
    }
   ],
   "source": [
    "print(object)\n",
    "print(object.__str__(object))\n",
    "print(id(object))"
   ]
  },
  {
   "cell_type": "markdown",
   "metadata": {},
   "source": [
    "클래스가 어느 클래스에 의해 만들어졌는지에 대한 정보는 `__class__` 속성이 갖고 있다.  \n",
    "type클래스를 이용하면 이 클래스를 만든 클래스를 표시함  \n",
    "Object 클래스의 이름은 `__name__`속성에 들어가 있는 것을 확인"
   ]
  },
  {
   "cell_type": "code",
   "execution_count": 3,
   "metadata": {},
   "outputs": [
    {
     "name": "stdout",
     "output_type": "stream",
     "text": [
      "<class 'type'>\n",
      "<class 'type'>\n",
      "object\n"
     ]
    }
   ],
   "source": [
    "print(object.__class__)\n",
    "print(type(object))\n",
    "print(object.__name__)"
   ]
  },
  {
   "cell_type": "markdown",
   "metadata": {},
   "source": [
    "클래스 object로 출력할 경우 내부적으로 `__str__` 메서드를 호출해서 출력하는 것"
   ]
  },
  {
   "cell_type": "code",
   "execution_count": 5,
   "metadata": {},
   "outputs": [
    {
     "data": {
      "text/plain": [
       "\"<class 'object'>\""
      ]
     },
     "execution_count": 5,
     "metadata": {},
     "output_type": "execute_result"
    }
   ],
   "source": [
    "object.__str__(object)"
   ]
  },
  {
   "cell_type": "code",
   "execution_count": 6,
   "metadata": {},
   "outputs": [
    {
     "data": {
      "text/plain": [
       "object"
      ]
     },
     "execution_count": 6,
     "metadata": {},
     "output_type": "execute_result"
    }
   ],
   "source": [
    "object"
   ]
  },
  {
   "cell_type": "code",
   "execution_count": 7,
   "metadata": {},
   "outputs": [
    {
     "name": "stdout",
     "output_type": "stream",
     "text": [
      "['__class__', '__delattr__', '__dir__', '__doc__', '__eq__',\n",
      " '__format__', '__ge__', '__getattribute__', '__gt__',\n",
      " '__hash__', '__init__', '__init_subclass__', '__le__',\n",
      " '__lt__', '__ne__', '__new__', '__reduce__',\n",
      " '__reduce_ex__', '__repr__', '__setattr__', '__sizeof__',\n",
      " '__str__', '__subclasshook__']\n"
     ]
    }
   ],
   "source": [
    "import pprint\n",
    "\n",
    "pprint.pprint(dir(object), width = 60, compact = True)"
   ]
  },
  {
   "cell_type": "markdown",
   "metadata": {},
   "source": [
    "### 프로퍼티(property)\n",
    "\n",
    "프로퍼티는 속성(attribue)과 메서드(method)가 추가된 정보이다.  \n",
    "클래스를 정의하고 하나의 메서드 위에 `@property`를 지정하면 메서드이면서 이름으로 호출이 가능한 구조를 구성한다.  \n",
    "속성이 아닌 메서드이지만 속성처럼 사용하면서 내부적으로는 메서드가 실행되는 구조"
   ]
  },
  {
   "cell_type": "code",
   "execution_count": 9,
   "metadata": {},
   "outputs": [],
   "source": [
    "class Klass:\n",
    "    @property\n",
    "    def Name(self):\n",
    "        return Klass.__name__"
   ]
  },
  {
   "cell_type": "code",
   "execution_count": 10,
   "metadata": {},
   "outputs": [
    {
     "name": "stdout",
     "output_type": "stream",
     "text": [
      "Klass\n"
     ]
    }
   ],
   "source": [
    "c = Klass()\n",
    "print(c.Name)"
   ]
  },
  {
   "cell_type": "code",
   "execution_count": 11,
   "metadata": {},
   "outputs": [],
   "source": [
    "class Klass_1:\n",
    "    def Name(self):\n",
    "        return Klass.__name__"
   ]
  },
  {
   "cell_type": "code",
   "execution_count": 13,
   "metadata": {},
   "outputs": [
    {
     "name": "stdout",
     "output_type": "stream",
     "text": [
      "<bound method Klass_1.Name of <__main__.Klass_1 object at 0x0000028AD2AB5B38>>\n"
     ]
    }
   ],
   "source": [
    "d = Klass_1()\n",
    "print(d.Name)"
   ]
  },
  {
   "cell_type": "code",
   "execution_count": 14,
   "metadata": {},
   "outputs": [
    {
     "data": {
      "text/plain": [
       "<function Klass_1.__dir__>"
      ]
     },
     "execution_count": 14,
     "metadata": {},
     "output_type": "execute_result"
    }
   ],
   "source": [
    "d.__dir__"
   ]
  },
  {
   "cell_type": "code",
   "execution_count": 15,
   "metadata": {},
   "outputs": [
    {
     "data": {
      "text/plain": [
       "mappingproxy({'__module__': '__main__',\n",
       "              'Name': <property at 0x28ad2abab38>,\n",
       "              '__dict__': <attribute '__dict__' of 'Klass' objects>,\n",
       "              '__weakref__': <attribute '__weakref__' of 'Klass' objects>,\n",
       "              '__doc__': None})"
      ]
     },
     "execution_count": 15,
     "metadata": {},
     "output_type": "execute_result"
    }
   ],
   "source": [
    "Klass.__dict__"
   ]
  },
  {
   "cell_type": "code",
   "execution_count": 16,
   "metadata": {},
   "outputs": [
    {
     "data": {
      "text/plain": [
       "mappingproxy({'__module__': '__main__',\n",
       "              'Name': <function __main__.Klass_1.Name(self)>,\n",
       "              '__dict__': <attribute '__dict__' of 'Klass_1' objects>,\n",
       "              '__weakref__': <attribute '__weakref__' of 'Klass_1' objects>,\n",
       "              '__doc__': None})"
      ]
     },
     "execution_count": 16,
     "metadata": {},
     "output_type": "execute_result"
    }
   ],
   "source": [
    "Klass_1.__dict__"
   ]
  },
  {
   "cell_type": "markdown",
   "metadata": {},
   "source": [
    "### * 인스턴스 객체\n",
    "\n",
    "사용자 정의 클래스를 정의하고 이 클래스를 기반으로 객체를 생성한 후 인스턴스를 만들어서 사용한다. \n",
    "\n",
    "사용자 클래스 Person을 정의하고 인스턴스를 생성할 때 기본적으로 **속성을 생성하는 스페셜 메서드인 `__init__`**가 정의된다.  \n",
    "이 `__init__`메서드는 클래스에서 인스턴스를 생성할 때 이 내부에 정의된 매개변수(parameter)를 클래스에 인자로 받는다.  \n",
    "이 인자를 가지고 인스턴스 내부 속성에 값을 생성한다."
   ]
  },
  {
   "cell_type": "markdown",
   "metadata": {},
   "source": [
    "인스턴스 메서드인 getName을 정의하고 이 메서드는 인스턴스 내의 속성 name을 반환한다."
   ]
  },
  {
   "cell_type": "code",
   "execution_count": 18,
   "metadata": {},
   "outputs": [],
   "source": [
    "class Person:\n",
    "    def __init__(self, name):\n",
    "        self.name = name # 인스턴스 내의 속성 name\n",
    "        \n",
    "    def getName(self): # 인스턴스 메서드\n",
    "        return self.name"
   ]
  },
  {
   "cell_type": "code",
   "execution_count": 21,
   "metadata": {},
   "outputs": [
    {
     "name": "stdout",
     "output_type": "stream",
     "text": [
      "{'name': '요한'}\n"
     ]
    }
   ],
   "source": [
    "# 클래스는 인스턴스를 생성한 후 변수 p에 할당된다.  \n",
    "p = Person(\"요한\")\n",
    "\n",
    "# 인스턴스 내부의 속성 확인\n",
    "print(p.__dict__)"
   ]
  },
  {
   "cell_type": "markdown",
   "metadata": {},
   "source": [
    "Person 클래스 내의 속성을 확인하기 위 `__dict__`로 조회하면 위에서 정의한 2개 메서드 외에 클래스를 정의하면 만들어지는 속성들도 확인이 가능하다."
   ]
  },
  {
   "cell_type": "code",
   "execution_count": 22,
   "metadata": {},
   "outputs": [
    {
     "name": "stdout",
     "output_type": "stream",
     "text": [
      "mappingproxy({'__dict__': <attribute '__dict__' of 'Person' objects>,\n",
      "              '__doc__': None,\n",
      "              '__init__': <function Person.__init__ at 0x0000028AD2AC47B8>,\n",
      "              '__module__': '__main__',\n",
      "              '__weakref__': <attribute '__weakref__' of 'Person' objects>,\n",
      "              'getName': <function Person.getName at 0x0000028AD2AC4488>})\n"
     ]
    }
   ],
   "source": [
    "pprint.pprint(Person.__dict__)"
   ]
  },
  {
   "cell_type": "markdown",
   "metadata": {},
   "source": [
    "### * 내장 자료형(built-in data type)의 클래스 정보 확인"
   ]
  },
  {
   "cell_type": "code",
   "execution_count": 23,
   "metadata": {},
   "outputs": [
    {
     "name": "stdout",
     "output_type": "stream",
     "text": [
      "<class 'float'>\n"
     ]
    }
   ],
   "source": [
    "print(float)"
   ]
  },
  {
   "cell_type": "code",
   "execution_count": 25,
   "metadata": {},
   "outputs": [
    {
     "name": "stdout",
     "output_type": "stream",
     "text": [
      "['__abs__', '__add__', '__bool__', '__class__',\n",
      " '__delattr__', '__dir__', '__divmod__', '__doc__',\n",
      " '__eq__', '__float__', '__floordiv__', '__format__',\n",
      " '__ge__', '__getattribute__', '__getformat__',\n",
      " '__getnewargs__', '__gt__', '__hash__', '__init__',\n",
      " '__init_subclass__', '__int__', '__le__', '__lt__',\n",
      " '__mod__', '__mul__', '__ne__', '__neg__', '__new__',\n",
      " '__pos__', '__pow__', '__radd__', '__rdivmod__',\n",
      " '__reduce__', '__reduce_ex__', '__repr__', '__rfloordiv__',\n",
      " '__rmod__', '__rmul__', '__round__', '__rpow__',\n",
      " '__rsub__', '__rtruediv__', '__setattr__', '__setformat__',\n",
      " '__sizeof__', '__str__', '__sub__', '__subclasshook__',\n",
      " '__truediv__', '__trunc__', 'as_integer_ratio',\n",
      " 'conjugate', 'fromhex', 'hex', 'imag', 'is_integer',\n",
      " 'real']\n"
     ]
    }
   ],
   "source": [
    "pprint.pprint(dir(float), width = 60, compact = True)"
   ]
  },
  {
   "cell_type": "markdown",
   "metadata": {},
   "source": [
    "스페셜 속성과 메서드의 명명 규칙은 앞과 뒤에 두 개의 언더스코어가 붙어있음"
   ]
  },
  {
   "cell_type": "code",
   "execution_count": 28,
   "metadata": {},
   "outputs": [
    {
     "name": "stdout",
     "output_type": "stream",
     "text": [
      "as_integer_ratio\n",
      "conjugate\n",
      "fromhex\n",
      "hex\n",
      "imag\n",
      "is_integer\n",
      "real\n"
     ]
    }
   ],
   "source": [
    "for i in dir(float):\n",
    "    if not i.startswith('_'):\n",
    "        print(i)"
   ]
  },
  {
   "cell_type": "markdown",
   "metadata": {},
   "source": [
    "내장 자료형 float는 생성자 없이 리터럴로 직접 지정해도 인스턴스가 float 클래스에 의해 만들어진다.  \n",
    "type 메타 클래스 내에 인스턴스를 넣으면 확인할 수 있다.  \n",
    "\n",
    "(1.0)이 float 클래스의 인스턴스이므로 내부 속성을 객체 접근 연산자인 점 연산자를 통해   \n",
    "내부의 real 속성에 접근해서 보관하는 값을 출력할 수 있다."
   ]
  },
  {
   "cell_type": "code",
   "execution_count": 29,
   "metadata": {},
   "outputs": [
    {
     "name": "stdout",
     "output_type": "stream",
     "text": [
      "<class 'float'>\n",
      "1.0\n"
     ]
    }
   ],
   "source": [
    "print(type(1.0))\n",
    "print((1.0).real)"
   ]
  },
  {
   "cell_type": "markdown",
   "metadata": {},
   "source": [
    "인스턴스인 (1.0)을 가지고 메서드를 호출하면 이 인스턴스의 상태변화를 알 수 있다."
   ]
  },
  {
   "cell_type": "code",
   "execution_count": 36,
   "metadata": {},
   "outputs": [
    {
     "name": "stdout",
     "output_type": "stream",
     "text": [
      "<class 'float'>\n",
      "True\n"
     ]
    }
   ],
   "source": [
    "print(type(1.0))\n",
    "print((1.0).is_integer())"
   ]
  },
  {
   "cell_type": "markdown",
   "metadata": {},
   "source": [
    "### * 사용자 정의 함수와 클래스에 docstring 처리하기\n",
    "\n",
    "내부 속성 `__doc__`에 도움말인 docstring을 넣을 수 있다. (docstring도 결국에는 객체다)"
   ]
  },
  {
   "cell_type": "code",
   "execution_count": 38,
   "metadata": {},
   "outputs": [],
   "source": [
    "def kor_root():\n",
    "    \"\"\"한글로 이 함수의 설명을 추가\"\"\"\n",
    "    pass"
   ]
  },
  {
   "cell_type": "code",
   "execution_count": 40,
   "metadata": {},
   "outputs": [
    {
     "name": "stdout",
     "output_type": "stream",
     "text": [
      "한글로 이 함수의 설명을 추가\n"
     ]
    }
   ],
   "source": [
    "print(kor_root.__doc__)"
   ]
  },
  {
   "cell_type": "code",
   "execution_count": 41,
   "metadata": {},
   "outputs": [
    {
     "name": "stdout",
     "output_type": "stream",
     "text": [
      "Help on function kor_root in module __main__:\n",
      "\n",
      "kor_root()\n",
      "    한글로 이 함수의 설명을 추가\n",
      "\n"
     ]
    }
   ],
   "source": [
    "help(kor_root)"
   ]
  },
  {
   "cell_type": "code",
   "execution_count": 43,
   "metadata": {},
   "outputs": [],
   "source": [
    "class Klass:\n",
    "    \"\"\"한글로 이 클래스의 설명을 추가\"\"\"\n",
    "    pass"
   ]
  },
  {
   "cell_type": "code",
   "execution_count": 44,
   "metadata": {},
   "outputs": [
    {
     "name": "stdout",
     "output_type": "stream",
     "text": [
      "한글로 이 클래스의 설명을 추가\n"
     ]
    }
   ],
   "source": [
    "print(Klass.__doc__)"
   ]
  },
  {
   "cell_type": "code",
   "execution_count": 45,
   "metadata": {},
   "outputs": [
    {
     "name": "stdout",
     "output_type": "stream",
     "text": [
      "Help on class Klass in module __main__:\n",
      "\n",
      "class Klass(builtins.object)\n",
      " |  한글로 이 클래스의 설명을 추가\n",
      " |  \n",
      " |  Data descriptors defined here:\n",
      " |  \n",
      " |  __dict__\n",
      " |      dictionary for instance variables (if defined)\n",
      " |  \n",
      " |  __weakref__\n",
      " |      list of weak references to the object (if defined)\n",
      "\n"
     ]
    }
   ],
   "source": [
    "help(Klass)"
   ]
  },
  {
   "cell_type": "markdown",
   "metadata": {},
   "source": [
    "## 18.10.23"
   ]
  },
  {
   "cell_type": "markdown",
   "metadata": {},
   "source": [
    "프로그램을 작성할 떄 내부의 값으로 가져야 할 것들 중에 아무런 값도 없다는 것을 정의한다.  \n",
    "보통 Null이 많이 사용되지만 파이썬에서는 None으로 정의한다."
   ]
  },
  {
   "cell_type": "code",
   "execution_count": 1,
   "metadata": {},
   "outputs": [
    {
     "name": "stdout",
     "output_type": "stream",
     "text": [
      "None\n",
      "<class 'NoneType'>\n"
     ]
    }
   ],
   "source": [
    "print(None)\n",
    "print(type(None))"
   ]
  },
  {
   "cell_type": "markdown",
   "metadata": {},
   "source": [
    "None은 하나의 인스턴스이므로 type으로 확인해보면 Nonetype 클래스로부터 생성된 것을 확인할 수 있다."
   ]
  },
  {
   "cell_type": "markdown",
   "metadata": {},
   "source": [
    "함수 func을 정의하였지만 pass를 사용해서 내부적으로 아무런 일을 하지 않는 함수이다.  \n",
    "함수를 실행하면 실행된 결과가 없다.  \n",
    "\n",
    "하지만 파이썬에서는 return이 없는 함수여도 아무런 일을 하지 않으므로 None을 자동으로 반환한다."
   ]
  },
  {
   "cell_type": "code",
   "execution_count": 2,
   "metadata": {},
   "outputs": [
    {
     "name": "stdout",
     "output_type": "stream",
     "text": [
      "None\n"
     ]
    }
   ],
   "source": [
    "def func():\n",
    "    pass\n",
    "\n",
    "a = func()\n",
    "print(a)"
   ]
  },
  {
   "cell_type": "markdown",
   "metadata": {},
   "source": [
    "### * Sequence 자료형\n",
    "\n",
    "- 각 원소가 순서를 가지는 모임이다.\n",
    "- 순서와 원소가 정해진 형태도 있지만, 순서와 원소의 수가 고정적이지 않을 수도 있다.\n",
    "- 기본 연산이 동일하게 처리되며 내부의 원소를 갱신하거나 삭제할 수 있는 연산도 제공된다."
   ]
  },
  {
   "cell_type": "markdown",
   "metadata": {},
   "source": [
    "### 1.3.5 객체 비교 방식(is, ==), 레퍼런스 확인 함수\n",
    "\n",
    "파이썬은 동일한 객체를 비교하는 is 키워드,  \n",
    "동일한 원소를 가졌는지를 확인하는 == 연산자도 있다.\n",
    "\n",
    "객체 레퍼런스의 동일 여부를 is로 확인할 수 있지만, 파이썬은 관행상 내부 처리하는 is를 권고하지 않는다.  \n",
    "동일한 객체로 인식되는 경우에도 내부적으로 동일하지 않게 관리하기에 객체를 비교할 경우에는 ==연산으로 처리하는 것을 권고한다."
   ]
  },
  {
   "cell_type": "code",
   "execution_count": 4,
   "metadata": {},
   "outputs": [
    {
     "name": "stdout",
     "output_type": "stream",
     "text": [
      "1817013312\n",
      "1817013312\n",
      "True\n"
     ]
    }
   ],
   "source": [
    "i = 1\n",
    "j = 1\n",
    "\n",
    "print(id(i))\n",
    "print(id(j))\n",
    "print(i is j)"
   ]
  },
  {
   "cell_type": "code",
   "execution_count": 5,
   "metadata": {},
   "outputs": [
    {
     "name": "stdout",
     "output_type": "stream",
     "text": [
      "2866806197576\n",
      "2866806982024\n",
      "True\n"
     ]
    }
   ],
   "source": [
    "l1 = [1,2,3]\n",
    "l2 = [1,2,3]\n",
    "\n",
    "print(id(l1))\n",
    "print(id(l2))\n",
    "print(l1 == l2)"
   ]
  },
  {
   "cell_type": "code",
   "execution_count": 6,
   "metadata": {},
   "outputs": [
    {
     "name": "stdout",
     "output_type": "stream",
     "text": [
      "False\n"
     ]
    }
   ],
   "source": [
    "print(l1 is l2)"
   ]
  },
  {
   "cell_type": "markdown",
   "metadata": {},
   "source": [
    "### 1.3.6 자료형의 변환\n",
    "\n",
    "- 변경 가능 : Mutable\n",
    "\n",
    "    다양한 원소들로 구성된 자료형일 경우 원소의 추가나 삭제 등이 가능한 리스트, 딕셔너리 등이 속한다. 사용자 정의 클래스는 여기에 속한다.\n",
    "\n",
    "\n",
    "- 변경 불가능 : Immutable\n",
    "    \n",
    "    하나의 원소로 구성될 경우는 원소가 하나밖에 없으므로 원소를 변경하는 것 자체가 객체를 대체하는ㄱ ㅓㅅ이다.\n",
    "    \n",
    " "
   ]
  },
  {
   "cell_type": "code",
   "execution_count": 7,
   "metadata": {},
   "outputs": [
    {
     "name": "stdout",
     "output_type": "stream",
     "text": [
      "2866806194952\n",
      "2866806195784\n"
     ]
    }
   ],
   "source": [
    "ls = ['a', 'b', 'c']\n",
    "print(id(ls))\n",
    "li = [1,2,3]\n",
    "print(id(li))"
   ]
  },
  {
   "cell_type": "markdown",
   "metadata": {},
   "source": [
    "위에서 정의한 두 리스트의 레퍼런스는 다르다.  \n",
    "두 개의 리스트를 하나로 결합해보면 리스트 내의 원소는 추가되었지만 원래 가진 리스트의 레퍼런스는 변하지 않는 것을 확인할 수 있다."
   ]
  },
  {
   "cell_type": "code",
   "execution_count": 8,
   "metadata": {},
   "outputs": [
    {
     "name": "stdout",
     "output_type": "stream",
     "text": [
      "2866806194952\n",
      "['a', 'b', 'c', 1, 2, 3]\n"
     ]
    }
   ],
   "source": [
    "ls += li\n",
    "print(id(ls))\n",
    "print(ls)"
   ]
  },
  {
   "cell_type": "markdown",
   "metadata": {},
   "source": [
    "#### 변경 가능하다는 것은 원소들이 변한다는 의미"
   ]
  },
  {
   "cell_type": "markdown",
   "metadata": {},
   "source": [
    "# 1.4 바인딩(binding) 및 평가 방식(evaluation)\n",
    "\n",
    "프로그램이 실행될 때, 프로그램으로 작성된 다양한 이름과 클래스에 의해 만들어진 많은 인스턴스가 어떻게 연결되어 처리되는지가 아주 중요하다.\n",
    "\n",
    "파이썬의 모든 메서드는 클래스 내의 네임스페이스에서 관리되지만 인스턴스가 이를 호출해서 처리하는 구조를 따른다. \n",
    "\n",
    "변수를 사용할 경우 이 이름이 언제부터 내부에서 관리되는 값의 레퍼런스를 가지고 처리할 수 있게 묶어서 실행이 되도록 바인딩을 하는지도 중요하다."
   ]
  },
  {
   "cell_type": "markdown",
   "metadata": {},
   "source": [
    "## 1.4.1 바인딩에 따른 자료형 결졍\n",
    "\n",
    "파이썬은 재사용하기 위해 이름인 변수를 정의하고 이 변수들의 모듈, 클래스, 함수 등의 네임스페이스에 저장되어 관리된다.\n",
    "\n",
    "이 이름을 프로그램에서 사용하면 관리되는 값(value)인 객체(object)를 호출해서 그 객체에 맞춰 처리하게 되어 있다. 프로그램이 실행되는 시점에 변수에 할당된 값이 있을 경우 변수가 하나의 값에 바인딩되어 동적으로 처리한다. \n",
    "\n",
    "#### 정적 타입 \n",
    "컴파일 언어는 컴파일 시점에서 변수에 어떤 데이터 타입을 사용할지 결정한다. 먼저 결정된 자료형만 변수에서 사용이 가능하므로 정적 타입으로 처리된다.\n",
    "\n",
    "#### 동적 타입\n",
    "파이썬은 변수에 타입을 먼저 결정하지 않고 실행하는 시점에 할당된 값을 보면서 타입으 ㄹ결정하므로 어떤 데이터 타입도 동적으로 할당이 가능해서 동적 타입을 지원한다.\n"
   ]
  },
  {
   "cell_type": "code",
   "execution_count": 9,
   "metadata": {},
   "outputs": [
    {
     "name": "stdout",
     "output_type": "stream",
     "text": [
      "<class 'int'>\n"
     ]
    }
   ],
   "source": [
    "var = 100\n",
    "print(type(var))"
   ]
  },
  {
   "cell_type": "markdown",
   "metadata": {},
   "source": [
    "실행할 떄 할당되는 자료형을 변수가 가진 자료형으로 처리하는 것이 동적 타입의 특징이다."
   ]
  },
  {
   "cell_type": "code",
   "execution_count": 10,
   "metadata": {},
   "outputs": [
    {
     "name": "stdout",
     "output_type": "stream",
     "text": [
      "<class 'function'>\n"
     ]
    }
   ],
   "source": [
    "def func():\n",
    "    pass\n",
    "\n",
    "var = func\n",
    "print(type(var))"
   ]
  },
  {
   "cell_type": "markdown",
   "metadata": {},
   "source": [
    "### 강한 타입(strong typing)과 약한 타입(weak typing)\n",
    "\n",
    "파이썬은 자료형을 구성하는 데이터 모델이 정의되어 있고 이 자료형은 변경할 수 없으므로 자료형을 엄격히 적용하는 강한 타입(strong typing) 언어이다.\n",
    "\n",
    "변수에 자료형을 지정하지 않아서 자료형이 명확하지 않아 덜 엄격한 약한 타입 언어처럼 보이지만 **변수는 객체에 대한 레퍼런스만을 관리**하므로 강한 타입을 유지한다."
   ]
  },
  {
   "cell_type": "markdown",
   "metadata": {},
   "source": [
    "#### 인스턴스는 모두 클래스의 객체"
   ]
  },
  {
   "cell_type": "code",
   "execution_count": 11,
   "metadata": {},
   "outputs": [
    {
     "name": "stdout",
     "output_type": "stream",
     "text": [
      "<class 'int'>\n",
      "True\n"
     ]
    }
   ],
   "source": [
    "var = 100\n",
    "print(type(var))\n",
    "# 정수 100은 int 클래스의 인스턴스\n",
    "\n",
    "print(isinstance(100, int))"
   ]
  },
  {
   "cell_type": "markdown",
   "metadata": {},
   "source": [
    "### 표현식(expression)의 평가 방법\n",
    "\n",
    "파이썬에서는 표현식을 평가할 때 엄격한 평가와 지연 평가 이 두가지를 전부 사용한다.\n",
    "\n",
    "변수의 할당 등 처리가 필요한 경우는 엄격한 평가를 해서 결과를 변수에 할당한다.  \n",
    "축약형 논리 연산 등일 경우는 모든 수식을 다 처리할 필요가 없으므로 지연 평가를 사용해서 처리한다."
   ]
  },
  {
   "cell_type": "markdown",
   "metadata": {},
   "source": [
    "### * 엄격한 평가(eagar evaluation)\n",
    "\n",
    "탐욕스러운 평가(greedy evaluation)라고 부르기도 한다.  \n",
    "대부분의 전통적인 언어에서 사용되는 평가 전략으로 표현식 등 문장이 처리하는 것을 즉시 모두 처리한다.\n",
    "\n",
    "변수 할당은 평가된 결과가 변수에 할당되는 것까지 완벽히 수행되어야 하므로 엄격한 평가를 마치고 결과를 변수에 할당한다."
   ]
  },
  {
   "cell_type": "code",
   "execution_count": 12,
   "metadata": {},
   "outputs": [
    {
     "name": "stdout",
     "output_type": "stream",
     "text": [
      "20\n"
     ]
    }
   ],
   "source": [
    "a = b = c = d = 5\n",
    "\n",
    "print(a+b+c+d)"
   ]
  },
  {
   "cell_type": "markdown",
   "metadata": {},
   "source": [
    "### * 지연 평가(Lazy evaluation)\n",
    "\n",
    "표현식 등을 전부 실행하지 않고 일부만 실행해도 처리가 된다. 특정한 계산이 발생할 경우에만 전체를 계산해서 결과값을 처리하는 방식\n",
    "\n",
    "#### 표현식 사이에 or 연산\n",
    "앞의 표현식을 평가해서 참인 경우 즉 0이 아니면 전부 참으로 처리되므로 두 표현식 중 하나만 처리하고 출력한다."
   ]
  },
  {
   "cell_type": "code",
   "execution_count": 13,
   "metadata": {},
   "outputs": [
    {
     "data": {
      "text/plain": [
       "6"
      ]
     },
     "execution_count": 13,
     "metadata": {},
     "output_type": "execute_result"
    }
   ],
   "source": [
    "(1+5) or (10)"
   ]
  },
  {
   "cell_type": "code",
   "execution_count": 14,
   "metadata": {},
   "outputs": [
    {
     "data": {
      "text/plain": [
       "15"
      ]
     },
     "execution_count": 14,
     "metadata": {},
     "output_type": "execute_result"
    }
   ],
   "source": [
    "0 or (10+5)"
   ]
  },
  {
   "cell_type": "markdown",
   "metadata": {},
   "source": [
    "## 1.4.3 interface 처리 규칙\n",
    "\n",
    "파이썬은 내부에 주어진 모든 것을 언제라도 사용할 수 있도록 공개되어 있다.  \n",
    "속성이나 메서드 등도 다 공개되어 있다는 뜻이므로 자바 등의 프로그래밍 언어와 차이점을 가지고 있다.\n",
    "\n",
    "클래스를 정의해 특정 메소드로 속성을 변경할 수 있지만 모든 것이 공개되므로 속성명을 알면 직접 접근해서 처리도 가능하다.\n",
    "\n",
    "### interface 규약 이해하기\n",
    "\n",
    "클래스 A를 정의했다. \n",
    "\n",
    "인스턴스를 만들기 위해 `__init__` 메서드에서 인스턴스 속성 `_name`을 정의해서 생성할 때 들어오는 매개변수 name을 할당했다.\n",
    "\n",
    "인스턴스 메서드인 getName을 통해 인스턴스 속성인 `_name`을 반환한다."
   ]
  },
  {
   "cell_type": "code",
   "execution_count": 16,
   "metadata": {},
   "outputs": [],
   "source": [
    "class A:\n",
    "    def __init__(self, name):\n",
    "        self._name = name\n",
    "        \n",
    "    def getName(self):\n",
    "        return self._name"
   ]
  },
  {
   "cell_type": "markdown",
   "metadata": {},
   "source": [
    "클래스를 통해 하나의 인스턴스인 a를 생성했다. \n",
    "\n",
    "인스턴스 a를 통해 인스턴스 메서드 getName을 실행했다. \n",
    "\n",
    "속성에 저장된 값이 출력된다."
   ]
  },
  {
   "cell_type": "code",
   "execution_count": 18,
   "metadata": {},
   "outputs": [
    {
     "name": "stdout",
     "output_type": "stream",
     "text": [
      "창덕\n"
     ]
    }
   ],
   "source": [
    "a = A(\"창덕\")\n",
    "print(a.getName())"
   ]
  },
  {
   "cell_type": "markdown",
   "metadata": {},
   "source": [
    "메서드를 호출하지 않고도 직접 속성에 접근해서도 저장된 값을 가져올 수 있다.\n",
    "\n",
    "인스턴스 a 내의 속성인 `_name`에 직접 접근해서 조회해도 동일하게 처리되는 것을 알 수 있다."
   ]
  },
  {
   "cell_type": "code",
   "execution_count": 20,
   "metadata": {},
   "outputs": [
    {
     "name": "stdout",
     "output_type": "stream",
     "text": [
      "창덕\n"
     ]
    }
   ],
   "source": [
    "print(a._name)"
   ]
  },
  {
   "cell_type": "markdown",
   "metadata": {},
   "source": [
    "# 1.5 내장 자료형 보관 모듈\n",
    "\n",
    "내장 자료형은 전부 `__builtins__` 모듈 내에 있다."
   ]
  },
  {
   "cell_type": "code",
   "execution_count": null,
   "metadata": {},
   "outputs": [],
   "source": [
    "l = [\"int\", \"float\", \"complex\", \"str\", \"list\", \"tuple\", \"dict\", \"bytes\", \"bytearray\"]\n",
    "\n",
    "for key in l:\n",
    "    print(key, \"; \", __buil)"
   ]
  }
 ],
 "metadata": {
  "kernelspec": {
   "display_name": "Python 3",
   "language": "python",
   "name": "python3"
  },
  "language_info": {
   "codemirror_mode": {
    "name": "ipython",
    "version": 3
   },
   "file_extension": ".py",
   "mimetype": "text/x-python",
   "name": "python",
   "nbconvert_exporter": "python",
   "pygments_lexer": "ipython3",
   "version": "3.6.5"
  }
 },
 "nbformat": 4,
 "nbformat_minor": 2
}

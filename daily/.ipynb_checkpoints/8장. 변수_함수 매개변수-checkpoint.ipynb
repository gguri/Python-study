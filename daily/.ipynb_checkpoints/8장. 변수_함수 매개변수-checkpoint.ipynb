{
 "cells": [
  {
   "cell_type": "markdown",
   "metadata": {},
   "source": [
    "### 181105\n",
    "\n",
    "# 변수/함수 매개변수\n",
    "\n",
    "파이썬에서 모든 이름은 네임스페이스에 관리  \n",
    "\n",
    "## 8.1 변수 할당 : packing / unpacking\n",
    "\n",
    "변수에 값이 할당될 때 \n",
    " - 여러 개의 값이 하나의 변수로 합쳐서 할당되는 패킹 처리\n",
    " - 변수가 여러개이고 리스트, 튜플 등 원소가 여러 개인 자료형을 변수에 매핑해서 배분되는 언패킹 처리  \n",
    " \n",
    "위 2가지가 존재"
   ]
  },
  {
   "cell_type": "markdown",
   "metadata": {},
   "source": [
    "### 변수와 인스턴스 객체 연결 방식\n",
    "\n",
    "#### 패킹\n",
    "하나의 변수에 다양한 값을 하나로 묶는 것  \n",
    "변수의 개수가 부족할 경우 변수명 앞에 *가 붙어 있다.\n",
    "\n",
    "#### 언패킹\n",
    "다양한 변수에 각각의 값을 배정하는 것  \n",
    "Sequence 자료형 우측에 들어가고 변수가 여러 개 지정되면 이를 각 변수에 맞춰 나눠줌  "
   ]
  },
  {
   "cell_type": "markdown",
   "metadata": {},
   "source": [
    "### Sequence 자료형\n",
    "\n",
    "내부에 원소가 많은 collection 자료형  \n",
    "이런 자료형으로 생성한 인스턴스 내부의 원소를 특정 변수에 나눠서 할당할 때 패킹과 언패킹이 발생\n",
    "\n",
    "### Sequence 자료형을 동일 개수의 변수에 unpacking 처리하기\n",
    "\n",
    "원소의 개수와 변수의 개수가 동일할 경우는 일대일로 분리되어 unpacking 처리된다."
   ]
  },
  {
   "cell_type": "code",
   "execution_count": 1,
   "metadata": {},
   "outputs": [
    {
     "name": "stdout",
     "output_type": "stream",
     "text": [
      "1 2 3\n"
     ]
    }
   ],
   "source": [
    "a, b, c = (1,2,3)\n",
    "print(a,b,c)"
   ]
  },
  {
   "cell_type": "code",
   "execution_count": 2,
   "metadata": {},
   "outputs": [
    {
     "name": "stdout",
     "output_type": "stream",
     "text": [
      "s t r\n"
     ]
    }
   ],
   "source": [
    "a,b,c = 'str'\n",
    "print(a,b,c)"
   ]
  },
  {
   "cell_type": "code",
   "execution_count": 3,
   "metadata": {},
   "outputs": [
    {
     "name": "stdout",
     "output_type": "stream",
     "text": [
      "1 2 3\n"
     ]
    }
   ],
   "source": [
    "a,b,c = [1,2,3]\n",
    "print(a,b,c)"
   ]
  },
  {
   "cell_type": "markdown",
   "metadata": {},
   "source": [
    "### 동일 개수가 아닐 경우?"
   ]
  },
  {
   "cell_type": "code",
   "execution_count": 4,
   "metadata": {},
   "outputs": [
    {
     "ename": "ValueError",
     "evalue": "too many values to unpack (expected 2)",
     "output_type": "error",
     "traceback": [
      "\u001b[1;31m---------------------------------------------------------------------------\u001b[0m",
      "\u001b[1;31mValueError\u001b[0m                                Traceback (most recent call last)",
      "\u001b[1;32m<ipython-input-4-865fb508bef6>\u001b[0m in \u001b[0;36m<module>\u001b[1;34m()\u001b[0m\n\u001b[1;32m----> 1\u001b[1;33m \u001b[0ma\u001b[0m\u001b[1;33m,\u001b[0m\u001b[0mb\u001b[0m \u001b[1;33m=\u001b[0m \u001b[1;33m(\u001b[0m\u001b[1;36m1\u001b[0m\u001b[1;33m,\u001b[0m\u001b[1;36m2\u001b[0m\u001b[1;33m,\u001b[0m\u001b[1;36m3\u001b[0m\u001b[1;33m)\u001b[0m\u001b[1;33m\u001b[0m\u001b[0m\n\u001b[0m",
      "\u001b[1;31mValueError\u001b[0m: too many values to unpack (expected 2)"
     ]
    }
   ],
   "source": [
    "a,b = (1,2,3)"
   ]
  },
  {
   "cell_type": "code",
   "execution_count": 6,
   "metadata": {},
   "outputs": [
    {
     "name": "stdout",
     "output_type": "stream",
     "text": [
      "1 [2, 3]\n"
     ]
    }
   ],
   "source": [
    "a, *b = (1,2,3)\n",
    "print(a,b)"
   ]
  },
  {
   "cell_type": "code",
   "execution_count": 7,
   "metadata": {},
   "outputs": [
    {
     "name": "stdout",
     "output_type": "stream",
     "text": [
      "1 [2, 3]\n"
     ]
    }
   ],
   "source": [
    "a, *b = [1,2,3]\n",
    "print(a,b)"
   ]
  },
  {
   "cell_type": "code",
   "execution_count": 10,
   "metadata": {},
   "outputs": [
    {
     "name": "stdout",
     "output_type": "stream",
     "text": [
      "s ['t', 'r']\n"
     ]
    }
   ],
   "source": [
    "a, *b = 'str'\n",
    "print(a,b)"
   ]
  },
  {
   "cell_type": "code",
   "execution_count": 11,
   "metadata": {},
   "outputs": [
    {
     "name": "stdout",
     "output_type": "stream",
     "text": [
      "[1, 2] 3\n",
      "[1, 2] 3\n",
      "['s', 't'] r\n"
     ]
    }
   ],
   "source": [
    "*a, b = (1,2,3)\n",
    "print(a,b)\n",
    "\n",
    "*a, b = [1,2,3]\n",
    "print(a,b)\n",
    "\n",
    "*a, b = 'str'\n",
    "print(a,b)"
   ]
  },
  {
   "cell_type": "markdown",
   "metadata": {},
   "source": [
    "### 집합 및 딕셔너리 자료형\n",
    "\n",
    "해시로 처리되는 집합과 딕셔너리도 변수에 할당이 가능하다.  \n",
    "**해시로 구성된 키 값**만 변수에 할당되어 처리된다."
   ]
  },
  {
   "cell_type": "markdown",
   "metadata": {},
   "source": [
    "### Set과 딕셔너리 자료형 변수 할당에서 처리\n",
    "\n",
    "딕셔너리와 집합을 변수에 할당할 때 순서가 없이 변수에 할당될 수 있다.  \n",
    "순서가 중요하면 정렬을 해서 변수에 할당하는 것이 좋다.\n",
    "\n",
    "#### 집합과 딕셔너리 unpack 처리\n",
    "일대일 매핑이 기본이므로 키와 동일하게 변수를 주고 할당하면 언패킹 처리된다."
   ]
  },
  {
   "cell_type": "code",
   "execution_count": 21,
   "metadata": {},
   "outputs": [
    {
     "name": "stdout",
     "output_type": "stream",
     "text": [
      "a b c\n",
      "c a b\n"
     ]
    }
   ],
   "source": [
    "a,b,c = {'a':1, 'b':2, 'c':3}\n",
    "print(a,b,c)\n",
    "\n",
    "a,b,c = {'a','b','c'}\n",
    "print(a,b,c)"
   ]
  },
  {
   "cell_type": "code",
   "execution_count": 27,
   "metadata": {},
   "outputs": [
    {
     "name": "stdout",
     "output_type": "stream",
     "text": [
      "c a b\n"
     ]
    }
   ],
   "source": [
    "a,b,c = {'a','b','c'}\n",
    "print(a,b,c)"
   ]
  },
  {
   "cell_type": "code",
   "execution_count": 33,
   "metadata": {},
   "outputs": [
    {
     "data": {
      "text/plain": [
       "['a', 'd', 'c']"
      ]
     },
     "execution_count": 33,
     "metadata": {},
     "output_type": "execute_result"
    }
   ],
   "source": [
    "list({'a':1, 'd':2, 'c':3})"
   ]
  },
  {
   "cell_type": "markdown",
   "metadata": {},
   "source": [
    "### 함수 매개변수 지정\n",
    "\n",
    "매개변수 정의시에 고정 위치, 가변 위치, 고정 키워드, 가변 키워드 순으로 정의한다."
   ]
  },
  {
   "cell_type": "code",
   "execution_count": 3,
   "metadata": {},
   "outputs": [],
   "source": [
    "def all_args(x, y, *args, z, **kwargs):\n",
    "    print(locals())"
   ]
  },
  {
   "cell_type": "code",
   "execution_count": 4,
   "metadata": {},
   "outputs": [
    {
     "ename": "TypeError",
     "evalue": "all_args() missing 1 required keyword-only argument: 'z'",
     "output_type": "error",
     "traceback": [
      "\u001b[1;31m---------------------------------------------------------------------------\u001b[0m",
      "\u001b[1;31mTypeError\u001b[0m                                 Traceback (most recent call last)",
      "\u001b[1;32m<ipython-input-4-71f80e141aa4>\u001b[0m in \u001b[0;36m<module>\u001b[1;34m()\u001b[0m\n\u001b[1;32m----> 1\u001b[1;33m \u001b[0mall_args\u001b[0m\u001b[1;33m(\u001b[0m\u001b[1;36m1\u001b[0m\u001b[1;33m,\u001b[0m\u001b[1;36m2\u001b[0m\u001b[1;33m,\u001b[0m\u001b[1;36m3\u001b[0m\u001b[1;33m,\u001b[0m\u001b[1;36m4\u001b[0m\u001b[1;33m,\u001b[0m\u001b[1;36m5\u001b[0m\u001b[1;33m)\u001b[0m\u001b[1;33m\u001b[0m\u001b[0m\n\u001b[0m",
      "\u001b[1;31mTypeError\u001b[0m: all_args() missing 1 required keyword-only argument: 'z'"
     ]
    }
   ],
   "source": [
    "all_args(1,2,3,4,5)"
   ]
  },
  {
   "cell_type": "markdown",
   "metadata": {},
   "source": [
    "고정 키워드 인자 z에 값을 넣지 않았기 때문에 에러가 발생"
   ]
  },
  {
   "cell_type": "code",
   "execution_count": 9,
   "metadata": {},
   "outputs": [
    {
     "name": "stdout",
     "output_type": "stream",
     "text": [
      "{'kwargs': {'a': 1, 'b': 2, 'c': 3}, 'args': (3, 4, 5), 'z': 1, 'y': 2, 'x': 1}\n"
     ]
    }
   ],
   "source": [
    "all_args(1,2,3,4,5, z=1, a=1, b=2, c=3)"
   ]
  },
  {
   "cell_type": "markdown",
   "metadata": {},
   "source": [
    "### 함수 인자에 Sequence 자료형 unpacking 처리\n",
    "\n"
   ]
  },
  {
   "cell_type": "code",
   "execution_count": 10,
   "metadata": {},
   "outputs": [],
   "source": [
    "def add(x,y,z):\n",
    "    print(locals())\n",
    "    return x+y+z"
   ]
  },
  {
   "cell_type": "code",
   "execution_count": 11,
   "metadata": {},
   "outputs": [
    {
     "ename": "TypeError",
     "evalue": "add() missing 2 required positional arguments: 'y' and 'z'",
     "output_type": "error",
     "traceback": [
      "\u001b[1;31m---------------------------------------------------------------------------\u001b[0m",
      "\u001b[1;31mTypeError\u001b[0m                                 Traceback (most recent call last)",
      "\u001b[1;32m<ipython-input-11-5e6ff0d64847>\u001b[0m in \u001b[0;36m<module>\u001b[1;34m()\u001b[0m\n\u001b[0;32m      1\u001b[0m \u001b[0mt\u001b[0m \u001b[1;33m=\u001b[0m \u001b[1;36m1\u001b[0m\u001b[1;33m,\u001b[0m\u001b[1;36m2\u001b[0m\u001b[1;33m,\u001b[0m\u001b[1;36m3\u001b[0m\u001b[1;33m\u001b[0m\u001b[0m\n\u001b[0;32m      2\u001b[0m \u001b[1;33m\u001b[0m\u001b[0m\n\u001b[1;32m----> 3\u001b[1;33m \u001b[0mprint\u001b[0m\u001b[1;33m(\u001b[0m\u001b[0madd\u001b[0m\u001b[1;33m(\u001b[0m\u001b[0mt\u001b[0m\u001b[1;33m)\u001b[0m\u001b[1;33m)\u001b[0m\u001b[1;33m\u001b[0m\u001b[0m\n\u001b[0m",
      "\u001b[1;31mTypeError\u001b[0m: add() missing 2 required positional arguments: 'y' and 'z'"
     ]
    }
   ],
   "source": [
    "t = 1,2,3\n",
    "\n",
    "print(add(t))"
   ]
  },
  {
   "cell_type": "code",
   "execution_count": 12,
   "metadata": {},
   "outputs": [
    {
     "name": "stdout",
     "output_type": "stream",
     "text": [
      "{'z': 3, 'y': 2, 'x': 1}\n",
      "6\n"
     ]
    }
   ],
   "source": [
    "print(add(*t))"
   ]
  },
  {
   "cell_type": "code",
   "execution_count": 13,
   "metadata": {},
   "outputs": [],
   "source": [
    "def add(*args):\n",
    "    print(locals())\n",
    "    if isinstance(locals()[\"args\"][0], str):\n",
    "        result = ''\n",
    "    else:\n",
    "        result = 0\n",
    "    for i in args:\n",
    "        result += i\n",
    "        \n",
    "    return result"
   ]
  },
  {
   "cell_type": "code",
   "execution_count": 14,
   "metadata": {},
   "outputs": [
    {
     "name": "stdout",
     "output_type": "stream",
     "text": [
      "{'args': (1, 2, 3)}\n",
      "6\n",
      "{'args': ('s', 't', 'r')}\n",
      "str\n"
     ]
    }
   ],
   "source": [
    "t = (1,2,3)\n",
    "print(add(*t))\n",
    "s = \"str\"\n",
    "print(add(*s))"
   ]
  }
 ],
 "metadata": {
  "kernelspec": {
   "display_name": "Python 3",
   "language": "python",
   "name": "python3"
  },
  "language_info": {
   "codemirror_mode": {
    "name": "ipython",
    "version": 3
   },
   "file_extension": ".py",
   "mimetype": "text/x-python",
   "name": "python",
   "nbconvert_exporter": "python",
   "pygments_lexer": "ipython3",
   "version": "3.6.5"
  }
 },
 "nbformat": 4,
 "nbformat_minor": 2
}

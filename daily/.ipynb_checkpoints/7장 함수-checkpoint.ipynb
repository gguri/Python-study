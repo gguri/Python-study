{
 "cells": [
  {
   "cell_type": "markdown",
   "metadata": {},
   "source": [
    "### 18.10.29\n",
    "# 함수\n",
    "\n",
    "함수가 정의되면 내부적으로 로딩이 되면서 function class의 인스턴스로 만들어진다.  \n",
    "모듈의 전역 네임스페이스에 변수가 할당되듯이 함수도 함수 정의문에 작성한 함수 이름을 키로, 함수 인스턴스가 값으로 들어간다.\n",
    "\n",
    "\n",
    "## 제네릭(Generic) 함수\n",
    "\n",
    "파이썬 변수, 함수의 매개변수 모두 별도의 자료형을 할당하거나 지정할 수 없다.\n",
    "\n",
    "함수의 매개변수를 지정하면 어떠한 자료형도 인자로 전달해서 호출할 수 있다.  \n",
    "이러한 함수를 정의해서 처리하는 방식을 **제네릭 함수**라고 한다.\n",
    "\n",
    "파이썬 함수는 기본적으로 제네릭 함수\n",
    "\n"
   ]
  },
  {
   "cell_type": "code",
   "execution_count": 6,
   "metadata": {},
   "outputs": [],
   "source": [
    "def add(x, y):\n",
    "    if not isinstance(x, int):\n",
    "        raise ValueError(\" x is not integer \")\n",
    "    if not isinstance(y, int):\n",
    "        raise ValueError(\" y is not integer \")\n",
    "        \n",
    "    return x+y"
   ]
  },
  {
   "cell_type": "code",
   "execution_count": 2,
   "metadata": {},
   "outputs": [
    {
     "ename": "ValueError",
     "evalue": " x is not integer ",
     "output_type": "error",
     "traceback": [
      "\u001b[1;31m---------------------------------------------------------------------------\u001b[0m",
      "\u001b[1;31mValueError\u001b[0m                                Traceback (most recent call last)",
      "\u001b[1;32m<ipython-input-2-9495da79dcc1>\u001b[0m in \u001b[0;36m<module>\u001b[1;34m()\u001b[0m\n\u001b[1;32m----> 1\u001b[1;33m \u001b[0madd\u001b[0m\u001b[1;33m(\u001b[0m\u001b[1;36m11.1\u001b[0m\u001b[1;33m,\u001b[0m \u001b[1;36m10\u001b[0m\u001b[1;33m)\u001b[0m\u001b[1;33m\u001b[0m\u001b[0m\n\u001b[0m",
      "\u001b[1;32m<ipython-input-1-c5dc97249a6e>\u001b[0m in \u001b[0;36madd\u001b[1;34m(x, y)\u001b[0m\n\u001b[0;32m      1\u001b[0m \u001b[1;32mdef\u001b[0m \u001b[0madd\u001b[0m\u001b[1;33m(\u001b[0m\u001b[0mx\u001b[0m\u001b[1;33m,\u001b[0m \u001b[0my\u001b[0m\u001b[1;33m)\u001b[0m\u001b[1;33m:\u001b[0m\u001b[1;33m\u001b[0m\u001b[0m\n\u001b[0;32m      2\u001b[0m     \u001b[1;32mif\u001b[0m \u001b[1;32mnot\u001b[0m \u001b[0misinstance\u001b[0m\u001b[1;33m(\u001b[0m\u001b[0mx\u001b[0m\u001b[1;33m,\u001b[0m \u001b[0mint\u001b[0m\u001b[1;33m)\u001b[0m\u001b[1;33m:\u001b[0m\u001b[1;33m\u001b[0m\u001b[0m\n\u001b[1;32m----> 3\u001b[1;33m         \u001b[1;32mraise\u001b[0m \u001b[0mValueError\u001b[0m\u001b[1;33m(\u001b[0m\u001b[1;34m\" x is not integer \"\u001b[0m\u001b[1;33m)\u001b[0m\u001b[1;33m\u001b[0m\u001b[0m\n\u001b[0m\u001b[0;32m      4\u001b[0m     \u001b[1;32mif\u001b[0m \u001b[1;32mnot\u001b[0m \u001b[0misinstance\u001b[0m\u001b[1;33m(\u001b[0m\u001b[0my\u001b[0m\u001b[1;33m,\u001b[0m \u001b[0mint\u001b[0m\u001b[1;33m)\u001b[0m\u001b[1;33m:\u001b[0m\u001b[1;33m\u001b[0m\u001b[0m\n\u001b[0;32m      5\u001b[0m         \u001b[1;32mraise\u001b[0m \u001b[0mValueError\u001b[0m\u001b[1;33m(\u001b[0m\u001b[1;34m\" y is not integer \"\u001b[0m\u001b[1;33m)\u001b[0m\u001b[1;33m\u001b[0m\u001b[0m\n",
      "\u001b[1;31mValueError\u001b[0m:  x is not integer "
     ]
    }
   ],
   "source": [
    "add(11.1, 10)"
   ]
  },
  {
   "cell_type": "code",
   "execution_count": 7,
   "metadata": {},
   "outputs": [
    {
     "data": {
      "text/plain": [
       "10"
      ]
     },
     "execution_count": 7,
     "metadata": {},
     "output_type": "execute_result"
    }
   ],
   "source": [
    "add(5,5)"
   ]
  },
  {
   "cell_type": "markdown",
   "metadata": {},
   "source": [
    "## 함수 호출 연산자\n",
    "\n",
    "\n",
    "### 함수 호출 : `__call__`\n",
    "함수가 기본적으로 function 클래스의 인스턴스이므로 호출 연산자도 메서드를 이용해서 처리하는 것이다.  \n",
    "내부적으로 함수 호출 연산자는 `__call__` 메서드를 실행해서 처리하는 것\n",
    "\n",
    "함수가 호출이 가능한지를 확인하는 내장함수 callable"
   ]
  },
  {
   "cell_type": "code",
   "execution_count": 8,
   "metadata": {},
   "outputs": [
    {
     "name": "stdout",
     "output_type": "stream",
     "text": [
      "<function mul at 0x0000021F8C7B0048>\n",
      "True\n"
     ]
    }
   ],
   "source": [
    "def mul(x, y):\n",
    "    return x * y\n",
    "\n",
    "print(mul)\n",
    "print(callable(mul))"
   ]
  },
  {
   "cell_type": "code",
   "execution_count": 9,
   "metadata": {},
   "outputs": [
    {
     "name": "stdout",
     "output_type": "stream",
     "text": [
      "<method-wrapper '__call__' of function object at 0x0000021F8C7B0048>\n",
      "100\n"
     ]
    }
   ],
   "source": [
    "print(mul.__call__)\n",
    "print(mul.__call__(10, 10))"
   ]
  },
  {
   "cell_type": "markdown",
   "metadata": {},
   "source": [
    "#### method-wrapper : 이 메서드가 호출이 가능한 내부적인 메서드를 제공한다는 뜻"
   ]
  },
  {
   "cell_type": "markdown",
   "metadata": {},
   "source": [
    "### 함수 객체 바인딩 규칙\n",
    "\n",
    "파이썬에서 클래스는 모든 메서드를 관리한다.  \n",
    "인스턴스는 클래스를 검색해 인스턴스 메서드에 인스턴스 인자를 전달하면 메서드를 실행."
   ]
  },
  {
   "cell_type": "code",
   "execution_count": 10,
   "metadata": {},
   "outputs": [
    {
     "name": "stdout",
     "output_type": "stream",
     "text": [
      "<class 'function'>\n",
      "<class 'function'>\n"
     ]
    }
   ],
   "source": [
    "def sub(x, y):\n",
    "    return x-y\n",
    "\n",
    "print(type(sub))\n",
    "print(sub.__class__)"
   ]
  },
  {
   "cell_type": "markdown",
   "metadata": {},
   "source": [
    "`sub.__class__`가 클래스의 레퍼런스를 보관하므로 이 클래스 내의 `__call__`메서드 이름을 출력하면  \n",
    "이 메서드가 아직 함수라는 것을 알 수 있다.\n",
    "\n",
    "함수가 인스턴스이므로 `__call__`메서드를 점 연산자로 해서 이름을 출력하면 메서드라는 것을 확인할 수 있다."
   ]
  },
  {
   "cell_type": "code",
   "execution_count": 12,
   "metadata": {},
   "outputs": [
    {
     "name": "stdout",
     "output_type": "stream",
     "text": [
      "<slot wrapper '__call__' of 'function' objects>\n",
      "<method-wrapper '__call__' of function object at 0x0000021F8C7B02F0>\n"
     ]
    }
   ],
   "source": [
    "print(sub.__class__.__call__) # 아직 함수\n",
    "print(sub.__call__) # 메서드"
   ]
  },
  {
   "cell_type": "markdown",
   "metadata": {},
   "source": [
    "클래스에 바인딩된 경우에는 인스턴스 정보가 없다.\n",
    "\n",
    "첫 번째에 인스턴스 정보를 넣어서 처리해야 하고   \n",
    "메서드로 호출할 때는 첫 번째가 인스턴스로 바인딩했으므로 나머지 인자만 전달하면 된다."
   ]
  },
  {
   "cell_type": "code",
   "execution_count": 14,
   "metadata": {},
   "outputs": [
    {
     "name": "stdout",
     "output_type": "stream",
     "text": [
      "0\n",
      "0\n"
     ]
    }
   ],
   "source": [
    "print(sub.__class__.__call__(sub, 10, 10)) # 클래스에 바인딩\n",
    "print(sub.__call__(10, 10)) # 메서드"
   ]
  },
  {
   "cell_type": "markdown",
   "metadata": {},
   "source": [
    "#### 함수 내의 모든 로직이 처리된 후에 결과를 반환할 필요가 없을 때는 return문이 필요하지 않지만 내부적으로 반드시 None으로 반환한다."
   ]
  },
  {
   "cell_type": "markdown",
   "metadata": {},
   "source": [
    "### 함수의 반환이 여러개 필요한 경우\n",
    "\n",
    "함수가 실행된 후에 여러 개의 값을 반환하려면 여러 개의 원소를 하나로 구성하는 자료형에 묶어서 반환한다.  \n",
    "일반적으로 return문 다음에 쉼표로 구분하게되면 튜플로 만들어서 반환하는 것\n",
    "\n",
    "함수의 결과를 지역 네임 스페이스를 통해 외부로 전달하는 방식도 가능  \n",
    "지역 네임스페이스는 딕셔너리로 구성되어 있으므로 전달한 결과도 딕셔너리"
   ]
  },
  {
   "cell_type": "code",
   "execution_count": 15,
   "metadata": {},
   "outputs": [
    {
     "name": "stdout",
     "output_type": "stream",
     "text": [
      "<class 'dict'> {'z': 30, 'y': 20, 'x': 10}\n"
     ]
    }
   ],
   "source": [
    "def func_dict(x, y, z):\n",
    "    return locals()\n",
    "\n",
    "a = func_dict(10, 20, 30)\n",
    "print(type(a), a)"
   ]
  },
  {
   "cell_type": "markdown",
   "metadata": {},
   "source": [
    "\n",
    "## 함수는 function 클래스의 인스턴스 객체\n",
    "\n",
    "### 함수 내부의 스페셜 속성\n",
    "\n",
    "함수가 만들어지면 기본 정보는 function class의 속성에서 관리리하고 실행에 필요한 정보는 code 클래스 내에서 관리한다."
   ]
  },
  {
   "cell_type": "code",
   "execution_count": 16,
   "metadata": {},
   "outputs": [],
   "source": [
    "def div(x:int = 100, *, y:int = 100) -> float:\n",
    "    return x/y"
   ]
  },
  {
   "cell_type": "markdown",
   "metadata": {},
   "source": [
    "별도에 아무런 변수를 부여하지 않는 것은 이 다음에 인자를 전달할 때는 반드시 키워드 인자로 전달을 해야 한다는 것"
   ]
  },
  {
   "cell_type": "code",
   "execution_count": 17,
   "metadata": {},
   "outputs": [
    {
     "data": {
      "text/plain": [
       "1.0"
      ]
     },
     "execution_count": 17,
     "metadata": {},
     "output_type": "execute_result"
    }
   ],
   "source": [
    "div()"
   ]
  },
  {
   "cell_type": "code",
   "execution_count": 23,
   "metadata": {},
   "outputs": [
    {
     "name": "stdout",
     "output_type": "stream",
     "text": [
      "{'__annotations__',\n",
      " '__call__',\n",
      " '__closure__',\n",
      " '__code__',\n",
      " '__defaults__',\n",
      " '__dict__',\n",
      " '__get__',\n",
      " '__globals__',\n",
      " '__kwdefaults__',\n",
      " '__module__',\n",
      " '__name__',\n",
      " '__qualname__'}\n"
     ]
    }
   ],
   "source": [
    "import pprint\n",
    "\n",
    "s = set(dir(div))\n",
    "o = set(dir(object))\n",
    "\n",
    "pprint.pprint(s-o)"
   ]
  },
  {
   "cell_type": "markdown",
   "metadata": {},
   "source": [
    "#### 함수 내부에만 있는 스페셜 속성과 메서드"
   ]
  },
  {
   "cell_type": "code",
   "execution_count": 24,
   "metadata": {},
   "outputs": [
    {
     "name": "stdout",
     "output_type": "stream",
     "text": [
      "div\n",
      "div\n",
      "__main__\n",
      "{'x': <class 'int'>, 'y': <class 'int'>, 'return': <class 'float'>}\n",
      "(100,)\n",
      "{'y': 100}\n"
     ]
    }
   ],
   "source": [
    "# div를 가지고 있는 이름\n",
    "print(div.__name__)\n",
    "print(div.__qualname__)\n",
    "\n",
    "# 함수가 속한 모듈\n",
    "print(div.__module__)\n",
    "\n",
    "# 매개변수에 대한 주석\n",
    "print(div.__annotations__)\n",
    "\n",
    "# 위치변수에 대한 초기값\n",
    "print(div.__defaults__)\n",
    "\n",
    "# 키워드 인자에 대한 초기값\n",
    "print(div.__kwdefaults__)"
   ]
  },
  {
   "cell_type": "markdown",
   "metadata": {},
   "source": [
    "### 함수에 대한 사용자 객체 속성 추가"
   ]
  },
  {
   "cell_type": "code",
   "execution_count": 25,
   "metadata": {},
   "outputs": [],
   "source": [
    "def func_state(x, y):\n",
    "    func_state.count += 1\n",
    "    return x + y"
   ]
  },
  {
   "cell_type": "code",
   "execution_count": 26,
   "metadata": {},
   "outputs": [
    {
     "name": "stdout",
     "output_type": "stream",
     "text": [
      "{}\n"
     ]
    }
   ],
   "source": [
    "print(func_state.__dict__)"
   ]
  },
  {
   "cell_type": "code",
   "execution_count": 27,
   "metadata": {},
   "outputs": [],
   "source": [
    "func_state.count = 0"
   ]
  },
  {
   "cell_type": "code",
   "execution_count": 29,
   "metadata": {},
   "outputs": [
    {
     "name": "stdout",
     "output_type": "stream",
     "text": [
      "{'count': 0}\n",
      "20\n",
      "20\n",
      "20\n",
      "{'count': 3}\n"
     ]
    }
   ],
   "source": [
    "print(func_state.__dict__)\n",
    "print(func_state(10, 10))\n",
    "print(func_state(10, 10))\n",
    "print(func_state(10, 10))\n",
    "print(func_state.__dict__)"
   ]
  },
  {
   "cell_type": "markdown",
   "metadata": {},
   "source": [
    "### 함수 인스턴스 내 함수를 속성에 할당하기\n",
    "\n",
    "함수 인스턴스 내의 인스턴스 속성을 정의해서 사용  \n",
    "함수를 정의할 때 함수 이름과 점 연산자를 이용해서 인자를 전달받아 함수 호출을 실행하도록 로직을 작성"
   ]
  },
  {
   "cell_type": "code",
   "execution_count": 30,
   "metadata": {},
   "outputs": [],
   "source": [
    "def func_func(x,y):\n",
    "    return func_func.func(x,y)"
   ]
  },
  {
   "cell_type": "code",
   "execution_count": 31,
   "metadata": {},
   "outputs": [
    {
     "name": "stdout",
     "output_type": "stream",
     "text": [
      "{}\n"
     ]
    }
   ],
   "source": [
    "print(func_func.__dict__)"
   ]
  },
  {
   "cell_type": "markdown",
   "metadata": {},
   "source": [
    "덧셈 함수 하나를 정의  \n",
    "func_func함수의 인스턴스에 func라는 속성의 함수를 할당   \n",
    "이 인스턴스의 네임스페이스를 확인하면 **func라는 키에 add라는 함수가 값**으로 들어가 있음"
   ]
  },
  {
   "cell_type": "code",
   "execution_count": 32,
   "metadata": {},
   "outputs": [
    {
     "name": "stdout",
     "output_type": "stream",
     "text": [
      "{'func': <function add at 0x0000021F8C7B0EA0>}\n"
     ]
    }
   ],
   "source": [
    "def add(x,y):\n",
    "    return x+y\n",
    "\n",
    "func_func.func = add\n",
    "print(func_func.__dict__)"
   ]
  },
  {
   "cell_type": "code",
   "execution_count": 33,
   "metadata": {},
   "outputs": [
    {
     "name": "stdout",
     "output_type": "stream",
     "text": [
      "10\n"
     ]
    }
   ],
   "source": [
    "print(func_func(5,5))"
   ]
  },
  {
   "cell_type": "markdown",
   "metadata": {},
   "source": [
    "## 함수의 변수 네임스페이스와 스코프 처리\n",
    "\n",
    "함수와 모듈 간의 네임스페이스 관계를 이해해야 한다.\n",
    "\n",
    "함수 내 지역 네임스페이스에 없는 것을 상위인 모듈의 전역 네임스페이스를 검색해서 처리  \n",
    "이렇게 지역과 전역 등에 대한 처리 규칙을 스코프(scope)라고 한다.\n",
    "\n",
    "함수를 정의할 떄 매개변수를 지정하면 함수 호출이 될 때 변수의 값이 **지역 네임스페이스**에 할당된다.\n",
    "\n",
    "#### 매개변수에 초기값을 주면 \n",
    "> 이 초기값은 함수의 지역 네임스페이스에 만들어지는 것이 아니다.  \n",
    "> 초기값은 객체의 네임스페이스에서 별도의 속성에 들어간다.  \n",
    "> 여러번 함수가 호출되어도 네임스페이스를 갱신하는 것이다.  \n",
    "> 함수의 인스턴스 속성이 초기값 스페셜 속성을 변경하지 않는 것을 알 수 있다.    \n",
    "> 함수의 네임스페이스는 함수를 호출할 때마다 생기므로 함수 실행이 종료되면 지역 네임스페이스는 사라진다.\n",
    "\n",
    "함수가 모듈과 전역 네임스페이스에 대한 정보를 가지고 다니는 이유는   \n",
    "이 함수가 항상 자신이 속한 모듈에서 처리되고 전역 네임스페이스는 항상 자기가 속한 모듈을 사용하기 때문이다.  \n",
    "그래야 함수에 없는 것을 모듈의 전역 네임스페이스에 찾아 호출하거나 이곳에도 없으면 내장 네임스페이스를 검색하고 이곳도 없으면 예외로 처리\n"
   ]
  },
  {
   "cell_type": "markdown",
   "metadata": {},
   "source": [
    "## 함수 네임스페이스 및 스코프 규칙\n",
    "\n",
    "파이썬에는 전역(global)과 지역(local) 그리고 최상위인 내장(builtins)이 존재\n",
    "\n",
    "### 지역(local)과 전역(global)의 범위 : Scpe Rule\n",
    "\n",
    "파이썬의 모든 네임스페이스는 기본이 딕셔너리이므로 항상 키와 값을 쌍으로 처리한다.\n",
    "\n",
    "**변수 참조 규칙은 local -> global -> built-in 순서**\n",
    "현재 위치부터 출발해서 네임스페이스를 처리한다.\n",
    "현재 위치에서 변수의 이름을 검색했는데 없으면 상위로 올라가고 최상위까지 갔을 때 없으면 예외가 발생. 이런 처리 규칙을 **스코프(scope)**\n",
    "\n",
    "#### 모듈은 전역으로, 함수는 지역으로 인식"
   ]
  },
  {
   "cell_type": "markdown",
   "metadata": {},
   "source": [
    "### 자동으로 전역 변수에 접근"
   ]
  },
  {
   "cell_type": "code",
   "execution_count": 34,
   "metadata": {},
   "outputs": [],
   "source": [
    "def func_1(x,y):\n",
    "    print(locals())\n",
    "    print(\"func_1 z \", z)\n",
    "    \n",
    "def func_2(x,y):\n",
    "    print(locals())\n",
    "    print(\"func_2 z \", z)"
   ]
  },
  {
   "cell_type": "code",
   "execution_count": 35,
   "metadata": {},
   "outputs": [
    {
     "name": "stdout",
     "output_type": "stream",
     "text": [
      "{'y': 100, 'x': 100}\n",
      "func_1 z  9999\n",
      "{'y': 150, 'x': 150}\n",
      "func_2 z  9999\n"
     ]
    }
   ],
   "source": [
    "z = 9999\n",
    "func_1(100, 100)\n",
    "func_2(150, 150)"
   ]
  },
  {
   "cell_type": "markdown",
   "metadata": {},
   "source": [
    "전역 변수를 참조하여 지역 네임스페이스에 없을 경우 전역 네임스페이스를 참조해서 처리"
   ]
  },
  {
   "cell_type": "code",
   "execution_count": 36,
   "metadata": {},
   "outputs": [
    {
     "name": "stdout",
     "output_type": "stream",
     "text": [
      "9999\n",
      "<function func_1 at 0x0000021F8C7B0598>\n",
      "<function func_2 at 0x0000021F8C7B0620>\n"
     ]
    }
   ],
   "source": [
    "print(globals()[\"z\"])\n",
    "print(globals()[\"func_1\"])\n",
    "print(globals()[\"func_2\"])"
   ]
  },
  {
   "cell_type": "markdown",
   "metadata": {},
   "source": [
    "### 18.10.30\n",
    "## 함수에서 객체 네임스페이스 접근하기\n",
    "\n",
    "객체 내부의 네임스페이스에 접근하려면 객체명과 점 연산자를 붙여서 사용하고,  \n",
    "클래스와 인스턴스 내부의 속성이나 메서드를 호출해서 처리한다.\n",
    "\n",
    "### 타 클래스나 인스턴스의 속성 참조\n",
    "\n",
    "하나의 클래스 A에 아래와 같이 할당했다.\n",
    " - 속성 클래스로 name\n",
    " - 인스턴스 속성으로 name \n"
   ]
  },
  {
   "cell_type": "code",
   "execution_count": 1,
   "metadata": {},
   "outputs": [
    {
     "name": "stdout",
     "output_type": "stream",
     "text": [
      "mappingproxy({'__dict__': <attribute '__dict__' of 'A' objects>,\n",
      "              '__doc__': None,\n",
      "              '__init__': <function A.__init__ at 0x0000026B832DD950>,\n",
      "              '__module__': '__main__',\n",
      "              '__weakref__': <attribute '__weakref__' of 'A' objects>,\n",
      "              'name': 'A'})\n"
     ]
    }
   ],
   "source": [
    "import pprint\n",
    "\n",
    "class A:\n",
    "    name = \"A\"\n",
    "    def __init__(self):\n",
    "        self.name = \"A class instance\"\n",
    "\n",
    "pprint.pprint(A.__dict__)"
   ]
  },
  {
   "cell_type": "markdown",
   "metadata": {},
   "source": [
    "클래스의 속성을 확인해보면 클래스 속성에 name이 있는 것을 확인할 수 있다.  \n",
    "인스턴스에 대한 속성은 초기화 `__init__`메서드 안에 self.name이라는 속성을 할당해서 들어가는 것\n",
    "\n",
    "이 클래스 내의 속성을 확인하면 스페셜 속성과 사용자가 정의한 속성들이 있는 것을 확인할 수 있다."
   ]
  },
  {
   "cell_type": "code",
   "execution_count": 2,
   "metadata": {},
   "outputs": [
    {
     "name": "stdout",
     "output_type": "stream",
     "text": [
      "{'name': 'A class instance'}\n"
     ]
    }
   ],
   "source": [
    "a = A()\n",
    "\n",
    "print(a.__dict__)"
   ]
  },
  {
   "cell_type": "code",
   "execution_count": 5,
   "metadata": {},
   "outputs": [
    {
     "name": "stdout",
     "output_type": "stream",
     "text": [
      "A\n",
      "A class instance\n"
     ]
    }
   ],
   "source": [
    "def class_func(obj):\n",
    "    return obj.name\n",
    "    \n",
    "print(class_func(A))\n",
    "print(class_func(a))"
   ]
  },
  {
   "cell_type": "markdown",
   "metadata": {},
   "source": [
    "clas_func 함수의 매개변수로 obj를 정의하고 여기에 클래스나 인스턴스 객체가 들어올 때   \n",
    "이 객체의 name이라는 속성이 있다면 호출해서 처리되는 것을 확인할 수 있다."
   ]
  },
  {
   "cell_type": "markdown",
   "metadata": {},
   "source": [
    "# 람다 함수(lambda function)\n",
    "\n",
    "익명 함수(annonymous function)는 함수 정의문이 없으므로 lambda라는 키워드를 사용하고  \n",
    "콜론( : )을 경계로 앞에는 매개변수를 정의하며 뒤에는 표현식을 정의한다."
   ]
  },
  {
   "cell_type": "code",
   "execution_count": 6,
   "metadata": {},
   "outputs": [
    {
     "name": "stdout",
     "output_type": "stream",
     "text": [
      "20\n"
     ]
    }
   ],
   "source": [
    "def add(x,y):\n",
    "    return x+y\n",
    "\n",
    "print(add(10,10))"
   ]
  },
  {
   "cell_type": "code",
   "execution_count": 7,
   "metadata": {},
   "outputs": [
    {
     "name": "stdout",
     "output_type": "stream",
     "text": [
      "20\n"
     ]
    }
   ],
   "source": [
    "a = lambda x,y : x+y\n",
    "print(a(10,10))"
   ]
  },
  {
   "cell_type": "code",
   "execution_count": 10,
   "metadata": {},
   "outputs": [
    {
     "name": "stdout",
     "output_type": "stream",
     "text": [
      "True\n",
      "True\n"
     ]
    }
   ],
   "source": [
    "print(isinstance(add, object))\n",
    "print(isinstance(a, object))"
   ]
  },
  {
   "cell_type": "code",
   "execution_count": 11,
   "metadata": {},
   "outputs": [
    {
     "ename": "NameError",
     "evalue": "name 'function' is not defined",
     "output_type": "error",
     "traceback": [
      "\u001b[1;31m---------------------------------------------------------------------------\u001b[0m",
      "\u001b[1;31mNameError\u001b[0m                                 Traceback (most recent call last)",
      "\u001b[1;32m<ipython-input-11-0b36dcb221b1>\u001b[0m in \u001b[0;36m<module>\u001b[1;34m()\u001b[0m\n\u001b[1;32m----> 1\u001b[1;33m \u001b[0mprint\u001b[0m\u001b[1;33m(\u001b[0m\u001b[0misinstance\u001b[0m\u001b[1;33m(\u001b[0m\u001b[0madd\u001b[0m\u001b[1;33m,\u001b[0m \u001b[0mfunction\u001b[0m\u001b[1;33m)\u001b[0m\u001b[1;33m)\u001b[0m\u001b[1;33m\u001b[0m\u001b[0m\n\u001b[0m",
      "\u001b[1;31mNameError\u001b[0m: name 'function' is not defined"
     ]
    }
   ],
   "source": [
    "print(isinstance(add, function))"
   ]
  },
  {
   "cell_type": "code",
   "execution_count": 21,
   "metadata": {},
   "outputs": [
    {
     "name": "stdout",
     "output_type": "stream",
     "text": [
      "<code object <lambda> at 0x0000026B832E1930, file \"<ipython-input-7-757de861686c>\", line 1>\n",
      "<lambda>\n",
      "<code object add at 0x0000026B8324D030, file \"<ipython-input-6-b16906c30080>\", line 1>\n",
      "add\n"
     ]
    }
   ],
   "source": [
    "print(a.__code__)\n",
    "print(a.__name__)\n",
    "print(add.__code__)\n",
    "print(add.__name__)"
   ]
  },
  {
   "cell_type": "code",
   "execution_count": 24,
   "metadata": {},
   "outputs": [
    {
     "name": "stdout",
     "output_type": "stream",
     "text": [
      "<function <lambda> at 0x0000026B83303488>\n",
      "<lambda>\n",
      "<lambda>\n"
     ]
    }
   ],
   "source": [
    "print(a)\n",
    "print(a.__name__)\n",
    "print(a.__qualname__)"
   ]
  },
  {
   "cell_type": "markdown",
   "metadata": {},
   "source": [
    "람다 함수는 이름이 없기 때문에 이름을 확인하면 이름이 없다는 표현인 lambda라고 출력된다.\n",
    "\n",
    "일반 함수 정의문과 다른 부분은 반환값에 대한 자료형을 정의하지 못하는 것을 빼고는 동일하다."
   ]
  },
  {
   "cell_type": "code",
   "execution_count": 25,
   "metadata": {},
   "outputs": [
    {
     "name": "stdout",
     "output_type": "stream",
     "text": [
      "<function <lambda> at 0x0000026B8337E8C8>\n",
      "{}\n",
      "(100,)\n",
      "{'y': 100}\n"
     ]
    }
   ],
   "source": [
    "a = lambda x=100, *, y=100 : x+y\n",
    "\n",
    "print(a)\n",
    "print(a.__annotations__)\n",
    "print(a.__defaults__)\n",
    "print(a.__kwdefaults__)"
   ]
  },
  {
   "cell_type": "markdown",
   "metadata": {},
   "source": [
    "#### 람다 함수의 표현식 처리에서 함수 호출도 가능하다."
   ]
  },
  {
   "cell_type": "code",
   "execution_count": 26,
   "metadata": {},
   "outputs": [
    {
     "name": "stdout",
     "output_type": "stream",
     "text": [
      "20\n"
     ]
    }
   ],
   "source": [
    "def add(x,y):\n",
    "    return x+y\n",
    "\n",
    "a = lambda x,y : add(x,y)\n",
    "\n",
    "print(a(10,10))"
   ]
  },
  {
   "cell_type": "markdown",
   "metadata": {},
   "source": [
    "### 즉시 실행 함수(Immediately - invoked function expression)\n",
    "\n",
    "일반적인 함수는 함수를 정의한 후 함수를 바로 호출해서 사용한다.  \n",
    "람다 함수는 함수를 쓰고 바로 실행할 수 있는 파이썬 문법  \n",
    "\n",
    "정의된 람다는 함수를 정의하자마자 바로 실행을 해서 처리하고 사라지는 함수이기 때문에 재사용보다는 즉시 실행해서 처리하는 경우에 좋다."
   ]
  },
  {
   "cell_type": "code",
   "execution_count": 27,
   "metadata": {},
   "outputs": [
    {
     "data": {
      "text/plain": [
       "<function __main__.<lambda>(x)>"
      ]
     },
     "execution_count": 27,
     "metadata": {},
     "output_type": "execute_result"
    }
   ],
   "source": [
    "lambda x : x (1)"
   ]
  },
  {
   "cell_type": "code",
   "execution_count": 28,
   "metadata": {},
   "outputs": [
    {
     "data": {
      "text/plain": [
       "1"
      ]
     },
     "execution_count": 28,
     "metadata": {},
     "output_type": "execute_result"
    }
   ],
   "source": [
    "(lambda x : x )(1)"
   ]
  },
  {
   "cell_type": "markdown",
   "metadata": {},
   "source": [
    "### 람다 함수 재사용하기"
   ]
  },
  {
   "cell_type": "code",
   "execution_count": 29,
   "metadata": {},
   "outputs": [
    {
     "name": "stdout",
     "output_type": "stream",
     "text": [
      "<function <lambda> at 0x0000026B8337EAE8>\n",
      "<lambda>\n",
      "10\n",
      "20\n"
     ]
    }
   ],
   "source": [
    "add = lambda x,y : x+y\n",
    "\n",
    "print(add)\n",
    "print(add.__name__)\n",
    "print(add.__call__(5,5))\n",
    "print(add(10,10))"
   ]
  },
  {
   "cell_type": "markdown",
   "metadata": {},
   "source": [
    "람다 함수도 함수 클래스의 인스턴스이므로 객체의 인스턴스로 사용이 가능하다.\n",
    "\n",
    "람다 함수를 정의하고 람다 함수의 표현식 부분에서 람다 인스턴스 속성에 접근하도록 함"
   ]
  },
  {
   "cell_type": "code",
   "execution_count": 30,
   "metadata": {},
   "outputs": [
    {
     "name": "stdout",
     "output_type": "stream",
     "text": [
      "<function <lambda> at 0x0000026B8337E950>\n",
      "{'count': 0}\n"
     ]
    }
   ],
   "source": [
    "add = lambda x,y : add.count\n",
    "\n",
    "print(add)\n",
    "add.count = 0\n",
    "\n",
    "print(add.__dict__)"
   ]
  },
  {
   "cell_type": "code",
   "execution_count": 31,
   "metadata": {},
   "outputs": [
    {
     "name": "stdout",
     "output_type": "stream",
     "text": [
      "0\n",
      "{'count': 1}\n"
     ]
    }
   ],
   "source": [
    "print(add(5,5))\n",
    "add.count += 1\n",
    "print(add.__dict__)"
   ]
  }
 ],
 "metadata": {
  "kernelspec": {
   "display_name": "Python 3",
   "language": "python",
   "name": "python3"
  },
  "language_info": {
   "codemirror_mode": {
    "name": "ipython",
    "version": 3
   },
   "file_extension": ".py",
   "mimetype": "text/x-python",
   "name": "python",
   "nbconvert_exporter": "python",
   "pygments_lexer": "ipython3",
   "version": "3.6.5"
  }
 },
 "nbformat": 4,
 "nbformat_minor": 2
}

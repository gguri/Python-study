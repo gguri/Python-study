{
 "cells": [
  {
   "cell_type": "markdown",
   "metadata": {},
   "source": [
    "# Python 개인공부\n",
    "### 출처 : 밑바닥부터 시작하는 데이터 과학(조엘 그루스 지음, 박은정.김한결.하성주 옮김, 인사이트, 2016)\n",
    "---"
   ]
  },
  {
   "cell_type": "markdown",
   "metadata": {},
   "source": [
    "# 2장 : 파이썬 속성 강좌\n",
    "# 문자열"
   ]
  },
  {
   "cell_type": "code",
   "execution_count": 1,
   "metadata": {
    "collapsed": true
   },
   "outputs": [],
   "source": [
    "single_quoted_string = 'data science'\n",
    "doulbe_quoted_string = \"data science\""
   ]
  },
  {
   "cell_type": "code",
   "execution_count": 2,
   "metadata": {
    "collapsed": false
   },
   "outputs": [
    {
     "data": {
      "text/plain": [
       "1"
      ]
     },
     "execution_count": 2,
     "metadata": {},
     "output_type": "execute_result"
    }
   ],
   "source": [
    "tab_string = \"\\t\"\n",
    "len(tab_string)"
   ]
  },
  {
   "cell_type": "code",
   "execution_count": 3,
   "metadata": {
    "collapsed": false
   },
   "outputs": [
    {
     "data": {
      "text/plain": [
       "2"
      ]
     },
     "execution_count": 3,
     "metadata": {},
     "output_type": "execute_result"
    }
   ],
   "source": [
    "not_tab_string = r\"\\t\"\n",
    "len(not_tab_string)"
   ]
  },
  {
   "cell_type": "markdown",
   "metadata": {
    "collapsed": true
   },
   "source": [
    "- \\t라는 문자열을 표현하기 위한 방법\n",
    "- 문자 앞에 r을 붙여주면 raw string(가공되지 않은 문자열) 이라고 명시됨"
   ]
  },
  {
   "cell_type": "code",
   "execution_count": 4,
   "metadata": {
    "collapsed": false
   },
   "outputs": [
    {
     "name": "stdout",
     "output_type": "stream",
     "text": [
      "This is the first line.\n",
      "and this is the second line\n",
      "and this is the third line\n",
      "\n"
     ]
    }
   ],
   "source": [
    "multi_line_string = \"\"\"This is the first line.\n",
    "and this is the second line\n",
    "and this is the third line\n",
    "\"\"\"\n",
    "print(multi_line_string)"
   ]
  },
  {
   "cell_type": "markdown",
   "metadata": {
    "collapsed": true
   },
   "source": [
    "- 여러 문자열 출력하는 방법 => \"\"\" 3개 사용"
   ]
  },
  {
   "cell_type": "markdown",
   "metadata": {},
   "source": [
    "---\n",
    "# 예외 처리"
   ]
  },
  {
   "cell_type": "code",
   "execution_count": 5,
   "metadata": {
    "collapsed": false
   },
   "outputs": [
    {
     "name": "stdout",
     "output_type": "stream",
     "text": [
      "cannot divide by zero\n"
     ]
    }
   ],
   "source": [
    "try:\n",
    "    print (0 / 0)\n",
    "except ZeroDivisionError:\n",
    "    print (\"cannot divide by zero\")"
   ]
  },
  {
   "cell_type": "markdown",
   "metadata": {},
   "source": [
    "---\n",
    "# 리스트(list)\n",
    "- list는 순서가 있는 자료의 집합(collection)\n",
    "- 다른 언어에서 보통 배열(array)이라고 하는 것과 유사, list는 기능이 조금 더 풍부하다."
   ]
  },
  {
   "cell_type": "code",
   "execution_count": 6,
   "metadata": {
    "collapsed": false
   },
   "outputs": [
    {
     "name": "stdout",
     "output_type": "stream",
     "text": [
      "3\n",
      "6\n"
     ]
    }
   ],
   "source": [
    "integer_list = [1, 2, 3]\n",
    "heterogeneous_list = [\"string\", 0.1, True]\n",
    "list_of_lists = [integer_list, heterogeneous_list, [] ] \n",
    "print(len(integer_list))\n",
    "print(sum(integer_list))"
   ]
  },
  {
   "cell_type": "code",
   "execution_count": 11,
   "metadata": {
    "collapsed": false
   },
   "outputs": [
    {
     "name": "stdout",
     "output_type": "stream",
     "text": [
      "0\n",
      "1\n",
      "9\n",
      "8\n",
      "[-1, 1, 2, 3, 4, 5, 6, 7, 8, 9]\n"
     ]
    }
   ],
   "source": [
    "x = range(10)\n",
    "zero = x[0]\n",
    "one = x[1]\n",
    "nine = x[-1]\n",
    "eight = x[-2]\n",
    "x[0] = -1\n",
    "print zero\n",
    "print one\n",
    "print nine\n",
    "print eight\n",
    "print x"
   ]
  },
  {
   "cell_type": "code",
   "execution_count": 14,
   "metadata": {
    "collapsed": false
   },
   "outputs": [
    {
     "name": "stdout",
     "output_type": "stream",
     "text": [
      "[-1, 1, 2]\n",
      "[3, 4, 5, 6, 7, 8, 9]\n",
      "[1, 2, 3, 4, 5, 6, 7, 8]\n"
     ]
    }
   ],
   "source": [
    "first_three = x[:3]\n",
    "three_to_end = x[3:]\n",
    "without_first_and_last = x[1:-1]\n",
    "print first_three\n",
    "print three_to_end\n",
    "print without_first_and_last"
   ]
  },
  {
   "cell_type": "code",
   "execution_count": 18,
   "metadata": {
    "collapsed": false
   },
   "outputs": [
    {
     "data": {
      "text/plain": [
       "True"
      ]
     },
     "execution_count": 18,
     "metadata": {},
     "output_type": "execute_result"
    }
   ],
   "source": [
    "1 in [1, 2, 3]"
   ]
  },
  {
   "cell_type": "code",
   "execution_count": 21,
   "metadata": {
    "collapsed": false
   },
   "outputs": [
    {
     "data": {
      "text/plain": [
       "False"
      ]
     },
     "execution_count": 21,
     "metadata": {},
     "output_type": "execute_result"
    }
   ],
   "source": [
    "0 in [1, 2, 3]"
   ]
  },
  {
   "cell_type": "markdown",
   "metadata": {},
   "source": [
    "### list를 연결하는 방법"
   ]
  },
  {
   "cell_type": "code",
   "execution_count": 20,
   "metadata": {
    "collapsed": true
   },
   "outputs": [],
   "source": [
    "x = [1, 2, 3]\n",
    "x.extend([4, 5, 6])"
   ]
  },
  {
   "cell_type": "code",
   "execution_count": 30,
   "metadata": {
    "collapsed": false
   },
   "outputs": [
    {
     "name": "stdout",
     "output_type": "stream",
     "text": [
      "[1, 2, 3, 4, 5, 6]\n"
     ]
    }
   ],
   "source": [
    "x = [1, 2, 3]\n",
    "y = x + [4, 5, 6]\n",
    "print y\n"
   ]
  },
  {
   "cell_type": "markdown",
   "metadata": {},
   "source": [
    "### 주로 list에 항목을 하나씩 추가하는 경우가 많다."
   ]
  },
  {
   "cell_type": "code",
   "execution_count": 31,
   "metadata": {
    "collapsed": false
   },
   "outputs": [
    {
     "name": "stdout",
     "output_type": "stream",
     "text": [
      "[1, 2, 3, 0]\n",
      "0\n",
      "4\n"
     ]
    }
   ],
   "source": [
    "x = [1, 2, 3]\n",
    "x.append(0)\n",
    "print x\n",
    "\n",
    "y = x[-1]\n",
    "z = len(x)\n",
    "print y \n",
    "print z"
   ]
  },
  {
   "cell_type": "markdown",
   "metadata": {},
   "source": [
    "### 만약 list안에 몇 개의 항목이 존재하는지 알고 있다면 손쉽게 list를 풀 수도 있다."
   ]
  },
  {
   "cell_type": "code",
   "execution_count": 32,
   "metadata": {
    "collapsed": false
   },
   "outputs": [
    {
     "name": "stdout",
     "output_type": "stream",
     "text": [
      "1\n",
      "2\n"
     ]
    }
   ],
   "source": [
    "x, y = [1, 2]\n",
    "print x\n",
    "print y"
   ]
  },
  {
   "cell_type": "markdown",
   "metadata": {},
   "source": [
    "### 하지만 양쪽 항목의 개수가 다르다면 ValueError가 발생한다.\n",
    "### 버릴 항목은 밑줄 '_' 로 표시한다."
   ]
  },
  {
   "cell_type": "code",
   "execution_count": 29,
   "metadata": {
    "collapsed": false
   },
   "outputs": [
    {
     "name": "stdout",
     "output_type": "stream",
     "text": [
      "2\n"
     ]
    }
   ],
   "source": [
    "_, y = [1, 2]\n",
    "print y"
   ]
  },
  {
   "cell_type": "markdown",
   "metadata": {},
   "source": [
    "---\n",
    "# 튜플(tuple)\n",
    "- 변경할 수 없는 list\n",
    "- list에서 수정을 제외한 모든 기능을 utple에 적용할 수 있다.\n",
    "- tuple은 대괄호 대신 괄호 or 아무런 기호 없이 정의 가능"
   ]
  },
  {
   "cell_type": "code",
   "execution_count": 33,
   "metadata": {
    "collapsed": false
   },
   "outputs": [
    {
     "name": "stdout",
     "output_type": "stream",
     "text": [
      "[1, 3]\n"
     ]
    }
   ],
   "source": [
    "my_list = [1, 2]   # list\n",
    "my_tuple = (1, 2)  # tuple\n",
    "other_tuple = 3, 4\n",
    "my_list[1] = 3\n",
    "\n",
    "print my_list"
   ]
  },
  {
   "cell_type": "code",
   "execution_count": 35,
   "metadata": {
    "collapsed": false
   },
   "outputs": [
    {
     "name": "stdout",
     "output_type": "stream",
     "text": [
      "cannot modify a tuple\n"
     ]
    }
   ],
   "source": [
    "try:\n",
    "    my_tuple[1] = 3\n",
    "except TypeError:\n",
    "    print \"cannot modify a tuple\""
   ]
  },
  {
   "cell_type": "markdown",
   "metadata": {},
   "source": [
    "### 함수에서 여러 값을 반환할 때 tuple을 사용하면 편하다."
   ]
  },
  {
   "cell_type": "code",
   "execution_count": 36,
   "metadata": {
    "collapsed": true
   },
   "outputs": [],
   "source": [
    "def sum_and_product(x, y):\n",
    "    return (x + y), (x * y)"
   ]
  },
  {
   "cell_type": "code",
   "execution_count": 37,
   "metadata": {
    "collapsed": false
   },
   "outputs": [
    {
     "name": "stdout",
     "output_type": "stream",
     "text": [
      "(5, 6)\n"
     ]
    }
   ],
   "source": [
    "sp = sum_and_product(2, 3)\n",
    "print sp"
   ]
  },
  {
   "cell_type": "code",
   "execution_count": 38,
   "metadata": {
    "collapsed": false
   },
   "outputs": [
    {
     "name": "stdout",
     "output_type": "stream",
     "text": [
      "15\n",
      "50\n"
     ]
    }
   ],
   "source": [
    "s, p = sum_and_product(5, 10)\n",
    "print s\n",
    "print p"
   ]
  },
  {
   "cell_type": "markdown",
   "metadata": {},
   "source": [
    "### tuple과 list는 다중 할당(multiple assignment)을 지원한다."
   ]
  },
  {
   "cell_type": "markdown",
   "metadata": {},
   "source": [
    "### 변수 switch"
   ]
  },
  {
   "cell_type": "code",
   "execution_count": 41,
   "metadata": {
    "collapsed": false
   },
   "outputs": [
    {
     "name": "stdout",
     "output_type": "stream",
     "text": [
      "2\n",
      "1\n"
     ]
    }
   ],
   "source": [
    "x, y = 1, 2\n",
    "x, y = y, x\n",
    "\n",
    "print x\n",
    "print y"
   ]
  },
  {
   "cell_type": "markdown",
   "metadata": {},
   "source": [
    "--- \n",
    "# dict\n",
    "- dictionary는 파이썬의 또 다른 기본적인 데이터 구조\n",
    "- 특정 value(값)와 연관된 key를 연결해 주고 이를 사용해 value를 빠르게 검색할 수 있다."
   ]
  },
  {
   "cell_type": "code",
   "execution_count": 44,
   "metadata": {
    "collapsed": false
   },
   "outputs": [],
   "source": [
    "empty_dict = {}\n",
    "grades = {\n",
    "    \"Joel\" : 80,\n",
    "    \"Tim\"  : 95\n",
    "}"
   ]
  },
  {
   "cell_type": "markdown",
   "metadata": {},
   "source": [
    "### 대괄호를 사용해서 key의 value를 불러올 수 있다."
   ]
  },
  {
   "cell_type": "code",
   "execution_count": 46,
   "metadata": {
    "collapsed": false
   },
   "outputs": [
    {
     "name": "stdout",
     "output_type": "stream",
     "text": [
      "80\n"
     ]
    }
   ],
   "source": [
    "joels_grade = grades[\"Joel\"]\n",
    "print joels_grade"
   ]
  },
  {
   "cell_type": "markdown",
   "metadata": {},
   "source": [
    "### 만약 dict에 존재하지 않는 key를 입력하면 KeyError가 발생한다."
   ]
  },
  {
   "cell_type": "code",
   "execution_count": 48,
   "metadata": {
    "collapsed": false
   },
   "outputs": [
    {
     "name": "stdout",
     "output_type": "stream",
     "text": [
      "no grade for kate!\n"
     ]
    }
   ],
   "source": [
    "try:\n",
    "    kates_grade = grades[\"kate\"]\n",
    "except KeyError:\n",
    "    print \"no grade for kate!\""
   ]
  },
  {
   "cell_type": "markdown",
   "metadata": {},
   "source": [
    "### 연산자 in을 사용하면 key의 존재 여부를 확인할 수 있다."
   ]
  },
  {
   "cell_type": "code",
   "execution_count": 50,
   "metadata": {
    "collapsed": false
   },
   "outputs": [
    {
     "name": "stdout",
     "output_type": "stream",
     "text": [
      "True\n",
      "False\n"
     ]
    }
   ],
   "source": [
    "joel_has_grade = \"Joel\" in grades\n",
    "kate_has_grade = \"Kate\" in grades\n",
    "\n",
    "print joel_has_grade\n",
    "print kate_has_grade"
   ]
  },
  {
   "cell_type": "markdown",
   "metadata": {},
   "source": [
    "### dict에서 get 메서드를 사용\n",
    "### 입력한 key가 dict에 없어도 에러를 반환하지 않고 기본값을 반환해 준다."
   ]
  },
  {
   "cell_type": "code",
   "execution_count": 54,
   "metadata": {
    "collapsed": false
   },
   "outputs": [
    {
     "name": "stdout",
     "output_type": "stream",
     "text": [
      "80\n",
      "0\n",
      "None\n"
     ]
    }
   ],
   "source": [
    "joels_grade = grades.get(\"Joel\", 0)\n",
    "kates_grade = grades.get(\"Kate\", 0)\n",
    "no_ones_grade = grades.get(\"No One\") \n",
    "\n",
    "print joels_grade\n",
    "print kates_grade\n",
    "print no_ones_grade"
   ]
  },
  {
   "cell_type": "markdown",
   "metadata": {},
   "source": [
    "### 대괄호를 사용해서 key와 value를 새로 지정해 줄 수 있다."
   ]
  },
  {
   "cell_type": "code",
   "execution_count": 56,
   "metadata": {
    "collapsed": false
   },
   "outputs": [
    {
     "name": "stdout",
     "output_type": "stream",
     "text": [
      "{'Tim': 99, 'Joel': 80, 'Kate': 100}\n",
      "3\n"
     ]
    }
   ],
   "source": [
    "grades[\"Tim\"] = 99\n",
    "grades[\"Kate\"] = 100\n",
    "num_students = len(grades)\n",
    "\n",
    "print grades\n",
    "print num_students"
   ]
  },
  {
   "cell_type": "markdown",
   "metadata": {},
   "source": [
    "### 정형화된 데이터를 간단하게 나타낼 때는 주로 dict를 사용"
   ]
  },
  {
   "cell_type": "code",
   "execution_count": 59,
   "metadata": {
    "collapsed": false
   },
   "outputs": [
    {
     "name": "stdout",
     "output_type": "stream",
     "text": [
      "{'text': 'hello world', 'retweet_count': 100, 'hashtags': ['#data', '#science', '#yolo'], 'user': 'joelgrus'}\n"
     ]
    }
   ],
   "source": [
    "tweet = {\n",
    "    \"user\" : \"joelgrus\",\n",
    "    \"text\" : \"hello world\",\n",
    "    \"retweet_count\" : 100,\n",
    "    \"hashtags\" : [\"#data\", \"#science\", \"#yolo\"]\n",
    "}\n",
    "\n",
    "print tweet"
   ]
  },
  {
   "cell_type": "markdown",
   "metadata": {},
   "source": [
    "### 특정 key 대신 dict의 모든 key를 한번에 살펴볼 수 있다."
   ]
  },
  {
   "cell_type": "code",
   "execution_count": 62,
   "metadata": {
    "collapsed": false
   },
   "outputs": [
    {
     "name": "stdout",
     "output_type": "stream",
     "text": [
      "['text', 'retweet_count', 'hashtags', 'user']\n",
      "['hello world', 100, ['#data', '#science', '#yolo'], 'joelgrus']\n",
      "[('text', 'hello world'), ('retweet_count', 100), ('hashtags', ['#data', '#science', '#yolo']), ('user', 'joelgrus')]\n"
     ]
    }
   ],
   "source": [
    "tweet_keys = tweet.keys()        # key에 대한 list\n",
    "tweet_values = tweet.values()    # value에 대한 list\n",
    "tweet_items = tweet.items()      # (key, value) tuple에 대한 list\n",
    "\n",
    "print tweet_keys\n",
    "print tweet_values\n",
    "print tweet_items"
   ]
  },
  {
   "cell_type": "code",
   "execution_count": 63,
   "metadata": {
    "collapsed": false
   },
   "outputs": [
    {
     "data": {
      "text/plain": [
       "True"
      ]
     },
     "execution_count": 63,
     "metadata": {},
     "output_type": "execute_result"
    }
   ],
   "source": [
    "\"user\" in tweet_keys   # True. 하지만 list에서 in을 사용하기 때문에 느리다.\n",
    "\"user\" in tweet        # dict에서 in을 사용하기 때문에 빠르다. "
   ]
  },
  {
   "cell_type": "markdown",
   "metadata": {},
   "source": [
    "### dict의 key는 수정할 수 없으며 list를 key로 사용할 수 없다.\n",
    "### 만약 다양한 값으로 구성된 key가 필요하다면 tuple이나 문자열을 key로 사용하자."
   ]
  },
  {
   "cell_type": "markdown",
   "metadata": {},
   "source": [
    "---\n",
    "# defaultdict\n",
    "#### 문서에서 단어의 빈도수를 세어 보는 중이라고 상상.\n",
    "#### 가장 직관적인 방법은 단어를 key, 빈도수를 value로 지정하는 dict를 생성\n",
    "#### 이 때, 각 단어가 dict에 이미 존재하면 값을 증가시키고 존재하지 않는다면 새로운 key와 value를 추가해주면 된다.\n",
    "\n",
    "- defaultdict와 평범한 dict의 유일한 차이점은 만약 존재하지 않는 key가 주어진다면 defaultdict는 이 key와 인자에서 주어진 값으로 dict에 새로운 항목을 추가해준다. ( collections 모듈에서 defaultdict를 불러와야 한다. )"
   ]
  },
  {
   "cell_type": "code",
   "execution_count": 72,
   "metadata": {
    "collapsed": false
   },
   "outputs": [],
   "source": [
    "from collections import defaultdict\n",
    "\n",
    "word_counts = defaultdict(int)  # int()는 0을 생성\n",
    "# for word in document:\n",
    "# word_counts[word] += 1\n"
   ]
  },
  {
   "cell_type": "code",
   "execution_count": 74,
   "metadata": {
    "collapsed": false
   },
   "outputs": [
    {
     "name": "stdout",
     "output_type": "stream",
     "text": [
      "defaultdict(<type 'list'>, {2: [1]})\n"
     ]
    }
   ],
   "source": [
    "dd_list = defaultdict(list)  # list()는 빈 list를 생성\n",
    "dd_list[2].append(1)         # 이제 dd_list는 {2: [1]}을 포함\n",
    "\n",
    "print dd_list"
   ]
  },
  {
   "cell_type": "code",
   "execution_count": 75,
   "metadata": {
    "collapsed": false
   },
   "outputs": [
    {
     "name": "stdout",
     "output_type": "stream",
     "text": [
      "defaultdict(<type 'dict'>, {'Joel': {'City': 'Seattle'}})\n"
     ]
    }
   ],
   "source": [
    "dd_dict = defaultdict(dict)\n",
    "dd_dict[\"Joel\"][\"City\"] = \"Seattle\"\n",
    "\n",
    "print dd_dict"
   ]
  },
  {
   "cell_type": "code",
   "execution_count": 77,
   "metadata": {
    "collapsed": false
   },
   "outputs": [
    {
     "name": "stdout",
     "output_type": "stream",
     "text": [
      "defaultdict(<function <lambda> at 0x00000000091172E8>, {2: [0, 1]})\n"
     ]
    }
   ],
   "source": [
    "dd_pair = defaultdict(lambda: [0, 0])\n",
    "dd_pair[2][1] = 1\n",
    "\n",
    "print dd_pair"
   ]
  },
  {
   "cell_type": "markdown",
   "metadata": {},
   "source": [
    "### Counter\n",
    "- 연속된 값을 defaultdict(int)와 유사한 객체로 변환\n",
    "- key와 value의 빈도를 연결시켜 준다.\n",
    "- 히스토그램 그릴 때 자주 사용 (R에서 table과 비슷한 기능)"
   ]
  },
  {
   "cell_type": "code",
   "execution_count": 79,
   "metadata": {
    "collapsed": false
   },
   "outputs": [
    {
     "name": "stdout",
     "output_type": "stream",
     "text": [
      "Counter({0: 2, 1: 1, 2: 1})\n"
     ]
    }
   ],
   "source": [
    "from collections import Counter\n",
    "c = Counter([0, 1, 2, 0])\n",
    "\n",
    "print c"
   ]
  },
  {
   "cell_type": "markdown",
   "metadata": {},
   "source": [
    "#### Counter 객체에는 유용하게 쓰이는 most_common 함수가 존재.\n",
    "#### 가장 자주 나오는 단어 빈도수 출력"
   ]
  },
  {
   "cell_type": "markdown",
   "metadata": {},
   "source": [
    "---\n",
    "# set\n",
    "- set은 파이썬의 데이터 구조 중 유일한 항목의 집합을 나타내는 구조"
   ]
  },
  {
   "cell_type": "code",
   "execution_count": 82,
   "metadata": {
    "collapsed": true
   },
   "outputs": [],
   "source": [
    "s = set()\n",
    "s.add(1)   # s는 { 1 }\n",
    "s.add(2)   # s는 { 1, 2 }\n",
    "s.add(2)   # s는 여전히 { 1, 2 }\n",
    "x = len(s) # 결과는 2\n",
    "y = 2 in s # True"
   ]
  },
  {
   "cell_type": "markdown",
   "metadata": {},
   "source": [
    "### 두 가지 장점이 존재\n",
    "1. in은 set에서 굉장히 빠르게 동작<br/>\n",
    "   수많은 항목 중에서 특정 항목의 존재 여부를 확인해 보기 위해서는 list를 사용하는 것보다 set을 사용하는 것이 효율적<br/>\n",
    "   list에서는 특정 항목을 확인하기 위해서는 모든 항목을 확인해야 하지만 set은 굉장히 빠르게 작동\n",
    "<br/><br/>\n",
    "1. 중복된 원소 제거"
   ]
  },
  {
   "cell_type": "code",
   "execution_count": 87,
   "metadata": {
    "collapsed": false
   },
   "outputs": [
    {
     "name": "stdout",
     "output_type": "stream",
     "text": [
      "6\n",
      "set([1, 2, 3])\n",
      "3\n"
     ]
    }
   ],
   "source": [
    "item_list = [1, 2, 3, 1, 2, 3]\n",
    "num_items = len(item_list)\n",
    "item_set = set(item_list)\n",
    "\n",
    "print num_items\n",
    "print item_set\n",
    "print len(item_set)"
   ]
  },
  {
   "cell_type": "markdown",
   "metadata": {},
   "source": [
    "---\n",
    "# 정렬"
   ]
  },
  {
   "cell_type": "code",
   "execution_count": 91,
   "metadata": {
    "collapsed": false
   },
   "outputs": [
    {
     "name": "stdout",
     "output_type": "stream",
     "text": [
      "[1, 2, 3, 4]\n",
      "[1, 2, 3, 4]\n"
     ]
    }
   ],
   "source": [
    "x = [4, 1, 2, 3]\n",
    "y = sorted(x)\n",
    "x.sort()\n",
    "\n",
    "print y\n",
    "print x"
   ]
  },
  {
   "cell_type": "markdown",
   "metadata": {},
   "source": [
    "### 기본적으로 오름차순 정렬\n",
    "### 내림차순은 reverse = True\n",
    "### list의 각 항목끼리 비교하는 대신 <br/>key를 사용하면 지정한 함수의 결과값을 기준으로 list를 정렬할 수 있다."
   ]
  },
  {
   "cell_type": "code",
   "execution_count": 93,
   "metadata": {
    "collapsed": false
   },
   "outputs": [
    {
     "name": "stdout",
     "output_type": "stream",
     "text": [
      "[-4, 3, -2, 1]\n"
     ]
    }
   ],
   "source": [
    "x = sorted([-4, 1, -2, 3], \n",
    "           key = abs, \n",
    "           reverse = True)\n",
    "\n",
    "print x"
   ]
  },
  {
   "cell_type": "markdown",
   "metadata": {},
   "source": [
    "### 빈도의 내림차순으로 단어와 빈도를 정렬"
   ]
  },
  {
   "cell_type": "code",
   "execution_count": 97,
   "metadata": {
    "collapsed": false
   },
   "outputs": [],
   "source": [
    "wc = sorted(word_counts.items(),\n",
    "           key = lambda (word, count): count,\n",
    "           reverse = True)\n"
   ]
  },
  {
   "cell_type": "markdown",
   "metadata": {},
   "source": [
    "---\n",
    "# List Comprehension\n",
    "- 기존의 list에서 특정 항목을 선택하거나 변환시킨 결과를 새로운 list에 저장하는 방법"
   ]
  },
  {
   "cell_type": "code",
   "execution_count": 99,
   "metadata": {
    "collapsed": false
   },
   "outputs": [
    {
     "name": "stdout",
     "output_type": "stream",
     "text": [
      "[0, 2, 4]\n"
     ]
    }
   ],
   "source": [
    "even_numbers = [x for x in range(5) if x % 2 == 0]\n",
    "print even_numbers"
   ]
  },
  {
   "cell_type": "code",
   "execution_count": 101,
   "metadata": {
    "collapsed": false
   },
   "outputs": [
    {
     "name": "stdout",
     "output_type": "stream",
     "text": [
      "[0, 1, 4, 9, 16]\n"
     ]
    }
   ],
   "source": [
    "squares = [x * x for x in range(5)]\n",
    "print(squares)"
   ]
  },
  {
   "cell_type": "code",
   "execution_count": 103,
   "metadata": {
    "collapsed": false
   },
   "outputs": [
    {
     "name": "stdout",
     "output_type": "stream",
     "text": [
      "[0, 4, 16]\n"
     ]
    }
   ],
   "source": [
    "even_squares = [x * x for x in even_numbers]\n",
    "print even_squares"
   ]
  },
  {
   "cell_type": "markdown",
   "metadata": {},
   "source": [
    "### dict나 set으로 변환시킬 수 있다."
   ]
  },
  {
   "cell_type": "code",
   "execution_count": 104,
   "metadata": {
    "collapsed": false
   },
   "outputs": [
    {
     "name": "stdout",
     "output_type": "stream",
     "text": [
      "{0: 0, 1: 1, 2: 4, 3: 9, 4: 16}\n"
     ]
    }
   ],
   "source": [
    "square_dict = {x : x * x for x in range(5) }\n",
    "print square_dict"
   ]
  },
  {
   "cell_type": "code",
   "execution_count": 106,
   "metadata": {
    "collapsed": false
   },
   "outputs": [
    {
     "name": "stdout",
     "output_type": "stream",
     "text": [
      "set([1])\n"
     ]
    }
   ],
   "source": [
    "square_set = { x * x for x in [1, -1] }\n",
    "print square_set"
   ]
  },
  {
   "cell_type": "markdown",
   "metadata": {},
   "source": [
    "### 보통 list에서 불필요한 값은 밑줄로 표기한다.\n",
    "- even_numbers와 동일한 길이"
   ]
  },
  {
   "cell_type": "code",
   "execution_count": 109,
   "metadata": {
    "collapsed": false
   },
   "outputs": [
    {
     "name": "stdout",
     "output_type": "stream",
     "text": [
      "[0, 0, 0]\n"
     ]
    }
   ],
   "source": [
    "zeroes = [0 for _ in even_numbers] \n",
    "print zeroes"
   ]
  },
  {
   "cell_type": "markdown",
   "metadata": {},
   "source": [
    "### List comprehension에는 여러 for를 포함할 수 있고,"
   ]
  },
  {
   "cell_type": "code",
   "execution_count": 112,
   "metadata": {
    "collapsed": false
   },
   "outputs": [
    {
     "name": "stdout",
     "output_type": "stream",
     "text": [
      "[(0, 0), (0, 1), (1, 0), (1, 1), (2, 0), (2, 1)]\n"
     ]
    }
   ],
   "source": [
    "pairs = [(x, y)\n",
    "        for x in range(3)\n",
    "        for y in range(2)]\n",
    "\n",
    "print pairs"
   ]
  },
  {
   "cell_type": "code",
   "execution_count": null,
   "metadata": {
    "collapsed": false
   },
   "outputs": [],
   "source": [
    "# x < y의 경우에만 해당\n",
    "increasing_pairs = [(x, y)\n",
    "                   for x in range(3)\n",
    "                   for y in range(x + 1, 6)]\n",
    "\n",
    "print increasing_pairs"
   ]
  },
  {
   "cell_type": "markdown",
   "metadata": {},
   "source": [
    "---\n",
    "# Generator와 iterator"
   ]
  },
  {
   "cell_type": "markdown",
   "metadata": {},
   "source": [
    "### Generator(생성자)는 (주로 for문을 통해서) 반복할 수 있으며,<br/>generator의 각 항목은 필요한 순간에 그때그때 생성된다."
   ]
  },
  {
   "cell_type": "markdown",
   "metadata": {},
   "source": [
    "### Generator를 만드는 한 가지 방법은 함수와 yield를 활용하는 것"
   ]
  },
  {
   "cell_type": "code",
   "execution_count": 1,
   "metadata": {
    "collapsed": true
   },
   "outputs": [],
   "source": [
    "def lazy_range(n):\n",
    "    # range와 똑같은 기능을 하는 generator \n",
    "    i = 0\n",
    "    while i < n:\n",
    "        yield i\n",
    "        i += 1"
   ]
  },
  {
   "cell_type": "markdown",
   "metadata": {},
   "source": [
    "### 다음과 같은 반복문은 yield로 반환되는 값이 없을 때 까지 반환된 값을 차례로 하나씩 사용한다."
   ]
  },
  {
   "cell_type": "code",
   "execution_count": 3,
   "metadata": {
    "collapsed": false
   },
   "outputs": [
    {
     "name": "stdout",
     "output_type": "stream",
     "text": [
      "0\n",
      "1\n",
      "2\n",
      "3\n",
      "4\n",
      "5\n",
      "6\n",
      "7\n",
      "8\n",
      "9\n"
     ]
    }
   ],
   "source": [
    "for i in lazy_range(10):\n",
    "    print i"
   ]
  },
  {
   "cell_type": "code",
   "execution_count": null,
   "metadata": {
    "collapsed": false
   },
   "outputs": [],
   "source": [
    "# 무한 급수 만들기 함수\n",
    "def natural_numbers(n):\n",
    "    # 1, 2, 3 ...을 반환\n",
    "    n = 1\n",
    "    while True:\n",
    "        yield n\n",
    "        n += 1"
   ]
  },
  {
   "cell_type": "code",
   "execution_count": 4,
   "metadata": {
    "collapsed": false
   },
   "outputs": [
    {
     "name": "stdout",
     "output_type": "stream",
     "text": [
      "<generator object <genexpr> at 0x0000000007278630>\n"
     ]
    }
   ],
   "source": [
    "lazy_evens_below_20 = (i for i in lazy_range(20) if i % 2 == 0)\n",
    "\n",
    "print lazy_evens_below_20"
   ]
  },
  {
   "cell_type": "markdown",
   "metadata": {
    "collapsed": true
   },
   "source": [
    "### 난수 생성"
   ]
  },
  {
   "cell_type": "code",
   "execution_count": 5,
   "metadata": {
    "collapsed": false
   },
   "outputs": [
    {
     "name": "stdout",
     "output_type": "stream",
     "text": [
      "[0.7801178374073215, 0.9267804076963416, 0.4454466072201395, 0.8008454184278878]\n"
     ]
    }
   ],
   "source": [
    "import random \n",
    "four_uniform_randoms = [random.random() for _ in range(4) ]\n",
    "\n",
    "print four_uniform_randoms"
   ]
  },
  {
   "cell_type": "code",
   "execution_count": 7,
   "metadata": {
    "collapsed": false
   },
   "outputs": [
    {
     "data": {
      "text/plain": [
       "3"
      ]
     },
     "execution_count": 7,
     "metadata": {},
     "output_type": "execute_result"
    }
   ],
   "source": [
    "random.randrange(10)"
   ]
  },
  {
   "cell_type": "code",
   "execution_count": 8,
   "metadata": {
    "collapsed": false
   },
   "outputs": [
    {
     "data": {
      "text/plain": [
       "3"
      ]
     },
     "execution_count": 8,
     "metadata": {},
     "output_type": "execute_result"
    }
   ],
   "source": [
    "random.randrange(3, 6)"
   ]
  },
  {
   "cell_type": "code",
   "execution_count": 10,
   "metadata": {
    "collapsed": false
   },
   "outputs": [
    {
     "name": "stdout",
     "output_type": "stream",
     "text": [
      "[4, 6, 5, 2, 0, 3, 7, 1, 8, 9]\n"
     ]
    }
   ],
   "source": [
    "up_to_ten = range(10)\n",
    "random.shuffle(up_to_ten)\n",
    "print up_to_ten"
   ]
  },
  {
   "cell_type": "markdown",
   "metadata": {},
   "source": [
    "### random.choice메서드를 사용하면 list에서 임의의 항목을 하나 선택할 수 있다."
   ]
  },
  {
   "cell_type": "code",
   "execution_count": 12,
   "metadata": {
    "collapsed": false
   },
   "outputs": [
    {
     "name": "stdout",
     "output_type": "stream",
     "text": [
      "Charlie\n"
     ]
    }
   ],
   "source": [
    "my_best_friend = random.choice([\"Alice\", \"Bob\", \"Charlie\"])\n",
    "print my_best_friend"
   ]
  },
  {
   "cell_type": "markdown",
   "metadata": {},
   "source": [
    "### random.sample을 사용하면 list에서 중복이 허용되지 않는 임의의 표본 list를 만들 수 있다."
   ]
  },
  {
   "cell_type": "code",
   "execution_count": 14,
   "metadata": {
    "collapsed": false
   },
   "outputs": [
    {
     "name": "stdout",
     "output_type": "stream",
     "text": [
      "[0, 1, 2, 3, 4, 5, 6, 7, 8, 9, 10, 11, 12, 13, 14, 15, 16, 17, 18, 19, 20, 21, 22, 23, 24, 25, 26, 27, 28, 29, 30, 31, 32, 33, 34, 35, 36, 37, 38, 39, 40, 41, 42, 43, 44, 45, 46, 47, 48, 49]\n",
      "[37, 32, 24, 38, 43, 1]\n"
     ]
    }
   ],
   "source": [
    "lottery_numbers = range(50)\n",
    "winning_numbers = random.sample(lottery_numbers, 6)\n",
    "\n",
    "print lottery_numbers\n",
    "print winning_numbers"
   ]
  },
  {
   "cell_type": "markdown",
   "metadata": {},
   "source": [
    "### 만약 중복이 허용되는 임의의 표본 list를 만들고 싶다면 random.choice를 여러번 사용"
   ]
  },
  {
   "cell_type": "code",
   "execution_count": 16,
   "metadata": {
    "collapsed": false
   },
   "outputs": [
    {
     "name": "stdout",
     "output_type": "stream",
     "text": [
      "[8, 0, 3, 8]\n"
     ]
    }
   ],
   "source": [
    "four_with_replacement = [random.choice(range(10))\n",
    "                        for _ in range(4)]\n",
    "\n",
    "print four_with_replacement"
   ]
  },
  {
   "cell_type": "markdown",
   "metadata": {},
   "source": [
    "---\n",
    "# 정규표현식 \n",
    "- 정규표현식 또는 regex를 사용하면 문자열 찾기 가능"
   ]
  },
  {
   "cell_type": "code",
   "execution_count": 20,
   "metadata": {
    "collapsed": false
   },
   "outputs": [
    {
     "name": "stdout",
     "output_type": "stream",
     "text": [
      "True\n"
     ]
    }
   ],
   "source": [
    "import re\n",
    "\n",
    "print all([\n",
    "        not re.match(\"a\", \"cat\"),\n",
    "        re.search(\"a\", \"cat\"),\n",
    "        not re.search(\"c\", \"dog\"),\n",
    "        3 == len(re.split(\"[ab]\", \"carbs\")),   # carbs를 a 혹은 b 기준으로 나누기\n",
    "        \"R-D-\" == re.sub(\"[0-9]\", \"-\", \"R2D2\")  # 숫자가 -로 대체\n",
    "    ])\n",
    "\n",
    "## 전부다 true"
   ]
  },
  {
   "cell_type": "markdown",
   "metadata": {},
   "source": [
    "---\n",
    "# 객체 지향 프로그래밍"
   ]
  },
  {
   "cell_type": "code",
   "execution_count": 21,
   "metadata": {
    "collapsed": true
   },
   "outputs": [],
   "source": [
    "class Set:\n",
    "    # 이제 멤버 함수들을 정의\n",
    "    # 모든 멤버 함수의 첫 번째 인자는 \"self\"이다\n",
    "    # \"self\"란 현재 사용되고 있는 Set 객체를 의미한다\n",
    "    \n",
    "    def __init__(self, values = None):\n",
    "        '''이것은 constructor(생성자) 이다\n",
    "        새로운 Set을 만들면 호출된다\n",
    "        다음과 같이 사용할 수 있다.\n",
    "        s1 = Set()          # 비어있는 Set\n",
    "        s2 = Set([1,2,3,4]) # 초기값이 주어진 Set '''\n",
    "        \n",
    "        self.dict = {} # 모든 Set의 인스턴스는 자체적으로 dict를 유지한다.\n",
    "                       # 이 dict를 통해 항목의 존재 여부를 확인할 것이다.\n",
    "            \n",
    "        if values is not None:\n",
    "            for value in values:\n",
    "                self.add(value)\n",
    "                \n",
    "    def __repr__(self):\n",
    "        '''파이썬 프롬프트에서 이 함수를 입력하거나 str()으로 보내주면\n",
    "        Set 객체를 문자열로 표현해 줌'''\n",
    "        return \"Set: \" + str(self.dict.keys())\n",
    "    \n",
    "    # self.dict에서 항목과 True를 각각 key와 value로 사용해서\n",
    "    # Set 안에 존재하는 항목을 표현\n",
    "    def add(self, value):\n",
    "        self.dict[value] = True\n",
    "    \n",
    "    # 만약 항목이 dict의 key라면 항목은 Set 안에 존재함\n",
    "    def contains(self, value):\n",
    "        return value in self.dict\n",
    "    \n",
    "    def remove(self, value):\n",
    "        del self.dict[value]\n",
    "             \n",
    "    "
   ]
  },
  {
   "cell_type": "code",
   "execution_count": 25,
   "metadata": {
    "collapsed": false
   },
   "outputs": [
    {
     "name": "stdout",
     "output_type": "stream",
     "text": [
      "True\n",
      "Set: [1, 2, 3, 4]\n"
     ]
    }
   ],
   "source": [
    "s = Set([1,2,3])\n",
    "s.add(4)\n",
    "print s.contains(4)\n",
    "print s"
   ]
  },
  {
   "cell_type": "markdown",
   "metadata": {},
   "source": [
    "---\n",
    "# 함수형 도구\n",
    "- 한 함수의 특정 부분을 사용해서 새로운 함수를 만드는 방법\n",
    "- partial function application 또는 currying이라고 함"
   ]
  },
  {
   "cell_type": "code",
   "execution_count": 27,
   "metadata": {
    "collapsed": true
   },
   "outputs": [],
   "source": [
    "def exp(base, power):\n",
    "    return base ** power"
   ]
  },
  {
   "cell_type": "markdown",
   "metadata": {},
   "source": [
    "### power라는 변수 한개를 입력하면 exp(2, power) 결과를 출력하는 two_to_the 함수를 만들고 싶다."
   ]
  },
  {
   "cell_type": "code",
   "execution_count": 29,
   "metadata": {
    "collapsed": true
   },
   "outputs": [],
   "source": [
    "def two_to_the(power):\n",
    "    return exp(2, power)"
   ]
  },
  {
   "cell_type": "markdown",
   "metadata": {},
   "source": [
    "### def 를 사용해서 새로운 함수를 정의하는 방법 존재\n",
    "### but) 이 방법은 너무 복잡하다.\n",
    "### functools.partial를 사용"
   ]
  },
  {
   "cell_type": "code",
   "execution_count": 30,
   "metadata": {
    "collapsed": false
   },
   "outputs": [
    {
     "name": "stdout",
     "output_type": "stream",
     "text": [
      "8\n"
     ]
    }
   ],
   "source": [
    "from functools import partial\n",
    "two_to_the = partial(exp, 2)\n",
    "print two_to_the(3)"
   ]
  },
  {
   "cell_type": "code",
   "execution_count": 31,
   "metadata": {
    "collapsed": false
   },
   "outputs": [
    {
     "name": "stdout",
     "output_type": "stream",
     "text": [
      "9\n"
     ]
    }
   ],
   "source": [
    "square_of = partial(exp, power = 2)\n",
    "print square_of(3)"
   ]
  },
  {
   "cell_type": "markdown",
   "metadata": {},
   "source": [
    "### list comprehension의 대안으로 map, reduce, filter를 사용하는 경우"
   ]
  },
  {
   "cell_type": "code",
   "execution_count": 33,
   "metadata": {
    "collapsed": false
   },
   "outputs": [
    {
     "name": "stdout",
     "output_type": "stream",
     "text": [
      "[2, 4, 6, 8]\n"
     ]
    }
   ],
   "source": [
    "def double(x):\n",
    "    return 2*x\n",
    "\n",
    "xs = [1, 2, 3, 4]\n",
    "twice_xs = [double(x) for x in xs]  # [2, 4, 6, 8]\n",
    "twice_xs = map(double, xs)          # 위의 결과와 동일\n",
    "\n",
    "print twice_xs"
   ]
  },
  {
   "cell_type": "code",
   "execution_count": 35,
   "metadata": {
    "collapsed": false
   },
   "outputs": [],
   "source": [
    "list_doubler = partial(map, double)  # list의 값을 두 배로 만들어 주는 함수\n",
    "twice_xs = list_doubler(xs)          # 결과는 여전히 [2, 4, 6 ,8]"
   ]
  },
  {
   "cell_type": "code",
   "execution_count": 37,
   "metadata": {
    "collapsed": false
   },
   "outputs": [
    {
     "name": "stdout",
     "output_type": "stream",
     "text": [
      "[4, 10]\n"
     ]
    }
   ],
   "source": [
    "def multiply(x, y):\n",
    "    return x * y\n",
    "\n",
    "products = map(multiply, [1, 2], [4, 5])\n",
    "print products"
   ]
  },
  {
   "cell_type": "markdown",
   "metadata": {},
   "source": [
    "### filter는 if가 포함된 list comprehension과 동일하다."
   ]
  },
  {
   "cell_type": "code",
   "execution_count": 40,
   "metadata": {
    "collapsed": false
   },
   "outputs": [
    {
     "name": "stdout",
     "output_type": "stream",
     "text": [
      "[2, 4]\n"
     ]
    }
   ],
   "source": [
    "def is_even(x):\n",
    "    '''x가 짝수면 True\n",
    "           홀수면 False'''\n",
    "    return x % 2 == 0\n",
    "\n",
    "x_evens = [x for x in xs if is_even(x)]\n",
    "print x_evens"
   ]
  },
  {
   "cell_type": "code",
   "execution_count": 42,
   "metadata": {
    "collapsed": false
   },
   "outputs": [
    {
     "name": "stdout",
     "output_type": "stream",
     "text": [
      "[2, 4]\n"
     ]
    }
   ],
   "source": [
    "x_evens = filter(is_even, xs)  # 위와 동일한 결과\n",
    "list_evener = partial(filter, is_even) # list를 필터링 해주는 함수\n",
    "x_evens = list_evener(xs)     \n",
    "print x_evens"
   ]
  },
  {
   "cell_type": "markdown",
   "metadata": {},
   "source": [
    "---\n",
    "# enumerate\n",
    "- list를 반복하면서 list의 항목과 인덱스 모두 필요한 경우가 존재"
   ]
  },
  {
   "cell_type": "code",
   "execution_count": null,
   "metadata": {
    "collapsed": true
   },
   "outputs": [],
   "source": [
    "for i, document in enumerate(documents):\n",
    "    do_something(i, document)"
   ]
  },
  {
   "cell_type": "markdown",
   "metadata": {},
   "source": [
    "### 만약 인덱스만 필요하다면?"
   ]
  },
  {
   "cell_type": "code",
   "execution_count": null,
   "metadata": {
    "collapsed": true
   },
   "outputs": [],
   "source": [
    "for i, _ enumerate(documents): do_something(i)"
   ]
  },
  {
   "cell_type": "markdown",
   "metadata": {},
   "source": [
    "---\n",
    "# zip과 argument unpacking\n",
    "- 두 개 이상의 list를 서로 묶어줄 때\n",
    "- zip은 여러 개의 list를 서로 상응하는 항목의 tuple로 구성도니 list로 변환해준다."
   ]
  },
  {
   "cell_type": "code",
   "execution_count": 44,
   "metadata": {
    "collapsed": false
   },
   "outputs": [
    {
     "data": {
      "text/plain": [
       "[('a', 1), ('b', 2), ('c', 3)]"
      ]
     },
     "execution_count": 44,
     "metadata": {},
     "output_type": "execute_result"
    }
   ],
   "source": [
    "list1 = ['a', 'b', 'c']\n",
    "list2 = [1, 2, 3]\n",
    "zip(list1, list2)"
   ]
  },
  {
   "cell_type": "markdown",
   "metadata": {},
   "source": [
    "### 주어진 list의 길이가 서로 다른 경우 zip은 첫 번쨰 list가 끝나면 멈춘다. (R에는 재활용 규칙이 존재)\n",
    "### *는 argument unpacking(인자 해체)을 할 때 사용되는 문법"
   ]
  },
  {
   "cell_type": "code",
   "execution_count": 46,
   "metadata": {
    "collapsed": false
   },
   "outputs": [
    {
     "name": "stdout",
     "output_type": "stream",
     "text": [
      "('a', 'b', 'c') (1, 2, 3)\n"
     ]
    }
   ],
   "source": [
    "pairs = [('a', 1), ('b', 2), ('c', 3)]\n",
    "letters, numbers = zip(*pairs)\n",
    "\n",
    "print letters, numbers"
   ]
  },
  {
   "cell_type": "markdown",
   "metadata": {},
   "source": [
    "---\n",
    "# args와 kwargs"
   ]
  },
  {
   "cell_type": "markdown",
   "metadata": {},
   "source": [
    "### 특정 함수 f를 입력하면 f의 결과를 두 배로 만드는 함수를 반환해 주는 고차 함수"
   ]
  },
  {
   "cell_type": "code",
   "execution_count": 47,
   "metadata": {
    "collapsed": true
   },
   "outputs": [],
   "source": [
    "def doubler(f):\n",
    "    def g(x):\n",
    "        return 2 * f(x)\n",
    "    return g"
   ]
  },
  {
   "cell_type": "code",
   "execution_count": 49,
   "metadata": {
    "collapsed": false
   },
   "outputs": [
    {
     "name": "stdout",
     "output_type": "stream",
     "text": [
      "8\n",
      "0\n"
     ]
    }
   ],
   "source": [
    "def f1(x):\n",
    "    return x + 1\n",
    "\n",
    "g = doubler(f1)\n",
    "print g(3)\n",
    "print g(-1)"
   ]
  },
  {
   "cell_type": "code",
   "execution_count": 51,
   "metadata": {
    "collapsed": false
   },
   "outputs": [
    {
     "ename": "TypeError",
     "evalue": "g() takes exactly 1 argument (2 given)",
     "output_type": "error",
     "traceback": [
      "\u001b[1;31m---------------------------------------------------------------------------\u001b[0m",
      "\u001b[1;31mTypeError\u001b[0m                                 Traceback (most recent call last)",
      "\u001b[1;32m<ipython-input-51-43936d0a55d2>\u001b[0m in \u001b[0;36m<module>\u001b[1;34m()\u001b[0m\n\u001b[0;32m      3\u001b[0m \u001b[1;33m\u001b[0m\u001b[0m\n\u001b[0;32m      4\u001b[0m \u001b[0mg\u001b[0m \u001b[1;33m=\u001b[0m \u001b[0mdoubler\u001b[0m\u001b[1;33m(\u001b[0m\u001b[0mf2\u001b[0m\u001b[1;33m)\u001b[0m\u001b[1;33m\u001b[0m\u001b[0m\n\u001b[1;32m----> 5\u001b[1;33m \u001b[1;32mprint\u001b[0m \u001b[0mg\u001b[0m\u001b[1;33m(\u001b[0m\u001b[1;36m1\u001b[0m\u001b[1;33m,\u001b[0m \u001b[1;36m2\u001b[0m\u001b[1;33m)\u001b[0m\u001b[1;33m\u001b[0m\u001b[0m\n\u001b[0m",
      "\u001b[1;31mTypeError\u001b[0m: g() takes exactly 1 argument (2 given)"
     ]
    }
   ],
   "source": [
    "def f2(x, y):\n",
    "    return x + y\n",
    "\n",
    "g = doubler(f2)\n",
    "print g(1, 2)"
   ]
  },
  {
   "cell_type": "markdown",
   "metadata": {},
   "source": [
    "### 두 개 이상의 인자를 받는 함수의 경우 문제가 발생한다.\n",
    "### argument unpacking을 사용하면 임의의 수의 인자를 받는 함수를 만들 수 있다."
   ]
  },
  {
   "cell_type": "code",
   "execution_count": 53,
   "metadata": {
    "collapsed": false
   },
   "outputs": [
    {
     "name": "stdout",
     "output_type": "stream",
     "text": [
      "unnamed args: (1, 2)\n",
      "keyword args: {'key2': 'word2', 'key': 'word'}\n"
     ]
    }
   ],
   "source": [
    "def magic(*args, **kwargs):\n",
    "    print \"unnamed args:\", args\n",
    "    print \"keyword args:\", kwargs\n",
    "    \n",
    "magic(1, 2, key = \"word\", key2 = \"word2\")"
   ]
  },
  {
   "cell_type": "markdown",
   "metadata": {},
   "source": [
    "### *args\n",
    "- 파라미터를 몇개를 받을지 모르는 경우 사용한다. args 는 튜플 형태로 전달된다.\n",
    "\n",
    "### **kwargs\n",
    "- 파라미터 명을 같이 보낼 수 있다. kwargs는 딕셔너리 형태로 전달된다.\n",
    "\n",
    "##### 출처: http://jhproject.tistory.com/109 [JH PROJECT] => 상세 설명 존재"
   ]
  },
  {
   "cell_type": "code",
   "execution_count": 54,
   "metadata": {
    "collapsed": false
   },
   "outputs": [
    {
     "name": "stdout",
     "output_type": "stream",
     "text": [
      "6\n"
     ]
    }
   ],
   "source": [
    "def doubler_correct(f):\n",
    "    '''f의 인자에 상관없이 작동함'''\n",
    "    def g(*args, **kwargs):\n",
    "        '''g의 인자가 무엇이든 간에 f로 보내줌'''\n",
    "        return 2 * f(*args, **kwargs)\n",
    "    return g\n",
    "\n",
    "g = doubler_correct(f2)\n",
    "print g(1, 2)"
   ]
  }
 ],
 "metadata": {
  "anaconda-cloud": {},
  "kernelspec": {
   "display_name": "Python 2",
   "language": "python",
   "name": "python2"
  },
  "language_info": {
   "codemirror_mode": {
    "name": "ipython",
    "version": 2
   },
   "file_extension": ".py",
   "mimetype": "text/x-python",
   "name": "python",
   "nbconvert_exporter": "python",
   "pygments_lexer": "ipython2",
   "version": "2.7.14"
  },
  "nbpresent": {
   "slides": {
    "0fcfd503-9aac-4e5b-9951-b20ce81ae66d": {
     "id": "0fcfd503-9aac-4e5b-9951-b20ce81ae66d",
     "prev": "cef6bdb0-22a9-46d3-87ec-a5cc716d8f36",
     "regions": {
      "f3590181-e423-43fb-9769-b9a790253dd3": {
       "attrs": {
        "height": 0.8,
        "width": 0.8,
        "x": 0.1,
        "y": 0.1
       },
       "content": {
        "cell": "40e09dc3-9581-4451-b8ed-e4feb91cf8e1",
        "part": "whole"
       },
       "id": "f3590181-e423-43fb-9769-b9a790253dd3"
      }
     }
    },
    "1ea6dd65-0f61-4db6-9d83-43414dd64ac1": {
     "id": "1ea6dd65-0f61-4db6-9d83-43414dd64ac1",
     "prev": "4ee2c0e0-440e-4eb8-a88c-57718a1bde1d",
     "regions": {
      "2299ecf6-01df-419b-8128-04292e8cc409": {
       "attrs": {
        "height": 0.8,
        "width": 0.8,
        "x": 0.1,
        "y": 0.1
       },
       "content": {
        "cell": "4c6aaa13-55a4-4cf9-9a2b-e9293bffd6c1",
        "part": "whole"
       },
       "id": "2299ecf6-01df-419b-8128-04292e8cc409"
      }
     }
    },
    "21d9d91e-8cb2-4dc9-a044-fde2ea8dd2a0": {
     "id": "21d9d91e-8cb2-4dc9-a044-fde2ea8dd2a0",
     "prev": "5a1d77c1-189f-4d99-84c4-60f5efb70b32",
     "regions": {
      "60f10022-5321-4f1f-a239-e472f2a016d1": {
       "attrs": {
        "height": 0.8,
        "width": 0.8,
        "x": 0.1,
        "y": 0.1
       },
       "content": {
        "cell": "40e09dc3-9581-4451-b8ed-e4feb91cf8e1",
        "part": "whole"
       },
       "id": "60f10022-5321-4f1f-a239-e472f2a016d1"
      }
     }
    },
    "316eb3ba-a041-495f-8c08-f6f313ac24c4": {
     "id": "316eb3ba-a041-495f-8c08-f6f313ac24c4",
     "prev": "e11a80c3-ee6e-4092-a590-282e69e1c156",
     "regions": {
      "bc309533-75cb-4a95-9e43-e7888d76eecf": {
       "attrs": {
        "height": 0.8,
        "width": 0.8,
        "x": 0.1,
        "y": 0.1
       },
       "content": {
        "cell": "40e09dc3-9581-4451-b8ed-e4feb91cf8e1",
        "part": "whole"
       },
       "id": "bc309533-75cb-4a95-9e43-e7888d76eecf"
      }
     }
    },
    "33a5e018-9406-44e5-8020-36d619caad7f": {
     "id": "33a5e018-9406-44e5-8020-36d619caad7f",
     "prev": "a276009f-8216-4073-bd90-557ae20050f5",
     "regions": {
      "78c29247-3ef9-4b06-9e09-1df17ee3d890": {
       "attrs": {
        "height": 0.8,
        "width": 0.8,
        "x": 0.1,
        "y": 0.1
       },
       "content": {
        "cell": "63418705-c77d-46d9-bd83-8683ac2a4b62",
        "part": "whole"
       },
       "id": "78c29247-3ef9-4b06-9e09-1df17ee3d890"
      }
     }
    },
    "418ce1d2-8c83-4a3f-bf23-faf5423e388a": {
     "id": "418ce1d2-8c83-4a3f-bf23-faf5423e388a",
     "prev": "0fcfd503-9aac-4e5b-9951-b20ce81ae66d",
     "regions": {
      "02e0c3f6-4b1d-49b4-b144-28c0054e6bb6": {
       "attrs": {
        "height": 0.8,
        "width": 0.8,
        "x": 0.1,
        "y": 0.1
       },
       "content": {
        "cell": "40e09dc3-9581-4451-b8ed-e4feb91cf8e1",
        "part": "whole"
       },
       "id": "02e0c3f6-4b1d-49b4-b144-28c0054e6bb6"
      }
     }
    },
    "448b0039-a5ea-4ff2-bdee-18f78c264190": {
     "id": "448b0039-a5ea-4ff2-bdee-18f78c264190",
     "prev": "33a5e018-9406-44e5-8020-36d619caad7f",
     "regions": {
      "eacf7171-2c5a-413f-acf0-0a06bb1fb17a": {
       "attrs": {
        "height": 0.8,
        "width": 0.8,
        "x": 0.1,
        "y": 0.1
       },
       "content": {
        "cell": "e99ee42f-919a-4bb5-9adb-9b314e8dd7a3",
        "part": "whole"
       },
       "id": "eacf7171-2c5a-413f-acf0-0a06bb1fb17a"
      }
     }
    },
    "45973a30-6139-4951-9ade-cfa08987471d": {
     "id": "45973a30-6139-4951-9ade-cfa08987471d",
     "prev": "490f2569-64c3-47f0-bdef-5d43c8fc400f",
     "regions": {
      "0f6309f3-923f-48bd-a936-d10879e4ed25": {
       "attrs": {
        "height": 0.8,
        "width": 0.8,
        "x": 0.1,
        "y": 0.1
       },
       "content": {
        "cell": "a5279698-8bbc-4067-9239-1f8de3342b9a",
        "part": "whole"
       },
       "id": "0f6309f3-923f-48bd-a936-d10879e4ed25"
      }
     }
    },
    "490f2569-64c3-47f0-bdef-5d43c8fc400f": {
     "id": "490f2569-64c3-47f0-bdef-5d43c8fc400f",
     "prev": "21d9d91e-8cb2-4dc9-a044-fde2ea8dd2a0",
     "regions": {
      "6cbf89f6-f17a-4348-9fcf-7b9c70c8b6cd": {
       "attrs": {
        "height": 0.8,
        "width": 0.8,
        "x": 0.1,
        "y": 0.1
       },
       "content": {
        "cell": "40e09dc3-9581-4451-b8ed-e4feb91cf8e1",
        "part": "whole"
       },
       "id": "6cbf89f6-f17a-4348-9fcf-7b9c70c8b6cd"
      }
     }
    },
    "4ee2c0e0-440e-4eb8-a88c-57718a1bde1d": {
     "id": "4ee2c0e0-440e-4eb8-a88c-57718a1bde1d",
     "prev": "e751af76-5a19-44f1-92f9-0cdc71584c54",
     "regions": {
      "472690c2-686e-4426-8ad7-fae88003232f": {
       "attrs": {
        "height": 0.8,
        "width": 0.8,
        "x": 0.1,
        "y": 0.1
       },
       "content": {
        "cell": "0d7cc8d3-36ca-4ff8-8dc5-aef1b1280006",
        "part": "whole"
       },
       "id": "472690c2-686e-4426-8ad7-fae88003232f"
      }
     }
    },
    "5a1d77c1-189f-4d99-84c4-60f5efb70b32": {
     "id": "5a1d77c1-189f-4d99-84c4-60f5efb70b32",
     "prev": "418ce1d2-8c83-4a3f-bf23-faf5423e388a",
     "regions": {
      "78274d74-aaf3-4ac0-bae0-2be103c29779": {
       "attrs": {
        "height": 0.8,
        "width": 0.8,
        "x": 0.1,
        "y": 0.1
       },
       "content": {
        "cell": "89523de3-6ce8-4a35-ac7b-9e0bc9a62895",
        "part": "whole"
       },
       "id": "78274d74-aaf3-4ac0-bae0-2be103c29779"
      }
     }
    },
    "620420c5-ef3e-4cb6-9a44-9fe0e8ba64eb": {
     "id": "620420c5-ef3e-4cb6-9a44-9fe0e8ba64eb",
     "prev": "ec6075d1-69ee-4c49-8285-aa053707b1ee",
     "regions": {
      "d263c89b-c277-4e62-9b8d-491b1b113efd": {
       "attrs": {
        "height": 0.8,
        "width": 0.8,
        "x": 0.1,
        "y": 0.1
       },
       "content": {
        "cell": "3840cf91-6f1c-4daa-b66d-4e500a84bf77",
        "part": "whole"
       },
       "id": "d263c89b-c277-4e62-9b8d-491b1b113efd"
      }
     }
    },
    "a276009f-8216-4073-bd90-557ae20050f5": {
     "id": "a276009f-8216-4073-bd90-557ae20050f5",
     "prev": "1ea6dd65-0f61-4db6-9d83-43414dd64ac1",
     "regions": {
      "75e1eb75-3a6b-479d-b6ed-d774217cc948": {
       "attrs": {
        "height": 0.8,
        "width": 0.8,
        "x": 0.1,
        "y": 0.1
       },
       "content": {
        "cell": "655c71bd-eb1a-40a6-a0ce-171701931a31",
        "part": "whole"
       },
       "id": "75e1eb75-3a6b-479d-b6ed-d774217cc948"
      }
     }
    },
    "ceec4a85-a43a-40ef-8bac-e541286ce8fa": {
     "id": "ceec4a85-a43a-40ef-8bac-e541286ce8fa",
     "prev": null,
     "regions": {}
    },
    "cef6bdb0-22a9-46d3-87ec-a5cc716d8f36": {
     "id": "cef6bdb0-22a9-46d3-87ec-a5cc716d8f36",
     "prev": "ceec4a85-a43a-40ef-8bac-e541286ce8fa",
     "regions": {
      "1b04fc90-5dd7-426f-a347-a4be5bd72b41": {
       "attrs": {
        "height": 0.8,
        "width": 0.8,
        "x": 0.1,
        "y": 0.1
       },
       "content": {
        "cell": "40e09dc3-9581-4451-b8ed-e4feb91cf8e1",
        "part": "whole"
       },
       "id": "1b04fc90-5dd7-426f-a347-a4be5bd72b41"
      }
     }
    },
    "e11a80c3-ee6e-4092-a590-282e69e1c156": {
     "id": "e11a80c3-ee6e-4092-a590-282e69e1c156",
     "prev": "448b0039-a5ea-4ff2-bdee-18f78c264190",
     "regions": {
      "e6fd39ce-3259-4374-883f-b7914fed973c": {
       "attrs": {
        "height": 0.8,
        "width": 0.8,
        "x": 0.1,
        "y": 0.1
       },
       "content": {
        "cell": "c27e4c3b-0127-464f-9d6e-f6c92284d562",
        "part": "whole"
       },
       "id": "e6fd39ce-3259-4374-883f-b7914fed973c"
      }
     }
    },
    "e751af76-5a19-44f1-92f9-0cdc71584c54": {
     "id": "e751af76-5a19-44f1-92f9-0cdc71584c54",
     "prev": "620420c5-ef3e-4cb6-9a44-9fe0e8ba64eb",
     "regions": {
      "6b050d6c-a30c-4877-961c-dca6ef1009ca": {
       "attrs": {
        "height": 0.8,
        "width": 0.8,
        "x": 0.1,
        "y": 0.1
       },
       "content": {
        "cell": "f3dbb05c-e661-489a-9dd2-4f462ed8e3d5",
        "part": "whole"
       },
       "id": "6b050d6c-a30c-4877-961c-dca6ef1009ca"
      }
     }
    },
    "ec6075d1-69ee-4c49-8285-aa053707b1ee": {
     "id": "ec6075d1-69ee-4c49-8285-aa053707b1ee",
     "prev": "45973a30-6139-4951-9ade-cfa08987471d",
     "regions": {
      "7e8e8d0c-0728-4f5b-bca6-a4683e7f2862": {
       "attrs": {
        "height": 0.8,
        "width": 0.8,
        "x": 0.1,
        "y": 0.1
       },
       "content": {
        "cell": "168d7d28-544c-4483-b4ff-d81b89fe0d90",
        "part": "whole"
       },
       "id": "7e8e8d0c-0728-4f5b-bca6-a4683e7f2862"
      }
     }
    }
   },
   "themes": {}
  }
 },
 "nbformat": 4,
 "nbformat_minor": 1
}

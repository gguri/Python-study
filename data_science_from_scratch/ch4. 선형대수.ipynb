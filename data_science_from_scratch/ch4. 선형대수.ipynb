{
 "cells": [
  {
   "cell_type": "markdown",
   "metadata": {},
   "source": [
    "# Python 개인공부\n",
    "### 출처 : 밑바닥부터 시작하는 데이터 과학(조엘 그루스 지음, 박은정.김한결.하성주 옮김, 인사이트, 2016)\n",
    "---"
   ]
  },
  {
   "cell_type": "markdown",
   "metadata": {},
   "source": [
    "# 4장. 선형대수"
   ]
  },
  {
   "cell_type": "markdown",
   "metadata": {},
   "source": [
    "# 벡터\n",
    "- 벡터는 벡터끼리 더하거나 상수와 곱해지면 새로운 벡터를 생성하는 개념적인 도구\n",
    "- 벡터는 어떤 유한한 차원의 공간에 존재하는 점들\n",
    "- ex) 수많은 사람들의 키, 몸무게, 나이에 대한 데이터 => (키, 몸무게, 나이)로 구성된 3차원 벡터\n",
    "- 벡터를 가장 간단하게 표현하는 방법은 숫자로 구성된 list로 표현\n",
    "\n",
    "### 하지만 list로 벡터를 표현하는 방법의 문제점은 list를 통해 벡터 연산을 할 수 없다. => numpy\n",
    "### list comprehension으로 구성한 벡터 연산"
   ]
  },
  {
   "cell_type": "code",
   "execution_count": 25,
   "metadata": {
    "collapsed": true
   },
   "outputs": [],
   "source": [
    "def vector_add(v, w):\n",
    "    '''각 성분끼리 더한다'''\n",
    "    return [v_i + w_i \n",
    "            for v_i, w_i in zip(v, w)]"
   ]
  },
  {
   "cell_type": "code",
   "execution_count": 22,
   "metadata": {
    "collapsed": true
   },
   "outputs": [],
   "source": [
    "def vector_subtract(v, w):\n",
    "    '''각 성분끼리 뺀다'''\n",
    "    return [v_i - w_i\n",
    "           for v_i, w_i in zip(v, w)]"
   ]
  },
  {
   "cell_type": "code",
   "execution_count": 3,
   "metadata": {
    "collapsed": false
   },
   "outputs": [
    {
     "data": {
      "text/plain": [
       "[(1, 3), (2, 4)]"
      ]
     },
     "execution_count": 3,
     "metadata": {},
     "output_type": "execute_result"
    }
   ],
   "source": [
    "a = [1, 2] \n",
    "b = [3, 4]\n",
    "zip(a,b)"
   ]
  },
  {
   "cell_type": "markdown",
   "metadata": {},
   "source": [
    "### 가끔씩 벡터로 구성된 list에서 모든 벡터의 각 성분을 더하고 싶은 경우"
   ]
  },
  {
   "cell_type": "code",
   "execution_count": 4,
   "metadata": {
    "collapsed": true
   },
   "outputs": [],
   "source": [
    "def vector_sum(vectors):\n",
    "    '''모든 벡터의 각 성분들끼리 더한다.'''\n",
    "    result = vectors[0]                         # 첫 번째 벡터부터 시작해서\n",
    "    for vector in vectors[1:]:                  # 나머지 벡터들을\n",
    "        result = vector_add(result, vector)     # 더해 준다.\n",
    "    return result"
   ]
  },
  {
   "cell_type": "markdown",
   "metadata": {},
   "source": [
    "### 이 방법은 벡터 list에 vector_add를 누적 시켜서 적용하는 것\n",
    "### reduce 함수 : 순서형 자료(문자열, 리스트, 튜플)의 원소들을 누적적으로 함수에 적용"
   ]
  },
  {
   "cell_type": "code",
   "execution_count": 6,
   "metadata": {
    "collapsed": true
   },
   "outputs": [],
   "source": [
    "def vector_sum(vectors):\n",
    "    return reduce(vector_add, vectors)"
   ]
  },
  {
   "cell_type": "code",
   "execution_count": 11,
   "metadata": {
    "collapsed": false
   },
   "outputs": [],
   "source": [
    "from functools import partial\n",
    "\n",
    "vector_sum = partial(reduce, vector_add)"
   ]
  },
  {
   "cell_type": "markdown",
   "metadata": {},
   "source": [
    "### 벡터에 스칼라를 곱해 줄 수 있어야 한다. \n",
    "### 스칼라 곱셈은 벡터의 각 원소마다 스칼라 값을 곱해 주는 방법으로 간단하게 구현 가능"
   ]
  },
  {
   "cell_type": "code",
   "execution_count": 12,
   "metadata": {
    "collapsed": true
   },
   "outputs": [],
   "source": [
    "def scalar_multiply(c, v):\n",
    "    '''c는 숫자, v는 벡터'''\n",
    "    return [c * v_i for v_i in v]"
   ]
  },
  {
   "cell_type": "markdown",
   "metadata": {},
   "source": [
    "### 같은 길이의 벡터로 구성된 list가 주어졌을 때 각 성분별 평균"
   ]
  },
  {
   "cell_type": "code",
   "execution_count": 13,
   "metadata": {
    "collapsed": true
   },
   "outputs": [],
   "source": [
    "def vector_mean(vectors):\n",
    "    '''i번째 성분이 입력된 벡터의 i번째 성분의 평균을\n",
    "    의미하는 벡터로 계산해 준다.'''\n",
    "    n = len(vectors)\n",
    "    return scalar_multiply(1/n, vector_sum(vectors))"
   ]
  },
  {
   "cell_type": "markdown",
   "metadata": {},
   "source": [
    "### 벡터의 내적 : 벡터의 각 성분별 곱한 값을 더해 준 값"
   ]
  },
  {
   "cell_type": "code",
   "execution_count": 15,
   "metadata": {
    "collapsed": true
   },
   "outputs": [],
   "source": [
    "def dot(v, w):\n",
    "    '''v_1*w_1 + ... + v_n*w_n'''\n",
    "    return sum(v_i * w_i \n",
    "              for v_i, w_i in zip(v, w))"
   ]
  },
  {
   "cell_type": "markdown",
   "metadata": {},
   "source": [
    "- 내적은 벡터 v가 벡터 w방향으로 얼마나 멀리 뻗어 나가는지를 나타낸다.\n",
    "- w = [1, 0]이면 dot(v, w)는 v의 첫 번째 성분\n",
    "- 내적은 v가 w로 투영된 벡터의 길이를 나타낸다.\n",
    "- 내적의 개념을 사용하면, 각 성분의 제곱 값의 합을 쉽게 구할 수 있다."
   ]
  },
  {
   "cell_type": "code",
   "execution_count": 17,
   "metadata": {
    "collapsed": true
   },
   "outputs": [],
   "source": [
    "def sum_of_squares(v):\n",
    "    '''v_1*v_1 + ... + v_n*v_n'''\n",
    "    return dot(v, v)"
   ]
  },
  {
   "cell_type": "markdown",
   "metadata": {},
   "source": [
    "### 제곱 값의 합을 이용하면 벡터의 크기를 계산할 수 있다."
   ]
  },
  {
   "cell_type": "code",
   "execution_count": 19,
   "metadata": {
    "collapsed": true
   },
   "outputs": [],
   "source": [
    "import math\n",
    "\n",
    "def magnitude(v):\n",
    "    return math.sqrt(sum_of_squares(v)) # math.sqrt는 제곱근을 계산해주는 함수"
   ]
  },
  {
   "cell_type": "code",
   "execution_count": 20,
   "metadata": {
    "collapsed": true
   },
   "outputs": [],
   "source": [
    "def suqared_distance(v, w):\n",
    "    '''(v_1 - w_1)**2 + ... + (v_n-w_n)**2'''\n",
    "    return sum_of_squares(vector_subtract(v, w))\n",
    "\n",
    "def distance(v, w):\n",
    "    return math.sqrt(squared_distance(v, w))"
   ]
  },
  {
   "cell_type": "markdown",
   "metadata": {},
   "source": [
    "### 복소수의 절대값을 구하는 magnitude함수 사용 간단하게 표현가능\n",
    "### sqrt(x^2 + y^2)"
   ]
  },
  {
   "cell_type": "code",
   "execution_count": 26,
   "metadata": {
    "collapsed": true
   },
   "outputs": [],
   "source": [
    "def distance(v, w):\n",
    "    return magnitude(vector_subtract(v, w))"
   ]
  },
  {
   "cell_type": "markdown",
   "metadata": {},
   "source": [
    "# 행렬\n",
    "---\n",
    "- 행렬은 2차원으로 구성된 숫자의 집합이며, list의 list로 표현할 수 있다.\n",
    "- list안의 list들은 행렬의 행을 나타내며 모두 같은 길이를 가지게 된다.\n",
    "- ex) A라는 행렬은 A[i][j]는 i번째 행과 j번째 열에 속한 숫자"
   ]
  },
  {
   "cell_type": "code",
   "execution_count": 31,
   "metadata": {
    "collapsed": true
   },
   "outputs": [],
   "source": [
    "A = [[1, 2, 3],\n",
    "    [4, 5, 6]]"
   ]
  },
  {
   "cell_type": "code",
   "execution_count": 32,
   "metadata": {
    "collapsed": true
   },
   "outputs": [],
   "source": [
    "def shape(A):\n",
    "    num_rows = len(A)\n",
    "    num_cols = len(A[0]) if A else 0\n",
    "    return num_rows, num_cols"
   ]
  },
  {
   "cell_type": "markdown",
   "metadata": {},
   "source": [
    "### 행렬이 n개의 행과 k개의 열로 구성되어 있다면 \n",
    "### 이 행렬을 n X k행렬이라고 부르자"
   ]
  },
  {
   "cell_type": "code",
   "execution_count": 33,
   "metadata": {
    "collapsed": true
   },
   "outputs": [],
   "source": [
    "# A[i]는 i번째 행을 나타낸다.\n",
    "def get_row(A, i):\n",
    "    return A[i]\n",
    "\n",
    "# A_i 행의 j번째 원소\n",
    "# 각 A_i 행에 대해\n",
    "def get_column(A, j):\n",
    "    return [A_i[j]\n",
    "           for A_i in A]"
   ]
  },
  {
   "cell_type": "markdown",
   "metadata": {},
   "source": [
    "###  형태가 주어졌을 때, 형태에 맞는 행렬을 생성하고 각 원소를 채워 넣는 함수를 만들어보자."
   ]
  },
  {
   "cell_type": "code",
   "execution_count": null,
   "metadata": {
    "collapsed": true
   },
   "outputs": [],
   "source": [
    "def make_matrix(num_rows, num_cols, entry_fn):\n",
    "    '''(i,j)번째 원소가 entry_fn(i,j)인\n",
    "    num_rows x num_cols list를 반환'''\n",
    "    return [[entry_fn(i,j)\n",
    "            for j in range(num_cols)]\n",
    "            for i in range(num_rows)]"
   ]
  },
  {
   "cell_type": "markdown",
   "metadata": {
    "collapsed": true
   },
   "source": [
    "### 위 함수를 이용하여, 5x5 단위 행렬(대각선의 원소는 1이고 나머지 원소는 0)을 생성해보자."
   ]
  },
  {
   "cell_type": "code",
   "execution_count": 36,
   "metadata": {
    "collapsed": false
   },
   "outputs": [
    {
     "name": "stdout",
     "output_type": "stream",
     "text": [
      "[[1, 0, 0, 0, 0], [0, 1, 0, 0, 0], [0, 0, 1, 0, 0], [0, 0, 0, 1, 0], [0, 0, 0, 0, 1]]\n"
     ]
    }
   ],
   "source": [
    "def is_diagonal(i, j):\n",
    "    '''대각선의 원소는 1, 나머지 원소는 0'''\n",
    "    return 1 if i == j else 0\n",
    "\n",
    "identity_matrix = make_matrix(5, 5, is_diagonal)\n",
    "print identity_matrix"
   ]
  },
  {
   "cell_type": "markdown",
   "metadata": {},
   "source": [
    "### 행렬의 중요성\n",
    "1. 각 벡터를 행렬의 행으로 나타냄으로써 여러 벡터로 구성된 데이터셋을 행렬로 표현할 수 있다.\n",
    "1. k차원의 벡터를 n차원 벡트로 변환해주는 선형함수를 n x k행렬로 표현할 수 있다.\n",
    "1. 행렬로 이진 관계를 나타낼 수 있다. ex)i와 j가 연결되어 있다면 A[i][j]의 값이 1, 그렇지 않다면 0인 행렬로 네트워크 표현 가능 "
   ]
  }
 ],
 "metadata": {
  "anaconda-cloud": {},
  "kernelspec": {
   "display_name": "Python 2",
   "language": "python",
   "name": "python2"
  },
  "language_info": {
   "codemirror_mode": {
    "name": "ipython",
    "version": 2
   },
   "file_extension": ".py",
   "mimetype": "text/x-python",
   "name": "python",
   "nbconvert_exporter": "python",
   "pygments_lexer": "ipython2",
   "version": "2.7.14"
  }
 },
 "nbformat": 4,
 "nbformat_minor": 1
}

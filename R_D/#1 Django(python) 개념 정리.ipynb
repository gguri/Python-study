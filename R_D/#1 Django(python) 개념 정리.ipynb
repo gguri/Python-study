{
 "cells": [
  {
   "cell_type": "code",
   "execution_count": 3,
   "metadata": {},
   "outputs": [
    {
     "data": {
      "text/html": [
       "\n",
       "<style>\n",
       ".CodeMirror pre {\n",
       "    font-size : 10pt;\n",
       "}\n",
       ".green{color: #22741C;}\n",
       ".yellow{color: yellow;}\n",
       "h2{\n",
       "    color : #FF5E00;\n",
       "}\n",
       "</style>"
      ],
      "text/plain": [
       "<IPython.core.display.HTML object>"
      ]
     },
     "metadata": {},
     "output_type": "display_data"
    }
   ],
   "source": [
    "%%html\n",
    "\n",
    "<style>\n",
    ".CodeMirror pre {\n",
    "    font-size : 10pt;\n",
    "}\n",
    ".green{color: #22741C;}\n",
    ".yellow{color: yellow;}\n",
    "h2{\n",
    "    color : #FF5E00;\n",
    "}\n",
    "</style>"
   ]
  },
  {
   "cell_type": "markdown",
   "metadata": {},
   "source": [
    "# #1 Django(python) Intro\n",
    "- MVC, MTV\n",
    "- Django 구조\n",
    "- Project와 App"
   ]
  },
  {
   "cell_type": "markdown",
   "metadata": {},
   "source": [
    "## 1. MVC&MTV\n",
    "장고는 MVC를 기반으로 한 프레임워크\n",
    "\n",
    "#### Model  \n",
    "안전하게 데이터를 저장 (모든 DB 서버에 저장되는 데이터를 의미)\n",
    "\n",
    "#### View (django : Template)\n",
    "데이터를 적절하게 유저에게 보여줌\n",
    "\n",
    "#### Control (django : View)\n",
    "사용자의 입력과 이벤트에 반응하여 model과 view(django : Template)를 업데이트\n",
    "\n",
    "<br/><br/>"
   ]
  },
  {
   "cell_type": "markdown",
   "metadata": {},
   "source": [
    "<img src=\"https://github.com/jungchulha/Python-study/tree/master/R_D/images/#1_1 mvc_role_diagram.jpg\">  \n",
    "\n",
    "출처 : http://www.essenceandartifact.com/2012/12/the-essence-of-mvc.html\n",
    "\n",
    "user가 template에서 여러가지 행동(폼, 검색 등)을 하게되면 \n",
    "1. view에서 그걸 받아 user에게 보여주거나 \n",
    "2. model에서 데이터를 가져와서 view를 통해 user에게 보여주게 됨"
   ]
  },
  {
   "cell_type": "markdown",
   "metadata": {},
   "source": [
    "## 조금 더 자세히 django를 들여다봅시다."
   ]
  },
  {
   "cell_type": "markdown",
   "metadata": {},
   "source": [
    "<img src=\"https://github.com/jungchulha/Python-study/blob/master/R_D/images/%231_1%20mvc_role_diagram.jpg">  \n",
    "출처 :  https://mytardis.readthedocs.org/en/latest/architecture.html"
   ]
  },
  {
   "cell_type": "markdown",
   "metadata": {},
   "source": [
    "### 장고라는 웹 프로젝트를 생성하되면 만들어지는 다양한 파일들  \n",
    "\n",
    "### middleware가 장고 뒤에서 다양한 처리를 도와줌\n",
    "\n",
    "--- "
   ]
  },
  {
   "cell_type": "markdown",
   "metadata": {},
   "source": [
    "#### 1. wsgi.py : 웹 브라우저에서 사용자가 요청(Request)을 보내면 wsgi에서 신호를 받게 됨  \n",
    "- wsgi(web server gatewat interface) : 웹 서버와 장고를 적절하게 결합시켜주는 역할\n",
    "\n",
    "#### 2. usls.py : 사용자 요청의 URL을 분석하여 view의 함수를 호출  \n",
    "  - Elegant URL 도입\n",
    "  - 1.x 정규표현식을 활용하여 url에 맞는 view의 함수들을 호출 \n",
    "  - 2.x 조금 더 직관적으로 진화\n",
    "\n",
    "#### 3. view.py : 웹 요청을 받아 데이터베이스 접속 등 해당 애플리케이션의 로직에 맞는 처리를 진행\n",
    "\n",
    "#### 4. model.py : 사용될 데이터에 대한 정의를 담고 있는 장고의 클래스\n",
    " - 하나의 클래스가 하나의 테이블\n",
    " - ORM (object relational mapping)\n",
    "   - SQL없이 DB에 엑세스 가능\n",
    "   - DB엔진을 변경하더라도 장고에서 자동적으로 테이블을 생성해줌\n",
    " - 각 변수 부분만 작성하면 managers가 해석 후 DB migration 작업을 진행\n",
    "\n",
    "#### 5. template.html : 화면 UI 설계(Response)\n",
    " - view에서 처리된 데이터를 사용자에게 보여주는 역할\n",
    " - html에서 control과 관련된 로직 삽입이 가능"
   ]
  },
  {
   "cell_type": "markdown",
   "metadata": {},
   "source": [
    "## Artience campus \n",
    "\n",
    "#### 프로젝트 생성 : artiencecampus\n",
    "\n",
    "```\n",
    "$ django-admin startproject artiencecampus\n",
    "```\n",
    "\n",
    "\n",
    "#### 애플리케이션 생성 : service \n",
    "```\n",
    "./manage.py startapp service\n",
    "```\n",
    "\n",
    "#### 기타 board, django-summernote"
   ]
  },
  {
   "cell_type": "markdown",
   "metadata": {},
   "source": [
    "### Project & Application\n",
    "\n",
    "- 프로젝트는 개발 대상이 되는 전체 프로그램\n",
    "- 애플리케이션: 프로젝트를 몇 개의 기능 그룹으로 나누었을 때, 프로젝트 하위의 서브 프로그램"
   ]
  },
  {
   "cell_type": "markdown",
   "metadata": {},
   "source": []
  }
 ],
 "metadata": {
  "kernelspec": {
   "display_name": "Python 3",
   "language": "python",
   "name": "python3"
  },
  "language_info": {
   "codemirror_mode": {
    "name": "ipython",
    "version": 3
   },
   "file_extension": ".py",
   "mimetype": "text/x-python",
   "name": "python",
   "nbconvert_exporter": "python",
   "pygments_lexer": "ipython3",
   "version": "3.6.5"
  }
 },
 "nbformat": 4,
 "nbformat_minor": 2
}

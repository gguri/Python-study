{
 "cells": [
  {
   "cell_type": "markdown",
   "metadata": {},
   "source": [
    "# 제너레이터\n"
   ]
  },
  {
   "cell_type": "markdown",
   "metadata": {},
   "source": [
    "제너레이터는 반복자(itrator)와 같은 루프의 작용을 컨트롤 하기 위해 쓰이는 특별한 함수 또는 루틴이다.  \n",
    "사실 모든 제너레이터는 반복자이다. 제너레이터는 배열이나 리스트를 리턴하는 함수와 비슷하며, 호출할 수 있는 파라미터를 가지고 있고, 연속적인 값들을 만들어 낸다. \n",
    "\n",
    "하지만 한번에 모든 값을 포함한 배열을 만들어서 리턴하는 대신에 yield 구문을 이용해 한 번 호출될 때마다 하나의 값만을 리턴하고, 이런 이유로 일반 반족자에 비해 아주 작은 메모리만 필요로 한다. \n",
    "\n",
    "즉, 제너레이터는 반복자와 같은 역할을 하는 함수이지만 메모리 관리 측면에서 차이가 존재한다."
   ]
  },
  {
   "cell_type": "code",
   "execution_count": 3,
   "metadata": {},
   "outputs": [
    {
     "name": "stdout",
     "output_type": "stream",
     "text": [
      "[1, 4, 9, 16, 25]\n"
     ]
    }
   ],
   "source": [
    "def square_numbers(nums):\n",
    "    result = []\n",
    "    for i in nums:\n",
    "        result.append(i * i)\n",
    "    return result\n",
    "\n",
    "my_nums = square_numbers([1, 2, 3, 4, 5])\n",
    "\n",
    "print(my_nums)"
   ]
  },
  {
   "cell_type": "code",
   "execution_count": 9,
   "metadata": {},
   "outputs": [
    {
     "name": "stdout",
     "output_type": "stream",
     "text": [
      "<generator object square_numbers at 0x000002A9F3153F68>\n"
     ]
    }
   ],
   "source": [
    "def square_numbers(nums):\n",
    "    for i in nums:\n",
    "        yield[i * i]\n",
    "\n",
    "my_nums = square_numbers([1,2,3,4,5]) #1\n",
    "\n",
    "print(my_nums)"
   ]
  },
  {
   "cell_type": "markdown",
   "metadata": {},
   "source": [
    "제너레이터 객체가 리턴  \n",
    "자신이 리턴할 모든 값을 메모리에 저장하지 않기 때문에 조금 전 일반 함수의 결과와 같이 한번에 리스트로 보이지 않는 것  \n",
    "제너레이터는 한 번 호출될 때마다 하나의 값만을 전달(yield)  \n",
    "`#1 까지는 아무런 계산을 하지 않고 누군가가 다음 값에 대해서 물어보기를 기다리는 상태 "
   ]
  },
  {
   "cell_type": "code",
   "execution_count": 10,
   "metadata": {},
   "outputs": [
    {
     "data": {
      "text/plain": [
       "[1]"
      ]
     },
     "execution_count": 10,
     "metadata": {},
     "output_type": "execute_result"
    }
   ],
   "source": [
    "next(my_nums)"
   ]
  },
  {
   "cell_type": "code",
   "execution_count": 11,
   "metadata": {},
   "outputs": [
    {
     "name": "stdout",
     "output_type": "stream",
     "text": [
      "[1]\n",
      "[4]\n",
      "[9]\n",
      "[16]\n",
      "[25]\n"
     ]
    },
    {
     "ename": "StopIteration",
     "evalue": "",
     "output_type": "error",
     "traceback": [
      "\u001b[1;31m---------------------------------------------------------------------------\u001b[0m",
      "\u001b[1;31mStopIteration\u001b[0m                             Traceback (most recent call last)",
      "\u001b[1;32m<ipython-input-11-c8ba2b5e04d2>\u001b[0m in \u001b[0;36m<module>\u001b[1;34m()\u001b[0m\n\u001b[0;32m     10\u001b[0m \u001b[0mprint\u001b[0m\u001b[1;33m(\u001b[0m\u001b[0mnext\u001b[0m\u001b[1;33m(\u001b[0m\u001b[0mmy_nums\u001b[0m\u001b[1;33m)\u001b[0m\u001b[1;33m)\u001b[0m\u001b[1;33m\u001b[0m\u001b[0m\n\u001b[0;32m     11\u001b[0m \u001b[0mprint\u001b[0m\u001b[1;33m(\u001b[0m\u001b[0mnext\u001b[0m\u001b[1;33m(\u001b[0m\u001b[0mmy_nums\u001b[0m\u001b[1;33m)\u001b[0m\u001b[1;33m)\u001b[0m\u001b[1;33m\u001b[0m\u001b[0m\n\u001b[1;32m---> 12\u001b[1;33m \u001b[0mprint\u001b[0m\u001b[1;33m(\u001b[0m\u001b[0mnext\u001b[0m\u001b[1;33m(\u001b[0m\u001b[0mmy_nums\u001b[0m\u001b[1;33m)\u001b[0m\u001b[1;33m)\u001b[0m\u001b[1;33m\u001b[0m\u001b[0m\n\u001b[0m",
      "\u001b[1;31mStopIteration\u001b[0m: "
     ]
    }
   ],
   "source": [
    "def square_numbers(nums):\n",
    "    for i in nums:\n",
    "        yield[i * i]\n",
    "\n",
    "my_nums = square_numbers([1,2,3,4,5]) #1\n",
    "\n",
    "print(next(my_nums))\n",
    "print(next(my_nums))\n",
    "print(next(my_nums))\n",
    "print(next(my_nums))\n",
    "print(next(my_nums))\n",
    "print(next(my_nums))"
   ]
  },
  {
   "cell_type": "code",
   "execution_count": 12,
   "metadata": {},
   "outputs": [
    {
     "name": "stdout",
     "output_type": "stream",
     "text": [
      "[1]\n",
      "[4]\n",
      "[9]\n",
      "[16]\n",
      "[25]\n"
     ]
    }
   ],
   "source": [
    "def square_numbers(nums):\n",
    "    for i in nums:\n",
    "        yield[i * i]\n",
    "\n",
    "my_nums = square_numbers([1,2,3,4,5]) #1\n",
    "\n",
    "for num in my_nums:\n",
    "    print(num)"
   ]
  },
  {
   "cell_type": "markdown",
   "metadata": {},
   "source": [
    "for 루프는 자신이 어디서 멈춰야 하는지를 알고 있다. (StopIteration 에러시 정지)"
   ]
  },
  {
   "cell_type": "markdown",
   "metadata": {},
   "source": [
    "### list comprehension 활용"
   ]
  },
  {
   "cell_type": "markdown",
   "metadata": {},
   "source": [
    "#### 반복형(Iteration)"
   ]
  },
  {
   "cell_type": "code",
   "execution_count": 15,
   "metadata": {},
   "outputs": [
    {
     "name": "stdout",
     "output_type": "stream",
     "text": [
      "[1, 4, 9, 16, 25]\n",
      "1\n",
      "4\n",
      "9\n",
      "16\n",
      "25\n"
     ]
    }
   ],
   "source": [
    "my_nums = [ i*i for i in [1,2,3,4,5]]\n",
    "\n",
    "print(my_nums)\n",
    "\n",
    "for num in my_nums:\n",
    "    print(num)"
   ]
  },
  {
   "cell_type": "code",
   "execution_count": 16,
   "metadata": {},
   "outputs": [
    {
     "name": "stdout",
     "output_type": "stream",
     "text": [
      "<generator object <genexpr> at 0x000002A9F3153EB8>\n",
      "1\n",
      "4\n",
      "9\n",
      "16\n",
      "25\n"
     ]
    }
   ],
   "source": [
    "my_nums = ( i*i for i in [1,2,3,4,5])\n",
    "\n",
    "print(my_nums)\n",
    "\n",
    "for num in my_nums:\n",
    "    print(num)"
   ]
  },
  {
   "cell_type": "markdown",
   "metadata": {},
   "source": [
    "한번에 제너레이터 전체 데이터를 보기"
   ]
  },
  {
   "cell_type": "code",
   "execution_count": 17,
   "metadata": {},
   "outputs": [
    {
     "name": "stdout",
     "output_type": "stream",
     "text": [
      "<generator object <genexpr> at 0x000002A9F3153D58>\n",
      "[1, 4, 9, 16, 25]\n"
     ]
    }
   ],
   "source": [
    "my_nums = ( i*i for i in [1,2,3,4,5])\n",
    "\n",
    "print(my_nums)\n",
    "print(list(my_nums))"
   ]
  },
  {
   "cell_type": "markdown",
   "metadata": {},
   "source": [
    "리스트로 변형할 시 제너레이터가 가지고 있던 장점이 모두 사라짐\n",
    "* 가장 큰 장점은 퍼포먼스 => 제너레이터는 모든 결과값을 메모리에 저장하지 않기 때문에 더 좋은 퍼포먼스를 냄"
   ]
  },
  {
   "cell_type": "code",
   "execution_count": 24,
   "metadata": {},
   "outputs": [
    {
     "name": "stdout",
     "output_type": "stream",
     "text": [
      "시작 전 메모리 사용량: 49.94921875 MB\n",
      "종료 후 메모리 사용량: 321.73046875 MB\n",
      "총 소요된 시간: 1.792870 초\n"
     ]
    }
   ],
   "source": [
    "from __future__ import division\n",
    "import os\n",
    "import psutil\n",
    "import random\n",
    "import time\n",
    "\n",
    "names = ['최용호', '지길정', '진영욱', '김세훈', '오세훈', '김민우']\n",
    "majors = ['컴퓨터 공학', '국문학', '영문학', '수학', '정치']\n",
    "\n",
    "process = psutil.Process(os.getpid())\n",
    "mem_before = process.memory_info().rss / 1024 / 1024\n",
    "\n",
    "\n",
    "def people_list(num_people):\n",
    "    result = []\n",
    "    for i in range(num_people):\n",
    "        person = {\n",
    "            'id': i,\n",
    "            'name': random.choice(names),\n",
    "            'major': random.choice(majors)\n",
    "        }\n",
    "        result.append(person)\n",
    "    return result\n",
    "\n",
    "\n",
    "def people_generator(num_people):\n",
    "    for i in range(num_people):\n",
    "        person = {\n",
    "            'id': i,\n",
    "            'name': random.choice(names),\n",
    "            'major': random.choice(majors)\n",
    "        }\n",
    "        yield person\n",
    "\n",
    "t1 = time.clock()\n",
    "people = people_list(1000000)  #1 people_list를 호출\n",
    "t2 = time.clock()\n",
    "mem_after = process.memory_info().rss / 1024 / 1024\n",
    "total_time = t2 - t1\n",
    "\n",
    "print ('시작 전 메모리 사용량: {} MB'.format(mem_before))\n",
    "print ('종료 후 메모리 사용량: {} MB'.format(mem_after))\n",
    "print ('총 소요된 시간: {:.6f} 초'.format(total_time))"
   ]
  },
  {
   "cell_type": "code",
   "execution_count": 26,
   "metadata": {},
   "outputs": [
    {
     "name": "stdout",
     "output_type": "stream",
     "text": [
      "시작 전 메모리 사용량: 50.29296875 MB\n",
      "종료 후 메모리 사용량: 50.29296875 MB\n",
      "총 소요된 시간: 0.000027 초\n"
     ]
    }
   ],
   "source": [
    "# -*- coding: utf-8 -*-\n",
    "from __future__ import division\n",
    "import os\n",
    "import psutil\n",
    "import random\n",
    "import time\n",
    "\n",
    "names = ['최용호', '지길정', '진영욱', '김세훈', '오세훈', '김민우']\n",
    "majors = ['컴퓨터 공학', '국문학', '영문학', '수학', '정치']\n",
    "\n",
    "process = psutil.Process(os.getpid())\n",
    "mem_before = process.memory_info().rss / 1024 / 1024\n",
    "\n",
    "\n",
    "def people_list(num_people):\n",
    "    result = []\n",
    "    for i in range(num_people):\n",
    "        person = {\n",
    "            'id': i,\n",
    "            'name': random.choice(names),\n",
    "            'major': random.choice(majors)\n",
    "        }\n",
    "        result.append(person)\n",
    "    return result\n",
    "\n",
    "\n",
    "def people_generator(num_people):\n",
    "    for i in range(num_people):\n",
    "        person = {\n",
    "            'id': i,\n",
    "            'name': random.choice(names),\n",
    "            'major': random.choice(majors)\n",
    "        }\n",
    "        yield person\n",
    "\n",
    "t1 = time.clock()\n",
    "people = people_generator(1000000)  #1 people_generator를 호출\n",
    "t2 = time.clock()\n",
    "mem_after = process.memory_info().rss / 1024 / 1024\n",
    "total_time = t2 - t1\n",
    "print ('시작 전 메모리 사용량: {} MB'.format(mem_before))\n",
    "print ('종료 후 메모리 사용량: {} MB'.format(mem_after))\n",
    "print ('총 소요된 시간: {:.6f} 초'.format(total_time))"
   ]
  },
  {
   "cell_type": "code",
   "execution_count": 27,
   "metadata": {},
   "outputs": [],
   "source": [
    "def my_gen():\n",
    "    n = 1\n",
    "    print('This is printed first')\n",
    "    # Generator function contains yield statements\n",
    "    yield n\n",
    "\n",
    "    n += 1\n",
    "    print('This is printed second')\n",
    "    yield n\n",
    "\n",
    "    n += 1\n",
    "    print('This is printed at last')\n",
    "    yield n"
   ]
  },
  {
   "cell_type": "code",
   "execution_count": 40,
   "metadata": {},
   "outputs": [
    {
     "name": "stdout",
     "output_type": "stream",
     "text": [
      "This is printed first\n",
      "1\n",
      "This is printed second\n",
      "2\n",
      "This is printed at last\n",
      "3\n"
     ]
    }
   ],
   "source": [
    "a = my_gen()\n",
    "\n",
    "print(next(a))\n",
    "print(next(a))\n",
    "print(next(a))"
   ]
  },
  {
   "cell_type": "code",
   "execution_count": 34,
   "metadata": {
    "scrolled": true
   },
   "outputs": [
    {
     "name": "stdout",
     "output_type": "stream",
     "text": [
      "5\n",
      "gen 함수가 시작\n",
      "------------------------------\n",
      "{'i': 3, 'x': 5}\n",
      "내부 for문입니다.\n",
      "3\n",
      "x는 :  3\n"
     ]
    },
    {
     "ename": "NameError",
     "evalue": "name 'j' is not defined",
     "output_type": "error",
     "traceback": [
      "\u001b[1;31m---------------------------------------------------------------------------\u001b[0m",
      "\u001b[1;31mNameError\u001b[0m                                 Traceback (most recent call last)",
      "\u001b[1;32m<ipython-input-34-c812af28b1fa>\u001b[0m in \u001b[0;36m<module>\u001b[1;34m()\u001b[0m\n\u001b[0;32m     12\u001b[0m     \u001b[0mprint\u001b[0m\u001b[1;33m(\u001b[0m\u001b[0mi\u001b[0m\u001b[1;33m)\u001b[0m\u001b[1;33m\u001b[0m\u001b[0m\n\u001b[0;32m     13\u001b[0m     \u001b[0mprint\u001b[0m\u001b[1;33m(\u001b[0m\u001b[1;34m\"x는 : \"\u001b[0m\u001b[1;33m,\u001b[0m\u001b[0mi\u001b[0m\u001b[1;33m)\u001b[0m\u001b[1;33m\u001b[0m\u001b[0m\n\u001b[1;32m---> 14\u001b[1;33m     \u001b[0mprint\u001b[0m\u001b[1;33m(\u001b[0m\u001b[1;34m\"i는 : \"\u001b[0m\u001b[1;33m,\u001b[0m\u001b[0mj\u001b[0m\u001b[1;33m)\u001b[0m\u001b[1;33m\u001b[0m\u001b[0m\n\u001b[0m\u001b[0;32m     15\u001b[0m     \u001b[0mprint\u001b[0m\u001b[1;33m(\u001b[0m\u001b[1;34m\"외부 for문입니다.\"\u001b[0m\u001b[1;33m,\u001b[0m \u001b[0mj\u001b[0m\u001b[1;33m)\u001b[0m\u001b[1;33m\u001b[0m\u001b[0m\n\u001b[0;32m     16\u001b[0m     \u001b[0mprint\u001b[0m\u001b[1;33m(\u001b[0m\u001b[1;34m\"---\"\u001b[0m\u001b[1;33m*\u001b[0m\u001b[1;36m10\u001b[0m\u001b[1;33m)\u001b[0m\u001b[1;33m\u001b[0m\u001b[0m\n",
      "\u001b[1;31mNameError\u001b[0m: name 'j' is not defined"
     ]
    }
   ],
   "source": [
    "def gen(x):\n",
    "    print(x)\n",
    "    print(\"gen 함수가 시작\")\n",
    "    print(\"---\"*10)\n",
    "    for i in range(x):\n",
    "        i = i+3\n",
    "        print(locals())\n",
    "        print(\"내부 for문입니다.\")\n",
    "        yield i\n",
    "        \n",
    "for i in gen(5):\n",
    "    print(i)\n",
    "    print(\"x는 : \",i)\n",
    "    print(\"i는 : \",j)\n",
    "    print(\"외부 for문입니다.\", j)\n",
    "    print(\"---\"*10)"
   ]
  },
  {
   "cell_type": "code",
   "execution_count": 14,
   "metadata": {},
   "outputs": [],
   "source": [
    "def main():\n",
    "    def countdown(n):\n",
    "        while n > 0:\n",
    "            yield n\n",
    "            n -= 1\n",
    "    for i in countdown(5):\n",
    "        print(i, end=\" \")\n"
   ]
  },
  {
   "cell_type": "code",
   "execution_count": 15,
   "metadata": {},
   "outputs": [
    {
     "name": "stdout",
     "output_type": "stream",
     "text": [
      "5 4 3 2 1 "
     ]
    }
   ],
   "source": [
    "main()"
   ]
  },
  {
   "cell_type": "code",
   "execution_count": 4,
   "metadata": {},
   "outputs": [],
   "source": [
    "import dis"
   ]
  },
  {
   "cell_type": "code",
   "execution_count": 9,
   "metadata": {},
   "outputs": [
    {
     "name": "stdout",
     "output_type": "stream",
     "text": [
      "5 4 3 2 1   2           0 LOAD_CONST               1 (<code object countdown at 0x000001E3DC829C00, file \"<ipython-input-6-fad6690015d1>\", line 2>)\n",
      "              2 LOAD_CONST               2 ('main.<locals>.countdown')\n",
      "              4 MAKE_FUNCTION            0\n",
      "              6 STORE_FAST               0 (countdown)\n",
      "\n",
      "  6           8 SETUP_LOOP              28 (to 38)\n",
      "    -->      10 LOAD_GLOBAL              0 (coutdown)\n",
      "             12 LOAD_CONST               3 (5)\n",
      "             14 CALL_FUNCTION            1\n",
      "             16 GET_ITER\n",
      "        >>   18 FOR_ITER                16 (to 36)\n",
      "             20 STORE_FAST               1 (i)\n",
      "\n",
      "  7          22 LOAD_GLOBAL              1 (print)\n",
      "             24 LOAD_FAST                1 (i)\n",
      "             26 LOAD_CONST               4 (' ')\n",
      "             28 LOAD_CONST               5 (('end',))\n",
      "             30 CALL_FUNCTION_KW         2\n",
      "             32 POP_TOP\n",
      "             34 JUMP_ABSOLUTE           18\n",
      "        >>   36 POP_BLOCK\n",
      "        >>   38 LOAD_CONST               0 (None)\n",
      "             40 RETURN_VALUE\n"
     ]
    }
   ],
   "source": [
    "dis.dis(main())"
   ]
  },
  {
   "cell_type": "markdown",
   "metadata": {},
   "source": [
    "## yield"
   ]
  },
  {
   "cell_type": "markdown",
   "metadata": {},
   "source": [
    "파이썬 제너레이터는 특별한 함수 객체로, yield 구문을 통해서 특정 값을 리턴한 후에도 제거되지 않고 방금 리턴한 그 자리에서부터 이어서 계산을 반복하고 다시 값을 내놓을 수 있다.\n",
    "\n",
    "파이썬 2.5에서 제너레이터 속으로 값을 전달하는 기능이 생김\n",
    "\n",
    " (PEP342) 이는 매우 흥미로운 패턴으로 이어지게 되는데, 자신의 위치를 기억하고 있다가 다시 그 자리에서 실행이 가능한 제너레이터의 특성상, 두 개의 제너레이터가 번갈아가면서 제어권을 넘기는 형태의 flow를 생각할 수 있다. 이 때 두 제너레이터는 서브루틴과는 다른 개념으로 관계를 맺게 되고 이런 패턴을 코루틴이라 한다.\n"
   ]
  },
  {
   "cell_type": "markdown",
   "metadata": {},
   "source": [
    "즉, 2.5부터 ```yield```는 표현식의 기능을 겸하게 되었고, 이는 대입문의 우변이 될 수 있다는 말이며, '값으로 평가된다'는 말이다."
   ]
  },
  {
   "cell_type": "markdown",
   "metadata": {},
   "source": [
    "## 코루틴"
   ]
  },
  {
   "cell_type": "markdown",
   "metadata": {},
   "source": [
    "값을 입력받을 수 있는 제너레이터를 코루틴이라고 부른다"
   ]
  },
  {
   "cell_type": "code",
   "execution_count": 32,
   "metadata": {},
   "outputs": [],
   "source": [
    "def printer():\n",
    "    #1\n",
    "    while True:\n",
    "        line = yield  #2\n",
    "        print(line)\n",
    "\n",
    "prn = printer()"
   ]
  },
  {
   "cell_type": "markdown",
   "metadata": {},
   "source": [
    "printer()함수를 호출하여 코루틴을 생성    \n",
    "생성직후 코루틴의 실행 위치는 #1  \n",
    "최초로 next()를 호출하면 처음 yield를 만나는 #2의 지점까지 실행    \n",
    "line = yield는 단순한 바인딩 구문이다.\n",
    " - 바인딩 구문은 등호의 우변을 먼저 평가한 후, 그 평가값을 좌변에 연결한다.\n",
    " - 우변이 평가되는 시점에 코루틴이 한번 멈추게 되고, 다시 실행될 떄 외부에서 들여온 값으로 yield가 평가된다.\n",
    " - 그리고 그 값이 line으로 들어간다."
   ]
  },
  {
   "cell_type": "code",
   "execution_count": 25,
   "metadata": {},
   "outputs": [
    {
     "name": "stdout",
     "output_type": "stream",
     "text": [
      "__class__   __del__   __delattr__   __dir__   __doc__   \n",
      "__eq__   __format__   __ge__   __getattribute__   __gt__   \n",
      "__hash__   __init__   __init_subclass__   __iter__   __le__   \n",
      "__lt__   __name__   __ne__   __new__   __next__   \n",
      "__qualname__   __reduce__   __reduce_ex__   __repr__   __setattr__   \n",
      "__sizeof__   __str__   __subclasshook__   close   gi_code   \n",
      "gi_frame   gi_running   gi_yieldfrom   send   throw   \n"
     ]
    }
   ],
   "source": [
    "count = 0\n",
    "for i in dir(prn):\n",
    "    print(i, end = \"   \")\n",
    "    count += 1\n",
    "    print() if count % 5 == 0 else _"
   ]
  },
  {
   "cell_type": "markdown",
   "metadata": {},
   "source": [
    "제너레이터로 생성된 객체는 `__next__()`, `send()` 라는 두 개의 메소드를 갖게 된다.  \n",
    "함수에 전달되었을 때 호출되는 메소드로 다음번 yield 구문까지 실행하라는 신호를 제너레이터에게 전달한다.  \n",
    "send() 메소드는 `__next()__`와 거의 동일한데, 차이가 있다면 이 시점에 코루틴 내부로 값을 밀어넣을 수 있다."
   ]
  },
  {
   "cell_type": "markdown",
   "metadata": {},
   "source": [
    "코루틴 주요 메서드\n",
    " - coroutine.send(value) : 코루틴을 시작하거나 다시 시작한다. value가 None이면 시작, None이 아니면 값을 처리\n",
    " - coroutine.throw(type [, value[, tracebakc]]) : 코루틴이 지정된 예욀르 발생시킨다. 이 메서드는 코루틴을 일시 중단시키는 반복자의 throw()메서드에 위임한다.  \n",
    " - coroutine.close() : 코루틴 자체를 종료한다."
   ]
  },
  {
   "cell_type": "code",
   "execution_count": 26,
   "metadata": {},
   "outputs": [],
   "source": [
    "# 코루틴 시작\n",
    "next(prn)\n",
    "# prn.send(None) # None값을 밀어넣어 코루틴을 실행함."
   ]
  },
  {
   "cell_type": "code",
   "execution_count": 27,
   "metadata": {},
   "outputs": [
    {
     "name": "stdout",
     "output_type": "stream",
     "text": [
      "1\n"
     ]
    }
   ],
   "source": [
    "prn.send(1)"
   ]
  },
  {
   "cell_type": "code",
   "execution_count": 35,
   "metadata": {},
   "outputs": [],
   "source": [
    "# 코루틴 실행 과정을 자동으로 만들어주는 데코레이터\n",
    "from functools import wraps\n",
    "\n",
    "def coroutine(func):\n",
    "    @wraps(func)\n",
    "    def start(*args, **kwarg):\n",
    "        cr = func(*args, **kwargs)\n",
    "        cr.send(None)\n",
    "        return cr\n",
    "    return start"
   ]
  },
  {
   "cell_type": "code",
   "execution_count": 39,
   "metadata": {},
   "outputs": [
    {
     "ename": "TypeError",
     "evalue": "can't send non-None value to a just-started generator",
     "output_type": "error",
     "traceback": [
      "\u001b[1;31m---------------------------------------------------------------------------\u001b[0m",
      "\u001b[1;31mTypeError\u001b[0m                                 Traceback (most recent call last)",
      "\u001b[1;32m<ipython-input-39-6935f21216d3>\u001b[0m in \u001b[0;36m<module>\u001b[1;34m()\u001b[0m\n\u001b[0;32m      1\u001b[0m \u001b[0mprn\u001b[0m \u001b[1;33m=\u001b[0m \u001b[0mprinter\u001b[0m\u001b[1;33m(\u001b[0m\u001b[1;33m)\u001b[0m\u001b[1;33m\u001b[0m\u001b[0m\n\u001b[1;32m----> 2\u001b[1;33m \u001b[0mprn\u001b[0m\u001b[1;33m.\u001b[0m\u001b[0msend\u001b[0m\u001b[1;33m(\u001b[0m\u001b[1;34m'hello world'\u001b[0m\u001b[1;33m)\u001b[0m\u001b[1;33m\u001b[0m\u001b[0m\n\u001b[0m",
      "\u001b[1;31mTypeError\u001b[0m: can't send non-None value to a just-started generator"
     ]
    }
   ],
   "source": [
    "prn = printer()\n",
    "prn.send('hello world')"
   ]
  },
  {
   "cell_type": "markdown",
   "metadata": {},
   "source": [
    "왜 데코레이터가 정상적으로 작동하지 않을까?"
   ]
  },
  {
   "cell_type": "code",
   "execution_count": 43,
   "metadata": {},
   "outputs": [],
   "source": [
    "def printer():\n",
    "    #1\n",
    "    while True:\n",
    "        yield 1  #2\n",
    "        \n",
    "\n",
    "prn = printer()"
   ]
  },
  {
   "cell_type": "code",
   "execution_count": 44,
   "metadata": {},
   "outputs": [
    {
     "name": "stdout",
     "output_type": "stream",
     "text": [
      "__class__   __del__   __delattr__   __dir__   __doc__   \n",
      "__eq__   __format__   __ge__   __getattribute__   __gt__   \n",
      "__hash__   __init__   __init_subclass__   __iter__   __le__   \n",
      "__lt__   __name__   __ne__   __new__   __next__   \n",
      "__qualname__   __reduce__   __reduce_ex__   __repr__   __setattr__   \n",
      "__sizeof__   __str__   __subclasshook__   close   gi_code   \n",
      "gi_frame   gi_running   gi_yieldfrom   send   throw   \n"
     ]
    }
   ],
   "source": [
    "count = 0\n",
    "for i in dir(prn):\n",
    "    print(i, end = \"   \")\n",
    "    count += 1\n",
    "    print() if count % 5 == 0 else _"
   ]
  },
  {
   "cell_type": "code",
   "execution_count": 45,
   "metadata": {},
   "outputs": [],
   "source": [
    "def test2():\n",
    "    for i in range(10):\n",
    "        yield i * 2\n"
   ]
  },
  {
   "cell_type": "code",
   "execution_count": 46,
   "metadata": {},
   "outputs": [
    {
     "data": {
      "text/plain": [
       "<generator object test2 at 0x000001E3DC86BD58>"
      ]
     },
     "execution_count": 46,
     "metadata": {},
     "output_type": "execute_result"
    }
   ],
   "source": [
    "test2()"
   ]
  },
  {
   "cell_type": "code",
   "execution_count": 47,
   "metadata": {},
   "outputs": [
    {
     "name": "stdout",
     "output_type": "stream",
     "text": [
      "0\n",
      "2\n",
      "4\n",
      "6\n",
      "8\n",
      "10\n",
      "12\n",
      "14\n",
      "16\n",
      "18\n"
     ]
    }
   ],
   "source": [
    "for i in test2():\n",
    "    print(i)"
   ]
  },
  {
   "cell_type": "code",
   "execution_count": 48,
   "metadata": {},
   "outputs": [],
   "source": [
    "def callee():\n",
    "    yield 1\n",
    "    yield 2\n",
    "# \t\t\n",
    "x = callee()\n",
    "i = next(x)\n",
    "i = next(x)"
   ]
  },
  {
   "cell_type": "markdown",
   "metadata": {},
   "source": [
    "#### 실행순서\n",
    "Caller\n",
    "> i = next()    \n",
    "제어권 넘김  \n",
    "\n",
    "Callee\n",
    "> yield 1  \n",
    "값 1 반환  \n",
    "\n",
    "Caller\n",
    "> i = next()    \n",
    "제어권 넘김  \n",
    "\n",
    "Callee \n",
    "> yield 2  \n",
    "값 2 반환  "
   ]
  },
  {
   "attachments": {
    "image.png": {
     "image/png": "[encoded data removed]"
    }
   },
   "cell_type": "markdown",
   "metadata": {},
   "source": [
    "![image.png](attachment:image.png)"
   ]
  },
  {
   "cell_type": "code",
   "execution_count": 49,
   "metadata": {},
   "outputs": [
    {
     "name": "stdout",
     "output_type": "stream",
     "text": [
      "callee 1\n",
      "callee 2: 10\n",
      "callee 3: 20\n"
     ]
    },
    {
     "ename": "StopIteration",
     "evalue": "",
     "output_type": "error",
     "traceback": [
      "\u001b[1;31m---------------------------------------------------------------------------\u001b[0m",
      "\u001b[1;31mStopIteration\u001b[0m                             Traceback (most recent call last)",
      "\u001b[1;32m<ipython-input-49-e025476554d6>\u001b[0m in \u001b[0;36m<module>\u001b[1;34m()\u001b[0m\n\u001b[0;32m      9\u001b[0m \u001b[0mi\u001b[0m \u001b[1;33m=\u001b[0m \u001b[0mnext\u001b[0m\u001b[1;33m(\u001b[0m\u001b[0mtask\u001b[0m\u001b[1;33m)\u001b[0m    \u001b[1;31m# callee 1 출력, i는 1이 됨\u001b[0m\u001b[1;33m\u001b[0m\u001b[0m\n\u001b[0;32m     10\u001b[0m \u001b[0mi\u001b[0m \u001b[1;33m=\u001b[0m \u001b[0mtask\u001b[0m\u001b[1;33m.\u001b[0m\u001b[0msend\u001b[0m\u001b[1;33m(\u001b[0m\u001b[1;36m10\u001b[0m\u001b[1;33m)\u001b[0m \u001b[1;31m# callee 2: 10 출력, i는 2가 됨\u001b[0m\u001b[1;33m\u001b[0m\u001b[0m\n\u001b[1;32m---> 11\u001b[1;33m \u001b[0mtask\u001b[0m\u001b[1;33m.\u001b[0m\u001b[0msend\u001b[0m\u001b[1;33m(\u001b[0m\u001b[1;36m20\u001b[0m\u001b[1;33m)\u001b[0m     \u001b[1;31m# callee 3: 20 출력 후 StopIteration exception 발생\u001b[0m\u001b[1;33m\u001b[0m\u001b[0m\n\u001b[0m",
      "\u001b[1;31mStopIteration\u001b[0m: "
     ]
    }
   ],
   "source": [
    "def coroutine1():\n",
    "    print('callee 1')\n",
    "    x = yield 1\n",
    "    print('callee 2: %d' % x)\n",
    "    x = yield 2\n",
    "    print('callee 3: %d' % x)\n",
    "# \t\n",
    "task = coroutine1()\n",
    "i = next(task)    # callee 1 출력, i는 1이 됨 \n",
    "i = task.send(10) # callee 2: 10 출력, i는 2가 됨 \n",
    "task.send(20)     # callee 3: 20 출력 후 StopIteration exception 발생"
   ]
  },
  {
   "attachments": {
    "image.png": {
     "image/png": "[encoded data removed]"
    }
   },
   "cell_type": "markdown",
   "metadata": {},
   "source": [
    "![image.png](attachment:image.png)"
   ]
  },
  {
   "cell_type": "code",
   "execution_count": null,
   "metadata": {},
   "outputs": [],
   "source": []
  }
 ],
 "metadata": {
  "kernelspec": {
   "display_name": "Python 3",
   "language": "python",
   "name": "python3"
  },
  "language_info": {
   "codemirror_mode": {
    "name": "ipython",
    "version": 3
   },
   "file_extension": ".py",
   "mimetype": "text/x-python",
   "name": "python",
   "nbconvert_exporter": "python",
   "pygments_lexer": "ipython3",
   "version": "3.6.5"
  }
 },
 "nbformat": 4,
 "nbformat_minor": 2
}

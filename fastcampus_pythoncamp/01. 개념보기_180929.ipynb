{
 "cells": [
  {
   "cell_type": "markdown",
   "metadata": {
    "colab_type": "text",
    "id": "UQfGmpGYZw2b"
   },
   "source": [
    "## 파이썬 완정정복 CAMP 01\n"
   ]
  },
  {
   "cell_type": "markdown",
   "metadata": {},
   "source": [
    "literal 과 expression\n",
    "- literal : 하나의 값에 해당\n",
    "- expression : 산식이나 메소드/함수 호출 등 평가된 값으로 처리\n",
    "\n",
    "할당문, 조건문이나 순환문에 사용이 가능하고 항상 평가된 결과가 처리된다.  \n",
    "평가된 결과 -> 메모리에 올림"
   ]
  },
  {
   "cell_type": "markdown",
   "metadata": {},
   "source": [
    "### 차이점 공부 필요\n",
    "할당문 -> 파이썬에서는 할당문만 존재  \n",
    "할당연산자\n",
    "\n",
    "문장은 평가가 안된다."
   ]
  },
  {
   "cell_type": "markdown",
   "metadata": {},
   "source": [
    "## 파이썬에서 문장을 구성하는 기준\n",
    "할당 =    \n",
    "흐름제어 if  \n",
    "순환제어 for / while  \n",
    "예외처리 try/except  \n",
    "상황처리 with  \n",
    "정의문 def/class  \n",
    "주석문 #,\"\"  "
   ]
  },
  {
   "cell_type": "code",
   "execution_count": 2,
   "metadata": {
    "colab": {},
    "colab_type": "code",
    "collapsed": true,
    "id": "cTR0Efb1Zw2d"
   },
   "outputs": [],
   "source": [
    "import sys"
   ]
  },
  {
   "cell_type": "code",
   "execution_count": 7,
   "metadata": {
    "collapsed": false
   },
   "outputs": [
    {
     "data": {
      "text/plain": [
       "'3.5.2 |Anaconda custom (64-bit)| (default, Jul  5 2016, 11:41:13) [MSC v.1900 64 bit (AMD64)]'"
      ]
     },
     "execution_count": 7,
     "metadata": {},
     "output_type": "execute_result"
    }
   ],
   "source": [
    "sys.version"
   ]
  },
  {
   "cell_type": "markdown",
   "metadata": {},
   "source": [
    "!는 쉘 명령어 실행"
   ]
  },
  {
   "cell_type": "code",
   "execution_count": 4,
   "metadata": {
    "colab": {},
    "colab_type": "code",
    "collapsed": false,
    "id": "mC14SPNTZw2g",
    "outputId": "6230651c-dfc7-480d-cef8-987918e9a2b4"
   },
   "outputs": [
    {
     "data": {
      "text/plain": [
       "sys.version_info(major=3, minor=5, micro=2, releaselevel='final', serial=0)"
      ]
     },
     "execution_count": 4,
     "metadata": {},
     "output_type": "execute_result"
    }
   ],
   "source": [
    "sys.version_info"
   ]
  },
  {
   "cell_type": "code",
   "execution_count": 9,
   "metadata": {
    "collapsed": false,
    "scrolled": false
   },
   "outputs": [
    {
     "name": "stdout",
     "output_type": "stream",
     "text": [
      " C 드라이브의 볼륨에는 이름이 없습니다.\n",
      " 볼륨 일련 번호: FC47-E9E2\n",
      "\n",
      " C:\\workspace\\python\\fastcamp_python_camp 디렉터리\n",
      "\n",
      "2018-09-29  오전 11:12    <DIR>          .\n",
      "2018-09-29  오전 11:12    <DIR>          ..\n",
      "2018-09-29  오전 11:12    <DIR>          .ipynb_checkpoints\n",
      "2018-09-29  오전 11:12            59,497 01 장 실습.ipynb\n",
      "2018-09-20  오후 08:32            58,938 03장 실습.ipynb\n",
      "2018-09-20  오후 08:32            43,004 05 장 실습.ipynb\n",
      "2018-09-20  오후 08:32            46,130 07 장 실습.ipynb\n",
      "2018-09-20  오후 08:32            39,429 09장 실습.ipynb\n",
      "2018-09-20  오후 08:32            24,838 11 장 실습.ipynb\n",
      "2018-09-20  오후 08:32            30,872 13 장 실습.ipynb\n",
      "2018-09-20  오후 08:32            20,189 15 장 실습.ipynb\n",
      "               8개 파일             322,897 바이트\n",
      "               3개 디렉터리  54,982,189,056 바이트 남음\n"
     ]
    }
   ],
   "source": [
    "!dir"
   ]
  },
  {
   "cell_type": "markdown",
   "metadata": {},
   "source": [
    "%은 Unix 명령어 실행"
   ]
  },
  {
   "cell_type": "code",
   "execution_count": 10,
   "metadata": {
    "collapsed": false
   },
   "outputs": [
    {
     "name": "stdout",
     "output_type": "stream",
     "text": [
      " C 드라이브의 볼륨에는 이름이 없습니다.\n",
      " 볼륨 일련 번호: FC47-E9E2\n",
      "\n",
      " C:\\workspace\\python\\fastcamp_python_camp 디렉터리\n",
      "\n",
      "2018-09-29  오전 11:12    <DIR>          .\n",
      "2018-09-29  오전 11:12    <DIR>          ..\n",
      "2018-09-29  오전 11:12    <DIR>          .ipynb_checkpoints\n",
      "2018-09-29  오전 11:12            59,497 01 장 실습.ipynb\n",
      "2018-09-20  오후 08:32            58,938 03장 실습.ipynb\n",
      "2018-09-20  오후 08:32            43,004 05 장 실습.ipynb\n",
      "2018-09-20  오후 08:32            46,130 07 장 실습.ipynb\n",
      "2018-09-20  오후 08:32            39,429 09장 실습.ipynb\n",
      "2018-09-20  오후 08:32            24,838 11 장 실습.ipynb\n",
      "2018-09-20  오후 08:32            30,872 13 장 실습.ipynb\n",
      "2018-09-20  오후 08:32            20,189 15 장 실습.ipynb\n",
      "               8개 파일             322,897 바이트\n",
      "               3개 디렉터리  54,982,189,056 바이트 남음\n"
     ]
    }
   ],
   "source": [
    "%ls"
   ]
  },
  {
   "cell_type": "code",
   "execution_count": 11,
   "metadata": {
    "collapsed": false
   },
   "outputs": [
    {
     "name": "stdout",
     "output_type": "stream",
     "text": [
      "Writing add.py\n"
     ]
    }
   ],
   "source": [
    "%%writefile add.py\n",
    "\n",
    "def add(x,y):\n",
    "    return x+y"
   ]
  },
  {
   "cell_type": "code",
   "execution_count": null,
   "metadata": {
    "collapsed": true
   },
   "outputs": [],
   "source": [
    "# %load add.py\n",
    "\n",
    "def add(x,y):\n",
    "    return x+y"
   ]
  },
  {
   "cell_type": "code",
   "execution_count": 13,
   "metadata": {
    "collapsed": false
   },
   "outputs": [
    {
     "data": {
      "text/plain": [
       "20"
      ]
     },
     "execution_count": 13,
     "metadata": {},
     "output_type": "execute_result"
    }
   ],
   "source": [
    "import add\n",
    "\n",
    "add.add(10, 10)"
   ]
  },
  {
   "cell_type": "markdown",
   "metadata": {
    "colab_type": "text",
    "id": "oqGND6JAZw2l"
   },
   "source": [
    "### 리터럴 처리\n",
    "\n",
    "     프로그램 언어에서 실행되는 최소단위의 값을 표현 "
   ]
  },
  {
   "cell_type": "code",
   "execution_count": 0,
   "metadata": {
    "colab": {},
    "colab_type": "code",
    "collapsed": false,
    "id": "fworGmJYZw2m",
    "outputId": "aa398a94-e5f0-44c0-93af-d0369e519b7b"
   },
   "outputs": [
    {
     "data": {
      "text/plain": [
       "1"
      ]
     },
     "execution_count": 3,
     "metadata": {
      "tags": []
     },
     "output_type": "execute_result"
    }
   ],
   "source": [
    "1"
   ]
  },
  {
   "cell_type": "code",
   "execution_count": 0,
   "metadata": {
    "colab": {},
    "colab_type": "code",
    "collapsed": false,
    "id": "uu6WX4wxZw2p",
    "outputId": "b7aeb19e-9d41-4d61-c7dc-ac8aa8bb6c9c"
   },
   "outputs": [
    {
     "data": {
      "text/plain": [
       "1.0"
      ]
     },
     "execution_count": 4,
     "metadata": {
      "tags": []
     },
     "output_type": "execute_result"
    }
   ],
   "source": [
    "1.0 "
   ]
  },
  {
   "cell_type": "markdown",
   "metadata": {},
   "source": [
    "모든 class는 객체다.   \n",
    "type은 metaclass.   \n",
    "type이 class를 만들어줌  "
   ]
  },
  {
   "cell_type": "code",
   "execution_count": 21,
   "metadata": {
    "collapsed": false
   },
   "outputs": [
    {
     "name": "stdout",
     "output_type": "stream",
     "text": [
      "<class 'type'>\n"
     ]
    }
   ],
   "source": [
    "# int클래스는 type(metaclass)가 만든 것\n",
    "print(type(int))"
   ]
  },
  {
   "cell_type": "code",
   "execution_count": 20,
   "metadata": {
    "collapsed": false
   },
   "outputs": [
    {
     "name": "stdout",
     "output_type": "stream",
     "text": [
      "<class 'int'>\n"
     ]
    }
   ],
   "source": [
    "# 인스턴스의 정보\n",
    "print(type(1))"
   ]
  },
  {
   "cell_type": "code",
   "execution_count": 23,
   "metadata": {
    "collapsed": false
   },
   "outputs": [
    {
     "data": {
      "text/plain": [
       "['__abs__',\n",
       " '__add__',\n",
       " '__and__',\n",
       " '__bool__',\n",
       " '__ceil__',\n",
       " '__class__',\n",
       " '__delattr__',\n",
       " '__dir__',\n",
       " '__divmod__',\n",
       " '__doc__',\n",
       " '__eq__',\n",
       " '__float__',\n",
       " '__floor__',\n",
       " '__floordiv__',\n",
       " '__format__',\n",
       " '__ge__',\n",
       " '__getattribute__',\n",
       " '__getnewargs__',\n",
       " '__gt__',\n",
       " '__hash__',\n",
       " '__index__',\n",
       " '__init__',\n",
       " '__int__',\n",
       " '__invert__',\n",
       " '__le__',\n",
       " '__lshift__',\n",
       " '__lt__',\n",
       " '__mod__',\n",
       " '__mul__',\n",
       " '__ne__',\n",
       " '__neg__',\n",
       " '__new__',\n",
       " '__or__',\n",
       " '__pos__',\n",
       " '__pow__',\n",
       " '__radd__',\n",
       " '__rand__',\n",
       " '__rdivmod__',\n",
       " '__reduce__',\n",
       " '__reduce_ex__',\n",
       " '__repr__',\n",
       " '__rfloordiv__',\n",
       " '__rlshift__',\n",
       " '__rmod__',\n",
       " '__rmul__',\n",
       " '__ror__',\n",
       " '__round__',\n",
       " '__rpow__',\n",
       " '__rrshift__',\n",
       " '__rshift__',\n",
       " '__rsub__',\n",
       " '__rtruediv__',\n",
       " '__rxor__',\n",
       " '__setattr__',\n",
       " '__sizeof__',\n",
       " '__str__',\n",
       " '__sub__',\n",
       " '__subclasshook__',\n",
       " '__truediv__',\n",
       " '__trunc__',\n",
       " '__xor__',\n",
       " 'bit_length',\n",
       " 'conjugate',\n",
       " 'denominator',\n",
       " 'from_bytes',\n",
       " 'imag',\n",
       " 'numerator',\n",
       " 'real',\n",
       " 'to_bytes']"
      ]
     },
     "execution_count": 23,
     "metadata": {},
     "output_type": "execute_result"
    }
   ],
   "source": [
    "# int클래스의 namespace\n",
    "dir(int)"
   ]
  },
  {
   "cell_type": "code",
   "execution_count": 26,
   "metadata": {
    "collapsed": false
   },
   "outputs": [
    {
     "name": "stdout",
     "output_type": "stream",
     "text": [
      "<slot wrapper '__add__' of 'int' objects>\n",
      "<class 'wrapper_descriptor'>\n"
     ]
    }
   ],
   "source": [
    "print(int.__add__)\n",
    "# slot warpper \n",
    "\n",
    "print(type(int.__add__))\n",
    "# 모든 methoed 는 descriptor 처럼 실행이 되는 것"
   ]
  },
  {
   "cell_type": "code",
   "execution_count": 27,
   "metadata": {
    "collapsed": true
   },
   "outputs": [],
   "source": [
    "class INT:\n",
    "    def __add__(self):\n",
    "        pass"
   ]
  },
  {
   "cell_type": "code",
   "execution_count": 28,
   "metadata": {
    "collapsed": false
   },
   "outputs": [
    {
     "name": "stdout",
     "output_type": "stream",
     "text": [
      "<class 'function'>\n"
     ]
    }
   ],
   "source": [
    "print(type(INT.__add__))"
   ]
  },
  {
   "cell_type": "markdown",
   "metadata": {},
   "source": [
    "class를 내 def를 정의하면 function  \n",
    "methon가 되려면 function을 실행시켜야한다.  "
   ]
  },
  {
   "cell_type": "code",
   "execution_count": 29,
   "metadata": {
    "collapsed": false
   },
   "outputs": [
    {
     "name": "stdout",
     "output_type": "stream",
     "text": [
      "<bound method INT.__add__ of <__main__.INT object at 0x0000016F9FA04A58>>\n",
      "<class 'method'>\n"
     ]
    }
   ],
   "source": [
    "i = INT()\n",
    "print(i.__add__)\n",
    "print(type(i.__add__))"
   ]
  },
  {
   "cell_type": "code",
   "execution_count": 30,
   "metadata": {
    "collapsed": false
   },
   "outputs": [
    {
     "data": {
      "text/plain": [
       "1578931037864"
      ]
     },
     "execution_count": 30,
     "metadata": {},
     "output_type": "execute_result"
    }
   ],
   "source": [
    "id(INT.__add__)"
   ]
  },
  {
   "cell_type": "code",
   "execution_count": 32,
   "metadata": {
    "collapsed": false
   },
   "outputs": [
    {
     "data": {
      "text/plain": [
       "1578931037864"
      ]
     },
     "execution_count": 32,
     "metadata": {},
     "output_type": "execute_result"
    }
   ],
   "source": [
    "id(i.__add__.__func__)"
   ]
  },
  {
   "cell_type": "code",
   "execution_count": 33,
   "metadata": {
    "collapsed": false
   },
   "outputs": [
    {
     "data": {
      "text/plain": [
       "1578931079768"
      ]
     },
     "execution_count": 33,
     "metadata": {},
     "output_type": "execute_result"
    }
   ],
   "source": [
    "id(i)"
   ]
  },
  {
   "cell_type": "code",
   "execution_count": 34,
   "metadata": {
    "collapsed": false
   },
   "outputs": [
    {
     "data": {
      "text/plain": [
       "1578931079768"
      ]
     },
     "execution_count": 34,
     "metadata": {},
     "output_type": "execute_result"
    }
   ],
   "source": [
    "id(i.__add__.__self__)"
   ]
  },
  {
   "cell_type": "markdown",
   "metadata": {},
   "source": [
    "methon 는 func와 self가 생긴다."
   ]
  },
  {
   "cell_type": "markdown",
   "metadata": {},
   "source": [
    "## class의 function과 method의 차이점을 인식하자."
   ]
  },
  {
   "cell_type": "markdown",
   "metadata": {
    "colab_type": "text",
    "id": "EPi2VHjlZw2s"
   },
   "source": [
    "#### 조건문을 경우 조건식을 처리한 결과를 처리"
   ]
  },
  {
   "cell_type": "code",
   "execution_count": 0,
   "metadata": {
    "colab": {},
    "colab_type": "code",
    "collapsed": false,
    "id": "rctCOofUZw2t",
    "outputId": "319af218-bb34-4622-9a9d-e99deabd5a60"
   },
   "outputs": [
    {
     "name": "stdout",
     "output_type": "stream",
     "text": [
      "true\n"
     ]
    }
   ],
   "source": [
    "if 0 >= 0:\n",
    "    print(\"true\")"
   ]
  },
  {
   "cell_type": "code",
   "execution_count": 35,
   "metadata": {
    "collapsed": false
   },
   "outputs": [
    {
     "data": {
      "text/plain": [
       "4"
      ]
     },
     "execution_count": 35,
     "metadata": {},
     "output_type": "execute_result"
    }
   ],
   "source": [
    "True + 3"
   ]
  },
  {
   "cell_type": "markdown",
   "metadata": {},
   "source": [
    "파이썬에서는 bool 타입이 계산된다.  \n",
    "bool은 class int를 상속하기 때문!"
   ]
  },
  {
   "cell_type": "code",
   "execution_count": 38,
   "metadata": {
    "collapsed": false
   },
   "outputs": [
    {
     "name": "stdout",
     "output_type": "stream",
     "text": [
      "(<class 'int'>,)\n"
     ]
    }
   ],
   "source": [
    "print(bool.__bases__)"
   ]
  },
  {
   "cell_type": "code",
   "execution_count": 37,
   "metadata": {
    "collapsed": false
   },
   "outputs": [
    {
     "name": "stdout",
     "output_type": "stream",
     "text": [
      "<class 'NoneType'>\n"
     ]
    }
   ],
   "source": [
    "print(type(None))"
   ]
  },
  {
   "cell_type": "markdown",
   "metadata": {
    "colab_type": "text",
    "id": "pL11lwv4Zw2x"
   },
   "source": [
    "###  주석처리  알아보기"
   ]
  },
  {
   "cell_type": "code",
   "execution_count": 0,
   "metadata": {
    "colab": {},
    "colab_type": "code",
    "collapsed": false,
    "id": "EseP6dLqZw2z",
    "outputId": "4efc5a56-7345-4b0a-d67a-81b188971c57"
   },
   "outputs": [
    {
     "name": "stdout",
     "output_type": "stream",
     "text": [
      "Overwriting aaa.py\n"
     ]
    }
   ],
   "source": [
    "%%writefile aaa.py\n",
    "\"\"\" module docstring\"\"\"\n",
    "\n",
    "# 모듈의 주석"
   ]
  },
  {
   "cell_type": "code",
   "execution_count": 0,
   "metadata": {
    "colab": {},
    "colab_type": "code",
    "collapsed": false,
    "id": "hW5qkNrjZw23",
    "outputId": "2b04e5f4-7c00-40e6-d371-a37808a1d391"
   },
   "outputs": [
    {
     "name": "stdout",
     "output_type": "stream",
     "text": [
      "one line comment\n"
     ]
    }
   ],
   "source": [
    "# 한줄 주석\n",
    "print(\"one line comment\")"
   ]
  },
  {
   "cell_type": "code",
   "execution_count": 40,
   "metadata": {
    "colab": {},
    "colab_type": "code",
    "collapsed": true,
    "id": "B7UZTigwZw27"
   },
   "outputs": [],
   "source": [
    "# 함수나 클래스의 주석\n",
    "\n",
    "def func():\n",
    "    \"\"\"function docstring\"\"\"\n",
    "    \n",
    "class Klass():\n",
    "    \"\"\" class docstring\"\"\""
   ]
  },
  {
   "cell_type": "code",
   "execution_count": 0,
   "metadata": {
    "colab": {},
    "colab_type": "code",
    "collapsed": false,
    "id": "kWPfmQZ2Zw2-",
    "outputId": "f06fe1be-e273-4b69-9caa-283a7e8fbfc9"
   },
   "outputs": [
    {
     "name": "stdout",
     "output_type": "stream",
     "text": [
      "function docstring\n",
      " class docstring\n",
      " module docstring\n"
     ]
    }
   ],
   "source": [
    "print(func.__doc__)\n",
    "print(Klass.__doc__)\n",
    "import aaa\n",
    "print(aaa.__doc__)"
   ]
  },
  {
   "cell_type": "code",
   "execution_count": 41,
   "metadata": {
    "collapsed": false
   },
   "outputs": [
    {
     "name": "stdout",
     "output_type": "stream",
     "text": [
      "Help on function func in module __main__:\n",
      "\n",
      "func()\n",
      "    function docstring\n",
      "\n"
     ]
    }
   ],
   "source": [
    "help(func)"
   ]
  },
  {
   "cell_type": "code",
   "execution_count": 42,
   "metadata": {
    "collapsed": false
   },
   "outputs": [
    {
     "data": {
      "text/plain": [
       "\"Define the builtin 'help'.\\n\\n    This is a wrapper around pydoc.help that provides a helpful message\\n    when 'help' is typed at the Python interactive prompt.\\n\\n    Calling help() at the Python prompt starts an interactive help session.\\n    Calling help(thing) prints help for the python object 'thing'.\\n    \""
      ]
     },
     "execution_count": 42,
     "metadata": {},
     "output_type": "execute_result"
    }
   ],
   "source": [
    "help.__doc__"
   ]
  },
  {
   "cell_type": "code",
   "execution_count": 43,
   "metadata": {
    "collapsed": false
   },
   "outputs": [
    {
     "name": "stdout",
     "output_type": "stream",
     "text": [
      "Help on _Helper in module _sitebuiltins object:\n",
      "\n",
      "class _Helper(builtins.object)\n",
      " |  Define the builtin 'help'.\n",
      " |  \n",
      " |  This is a wrapper around pydoc.help that provides a helpful message\n",
      " |  when 'help' is typed at the Python interactive prompt.\n",
      " |  \n",
      " |  Calling help() at the Python prompt starts an interactive help session.\n",
      " |  Calling help(thing) prints help for the python object 'thing'.\n",
      " |  \n",
      " |  Methods defined here:\n",
      " |  \n",
      " |  __call__(self, *args, **kwds)\n",
      " |      Call self as a function.\n",
      " |  \n",
      " |  __repr__(self)\n",
      " |      Return repr(self).\n",
      " |  \n",
      " |  ----------------------------------------------------------------------\n",
      " |  Data descriptors defined here:\n",
      " |  \n",
      " |  __dict__\n",
      " |      dictionary for instance variables (if defined)\n",
      " |  \n",
      " |  __weakref__\n",
      " |      list of weak references to the object (if defined)\n",
      "\n"
     ]
    }
   ],
   "source": [
    "help(help)"
   ]
  },
  {
   "cell_type": "code",
   "execution_count": 45,
   "metadata": {
    "collapsed": false
   },
   "outputs": [
    {
     "name": "stdout",
     "output_type": "stream",
     "text": [
      "<class '_sitebuiltins._Helper'>\n"
     ]
    }
   ],
   "source": [
    "print(type(help))"
   ]
  },
  {
   "cell_type": "markdown",
   "metadata": {
    "colab_type": "text",
    "id": "mt0EZr_5Zw3C"
   },
   "source": [
    "##  참조변수( Reference Variable)\n",
    "\n",
    "     파이썬 변수는 실제 레퍼런스만 보관하는 단순한 이름으로 사용한다.\n",
    "     "
   ]
  },
  {
   "cell_type": "markdown",
   "metadata": {
    "colab_type": "text",
    "id": "Ajs3lbF5Zw3C"
   },
   "source": [
    "#### 변수를 할당없이 사용하면 정의하라고 나온다."
   ]
  },
  {
   "cell_type": "code",
   "execution_count": 46,
   "metadata": {
    "colab": {},
    "colab_type": "code",
    "collapsed": false,
    "id": "9sP3DC-hZw3D",
    "outputId": "6881bcf4-7316-41b7-e317-c27803a53acc"
   },
   "outputs": [
    {
     "name": "stdout",
     "output_type": "stream",
     "text": [
      "name 'var' is not defined\n"
     ]
    }
   ],
   "source": [
    "try :\n",
    "    var\n",
    "except Exception as e :\n",
    "    print(e)"
   ]
  },
  {
   "cell_type": "markdown",
   "metadata": {},
   "source": [
    "globals() : 모든 실행 결과를 가지고 있음"
   ]
  },
  {
   "cell_type": "code",
   "execution_count": 51,
   "metadata": {
    "collapsed": false
   },
   "outputs": [
    {
     "data": {
      "text/plain": [
       "{'INT': __main__.INT,\n",
       " 'In': ['',\n",
       "  'import sys',\n",
       "  'import sys',\n",
       "  'sys.version_info',\n",
       "  'sys.version_info',\n",
       "  'python.version',\n",
       "  'sys.version',\n",
       "  'sys.version',\n",
       "  \"get_ipython().system('dir')\",\n",
       "  \"get_ipython().system('dir')\",\n",
       "  \"get_ipython().magic('ls')\",\n",
       "  \"get_ipython().run_cell_magic('writefile', 'add.py', '\\\\ndef add(x,y):\\\\n    return x+y')\",\n",
       "  \"get_ipython().magic('load add.py')\\ndef add(x,y):\\n    return x+y\",\n",
       "  'import add\\n\\nadd.add(10, 10)',\n",
       "  \"get_ipython().magic('load add.py')\",\n",
       "  'type(int)',\n",
       "  'print(type(int))',\n",
       "  'print(type(1))',\n",
       "  'type(1)',\n",
       "  'print(type(1))',\n",
       "  '# 인스턴스의 정보\\nprint(type(1))',\n",
       "  '# int클래스는 type(metaclass)가 만든 것\\nprint(type(int))',\n",
       "  'dir(int)',\n",
       "  '# int클래스의 namespace\\ndir(int)',\n",
       "  'int.__add__',\n",
       "  'print(int.__add__)\\nprint(type(int.__add__))',\n",
       "  'print(int.__add__)\\n# slot warpper \\n\\nprint(type(int.__add__))\\n# 모든 methoed 는 descriptor 처럼 실행이 되는 것',\n",
       "  'class INT:\\n    def __add__(self):\\n        pass',\n",
       "  'print(type(INT.__add__))',\n",
       "  'i = INT()\\nprint(i.__add__)\\nprint(type(i.__add__))',\n",
       "  'id(INT.__add__)',\n",
       "  'id(i._a_add__.__func__)',\n",
       "  'id(i.__add__.__func__)',\n",
       "  'id(i)',\n",
       "  'id(i.__add__.__self__)',\n",
       "  'True + 3',\n",
       "  'bool.__bases__',\n",
       "  'print(type(None))',\n",
       "  'print(bool.__bases__)',\n",
       "  'help(func)',\n",
       "  '# 함수나 클래스의 주석\\n\\ndef func():\\n    \"\"\"function docstring\"\"\"\\n    \\nclass Klass():\\n    \"\"\" class docstring\"\"\"',\n",
       "  'help(func)',\n",
       "  'help.__doc__',\n",
       "  'help(help)',\n",
       "  'type(help)',\n",
       "  'print(type(help))',\n",
       "  'try :\\n    var\\nexcept Exception as e :\\n    print(e)',\n",
       "  \"globals()['var']\",\n",
       "  'var_x = 1',\n",
       "  'var_x',\n",
       "  \"globals()['var_x']\",\n",
       "  'globals()'],\n",
       " 'Klass': __main__.Klass,\n",
       " 'Out': {3: sys.version_info(major=3, minor=5, micro=2, releaselevel='final', serial=0),\n",
       "  4: sys.version_info(major=3, minor=5, micro=2, releaselevel='final', serial=0),\n",
       "  6: '3.5.2 |Anaconda custom (64-bit)| (default, Jul  5 2016, 11:41:13) [MSC v.1900 64 bit (AMD64)]',\n",
       "  7: '3.5.2 |Anaconda custom (64-bit)| (default, Jul  5 2016, 11:41:13) [MSC v.1900 64 bit (AMD64)]',\n",
       "  13: 20,\n",
       "  15: type,\n",
       "  18: int,\n",
       "  22: ['__abs__',\n",
       "   '__add__',\n",
       "   '__and__',\n",
       "   '__bool__',\n",
       "   '__ceil__',\n",
       "   '__class__',\n",
       "   '__delattr__',\n",
       "   '__dir__',\n",
       "   '__divmod__',\n",
       "   '__doc__',\n",
       "   '__eq__',\n",
       "   '__float__',\n",
       "   '__floor__',\n",
       "   '__floordiv__',\n",
       "   '__format__',\n",
       "   '__ge__',\n",
       "   '__getattribute__',\n",
       "   '__getnewargs__',\n",
       "   '__gt__',\n",
       "   '__hash__',\n",
       "   '__index__',\n",
       "   '__init__',\n",
       "   '__int__',\n",
       "   '__invert__',\n",
       "   '__le__',\n",
       "   '__lshift__',\n",
       "   '__lt__',\n",
       "   '__mod__',\n",
       "   '__mul__',\n",
       "   '__ne__',\n",
       "   '__neg__',\n",
       "   '__new__',\n",
       "   '__or__',\n",
       "   '__pos__',\n",
       "   '__pow__',\n",
       "   '__radd__',\n",
       "   '__rand__',\n",
       "   '__rdivmod__',\n",
       "   '__reduce__',\n",
       "   '__reduce_ex__',\n",
       "   '__repr__',\n",
       "   '__rfloordiv__',\n",
       "   '__rlshift__',\n",
       "   '__rmod__',\n",
       "   '__rmul__',\n",
       "   '__ror__',\n",
       "   '__round__',\n",
       "   '__rpow__',\n",
       "   '__rrshift__',\n",
       "   '__rshift__',\n",
       "   '__rsub__',\n",
       "   '__rtruediv__',\n",
       "   '__rxor__',\n",
       "   '__setattr__',\n",
       "   '__sizeof__',\n",
       "   '__str__',\n",
       "   '__sub__',\n",
       "   '__subclasshook__',\n",
       "   '__truediv__',\n",
       "   '__trunc__',\n",
       "   '__xor__',\n",
       "   'bit_length',\n",
       "   'conjugate',\n",
       "   'denominator',\n",
       "   'from_bytes',\n",
       "   'imag',\n",
       "   'numerator',\n",
       "   'real',\n",
       "   'to_bytes'],\n",
       "  23: ['__abs__',\n",
       "   '__add__',\n",
       "   '__and__',\n",
       "   '__bool__',\n",
       "   '__ceil__',\n",
       "   '__class__',\n",
       "   '__delattr__',\n",
       "   '__dir__',\n",
       "   '__divmod__',\n",
       "   '__doc__',\n",
       "   '__eq__',\n",
       "   '__float__',\n",
       "   '__floor__',\n",
       "   '__floordiv__',\n",
       "   '__format__',\n",
       "   '__ge__',\n",
       "   '__getattribute__',\n",
       "   '__getnewargs__',\n",
       "   '__gt__',\n",
       "   '__hash__',\n",
       "   '__index__',\n",
       "   '__init__',\n",
       "   '__int__',\n",
       "   '__invert__',\n",
       "   '__le__',\n",
       "   '__lshift__',\n",
       "   '__lt__',\n",
       "   '__mod__',\n",
       "   '__mul__',\n",
       "   '__ne__',\n",
       "   '__neg__',\n",
       "   '__new__',\n",
       "   '__or__',\n",
       "   '__pos__',\n",
       "   '__pow__',\n",
       "   '__radd__',\n",
       "   '__rand__',\n",
       "   '__rdivmod__',\n",
       "   '__reduce__',\n",
       "   '__reduce_ex__',\n",
       "   '__repr__',\n",
       "   '__rfloordiv__',\n",
       "   '__rlshift__',\n",
       "   '__rmod__',\n",
       "   '__rmul__',\n",
       "   '__ror__',\n",
       "   '__round__',\n",
       "   '__rpow__',\n",
       "   '__rrshift__',\n",
       "   '__rshift__',\n",
       "   '__rsub__',\n",
       "   '__rtruediv__',\n",
       "   '__rxor__',\n",
       "   '__setattr__',\n",
       "   '__sizeof__',\n",
       "   '__str__',\n",
       "   '__sub__',\n",
       "   '__subclasshook__',\n",
       "   '__truediv__',\n",
       "   '__trunc__',\n",
       "   '__xor__',\n",
       "   'bit_length',\n",
       "   'conjugate',\n",
       "   'denominator',\n",
       "   'from_bytes',\n",
       "   'imag',\n",
       "   'numerator',\n",
       "   'real',\n",
       "   'to_bytes'],\n",
       "  24: <slot wrapper '__add__' of 'int' objects>,\n",
       "  30: 1578931037864,\n",
       "  32: 1578931037864,\n",
       "  33: 1578931079768,\n",
       "  34: 1578931079768,\n",
       "  35: 4,\n",
       "  36: (int,),\n",
       "  42: \"Define the builtin 'help'.\\n\\n    This is a wrapper around pydoc.help that provides a helpful message\\n    when 'help' is typed at the Python interactive prompt.\\n\\n    Calling help() at the Python prompt starts an interactive help session.\\n    Calling help(thing) prints help for the python object 'thing'.\\n    \",\n",
       "  44: _sitebuiltins._Helper,\n",
       "  49: 1,\n",
       "  50: 1},\n",
       " '_': 1,\n",
       " '_13': 20,\n",
       " '_15': type,\n",
       " '_18': int,\n",
       " '_22': ['__abs__',\n",
       "  '__add__',\n",
       "  '__and__',\n",
       "  '__bool__',\n",
       "  '__ceil__',\n",
       "  '__class__',\n",
       "  '__delattr__',\n",
       "  '__dir__',\n",
       "  '__divmod__',\n",
       "  '__doc__',\n",
       "  '__eq__',\n",
       "  '__float__',\n",
       "  '__floor__',\n",
       "  '__floordiv__',\n",
       "  '__format__',\n",
       "  '__ge__',\n",
       "  '__getattribute__',\n",
       "  '__getnewargs__',\n",
       "  '__gt__',\n",
       "  '__hash__',\n",
       "  '__index__',\n",
       "  '__init__',\n",
       "  '__int__',\n",
       "  '__invert__',\n",
       "  '__le__',\n",
       "  '__lshift__',\n",
       "  '__lt__',\n",
       "  '__mod__',\n",
       "  '__mul__',\n",
       "  '__ne__',\n",
       "  '__neg__',\n",
       "  '__new__',\n",
       "  '__or__',\n",
       "  '__pos__',\n",
       "  '__pow__',\n",
       "  '__radd__',\n",
       "  '__rand__',\n",
       "  '__rdivmod__',\n",
       "  '__reduce__',\n",
       "  '__reduce_ex__',\n",
       "  '__repr__',\n",
       "  '__rfloordiv__',\n",
       "  '__rlshift__',\n",
       "  '__rmod__',\n",
       "  '__rmul__',\n",
       "  '__ror__',\n",
       "  '__round__',\n",
       "  '__rpow__',\n",
       "  '__rrshift__',\n",
       "  '__rshift__',\n",
       "  '__rsub__',\n",
       "  '__rtruediv__',\n",
       "  '__rxor__',\n",
       "  '__setattr__',\n",
       "  '__sizeof__',\n",
       "  '__str__',\n",
       "  '__sub__',\n",
       "  '__subclasshook__',\n",
       "  '__truediv__',\n",
       "  '__trunc__',\n",
       "  '__xor__',\n",
       "  'bit_length',\n",
       "  'conjugate',\n",
       "  'denominator',\n",
       "  'from_bytes',\n",
       "  'imag',\n",
       "  'numerator',\n",
       "  'real',\n",
       "  'to_bytes'],\n",
       " '_23': ['__abs__',\n",
       "  '__add__',\n",
       "  '__and__',\n",
       "  '__bool__',\n",
       "  '__ceil__',\n",
       "  '__class__',\n",
       "  '__delattr__',\n",
       "  '__dir__',\n",
       "  '__divmod__',\n",
       "  '__doc__',\n",
       "  '__eq__',\n",
       "  '__float__',\n",
       "  '__floor__',\n",
       "  '__floordiv__',\n",
       "  '__format__',\n",
       "  '__ge__',\n",
       "  '__getattribute__',\n",
       "  '__getnewargs__',\n",
       "  '__gt__',\n",
       "  '__hash__',\n",
       "  '__index__',\n",
       "  '__init__',\n",
       "  '__int__',\n",
       "  '__invert__',\n",
       "  '__le__',\n",
       "  '__lshift__',\n",
       "  '__lt__',\n",
       "  '__mod__',\n",
       "  '__mul__',\n",
       "  '__ne__',\n",
       "  '__neg__',\n",
       "  '__new__',\n",
       "  '__or__',\n",
       "  '__pos__',\n",
       "  '__pow__',\n",
       "  '__radd__',\n",
       "  '__rand__',\n",
       "  '__rdivmod__',\n",
       "  '__reduce__',\n",
       "  '__reduce_ex__',\n",
       "  '__repr__',\n",
       "  '__rfloordiv__',\n",
       "  '__rlshift__',\n",
       "  '__rmod__',\n",
       "  '__rmul__',\n",
       "  '__ror__',\n",
       "  '__round__',\n",
       "  '__rpow__',\n",
       "  '__rrshift__',\n",
       "  '__rshift__',\n",
       "  '__rsub__',\n",
       "  '__rtruediv__',\n",
       "  '__rxor__',\n",
       "  '__setattr__',\n",
       "  '__sizeof__',\n",
       "  '__str__',\n",
       "  '__sub__',\n",
       "  '__subclasshook__',\n",
       "  '__truediv__',\n",
       "  '__trunc__',\n",
       "  '__xor__',\n",
       "  'bit_length',\n",
       "  'conjugate',\n",
       "  'denominator',\n",
       "  'from_bytes',\n",
       "  'imag',\n",
       "  'numerator',\n",
       "  'real',\n",
       "  'to_bytes'],\n",
       " '_24': <slot wrapper '__add__' of 'int' objects>,\n",
       " '_3': sys.version_info(major=3, minor=5, micro=2, releaselevel='final', serial=0),\n",
       " '_30': 1578931037864,\n",
       " '_32': 1578931037864,\n",
       " '_33': 1578931079768,\n",
       " '_34': 1578931079768,\n",
       " '_35': 4,\n",
       " '_36': (int,),\n",
       " '_4': sys.version_info(major=3, minor=5, micro=2, releaselevel='final', serial=0),\n",
       " '_42': \"Define the builtin 'help'.\\n\\n    This is a wrapper around pydoc.help that provides a helpful message\\n    when 'help' is typed at the Python interactive prompt.\\n\\n    Calling help() at the Python prompt starts an interactive help session.\\n    Calling help(thing) prints help for the python object 'thing'.\\n    \",\n",
       " '_44': _sitebuiltins._Helper,\n",
       " '_49': 1,\n",
       " '_50': 1,\n",
       " '_6': '3.5.2 |Anaconda custom (64-bit)| (default, Jul  5 2016, 11:41:13) [MSC v.1900 64 bit (AMD64)]',\n",
       " '_7': '3.5.2 |Anaconda custom (64-bit)| (default, Jul  5 2016, 11:41:13) [MSC v.1900 64 bit (AMD64)]',\n",
       " '__': 1,\n",
       " '___': _sitebuiltins._Helper,\n",
       " '__builtin__': <module 'builtins' (built-in)>,\n",
       " '__builtins__': <module 'builtins' (built-in)>,\n",
       " '__doc__': 'Automatically created module for IPython interactive environment',\n",
       " '__loader__': None,\n",
       " '__name__': '__main__',\n",
       " '__package__': None,\n",
       " '__spec__': None,\n",
       " '_dh': ['C:\\\\workspace\\\\python\\\\fastcamp_python_camp'],\n",
       " '_exit_code': 0,\n",
       " '_i': \"globals()['var_x']\",\n",
       " '_i1': 'import sys',\n",
       " '_i10': '%ls',\n",
       " '_i11': '%%writefile add.py\\n\\ndef add(x,y):\\n    return x+y',\n",
       " '_i12': '%load add.py\\ndef add(x,y):\\n    return x+y',\n",
       " '_i13': 'import add\\n\\nadd.add(10, 10)',\n",
       " '_i14': '%load add.py',\n",
       " '_i15': 'type(int)',\n",
       " '_i16': 'print(type(int))',\n",
       " '_i17': 'print(type(1))',\n",
       " '_i18': 'type(1)',\n",
       " '_i19': 'print(type(1))',\n",
       " '_i2': 'import sys',\n",
       " '_i20': '# 인스턴스의 정보\\nprint(type(1))',\n",
       " '_i21': '# int클래스는 type(metaclass)가 만든 것\\nprint(type(int))',\n",
       " '_i22': 'dir(int)',\n",
       " '_i23': '# int클래스의 namespace\\ndir(int)',\n",
       " '_i24': 'int.__add__',\n",
       " '_i25': 'print(int.__add__)\\nprint(type(int.__add__))',\n",
       " '_i26': 'print(int.__add__)\\n# slot warpper \\n\\nprint(type(int.__add__))\\n# 모든 methoed 는 descriptor 처럼 실행이 되는 것',\n",
       " '_i27': 'class INT:\\n    def __add__(self):\\n        pass',\n",
       " '_i28': 'print(type(INT.__add__))',\n",
       " '_i29': 'i = INT()\\nprint(i.__add__)\\nprint(type(i.__add__))',\n",
       " '_i3': 'sys.version_info',\n",
       " '_i30': 'id(INT.__add__)',\n",
       " '_i31': 'id(i._a_add__.__func__)',\n",
       " '_i32': 'id(i.__add__.__func__)',\n",
       " '_i33': 'id(i)',\n",
       " '_i34': 'id(i.__add__.__self__)',\n",
       " '_i35': 'True + 3',\n",
       " '_i36': 'bool.__bases__',\n",
       " '_i37': 'print(type(None))',\n",
       " '_i38': 'print(bool.__bases__)',\n",
       " '_i39': 'help(func)',\n",
       " '_i4': 'sys.version_info',\n",
       " '_i40': '# 함수나 클래스의 주석\\n\\ndef func():\\n    \"\"\"function docstring\"\"\"\\n    \\nclass Klass():\\n    \"\"\" class docstring\"\"\"',\n",
       " '_i41': 'help(func)',\n",
       " '_i42': 'help.__doc__',\n",
       " '_i43': 'help(help)',\n",
       " '_i44': 'type(help)',\n",
       " '_i45': 'print(type(help))',\n",
       " '_i46': 'try :\\n    var\\nexcept Exception as e :\\n    print(e)',\n",
       " '_i47': \"globals()['var']\",\n",
       " '_i48': 'var_x = 1',\n",
       " '_i49': 'var_x',\n",
       " '_i5': 'python.version',\n",
       " '_i50': \"globals()['var_x']\",\n",
       " '_i51': 'globals()',\n",
       " '_i6': 'sys.version',\n",
       " '_i7': 'sys.version',\n",
       " '_i8': '!dir',\n",
       " '_i9': '!dir',\n",
       " '_ih': ['',\n",
       "  'import sys',\n",
       "  'import sys',\n",
       "  'sys.version_info',\n",
       "  'sys.version_info',\n",
       "  'python.version',\n",
       "  'sys.version',\n",
       "  'sys.version',\n",
       "  \"get_ipython().system('dir')\",\n",
       "  \"get_ipython().system('dir')\",\n",
       "  \"get_ipython().magic('ls')\",\n",
       "  \"get_ipython().run_cell_magic('writefile', 'add.py', '\\\\ndef add(x,y):\\\\n    return x+y')\",\n",
       "  \"get_ipython().magic('load add.py')\\ndef add(x,y):\\n    return x+y\",\n",
       "  'import add\\n\\nadd.add(10, 10)',\n",
       "  \"get_ipython().magic('load add.py')\",\n",
       "  'type(int)',\n",
       "  'print(type(int))',\n",
       "  'print(type(1))',\n",
       "  'type(1)',\n",
       "  'print(type(1))',\n",
       "  '# 인스턴스의 정보\\nprint(type(1))',\n",
       "  '# int클래스는 type(metaclass)가 만든 것\\nprint(type(int))',\n",
       "  'dir(int)',\n",
       "  '# int클래스의 namespace\\ndir(int)',\n",
       "  'int.__add__',\n",
       "  'print(int.__add__)\\nprint(type(int.__add__))',\n",
       "  'print(int.__add__)\\n# slot warpper \\n\\nprint(type(int.__add__))\\n# 모든 methoed 는 descriptor 처럼 실행이 되는 것',\n",
       "  'class INT:\\n    def __add__(self):\\n        pass',\n",
       "  'print(type(INT.__add__))',\n",
       "  'i = INT()\\nprint(i.__add__)\\nprint(type(i.__add__))',\n",
       "  'id(INT.__add__)',\n",
       "  'id(i._a_add__.__func__)',\n",
       "  'id(i.__add__.__func__)',\n",
       "  'id(i)',\n",
       "  'id(i.__add__.__self__)',\n",
       "  'True + 3',\n",
       "  'bool.__bases__',\n",
       "  'print(type(None))',\n",
       "  'print(bool.__bases__)',\n",
       "  'help(func)',\n",
       "  '# 함수나 클래스의 주석\\n\\ndef func():\\n    \"\"\"function docstring\"\"\"\\n    \\nclass Klass():\\n    \"\"\" class docstring\"\"\"',\n",
       "  'help(func)',\n",
       "  'help.__doc__',\n",
       "  'help(help)',\n",
       "  'type(help)',\n",
       "  'print(type(help))',\n",
       "  'try :\\n    var\\nexcept Exception as e :\\n    print(e)',\n",
       "  \"globals()['var']\",\n",
       "  'var_x = 1',\n",
       "  'var_x',\n",
       "  \"globals()['var_x']\",\n",
       "  'globals()'],\n",
       " '_ii': 'var_x',\n",
       " '_iii': 'var_x = 1',\n",
       " '_oh': {3: sys.version_info(major=3, minor=5, micro=2, releaselevel='final', serial=0),\n",
       "  4: sys.version_info(major=3, minor=5, micro=2, releaselevel='final', serial=0),\n",
       "  6: '3.5.2 |Anaconda custom (64-bit)| (default, Jul  5 2016, 11:41:13) [MSC v.1900 64 bit (AMD64)]',\n",
       "  7: '3.5.2 |Anaconda custom (64-bit)| (default, Jul  5 2016, 11:41:13) [MSC v.1900 64 bit (AMD64)]',\n",
       "  13: 20,\n",
       "  15: type,\n",
       "  18: int,\n",
       "  22: ['__abs__',\n",
       "   '__add__',\n",
       "   '__and__',\n",
       "   '__bool__',\n",
       "   '__ceil__',\n",
       "   '__class__',\n",
       "   '__delattr__',\n",
       "   '__dir__',\n",
       "   '__divmod__',\n",
       "   '__doc__',\n",
       "   '__eq__',\n",
       "   '__float__',\n",
       "   '__floor__',\n",
       "   '__floordiv__',\n",
       "   '__format__',\n",
       "   '__ge__',\n",
       "   '__getattribute__',\n",
       "   '__getnewargs__',\n",
       "   '__gt__',\n",
       "   '__hash__',\n",
       "   '__index__',\n",
       "   '__init__',\n",
       "   '__int__',\n",
       "   '__invert__',\n",
       "   '__le__',\n",
       "   '__lshift__',\n",
       "   '__lt__',\n",
       "   '__mod__',\n",
       "   '__mul__',\n",
       "   '__ne__',\n",
       "   '__neg__',\n",
       "   '__new__',\n",
       "   '__or__',\n",
       "   '__pos__',\n",
       "   '__pow__',\n",
       "   '__radd__',\n",
       "   '__rand__',\n",
       "   '__rdivmod__',\n",
       "   '__reduce__',\n",
       "   '__reduce_ex__',\n",
       "   '__repr__',\n",
       "   '__rfloordiv__',\n",
       "   '__rlshift__',\n",
       "   '__rmod__',\n",
       "   '__rmul__',\n",
       "   '__ror__',\n",
       "   '__round__',\n",
       "   '__rpow__',\n",
       "   '__rrshift__',\n",
       "   '__rshift__',\n",
       "   '__rsub__',\n",
       "   '__rtruediv__',\n",
       "   '__rxor__',\n",
       "   '__setattr__',\n",
       "   '__sizeof__',\n",
       "   '__str__',\n",
       "   '__sub__',\n",
       "   '__subclasshook__',\n",
       "   '__truediv__',\n",
       "   '__trunc__',\n",
       "   '__xor__',\n",
       "   'bit_length',\n",
       "   'conjugate',\n",
       "   'denominator',\n",
       "   'from_bytes',\n",
       "   'imag',\n",
       "   'numerator',\n",
       "   'real',\n",
       "   'to_bytes'],\n",
       "  23: ['__abs__',\n",
       "   '__add__',\n",
       "   '__and__',\n",
       "   '__bool__',\n",
       "   '__ceil__',\n",
       "   '__class__',\n",
       "   '__delattr__',\n",
       "   '__dir__',\n",
       "   '__divmod__',\n",
       "   '__doc__',\n",
       "   '__eq__',\n",
       "   '__float__',\n",
       "   '__floor__',\n",
       "   '__floordiv__',\n",
       "   '__format__',\n",
       "   '__ge__',\n",
       "   '__getattribute__',\n",
       "   '__getnewargs__',\n",
       "   '__gt__',\n",
       "   '__hash__',\n",
       "   '__index__',\n",
       "   '__init__',\n",
       "   '__int__',\n",
       "   '__invert__',\n",
       "   '__le__',\n",
       "   '__lshift__',\n",
       "   '__lt__',\n",
       "   '__mod__',\n",
       "   '__mul__',\n",
       "   '__ne__',\n",
       "   '__neg__',\n",
       "   '__new__',\n",
       "   '__or__',\n",
       "   '__pos__',\n",
       "   '__pow__',\n",
       "   '__radd__',\n",
       "   '__rand__',\n",
       "   '__rdivmod__',\n",
       "   '__reduce__',\n",
       "   '__reduce_ex__',\n",
       "   '__repr__',\n",
       "   '__rfloordiv__',\n",
       "   '__rlshift__',\n",
       "   '__rmod__',\n",
       "   '__rmul__',\n",
       "   '__ror__',\n",
       "   '__round__',\n",
       "   '__rpow__',\n",
       "   '__rrshift__',\n",
       "   '__rshift__',\n",
       "   '__rsub__',\n",
       "   '__rtruediv__',\n",
       "   '__rxor__',\n",
       "   '__setattr__',\n",
       "   '__sizeof__',\n",
       "   '__str__',\n",
       "   '__sub__',\n",
       "   '__subclasshook__',\n",
       "   '__truediv__',\n",
       "   '__trunc__',\n",
       "   '__xor__',\n",
       "   'bit_length',\n",
       "   'conjugate',\n",
       "   'denominator',\n",
       "   'from_bytes',\n",
       "   'imag',\n",
       "   'numerator',\n",
       "   'real',\n",
       "   'to_bytes'],\n",
       "  24: <slot wrapper '__add__' of 'int' objects>,\n",
       "  30: 1578931037864,\n",
       "  32: 1578931037864,\n",
       "  33: 1578931079768,\n",
       "  34: 1578931079768,\n",
       "  35: 4,\n",
       "  36: (int,),\n",
       "  42: \"Define the builtin 'help'.\\n\\n    This is a wrapper around pydoc.help that provides a helpful message\\n    when 'help' is typed at the Python interactive prompt.\\n\\n    Calling help() at the Python prompt starts an interactive help session.\\n    Calling help(thing) prints help for the python object 'thing'.\\n    \",\n",
       "  44: _sitebuiltins._Helper,\n",
       "  49: 1,\n",
       "  50: 1},\n",
       " '_sh': <module 'IPython.core.shadowns' from 'C:\\\\Users\\\\JungChul\\\\Anaconda3\\\\lib\\\\site-packages\\\\IPython\\\\core\\\\shadowns.py'>,\n",
       " 'add': <module 'add' from 'C:\\\\workspace\\\\python\\\\fastcamp_python_camp\\\\add.py'>,\n",
       " 'exit': <IPython.core.autocall.ZMQExitAutocall at 0x16f9f8dca58>,\n",
       " 'func': <function __main__.func>,\n",
       " 'get_ipython': <bound method InteractiveShell.get_ipython of <ipykernel.zmqshell.ZMQInteractiveShell object at 0x0000016F9F8AAB38>>,\n",
       " 'i': <__main__.INT at 0x16f9fa04a58>,\n",
       " 'quit': <IPython.core.autocall.ZMQExitAutocall at 0x16f9f8dca58>,\n",
       " 'sys': <module 'sys' (built-in)>,\n",
       " 'var_x': 1}"
      ]
     },
     "execution_count": 51,
     "metadata": {},
     "output_type": "execute_result"
    }
   ],
   "source": [
    "globals()"
   ]
  },
  {
   "cell_type": "code",
   "execution_count": 47,
   "metadata": {
    "collapsed": false
   },
   "outputs": [
    {
     "ename": "KeyError",
     "evalue": "'var'",
     "output_type": "error",
     "traceback": [
      "\u001b[0;31m---------------------------------------------------------------------------\u001b[0m",
      "\u001b[0;31mKeyError\u001b[0m                                  Traceback (most recent call last)",
      "\u001b[0;32m<ipython-input-47-31f5a712f89a>\u001b[0m in \u001b[0;36m<module>\u001b[0;34m()\u001b[0m\n\u001b[0;32m----> 1\u001b[0;31m \u001b[0mglobals\u001b[0m\u001b[1;33m(\u001b[0m\u001b[1;33m)\u001b[0m\u001b[1;33m[\u001b[0m\u001b[1;34m'var'\u001b[0m\u001b[1;33m]\u001b[0m\u001b[1;33m\u001b[0m\u001b[0m\n\u001b[0m",
      "\u001b[0;31mKeyError\u001b[0m: 'var'"
     ]
    }
   ],
   "source": [
    "globals()['var']"
   ]
  },
  {
   "cell_type": "markdown",
   "metadata": {
    "colab_type": "text",
    "id": "NZZIXQCiZw3H"
   },
   "source": [
    "#### 변수 할당의 곧 초기화"
   ]
  },
  {
   "cell_type": "code",
   "execution_count": 48,
   "metadata": {
    "colab": {},
    "colab_type": "code",
    "collapsed": true,
    "id": "J-iizB-bZw3J"
   },
   "outputs": [],
   "source": [
    "var_x = 1"
   ]
  },
  {
   "cell_type": "code",
   "execution_count": 49,
   "metadata": {
    "colab": {},
    "colab_type": "code",
    "collapsed": false,
    "id": "GtV6EUJwZw3L",
    "outputId": "c937fc5e-0af1-4e6f-f333-d7fd6fd4a1e4"
   },
   "outputs": [
    {
     "data": {
      "text/plain": [
       "1"
      ]
     },
     "execution_count": 49,
     "metadata": {},
     "output_type": "execute_result"
    }
   ],
   "source": [
    "var_x"
   ]
  },
  {
   "cell_type": "code",
   "execution_count": 50,
   "metadata": {
    "collapsed": false
   },
   "outputs": [
    {
     "data": {
      "text/plain": [
       "1"
      ]
     },
     "execution_count": 50,
     "metadata": {},
     "output_type": "execute_result"
    }
   ],
   "source": [
    "globals()['var_x']"
   ]
  },
  {
   "cell_type": "code",
   "execution_count": 52,
   "metadata": {
    "collapsed": false
   },
   "outputs": [
    {
     "data": {
      "text/plain": [
       "'없음'"
      ]
     },
     "execution_count": 52,
     "metadata": {},
     "output_type": "execute_result"
    }
   ],
   "source": [
    "globals().get('var', \"없음\")"
   ]
  },
  {
   "cell_type": "code",
   "execution_count": 53,
   "metadata": {
    "collapsed": false
   },
   "outputs": [
    {
     "data": {
      "text/plain": [
       "1"
      ]
     },
     "execution_count": 53,
     "metadata": {},
     "output_type": "execute_result"
    }
   ],
   "source": [
    "globals().get('var_x', '없음')"
   ]
  },
  {
   "cell_type": "markdown",
   "metadata": {},
   "source": [
    "get method error처리 가능"
   ]
  },
  {
   "cell_type": "markdown",
   "metadata": {
    "colab_type": "text",
    "id": "S079pTaYZw3O"
   },
   "source": [
    "## 변수 내의 자료형 추론 "
   ]
  },
  {
   "cell_type": "markdown",
   "metadata": {},
   "source": [
    "print를 안쓴 상태에서 실행한거면 shell 창에서 실행하는 것   \n",
    "print를 쓰게 되면 문자열을 알려줌"
   ]
  },
  {
   "cell_type": "code",
   "execution_count": 56,
   "metadata": {
    "colab": {},
    "colab_type": "code",
    "collapsed": false,
    "id": "IV_N2FMNZw3P",
    "outputId": "b5c9e220-14e3-418e-cce8-150412a59e26"
   },
   "outputs": [
    {
     "name": "stdout",
     "output_type": "stream",
     "text": [
      "<class 'int'>\n"
     ]
    }
   ],
   "source": [
    "l = 1\n",
    "print(type(l))"
   ]
  },
  {
   "cell_type": "code",
   "execution_count": 57,
   "metadata": {
    "colab": {},
    "colab_type": "code",
    "collapsed": false,
    "id": "NjEvbmJ8Zw3S",
    "outputId": "2016c3e6-8c52-4201-bc5f-5fb3903efa07"
   },
   "outputs": [
    {
     "name": "stdout",
     "output_type": "stream",
     "text": [
      "<class 'str'>\n"
     ]
    }
   ],
   "source": [
    "l = 'string'\n",
    "print(type(l))"
   ]
  },
  {
   "cell_type": "code",
   "execution_count": 58,
   "metadata": {
    "colab": {},
    "colab_type": "code",
    "collapsed": false,
    "id": "QpCuLNbqZw3V",
    "outputId": "49f536b4-3b13-47d2-ddb6-721ec6b9f9cc"
   },
   "outputs": [
    {
     "name": "stdout",
     "output_type": "stream",
     "text": [
      "<class 'float'>\n"
     ]
    }
   ],
   "source": [
    "l = 1.1\n",
    "print(type(l))"
   ]
  },
  {
   "cell_type": "code",
   "execution_count": 64,
   "metadata": {
    "collapsed": false
   },
   "outputs": [
    {
     "data": {
      "text/plain": [
       "2"
      ]
     },
     "execution_count": 64,
     "metadata": {},
     "output_type": "execute_result"
    }
   ],
   "source": [
    "eval(\"1 +1\")"
   ]
  },
  {
   "cell_type": "code",
   "execution_count": 68,
   "metadata": {
    "collapsed": false
   },
   "outputs": [],
   "source": [
    "exec(\"bbbb = 1+1\")"
   ]
  },
  {
   "cell_type": "code",
   "execution_count": 69,
   "metadata": {
    "collapsed": false
   },
   "outputs": [
    {
     "data": {
      "text/plain": [
       "2"
      ]
     },
     "execution_count": 69,
     "metadata": {},
     "output_type": "execute_result"
    }
   ],
   "source": [
    "bbbb"
   ]
  },
  {
   "cell_type": "markdown",
   "metadata": {
    "colab_type": "text",
    "id": "qw7MpRlcZw3a"
   },
   "source": [
    "## 데이터 형변환\n",
    "\n",
    "     파이썬은 객체지향 방식에 따라 새로운 객체를 생성한다\n",
    "    "
   ]
  },
  {
   "cell_type": "code",
   "execution_count": 59,
   "metadata": {
    "colab": {},
    "colab_type": "code",
    "collapsed": true,
    "id": "ehGjPPlsZw3b"
   },
   "outputs": [],
   "source": [
    "i = 1\n",
    "j = float(i)"
   ]
  },
  {
   "cell_type": "code",
   "execution_count": 60,
   "metadata": {
    "colab": {},
    "colab_type": "code",
    "collapsed": false,
    "id": "BkqEvn6nZw3d",
    "outputId": "415e4c3e-c849-4250-eeb5-cccff3788d4c"
   },
   "outputs": [
    {
     "data": {
      "text/plain": [
       "float"
      ]
     },
     "execution_count": 60,
     "metadata": {},
     "output_type": "execute_result"
    }
   ],
   "source": [
    "float"
   ]
  },
  {
   "cell_type": "code",
   "execution_count": 61,
   "metadata": {
    "colab": {},
    "colab_type": "code",
    "collapsed": false,
    "id": "dzjP4FPOZw3g",
    "outputId": "68698067-2734-418b-8a19-97de5d9990c1"
   },
   "outputs": [
    {
     "name": "stdout",
     "output_type": "stream",
     "text": [
      "Help on class float in module builtins:\n",
      "\n",
      "class float(object)\n",
      " |  float(x) -> floating point number\n",
      " |  \n",
      " |  Convert a string or number to a floating point number, if possible.\n",
      " |  \n",
      " |  Methods defined here:\n",
      " |  \n",
      " |  __abs__(self, /)\n",
      " |      abs(self)\n",
      " |  \n",
      " |  __add__(self, value, /)\n",
      " |      Return self+value.\n",
      " |  \n",
      " |  __bool__(self, /)\n",
      " |      self != 0\n",
      " |  \n",
      " |  __divmod__(self, value, /)\n",
      " |      Return divmod(self, value).\n",
      " |  \n",
      " |  __eq__(self, value, /)\n",
      " |      Return self==value.\n",
      " |  \n",
      " |  __float__(self, /)\n",
      " |      float(self)\n",
      " |  \n",
      " |  __floordiv__(self, value, /)\n",
      " |      Return self//value.\n",
      " |  \n",
      " |  __format__(...)\n",
      " |      float.__format__(format_spec) -> string\n",
      " |      \n",
      " |      Formats the float according to format_spec.\n",
      " |  \n",
      " |  __ge__(self, value, /)\n",
      " |      Return self>=value.\n",
      " |  \n",
      " |  __getattribute__(self, name, /)\n",
      " |      Return getattr(self, name).\n",
      " |  \n",
      " |  __getformat__(...) from builtins.type\n",
      " |      float.__getformat__(typestr) -> string\n",
      " |      \n",
      " |      You probably don't want to use this function.  It exists mainly to be\n",
      " |      used in Python's test suite.\n",
      " |      \n",
      " |      typestr must be 'double' or 'float'.  This function returns whichever of\n",
      " |      'unknown', 'IEEE, big-endian' or 'IEEE, little-endian' best describes the\n",
      " |      format of floating point numbers used by the C type named by typestr.\n",
      " |  \n",
      " |  __getnewargs__(...)\n",
      " |  \n",
      " |  __gt__(self, value, /)\n",
      " |      Return self>value.\n",
      " |  \n",
      " |  __hash__(self, /)\n",
      " |      Return hash(self).\n",
      " |  \n",
      " |  __int__(self, /)\n",
      " |      int(self)\n",
      " |  \n",
      " |  __le__(self, value, /)\n",
      " |      Return self<=value.\n",
      " |  \n",
      " |  __lt__(self, value, /)\n",
      " |      Return self<value.\n",
      " |  \n",
      " |  __mod__(self, value, /)\n",
      " |      Return self%value.\n",
      " |  \n",
      " |  __mul__(self, value, /)\n",
      " |      Return self*value.\n",
      " |  \n",
      " |  __ne__(self, value, /)\n",
      " |      Return self!=value.\n",
      " |  \n",
      " |  __neg__(self, /)\n",
      " |      -self\n",
      " |  \n",
      " |  __new__(*args, **kwargs) from builtins.type\n",
      " |      Create and return a new object.  See help(type) for accurate signature.\n",
      " |  \n",
      " |  __pos__(self, /)\n",
      " |      +self\n",
      " |  \n",
      " |  __pow__(self, value, mod=None, /)\n",
      " |      Return pow(self, value, mod).\n",
      " |  \n",
      " |  __radd__(self, value, /)\n",
      " |      Return value+self.\n",
      " |  \n",
      " |  __rdivmod__(self, value, /)\n",
      " |      Return divmod(value, self).\n",
      " |  \n",
      " |  __repr__(self, /)\n",
      " |      Return repr(self).\n",
      " |  \n",
      " |  __rfloordiv__(self, value, /)\n",
      " |      Return value//self.\n",
      " |  \n",
      " |  __rmod__(self, value, /)\n",
      " |      Return value%self.\n",
      " |  \n",
      " |  __rmul__(self, value, /)\n",
      " |      Return value*self.\n",
      " |  \n",
      " |  __round__(...)\n",
      " |      Return the Integral closest to x, rounding half toward even.\n",
      " |      When an argument is passed, work like built-in round(x, ndigits).\n",
      " |  \n",
      " |  __rpow__(self, value, mod=None, /)\n",
      " |      Return pow(value, self, mod).\n",
      " |  \n",
      " |  __rsub__(self, value, /)\n",
      " |      Return value-self.\n",
      " |  \n",
      " |  __rtruediv__(self, value, /)\n",
      " |      Return value/self.\n",
      " |  \n",
      " |  __setformat__(...) from builtins.type\n",
      " |      float.__setformat__(typestr, fmt) -> None\n",
      " |      \n",
      " |      You probably don't want to use this function.  It exists mainly to be\n",
      " |      used in Python's test suite.\n",
      " |      \n",
      " |      typestr must be 'double' or 'float'.  fmt must be one of 'unknown',\n",
      " |      'IEEE, big-endian' or 'IEEE, little-endian', and in addition can only be\n",
      " |      one of the latter two if it appears to match the underlying C reality.\n",
      " |      \n",
      " |      Override the automatic determination of C-level floating point type.\n",
      " |      This affects how floats are converted to and from binary strings.\n",
      " |  \n",
      " |  __str__(self, /)\n",
      " |      Return str(self).\n",
      " |  \n",
      " |  __sub__(self, value, /)\n",
      " |      Return self-value.\n",
      " |  \n",
      " |  __truediv__(self, value, /)\n",
      " |      Return self/value.\n",
      " |  \n",
      " |  __trunc__(...)\n",
      " |      Return the Integral closest to x between 0 and x.\n",
      " |  \n",
      " |  as_integer_ratio(...)\n",
      " |      float.as_integer_ratio() -> (int, int)\n",
      " |      \n",
      " |      Return a pair of integers, whose ratio is exactly equal to the original\n",
      " |      float and with a positive denominator.\n",
      " |      Raise OverflowError on infinities and a ValueError on NaNs.\n",
      " |      \n",
      " |      >>> (10.0).as_integer_ratio()\n",
      " |      (10, 1)\n",
      " |      >>> (0.0).as_integer_ratio()\n",
      " |      (0, 1)\n",
      " |      >>> (-.25).as_integer_ratio()\n",
      " |      (-1, 4)\n",
      " |  \n",
      " |  conjugate(...)\n",
      " |      Return self, the complex conjugate of any float.\n",
      " |  \n",
      " |  fromhex(...) from builtins.type\n",
      " |      float.fromhex(string) -> float\n",
      " |      \n",
      " |      Create a floating-point number from a hexadecimal string.\n",
      " |      >>> float.fromhex('0x1.ffffp10')\n",
      " |      2047.984375\n",
      " |      >>> float.fromhex('-0x1p-1074')\n",
      " |      -5e-324\n",
      " |  \n",
      " |  hex(...)\n",
      " |      float.hex() -> string\n",
      " |      \n",
      " |      Return a hexadecimal representation of a floating-point number.\n",
      " |      >>> (-0.1).hex()\n",
      " |      '-0x1.999999999999ap-4'\n",
      " |      >>> 3.14159.hex()\n",
      " |      '0x1.921f9f01b866ep+1'\n",
      " |  \n",
      " |  is_integer(...)\n",
      " |      Return True if the float is an integer.\n",
      " |  \n",
      " |  ----------------------------------------------------------------------\n",
      " |  Data descriptors defined here:\n",
      " |  \n",
      " |  imag\n",
      " |      the imaginary part of a complex number\n",
      " |  \n",
      " |  real\n",
      " |      the real part of a complex number\n",
      "\n"
     ]
    }
   ],
   "source": [
    "help(float)"
   ]
  },
  {
   "cell_type": "code",
   "execution_count": 62,
   "metadata": {
    "colab": {},
    "colab_type": "code",
    "collapsed": false,
    "id": "3yLmTLc_Zw3i",
    "outputId": "0b64b898-6e53-48c5-ad28-9f4ebbcd6504"
   },
   "outputs": [
    {
     "name": "stdout",
     "output_type": "stream",
     "text": [
      "1858011632 <class 'int'>\n",
      "1578931082032 <class 'float'>\n"
     ]
    }
   ],
   "source": [
    "print(id(i), type(i))\n",
    "print(id(j), type(j))"
   ]
  },
  {
   "cell_type": "markdown",
   "metadata": {
    "colab_type": "text",
    "id": "3ecVYxtbZw3k"
   },
   "source": [
    "## 식별자 이해하기\n",
    "\n",
    "      \n",
    "      파이썬의 식별자는 파이썬에 있는 모든 이름을 정의하는 것을 말한다.\n",
    "      \n",
    "      키워드로 사용되는 것을 식별자로 사용하지 않도록 조심해야 한다.\n",
    "      "
   ]
  },
  {
   "cell_type": "markdown",
   "metadata": {
    "colab_type": "text",
    "id": "_-qg-WEWZw3l"
   },
   "source": [
    "#### 모듈을 import "
   ]
  },
  {
   "cell_type": "code",
   "execution_count": 70,
   "metadata": {
    "colab": {},
    "colab_type": "code",
    "collapsed": false,
    "id": "FNNufxl-Zw3m",
    "outputId": "14383a27-8926-4647-fff1-789b7c10295e"
   },
   "outputs": [
    {
     "name": "stdout",
     "output_type": "stream",
     "text": [
      "<module 'operator' from 'C:\\\\Users\\\\JungChul\\\\Anaconda3\\\\lib\\\\operator.py'>\n"
     ]
    }
   ],
   "source": [
    "import operator\n",
    "print(operator)"
   ]
  },
  {
   "cell_type": "markdown",
   "metadata": {
    "colab_type": "text",
    "id": "qQnm-QdCZw3p"
   },
   "source": [
    "#### 모듈과 동일한 이름에 정수값 할당"
   ]
  },
  {
   "cell_type": "code",
   "execution_count": 71,
   "metadata": {
    "colab": {},
    "colab_type": "code",
    "collapsed": false,
    "id": "UbDgyHSuZw3q",
    "outputId": "5f1076e5-1f0f-423a-c98f-f7504c0d4c6e"
   },
   "outputs": [
    {
     "name": "stdout",
     "output_type": "stream",
     "text": [
      "1\n"
     ]
    }
   ],
   "source": [
    "operator = 1\n",
    "print(operator)"
   ]
  },
  {
   "cell_type": "code",
   "execution_count": 74,
   "metadata": {
    "collapsed": false
   },
   "outputs": [
    {
     "data": {
      "text/plain": [
       "1"
      ]
     },
     "execution_count": 74,
     "metadata": {},
     "output_type": "execute_result"
    }
   ],
   "source": [
    "globals()['operator']"
   ]
  },
  {
   "cell_type": "markdown",
   "metadata": {
    "colab_type": "text",
    "id": "J-axYKaiZw3v"
   },
   "source": [
    "## 키워드 알아보기"
   ]
  },
  {
   "cell_type": "code",
   "execution_count": 75,
   "metadata": {
    "colab": {},
    "colab_type": "code",
    "collapsed": false,
    "id": "GmdKkfVlZw3w",
    "outputId": "e9eb5473-936f-46fc-ae86-67126686f3d2"
   },
   "outputs": [
    {
     "name": "stdout",
     "output_type": "stream",
     "text": [
      "['__all__',\n",
      " '__builtins__',\n",
      " '__cached__',\n",
      " '__doc__',\n",
      " '__file__',\n",
      " '__loader__',\n",
      " '__name__',\n",
      " '__package__',\n",
      " '__spec__',\n",
      " 'iskeyword',\n",
      " 'kwlist',\n",
      " 'main']\n"
     ]
    }
   ],
   "source": [
    "import keyword\n",
    "import pprint\n",
    "\n",
    "pprint.pprint(dir(keyword))"
   ]
  },
  {
   "cell_type": "code",
   "execution_count": 76,
   "metadata": {
    "colab": {},
    "colab_type": "code",
    "collapsed": false,
    "id": "APy-XlYNZw30",
    "outputId": "e7421a2f-adba-44db-e71c-fdbafee7bbf9"
   },
   "outputs": [
    {
     "name": "stdout",
     "output_type": "stream",
     "text": [
      "False None True and \n",
      "as assert break class continue \n",
      "def del elif else except \n",
      "finally for from global if \n",
      "import in is lambda nonlocal \n",
      "not or pass raise return \n",
      "try while with yield "
     ]
    }
   ],
   "source": [
    "count = 0\n",
    "for i in keyword.kwlist:\n",
    "    count += 1\n",
    "    if count % 5 == 0:\n",
    "        print()\n",
    "    print(i, end=' ')"
   ]
  },
  {
   "cell_type": "markdown",
   "metadata": {
    "colab_type": "text",
    "id": "LcromlGQZw32"
   },
   "source": [
    "## 변수 binding 규칙\n",
    "\n",
    "\n",
    "      변수와 값이 실제 바인딩되어야 할당이 되고 이를 참조해서 처리할 수 있다. "
   ]
  },
  {
   "cell_type": "markdown",
   "metadata": {
    "colab_type": "text",
    "id": "N20qCstRZw33"
   },
   "source": [
    "### 변수 할당 처리 기준"
   ]
  },
  {
   "cell_type": "markdown",
   "metadata": {
    "colab_type": "text",
    "id": "LTJOmcnIZw33"
   },
   "source": [
    "#### 표현식을 먼저 처리하고 변수에 할당....\n"
   ]
  },
  {
   "cell_type": "code",
   "execution_count": 77,
   "metadata": {
    "colab": {},
    "colab_type": "code",
    "collapsed": false,
    "id": "u9bUsj1eZw33",
    "outputId": "9c110cf8-e492-4477-826f-c3b4ba30e782"
   },
   "outputs": [
    {
     "name": "stdout",
     "output_type": "stream",
     "text": [
      "name 'iii' is not defined\n"
     ]
    }
   ],
   "source": [
    "try :\n",
    "    iii = iii + 1\n",
    "except Exception as e :\n",
    "    print(e)"
   ]
  },
  {
   "cell_type": "markdown",
   "metadata": {
    "colab_type": "text",
    "id": "J_T0Dn1zZw38"
   },
   "source": [
    "### 변수 정의는 곧 할당"
   ]
  },
  {
   "cell_type": "code",
   "execution_count": 78,
   "metadata": {
    "colab": {},
    "colab_type": "code",
    "collapsed": true,
    "id": "f-4A1NZ1Zw3-"
   },
   "outputs": [],
   "source": [
    "message = \"what's up, Doc?\"\n",
    "n = 17\n",
    "pi = 3.14159"
   ]
  },
  {
   "cell_type": "code",
   "execution_count": 79,
   "metadata": {
    "colab": {},
    "colab_type": "code",
    "collapsed": false,
    "id": "fWNjeH_oZw4A",
    "outputId": "3ca13535-1a9e-4d60-ab7a-fa94c6ad4196"
   },
   "outputs": [
    {
     "data": {
      "text/plain": [
       "\"what's up, Doc?\""
      ]
     },
     "execution_count": 79,
     "metadata": {},
     "output_type": "execute_result"
    }
   ],
   "source": [
    "globals()['message']"
   ]
  },
  {
   "cell_type": "markdown",
   "metadata": {
    "colab_type": "text",
    "id": "lAfpLu_cZw4D"
   },
   "source": [
    "### 변수에 할당된 객체 정보 알아보기"
   ]
  },
  {
   "cell_type": "code",
   "execution_count": 86,
   "metadata": {
    "colab": {},
    "colab_type": "code",
    "collapsed": false,
    "id": "wz-R8os2Zw4D",
    "outputId": "cd0a45ee-5425-4f5b-88c1-b0d8880950b2"
   },
   "outputs": [
    {
     "name": "stdout",
     "output_type": "stream",
     "text": [
      "<class 'str'> Hello\n",
      "str\n",
      "<method-wrapper '__str__' of str object at 0x0000016F9FA311B8>\n",
      "<method-wrapper '__repr__' of str object at 0x0000016F9FA311B8>\n",
      "var_x\n"
     ]
    }
   ],
   "source": [
    "var = \"Hello\"\n",
    "print(type(var), var)\n",
    "\n",
    "print(var.__class__.__name__)\n",
    "\n",
    "# 출력하는 영역이 다름 \n",
    "print(var.__str__)  # sys.log\n",
    "print(var.__repr__) # idle \n",
    "\n",
    "print(dir()[-1])"
   ]
  },
  {
   "cell_type": "code",
   "execution_count": 82,
   "metadata": {
    "collapsed": false
   },
   "outputs": [
    {
     "ename": "NameError",
     "evalue": "name 'hello' is not defined",
     "output_type": "error",
     "traceback": [
      "\u001b[0;31m---------------------------------------------------------------------------\u001b[0m",
      "\u001b[0;31mNameError\u001b[0m                                 Traceback (most recent call last)",
      "\u001b[0;32m<ipython-input-82-57e5d97392a8>\u001b[0m in \u001b[0;36m<module>\u001b[0;34m()\u001b[0m\n\u001b[0;32m----> 1\u001b[0;31m \u001b[0meval\u001b[0m\u001b[1;33m(\u001b[0m\u001b[1;34m'hello'\u001b[0m\u001b[1;33m)\u001b[0m\u001b[1;33m\u001b[0m\u001b[0m\n\u001b[0m",
      "\u001b[0;32m<string>\u001b[0m in \u001b[0;36m<module>\u001b[0;34m()\u001b[0m\n",
      "\u001b[0;31mNameError\u001b[0m: name 'hello' is not defined"
     ]
    }
   ],
   "source": [
    "eval('hello')"
   ]
  },
  {
   "cell_type": "markdown",
   "metadata": {},
   "source": [
    "출력하는 영역을 구분하자"
   ]
  },
  {
   "cell_type": "code",
   "execution_count": 83,
   "metadata": {
    "collapsed": false
   },
   "outputs": [
    {
     "data": {
      "text/plain": [
       "'hello'"
      ]
     },
     "execution_count": 83,
     "metadata": {},
     "output_type": "execute_result"
    }
   ],
   "source": [
    "eval(repr('hello'))"
   ]
  },
  {
   "cell_type": "code",
   "execution_count": 84,
   "metadata": {
    "collapsed": false
   },
   "outputs": [
    {
     "data": {
      "text/plain": [
       "\"'hello'\""
      ]
     },
     "execution_count": 84,
     "metadata": {},
     "output_type": "execute_result"
    }
   ],
   "source": [
    "repr('hello')"
   ]
  },
  {
   "cell_type": "code",
   "execution_count": 85,
   "metadata": {
    "collapsed": false
   },
   "outputs": [
    {
     "data": {
      "text/plain": [
       "'hello'"
      ]
     },
     "execution_count": 85,
     "metadata": {},
     "output_type": "execute_result"
    }
   ],
   "source": [
    "eval('\"hello\"')"
   ]
  },
  {
   "cell_type": "markdown",
   "metadata": {
    "colab_type": "text",
    "id": "PNuwsVsPZw4G"
   },
   "source": [
    "#### 객체에 대한 별칭 처리 알아보기"
   ]
  },
  {
   "cell_type": "code",
   "execution_count": 87,
   "metadata": {
    "colab": {},
    "colab_type": "code",
    "collapsed": false,
    "id": "NGuh4DMsZw4G",
    "outputId": "55d6029d-cc67-45f9-ff18-dc7a88ad2d89"
   },
   "outputs": [
    {
     "name": "stdout",
     "output_type": "stream",
     "text": [
      "True\n"
     ]
    }
   ],
   "source": [
    "i = 1\n",
    "j = i\n",
    "print(i is j)"
   ]
  },
  {
   "cell_type": "markdown",
   "metadata": {
    "colab_type": "text",
    "id": "rSS5sQsQZw4J"
   },
   "source": [
    "### 변수 삭제 "
   ]
  },
  {
   "cell_type": "code",
   "execution_count": 0,
   "metadata": {
    "colab": {},
    "colab_type": "code",
    "collapsed": false,
    "id": "9jUQMp-mZw4L",
    "outputId": "d36604fe-bac4-4d8c-d689-d67a7d26315a"
   },
   "outputs": [
    {
     "name": "stdout",
     "output_type": "stream",
     "text": [
      "1515875344 1\n",
      "1515875344 1\n"
     ]
    }
   ],
   "source": [
    "a = 1\n",
    "b = 1\n",
    "\n",
    "print(id(a), a)\n",
    "print(id(b), b)\n"
   ]
  },
  {
   "cell_type": "code",
   "execution_count": 0,
   "metadata": {
    "colab": {},
    "colab_type": "code",
    "collapsed": false,
    "id": "cGM6vupjZw4P",
    "outputId": "ac1b1a1a-48aa-4467-850a-90ae5d5e9b89"
   },
   "outputs": [
    {
     "name": "stdout",
     "output_type": "stream",
     "text": [
      "1515875344 1\n"
     ]
    }
   ],
   "source": [
    "del a\n",
    "print(id(b), b)\n"
   ]
  },
  {
   "cell_type": "code",
   "execution_count": 0,
   "metadata": {
    "colab": {},
    "colab_type": "code",
    "collapsed": false,
    "id": "usFcys8YZw4R",
    "outputId": "32f9b798-b999-40e6-810c-4000f5c757ab"
   },
   "outputs": [
    {
     "name": "stdout",
     "output_type": "stream",
     "text": [
      "name 'a' is not defined\n"
     ]
    }
   ],
   "source": [
    "try : \n",
    "    print(a)\n",
    "except Exception as e :\n",
    "    print(e)"
   ]
  },
  {
   "cell_type": "markdown",
   "metadata": {
    "colab_type": "text",
    "id": "23MLMv_NZw4U"
   },
   "source": [
    "### 변수 갱신 규칙 \n",
    "\n",
    "     일반적으로 변수의 할당은 항상 새로운 객체의 레퍼런스가 연결된다.\n",
    "    "
   ]
  },
  {
   "cell_type": "code",
   "execution_count": 0,
   "metadata": {
    "colab": {},
    "colab_type": "code",
    "collapsed": false,
    "id": "f7uUjLYTZw4X",
    "outputId": "795d79cd-c49d-4681-c215-cc8a2c13cf74"
   },
   "outputs": [
    {
     "name": "stdout",
     "output_type": "stream",
     "text": [
      "3\n"
     ]
    }
   ],
   "source": [
    "x = 2\n",
    "x += 1\n",
    "print(x)"
   ]
  },
  {
   "cell_type": "code",
   "execution_count": 0,
   "metadata": {
    "colab": {},
    "colab_type": "code",
    "collapsed": false,
    "id": "F3uZtkA9Zw4a",
    "outputId": "ef1961fe-3130-46ac-b08b-2a30d3a8f7c2"
   },
   "outputs": [
    {
     "name": "stdout",
     "output_type": "stream",
     "text": [
      "6\n"
     ]
    }
   ],
   "source": [
    "x *= 2\n",
    "print(x)"
   ]
  },
  {
   "cell_type": "markdown",
   "metadata": {
    "colab_type": "text",
    "id": "DpQxbR4kZw4e"
   },
   "source": [
    "#### 모든 자료형은 자신만의 클래스를 가지고 있다.\n",
    "\n",
    "        객체 인스턴스에서 __class__ 속성을 확인하거나 type 클래스로 처리하면 클래스 정보를 확인한다.\n",
    "        "
   ]
  },
  {
   "cell_type": "code",
   "execution_count": 0,
   "metadata": {
    "colab": {},
    "colab_type": "code",
    "collapsed": false,
    "id": "5ChFexTKZw4f",
    "outputId": "635f6ad1-5a43-453b-a64a-1219d146e15a"
   },
   "outputs": [
    {
     "name": "stdout",
     "output_type": "stream",
     "text": [
      "<class 'float'>\n",
      "<class 'int'>\n"
     ]
    }
   ],
   "source": [
    "print(type(1.1))\n",
    "print(type(17))"
   ]
  },
  {
   "cell_type": "code",
   "execution_count": 0,
   "metadata": {
    "colab": {},
    "colab_type": "code",
    "collapsed": false,
    "id": "SR4DawggZw4j",
    "outputId": "457a5f54-ce50-4d06-c7fb-f877c05dd904"
   },
   "outputs": [
    {
     "name": "stdout",
     "output_type": "stream",
     "text": [
      "<class 'int'>\n"
     ]
    }
   ],
   "source": [
    "print((1).__class__)"
   ]
  },
  {
   "cell_type": "markdown",
   "metadata": {
    "colab_type": "text",
    "id": "SN8UlAJ4Zw4m"
   },
   "source": [
    "#### dir 함수로 자신의 사용할 수 있는 내부 정보 확인"
   ]
  },
  {
   "cell_type": "code",
   "execution_count": 88,
   "metadata": {
    "colab": {},
    "colab_type": "code",
    "collapsed": false,
    "id": "Vdduj25YZw4m",
    "outputId": "d36d636c-ca96-441c-cd85-5746d8a637f0"
   },
   "outputs": [
    {
     "name": "stdout",
     "output_type": "stream",
     "text": [
      "__abs__, __add__, __and__, __bool__, __ceil__, __class__, __delattr__, __dir__, __divmod__, __doc__, __eq__, __float__, __floor__, __floordiv__, __format__, __ge__, __getattribute__, __getnewargs__, __gt__, __hash__, __index__, __init__, __int__, __invert__, __le__, __lshift__, __lt__, __mod__, __mul__, __ne__, __neg__, __new__, __or__, __pos__, __pow__, __radd__, __rand__, __rdivmod__, __reduce__, __reduce_ex__, __repr__, __rfloordiv__, __rlshift__, __rmod__, __rmul__, __ror__, __round__, __rpow__, __rrshift__, __rshift__, __rsub__, __rtruediv__, __rxor__, __setattr__, __sizeof__, __str__, __sub__, __subclasshook__, __truediv__, __trunc__, __xor__, bit_length, conjugate, denominator, from_bytes, imag, numerator, real, to_bytes, "
     ]
    }
   ],
   "source": [
    "for i in dir(1) :\n",
    "    print(i, end=', ')"
   ]
  },
  {
   "cell_type": "markdown",
   "metadata": {
    "colab_type": "text",
    "id": "Yo5fdwiOZw4t"
   },
   "source": [
    "### 글로벌 변수와 로컬 변수 이해하기"
   ]
  },
  {
   "cell_type": "code",
   "execution_count": 94,
   "metadata": {
    "colab": {},
    "colab_type": "code",
    "collapsed": false,
    "id": "vPAe39FZZw4t",
    "outputId": "911a20af-5008-4d2d-ec6b-b8fd0939f458"
   },
   "outputs": [
    {
     "name": "stdout",
     "output_type": "stream",
     "text": [
      "1858011920\n"
     ]
    }
   ],
   "source": [
    "a = 10                      # 10 이라는 숫자 객체 생성 후 참조가 생성\n",
    "print(id(a))                # 변수에 숫자 10의 객체의 참조가 저장\n",
    "                               "
   ]
  },
  {
   "cell_type": "code",
   "execution_count": 95,
   "metadata": {
    "colab": {},
    "colab_type": "code",
    "collapsed": true,
    "id": "4F8Ztx60Zw4x"
   },
   "outputs": [],
   "source": [
    "def aa(a):      \n",
    "    aa = locals()\n",
    "    print(aa['a'])          # 10\n",
    "    print(id(aa['a']))      # id - 레퍼런스 값"
   ]
  },
  {
   "cell_type": "markdown",
   "metadata": {
    "colab_type": "text",
    "id": "qd47Tt8nZw40"
   },
   "source": [
    "####  글로벌 변수 a를 aa함수에 로컬변수 a로 할당\n",
    "\n",
    "    실제 전달되는 값은 레퍼런스가 전달되는 것을 알 수 있다."
   ]
  },
  {
   "cell_type": "code",
   "execution_count": 0,
   "metadata": {
    "colab": {},
    "colab_type": "code",
    "collapsed": false,
    "id": "yqTEu2RUZw40",
    "outputId": "f3abf10d-a579-444f-c12d-a2ea441318bd"
   },
   "outputs": [
    {
     "name": "stdout",
     "output_type": "stream",
     "text": [
      "10\n",
      "1515875632\n"
     ]
    }
   ],
   "source": [
    "aa(a)  "
   ]
  },
  {
   "cell_type": "markdown",
   "metadata": {
    "colab_type": "text",
    "id": "NAUDwfVtZw42"
   },
   "source": [
    "###  변수  정의를 글로벌 확인\n"
   ]
  },
  {
   "cell_type": "code",
   "execution_count": 0,
   "metadata": {
    "colab": {},
    "colab_type": "code",
    "collapsed": false,
    "id": "eoB2FL7nZw43",
    "outputId": "0a25cfd7-6492-4e6f-8cad-80b906152e1e"
   },
   "outputs": [
    {
     "name": "stdout",
     "output_type": "stream",
     "text": [
      "None\n",
      "<class 'object'>\n"
     ]
    }
   ],
   "source": [
    "var = None\n",
    "obj = object\n",
    "\n",
    "print(globals()['var'])\n",
    "print(globals()['obj'])"
   ]
  },
  {
   "cell_type": "markdown",
   "metadata": {
    "colab_type": "text",
    "id": "_FyZKRV2Zw45"
   },
   "source": [
    "### 함수와 클래스 이름도 하나의 변수\n",
    "\n",
    "\n",
    "       실제 함수와 클래스를 정의하면 이 이름으로 변수명이 처리된다.\n",
    "       "
   ]
  },
  {
   "cell_type": "code",
   "execution_count": 0,
   "metadata": {
    "colab": {},
    "colab_type": "code",
    "collapsed": false,
    "id": "IaenQWhgZw45",
    "outputId": "10da5bad-4363-41c1-bb99-2334ece6ffc8"
   },
   "outputs": [
    {
     "name": "stdout",
     "output_type": "stream",
     "text": [
      "<function var at 0x00000000065E1158>\n"
     ]
    }
   ],
   "source": [
    "\n",
    "def var(x, y):\n",
    "    return(y, x)\n",
    "\n",
    "print(var)"
   ]
  },
  {
   "cell_type": "code",
   "execution_count": 0,
   "metadata": {
    "colab": {},
    "colab_type": "code",
    "collapsed": false,
    "id": "xmnu-d-yZw47",
    "outputId": "1e5779a2-faeb-472b-f0c8-e98fc870b033"
   },
   "outputs": [
    {
     "name": "stdout",
     "output_type": "stream",
     "text": [
      "<class '__main__.obj'>\n"
     ]
    }
   ],
   "source": [
    "class obj:\n",
    "    pass\n",
    "\n",
    "print(obj)\n"
   ]
  },
  {
   "cell_type": "code",
   "execution_count": 0,
   "metadata": {
    "colab": {},
    "colab_type": "code",
    "collapsed": false,
    "id": "Q5pPqavFZw4_",
    "outputId": "72e79b94-e669-4f8d-d2e4-8c9673af68a4"
   },
   "outputs": [
    {
     "name": "stdout",
     "output_type": "stream",
     "text": [
      "<class 'function'>\n",
      "<class 'type'>\n"
     ]
    }
   ],
   "source": [
    "print(type(var))\n",
    "print(type(obj))"
   ]
  },
  {
   "cell_type": "markdown",
   "metadata": {
    "colab_type": "text",
    "id": "-G2UwkFkZw5A"
   },
   "source": [
    "## 클래스 내부의 속성 정의 하는 방법 \n",
    "\n",
    "      파이썬 네임스페이스 관리 규칙은 항상 런타임에 새로운 것을 생성해서 저장한다.\n",
    "      \n",
    "      "
   ]
  },
  {
   "cell_type": "markdown",
   "metadata": {
    "colab_type": "text",
    "id": "3NF19HrBZw5B"
   },
   "source": [
    "### 빈 클래스 정의"
   ]
  },
  {
   "cell_type": "code",
   "execution_count": 97,
   "metadata": {
    "colab": {},
    "colab_type": "code",
    "collapsed": true,
    "id": "Tq-24bnsZw5D"
   },
   "outputs": [],
   "source": [
    "class P:\n",
    "    pass"
   ]
  },
  {
   "cell_type": "code",
   "execution_count": 98,
   "metadata": {
    "collapsed": false
   },
   "outputs": [
    {
     "data": {
      "text/plain": [
       "mappingproxy({'__dict__': <attribute '__dict__' of 'P' objects>,\n",
       "              '__doc__': None,\n",
       "              '__module__': '__main__',\n",
       "              '__weakref__': <attribute '__weakref__' of 'P' objects>})"
      ]
     },
     "execution_count": 98,
     "metadata": {},
     "output_type": "execute_result"
    }
   ],
   "source": [
    "P.__dict__"
   ]
  },
  {
   "cell_type": "markdown",
   "metadata": {
    "colab_type": "text",
    "id": "oXTF1A5WZw5E"
   },
   "source": [
    "### 클래스 내부에 속성을 내장함수로 추가\n",
    "\n",
    "      setattr 내장함수로 속성 추가 "
   ]
  },
  {
   "cell_type": "code",
   "execution_count": 100,
   "metadata": {
    "colab": {},
    "colab_type": "code",
    "collapsed": false,
    "id": "LXY-U911Zw5F",
    "outputId": "1419f928-3a30-4584-ee31-913b254b9e49"
   },
   "outputs": [
    {
     "name": "stdout",
     "output_type": "stream",
     "text": [
      "mappingproxy({'__dict__': <attribute '__dict__' of 'P' objects>,\n",
      "              '__doc__': None,\n",
      "              '__module__': '__main__',\n",
      "              '__weakref__': <attribute '__weakref__' of 'P' objects>,\n",
      "              'name': 'add name'})\n"
     ]
    }
   ],
   "source": [
    "setattr(P, 'name', 'add name')\n",
    "pprint.pprint(P.__dict__)\n"
   ]
  },
  {
   "cell_type": "markdown",
   "metadata": {},
   "source": [
    "P()의 인스턴스 p1의 속성은 없기 때문에 비어있는 것을 확인할 수 있다."
   ]
  },
  {
   "cell_type": "code",
   "execution_count": 101,
   "metadata": {
    "colab": {},
    "colab_type": "code",
    "collapsed": false,
    "id": "wqrjs1HuZw5I",
    "outputId": "f5fdc6e9-bd38-439e-91cc-93c5f5fd3232"
   },
   "outputs": [
    {
     "name": "stdout",
     "output_type": "stream",
     "text": [
      "{}\n"
     ]
    }
   ],
   "source": [
    "p1 = P()\n",
    "print(p1.__dict__)"
   ]
  },
  {
   "cell_type": "code",
   "execution_count": 102,
   "metadata": {
    "collapsed": true
   },
   "outputs": [],
   "source": [
    "p1.add = 100"
   ]
  },
  {
   "cell_type": "code",
   "execution_count": 103,
   "metadata": {
    "collapsed": false
   },
   "outputs": [
    {
     "data": {
      "text/plain": [
       "{'add': 100}"
      ]
     },
     "execution_count": 103,
     "metadata": {},
     "output_type": "execute_result"
    }
   ],
   "source": [
    "p1.__dict__"
   ]
  },
  {
   "cell_type": "markdown",
   "metadata": {
    "colab_type": "text",
    "id": "LY5NvGKTZw5J"
   },
   "source": [
    "### 초기화 함수를 외부에 정의하고 클래스 내부에 할당"
   ]
  },
  {
   "cell_type": "code",
   "execution_count": 104,
   "metadata": {
    "colab": {},
    "colab_type": "code",
    "collapsed": false,
    "id": "NgMB5BhUZw5K",
    "outputId": "8b114bde-af6f-49a9-d8cc-854b62d82345"
   },
   "outputs": [
    {
     "name": "stdout",
     "output_type": "stream",
     "text": [
      "mappingproxy({'__dict__': <attribute '__dict__' of 'P' objects>,\n",
      "              '__doc__': None,\n",
      "              '__init__': <function __init__ at 0x0000016F9F9FA7B8>,\n",
      "              '__module__': '__main__',\n",
      "              '__weakref__': <attribute '__weakref__' of 'P' objects>,\n",
      "              'name': 'add name'})\n"
     ]
    }
   ],
   "source": [
    "def __init__(self, name):\n",
    "    self.name = name\n",
    "    \n",
    "setattr(P, \"__init__\", __init__)\n",
    "\n",
    "pprint.pprint(P.__dict__)"
   ]
  },
  {
   "cell_type": "code",
   "execution_count": 105,
   "metadata": {
    "colab": {},
    "colab_type": "code",
    "collapsed": false,
    "id": "H__tVr-lZw5N",
    "outputId": "8d5b4e1a-128b-4d3a-e33e-c2b0212de234"
   },
   "outputs": [
    {
     "name": "stdout",
     "output_type": "stream",
     "text": [
      "{'name': ' instance name '}\n"
     ]
    }
   ],
   "source": [
    "p2 = P(\" instance name \")\n",
    "print(p2.__dict__)"
   ]
  },
  {
   "cell_type": "code",
   "execution_count": 106,
   "metadata": {
    "collapsed": true
   },
   "outputs": [],
   "source": [
    "class A :\n",
    "    __init__ = __init__"
   ]
  },
  {
   "cell_type": "code",
   "execution_count": 107,
   "metadata": {
    "collapsed": true
   },
   "outputs": [],
   "source": [
    "a = A('name')"
   ]
  },
  {
   "cell_type": "code",
   "execution_count": 109,
   "metadata": {
    "collapsed": false
   },
   "outputs": [
    {
     "data": {
      "text/plain": [
       "{'name': 'name'}"
      ]
     },
     "execution_count": 109,
     "metadata": {},
     "output_type": "execute_result"
    }
   ],
   "source": [
    "a.__dict__"
   ]
  },
  {
   "cell_type": "markdown",
   "metadata": {
    "colab_type": "text",
    "id": "cVI6a5ygZw5P"
   },
   "source": [
    "### 두 개의 클래스를 정의하고 하나의 클래스가 내부에 들어가서 처리할 경우 확인 "
   ]
  },
  {
   "cell_type": "code",
   "execution_count": 0,
   "metadata": {
    "colab": {},
    "colab_type": "code",
    "collapsed": true,
    "id": "bE_9rqSuZw5Q"
   },
   "outputs": [],
   "source": [
    "class A:\n",
    "    pass"
   ]
  },
  {
   "cell_type": "markdown",
   "metadata": {
    "colab_type": "text",
    "id": "M7kjU9csZw5R"
   },
   "source": [
    "#### 다른 클래스의 인스턴스를 초기화 처리 \n",
    "\n",
    "     문자열을 실행해서 글로벌 변수 참조하는 문장을 만든다.  "
   ]
  },
  {
   "cell_type": "code",
   "execution_count": 0,
   "metadata": {
    "colab": {},
    "colab_type": "code",
    "collapsed": true,
    "id": "HCwwA8-cZw5S"
   },
   "outputs": [],
   "source": [
    "def __init__(self, var, name):\n",
    "        exec('global ' + var)\n",
    "        \n",
    "        other = A()\n",
    "        globals()[var] = other\n",
    "        self.__setattr__(other, name)"
   ]
  },
  {
   "cell_type": "code",
   "execution_count": 0,
   "metadata": {
    "colab": {},
    "colab_type": "code",
    "collapsed": true,
    "id": "dXxS5RvxZw5T"
   },
   "outputs": [],
   "source": [
    "class B:\n",
    "    __init__ = __init__\n",
    "\n",
    "    def __setattr__(self, other, name):\n",
    "        setattr(other, 'name', name)"
   ]
  },
  {
   "cell_type": "code",
   "execution_count": 0,
   "metadata": {
    "colab": {},
    "colab_type": "code",
    "collapsed": false,
    "id": "aWlpWuwKZw5W",
    "outputId": "2ff0626a-5c43-4293-d003-6e624a454dbc"
   },
   "outputs": [
    {
     "name": "stdout",
     "output_type": "stream",
     "text": [
      "<__main__.A object at 0x00000000065CBDD8>\n",
      "{'name': 'Moon Dahl'}\n",
      "<class '__main__.A'>\n"
     ]
    }
   ],
   "source": [
    "b = B('othe', \"Moon Dahl\")\n",
    "\n",
    "print(othe)\n",
    "print(othe.__dict__)\n",
    "print(type(othe))"
   ]
  },
  {
   "cell_type": "markdown",
   "metadata": {
    "colab_type": "text",
    "id": "Jr2Qtd9qZw5Y"
   },
   "source": [
    "#### 실제 A 클래스를 처리한 결과만 있으므로 B 클래스는 내부적으로 아무것도 하지 않음"
   ]
  },
  {
   "cell_type": "code",
   "execution_count": 0,
   "metadata": {
    "colab": {},
    "colab_type": "code",
    "collapsed": false,
    "id": "u9OEjHA1Zw5Y",
    "outputId": "6a07537e-6613-45a1-b1d2-1ae5ca6629be"
   },
   "outputs": [
    {
     "data": {
      "text/plain": [
       "<__main__.B at 0x65cb780>"
      ]
     },
     "execution_count": 53,
     "metadata": {
      "tags": []
     },
     "output_type": "execute_result"
    }
   ],
   "source": [
    "b"
   ]
  },
  {
   "cell_type": "code",
   "execution_count": 0,
   "metadata": {
    "colab": {},
    "colab_type": "code",
    "collapsed": false,
    "id": "LbrE39y9Zw5Z",
    "outputId": "e1d56ddc-fd80-46ff-fa41-2c5ecdafcdae"
   },
   "outputs": [
    {
     "data": {
      "text/plain": [
       "{}"
      ]
     },
     "execution_count": 54,
     "metadata": {
      "tags": []
     },
     "output_type": "execute_result"
    }
   ],
   "source": [
    "b.__dict__"
   ]
  },
  {
   "cell_type": "code",
   "execution_count": 0,
   "metadata": {
    "colab": {},
    "colab_type": "code",
    "collapsed": false,
    "id": "i-LWVjuNZw5b",
    "outputId": "c303e764-7307-49b0-e7cf-07095e0d8270"
   },
   "outputs": [
    {
     "name": "stdout",
     "output_type": "stream",
     "text": [
      "<__main__.A object at 0x00000000065E7780>\n",
      "{'name': 'Hello world'}\n",
      "<class '__main__.A'>\n"
     ]
    }
   ],
   "source": [
    "b = B('dahl', \"Hello world\")\n",
    "print(dahl)\n",
    "print(dahl.__dict__)\n",
    "print(type(dahl))"
   ]
  },
  {
   "cell_type": "markdown",
   "metadata": {
    "colab_type": "text",
    "id": "xze16eatZw5g"
   },
   "source": [
    "## 갱신처리 가능여부 확인\n",
    "\n",
    "       mutable과 immutable"
   ]
  },
  {
   "cell_type": "markdown",
   "metadata": {
    "colab_type": "text",
    "id": "GeqEiNx8Zw5g"
   },
   "source": [
    "#### 함수를 정의해서 각 타입에 대한 갱신여부를 확인"
   ]
  },
  {
   "cell_type": "code",
   "execution_count": 110,
   "metadata": {
    "colab": {},
    "colab_type": "code",
    "collapsed": true,
    "id": "NPwSdrroZw5h"
   },
   "outputs": [],
   "source": [
    "from collections.abc import *"
   ]
  },
  {
   "cell_type": "code",
   "execution_count": 111,
   "metadata": {
    "colab": {},
    "colab_type": "code",
    "collapsed": false,
    "id": "O1TI5SfYZw5h",
    "outputId": "0b366e11-9d1a-44c3-e0ac-2963938e4821"
   },
   "outputs": [
    {
     "name": "stdout",
     "output_type": "stream",
     "text": [
      "False\n",
      "False\n",
      "True\n"
     ]
    }
   ],
   "source": [
    "import collections.abc as cols\n",
    "\n",
    "\n",
    "print(issubclass(str, cols.MutableSequence))\n",
    "print(issubclass(tuple, cols.MutableSequence))\n",
    "print(issubclass(list, cols.MutableSequence))"
   ]
  },
  {
   "cell_type": "markdown",
   "metadata": {},
   "source": [
    "protocol interface => 규약만 같으면 상속과 같다고 인식해서 사용한다.  \n",
    "list는 object만 상속"
   ]
  },
  {
   "cell_type": "code",
   "execution_count": 113,
   "metadata": {
    "collapsed": false
   },
   "outputs": [
    {
     "data": {
      "text/plain": [
       "(object,)"
      ]
     },
     "execution_count": 113,
     "metadata": {},
     "output_type": "execute_result"
    }
   ],
   "source": [
    "list.__bases__"
   ]
  },
  {
   "cell_type": "code",
   "execution_count": 114,
   "metadata": {
    "colab": {},
    "colab_type": "code",
    "collapsed": true,
    "id": "tD8GuymXZw5k"
   },
   "outputs": [],
   "source": [
    "def ismutable(obj):\n",
    "    result = False\n",
    "    com = obj.__class__.__name__ # 타입을 문자열로 가져오기\n",
    "    if isinstance(obj, (MutableMapping, MutableSequence, MutableSet)):\n",
    "        result = True\n",
    "    return (com, result)"
   ]
  },
  {
   "cell_type": "markdown",
   "metadata": {
    "colab_type": "text",
    "id": "j80kXp4yZw5m"
   },
   "source": [
    "#### 갱신가능한 것을 True 불가능한 것은 False"
   ]
  },
  {
   "cell_type": "code",
   "execution_count": 115,
   "metadata": {
    "colab": {},
    "colab_type": "code",
    "collapsed": false,
    "id": "hLedbN-BZw5m",
    "outputId": "11d60739-cfa9-4c14-b65b-b744aa86bb4f"
   },
   "outputs": [
    {
     "name": "stdout",
     "output_type": "stream",
     "text": [
      "str is  ('str', False)\n",
      "list is  ('list', True)\n",
      "tuple is  ('tuple', False)\n",
      "dict is  ('dict', True)\n",
      "object is  ('type', False)\n",
      "function is  ('function', False)\n"
     ]
    }
   ],
   "source": [
    "print('str is ', ismutable('a'))\n",
    "print('list is ', ismutable([]))\n",
    "print('tuple is ', ismutable((1,)))\n",
    "print('dict is ', ismutable({}))\n",
    "print('object is ', ismutable(object))\n",
    "print('function is ', ismutable(lambda x: x))"
   ]
  },
  {
   "cell_type": "markdown",
   "metadata": {
    "colab_type": "text",
    "id": "ka8po__ZZw5q"
   },
   "source": [
    "### 변경가능한 클래스와 변경 불가능한 클래스간의 속성 확인"
   ]
  },
  {
   "cell_type": "code",
   "execution_count": 116,
   "metadata": {
    "colab": {},
    "colab_type": "code",
    "collapsed": true,
    "id": "X3LaIuDLZw5q"
   },
   "outputs": [],
   "source": [
    "ms = set(dir(cols.MutableSequence))\n",
    "im = set(dir(cols.Sequence))\n"
   ]
  },
  {
   "cell_type": "markdown",
   "metadata": {
    "colab_type": "text",
    "id": "9Pra3B83Zw5s"
   },
   "source": [
    "#### 차집합을 만들어서 출력 "
   ]
  },
  {
   "cell_type": "code",
   "execution_count": 117,
   "metadata": {
    "colab": {},
    "colab_type": "code",
    "collapsed": false,
    "id": "VaD4bxXhZw5t",
    "outputId": "85ea9b91-d429-4f5f-c6a3-de77864e63dd"
   },
   "outputs": [
    {
     "name": "stdout",
     "output_type": "stream",
     "text": [
      "append\n",
      "extend\n",
      "pop\n",
      "__iadd__\n",
      "insert\n",
      "__delitem__\n",
      "reverse\n",
      "remove\n",
      "__setitem__\n",
      "clear\n"
     ]
    }
   ],
   "source": [
    "x = ms - im\n",
    "\n",
    "for i in x:\n",
    "    print(i)"
   ]
  },
  {
   "cell_type": "markdown",
   "metadata": {
    "colab_type": "text",
    "id": "UegEM7lCZw5v"
   },
   "source": [
    "### 튜플에 리스트를 넣고 처리하기\n",
    "\n",
    "      튜플 내에 리스트가 들어가 있으면 내부가 갱신되므로 주의해야 함"
   ]
  },
  {
   "cell_type": "code",
   "execution_count": 118,
   "metadata": {
    "colab": {},
    "colab_type": "code",
    "collapsed": false,
    "id": "DkE8bd6OZw5x",
    "outputId": "ba97b227-c966-4dd3-c685-277df8c14d8f"
   },
   "outputs": [
    {
     "name": "stdout",
     "output_type": "stream",
     "text": [
      "([1, 2, 3],)\n",
      "1578931121344\n",
      "<class 'list'>\n",
      "([1, 2, 3, 4],)\n",
      "1578931121344\n"
     ]
    }
   ],
   "source": [
    "l = tuple([[1, 2, 3]])\n",
    "print(l)\n",
    "print(id(l))\n",
    "print(type(l[0]))\n",
    "\n",
    "l[0].append(4)\n",
    "print(l)\n",
    "\n",
    "print(id(l))"
   ]
  },
  {
   "cell_type": "markdown",
   "metadata": {
    "colab_type": "text",
    "id": "vrstrcrLZw5z"
   },
   "source": [
    "### 튜플의 인터닝 관계 "
   ]
  },
  {
   "cell_type": "code",
   "execution_count": 119,
   "metadata": {
    "colab": {},
    "colab_type": "code",
    "collapsed": false,
    "id": "-8p-DL6jZw50",
    "outputId": "bf47db0f-8c2b-465a-a22c-b710d8981aa3"
   },
   "outputs": [
    {
     "name": "stdout",
     "output_type": "stream",
     "text": [
      "True\n",
      "False\n"
     ]
    }
   ],
   "source": [
    "t = (1, 2, 3)\n",
    "t1 = tuple(t)\n",
    "t2 = (1, 2, 3)\n",
    "\n",
    "print(t is t1)\n",
    "print(t is t2)"
   ]
  },
  {
   "cell_type": "markdown",
   "metadata": {
    "colab_type": "text",
    "id": "9bBYVMZTZw51"
   },
   "source": [
    "## 사용자 클래스를 정의하고 레퍼런스 확인"
   ]
  },
  {
   "cell_type": "markdown",
   "metadata": {
    "colab_type": "text",
    "id": "6BwnkuO3Zw52"
   },
   "source": [
    "#### 클래스를 정의 "
   ]
  },
  {
   "cell_type": "markdown",
   "metadata": {},
   "source": [
    "__init__은 생성자가 아닌 초기화 함수이다.\n",
    "\n",
    "python 에서도 생성자는 new"
   ]
  },
  {
   "cell_type": "code",
   "execution_count": 120,
   "metadata": {
    "colab": {},
    "colab_type": "code",
    "collapsed": true,
    "id": "jR0yUcVyZw52"
   },
   "outputs": [],
   "source": [
    "class Person:\n",
    "    def __init__(self, name):\n",
    "        self._name = name\n",
    "        \n",
    "    def get_Name(self):\n",
    "        return self._name\n",
    "    \n"
   ]
  },
  {
   "cell_type": "markdown",
   "metadata": {},
   "source": [
    "#### 엔진 내부 실행순서\n",
    "new 다음에 init을 호출한다."
   ]
  },
  {
   "cell_type": "code",
   "execution_count": 134,
   "metadata": {
    "collapsed": true
   },
   "outputs": [],
   "source": [
    "o = object.__new__(Person)"
   ]
  },
  {
   "cell_type": "code",
   "execution_count": 135,
   "metadata": {
    "collapsed": false
   },
   "outputs": [
    {
     "data": {
      "text/plain": [
       "<__main__.Person at 0x16f9fa38978>"
      ]
     },
     "execution_count": 135,
     "metadata": {},
     "output_type": "execute_result"
    }
   ],
   "source": [
    "o"
   ]
  },
  {
   "cell_type": "code",
   "execution_count": 138,
   "metadata": {
    "collapsed": false
   },
   "outputs": [],
   "source": [
    "Person.__init__(o, \"test\")"
   ]
  },
  {
   "cell_type": "code",
   "execution_count": 136,
   "metadata": {
    "collapsed": false
   },
   "outputs": [
    {
     "data": {
      "text/plain": [
       "__main__.Person"
      ]
     },
     "execution_count": 136,
     "metadata": {},
     "output_type": "execute_result"
    }
   ],
   "source": [
    "type(o)"
   ]
  },
  {
   "cell_type": "code",
   "execution_count": 139,
   "metadata": {
    "collapsed": false
   },
   "outputs": [
    {
     "data": {
      "text/plain": [
       "'test'"
      ]
     },
     "execution_count": 139,
     "metadata": {},
     "output_type": "execute_result"
    }
   ],
   "source": [
    "o.get_Name()"
   ]
  },
  {
   "cell_type": "code",
   "execution_count": 140,
   "metadata": {
    "collapsed": true
   },
   "outputs": [],
   "source": [
    "# 소멸자\n",
    "del o"
   ]
  },
  {
   "cell_type": "markdown",
   "metadata": {
    "colab_type": "text",
    "id": "b5RUILueZw55"
   },
   "source": [
    "#### 두개의 인스턴스를 정의하고 하나는 별칭으로 저장"
   ]
  },
  {
   "cell_type": "code",
   "execution_count": 141,
   "metadata": {
    "colab": {},
    "colab_type": "code",
    "collapsed": true,
    "id": "tH2Tm-czZw55"
   },
   "outputs": [],
   "source": [
    "p = Person('Dahl')\n",
    "p2 = Person('Dahl')\n",
    "pc = p"
   ]
  },
  {
   "cell_type": "code",
   "execution_count": 142,
   "metadata": {
    "colab": {},
    "colab_type": "code",
    "collapsed": false,
    "id": "afYDruwfZw56",
    "outputId": "cca251ba-96cb-4b82-f9fd-32d7d90ef6e1"
   },
   "outputs": [
    {
     "name": "stdout",
     "output_type": "stream",
     "text": [
      "True\n",
      "False\n",
      "False\n"
     ]
    }
   ],
   "source": [
    "print(pc is p)\n",
    "print(pc is not p)\n",
    "print(p2 is p)"
   ]
  },
  {
   "cell_type": "markdown",
   "metadata": {
    "colab_type": "text",
    "id": "UzvSIgncZw57"
   },
   "source": [
    "#### 인스턴스 내부의 값 비교"
   ]
  },
  {
   "cell_type": "code",
   "execution_count": 143,
   "metadata": {
    "colab": {},
    "colab_type": "code",
    "collapsed": false,
    "id": "mFzny1_zZw57",
    "outputId": "92795d0e-21bf-4f0b-a0f2-db9832e057a2"
   },
   "outputs": [
    {
     "name": "stdout",
     "output_type": "stream",
     "text": [
      "False\n",
      "True\n",
      "True\n",
      "False\n"
     ]
    }
   ],
   "source": [
    "class A:\n",
    "    def __init__(self, name):\n",
    "        self.name = name\n",
    "        \n",
    "a = A('Dahl')\n",
    "c = a\n",
    "b = A('Dahl')\n",
    "\n",
    "\n",
    "print(a==b)\n",
    "print(a==c)\n",
    "print(a.name == b.name)\n",
    "print(a is b)"
   ]
  },
  {
   "cell_type": "markdown",
   "metadata": {
    "colab_type": "text",
    "id": "wdOnt1CbZw59"
   },
   "source": [
    "### 연산자 오버로딩 이해하기\n",
    "\n",
    "      . 연산자를 오버로딩하면서 내부의 체크를 인스턴스 속성이 이름으로 비교"
   ]
  },
  {
   "cell_type": "code",
   "execution_count": 144,
   "metadata": {
    "colab": {},
    "colab_type": "code",
    "collapsed": true,
    "id": "9VreWgiFZw59"
   },
   "outputs": [],
   "source": [
    "class Person:\n",
    "    def __init__(self, name):\n",
    "        self._name = name\n",
    "        \n",
    "    def get_Name(self):\n",
    "        return self._name\n",
    "    \n",
    "    def __eq__(self, other):\n",
    "        print(\"호출\")\n",
    "        return self._name == other._name\n",
    "    "
   ]
  },
  {
   "cell_type": "code",
   "execution_count": 148,
   "metadata": {
    "colab": {},
    "colab_type": "code",
    "collapsed": false,
    "id": "zAgcCe0LZw5-",
    "outputId": "bbce0b18-9d92-458e-9031-7ea4d789ed19"
   },
   "outputs": [
    {
     "name": "stdout",
     "output_type": "stream",
     "text": [
      "False\n",
      "호출\n",
      "True\n"
     ]
    }
   ],
   "source": [
    "p = Person('Dahl')\n",
    "p2 = Person('Dahl')\n",
    "\n",
    "print(p2 is p)\n",
    "\n",
    "# p2 class의 __eq__ 에 해당하는 연산자를 실행하고 없다면 상위로 올라감 => 오버로딩\n",
    "# 사용자 정의로 원하는 형태 구현 가능\n",
    "print(p2 == p)"
   ]
  },
  {
   "cell_type": "markdown",
   "metadata": {
    "colab_type": "text",
    "id": "TX7xsBcCZw5_"
   },
   "source": [
    "## 함수 나 클래스 이름이 네임스페이스 확인"
   ]
  },
  {
   "cell_type": "code",
   "execution_count": 126,
   "metadata": {
    "colab": {},
    "colab_type": "code",
    "collapsed": false,
    "id": "rU_f8bBKZw6A",
    "outputId": "63d17110-b1ac-4325-a0e8-f9bb9b501731"
   },
   "outputs": [
    {
     "data": {
      "text/plain": [
       "1"
      ]
     },
     "execution_count": 126,
     "metadata": {},
     "output_type": "execute_result"
    }
   ],
   "source": [
    "x = 1\n",
    "globals()['x']"
   ]
  },
  {
   "cell_type": "code",
   "execution_count": 127,
   "metadata": {
    "colab": {},
    "colab_type": "code",
    "collapsed": false,
    "id": "DIRNEm9_Zw6B",
    "outputId": "0998db07-2225-4275-e6e2-d41fffaa27f8"
   },
   "outputs": [
    {
     "data": {
      "text/plain": [
       "<function __main__.func>"
      ]
     },
     "execution_count": 127,
     "metadata": {},
     "output_type": "execute_result"
    }
   ],
   "source": [
    "def func():\n",
    "    pass\n",
    "\n",
    "globals()['func']"
   ]
  },
  {
   "cell_type": "code",
   "execution_count": 128,
   "metadata": {
    "colab": {},
    "colab_type": "code",
    "collapsed": false,
    "id": "TnUF8HoLZw6D",
    "outputId": "09f477fc-22bb-4fb7-adee-7fde5a7d5156"
   },
   "outputs": [
    {
     "data": {
      "text/plain": [
       "__main__.Klass"
      ]
     },
     "execution_count": 128,
     "metadata": {},
     "output_type": "execute_result"
    }
   ],
   "source": [
    "class Klass:\n",
    "    pass\n",
    "\n",
    "globals()['Klass']"
   ]
  },
  {
   "cell_type": "markdown",
   "metadata": {
    "colab_type": "text",
    "id": "13IUAJ0oZw6E"
   },
   "source": [
    "## 클래스 내부의 스페셜 속성 확인하기"
   ]
  },
  {
   "cell_type": "code",
   "execution_count": 129,
   "metadata": {
    "colab": {},
    "colab_type": "code",
    "collapsed": false,
    "id": "usYrfi_QZw6F",
    "outputId": "c0fc41fb-1d65-4dee-f1ad-2afc253983dd"
   },
   "outputs": [
    {
     "name": "stdout",
     "output_type": "stream",
     "text": [
      "['__class__',\n",
      " '__delattr__',\n",
      " '__dict__',\n",
      " '__dir__',\n",
      " '__doc__',\n",
      " '__eq__',\n",
      " '__format__',\n",
      " '__ge__',\n",
      " '__getattribute__',\n",
      " '__gt__',\n",
      " '__hash__',\n",
      " '__init__',\n",
      " '__le__',\n",
      " '__lt__',\n",
      " '__module__',\n",
      " '__ne__',\n",
      " '__new__',\n",
      " '__reduce__',\n",
      " '__reduce_ex__',\n",
      " '__repr__',\n",
      " '__setattr__',\n",
      " '__sizeof__',\n",
      " '__str__',\n",
      " '__subclasshook__',\n",
      " '__weakref__',\n",
      " 'name']\n"
     ]
    }
   ],
   "source": [
    "import pprint\n",
    "\n",
    "\n",
    "class A:\n",
    "    def __init__(self, name):\n",
    "        self.name = name\n",
    "        \n",
    "\n",
    "a = A('dahl')\n",
    "\n",
    "pprint.pprint(dir(a))"
   ]
  },
  {
   "cell_type": "markdown",
   "metadata": {
    "colab_type": "text",
    "id": "Nkpd8AoPZw6G"
   },
   "source": [
    "### 인스턴스 속성 확인하기"
   ]
  },
  {
   "cell_type": "code",
   "execution_count": 130,
   "metadata": {
    "colab": {},
    "colab_type": "code",
    "collapsed": false,
    "id": "IJdmMTUBZw6H",
    "outputId": "955bb0bf-d8dd-4bd2-e805-4bf1e123e0bc"
   },
   "outputs": [
    {
     "name": "stdout",
     "output_type": "stream",
     "text": [
      "{'name': 'dahl'}\n"
     ]
    }
   ],
   "source": [
    "import pprint\n",
    "\n",
    "class A:\n",
    "    def __init__(self, name):\n",
    "        self.name = name\n",
    "        \n",
    "\n",
    "a = A('dahl')\n",
    "\n",
    "pprint.pprint(a.__dict__)"
   ]
  },
  {
   "cell_type": "markdown",
   "metadata": {
    "colab_type": "text",
    "id": "Uj23q_LHZw6I"
   },
   "source": [
    "### 내장 객체는 네임스페이스를 제공하지 않는다."
   ]
  },
  {
   "cell_type": "code",
   "execution_count": 149,
   "metadata": {
    "colab": {},
    "colab_type": "code",
    "collapsed": false,
    "id": "4qjl04w5Zw6I",
    "outputId": "b1ceb4ef-7087-4bc9-d596-7982f3f3d314"
   },
   "outputs": [
    {
     "name": "stdout",
     "output_type": "stream",
     "text": [
      "'int' object has no attribute '__dict__'\n"
     ]
    }
   ],
   "source": [
    "try :\n",
    "    (1).__dict__\n",
    "except Exception as e :\n",
    "    print(e)"
   ]
  },
  {
   "cell_type": "code",
   "execution_count": 151,
   "metadata": {
    "colab": {},
    "colab_type": "code",
    "collapsed": false,
    "id": "j2f-6VESZw6K",
    "outputId": "552d344a-9057-4542-e5d0-699da20618b1"
   },
   "outputs": [
    {
     "name": "stdout",
     "output_type": "stream",
     "text": [
      "'list' object has no attribute '__dict__'\n"
     ]
    }
   ],
   "source": [
    "try :\n",
    "    [1, 2, 3].__dict__\n",
    "except Exception as e :\n",
    "    print(e)"
   ]
  },
  {
   "cell_type": "code",
   "execution_count": 150,
   "metadata": {
    "colab": {},
    "colab_type": "code",
    "collapsed": false,
    "id": "AL7wkrFeZw6M",
    "outputId": "388dcd7e-ddb0-4237-96b6-287b5f3ac250"
   },
   "outputs": [
    {
     "name": "stdout",
     "output_type": "stream",
     "text": [
      "'dict' object has no attribute '__dict__'\n"
     ]
    }
   ],
   "source": [
    "try :\n",
    "    {1:1}.__dict__\n",
    "except Exception as e :\n",
    "    print(e)"
   ]
  },
  {
   "cell_type": "code",
   "execution_count": 163,
   "metadata": {
    "collapsed": true
   },
   "outputs": [],
   "source": [
    "# func는 객체\n",
    "def func():\n",
    "    pass"
   ]
  },
  {
   "cell_type": "code",
   "execution_count": 164,
   "metadata": {
    "collapsed": true
   },
   "outputs": [],
   "source": [
    "func.aaa = 100"
   ]
  },
  {
   "cell_type": "code",
   "execution_count": 165,
   "metadata": {
    "collapsed": false
   },
   "outputs": [
    {
     "data": {
      "text/plain": [
       "{'aaa': 100}"
      ]
     },
     "execution_count": 165,
     "metadata": {},
     "output_type": "execute_result"
    }
   ],
   "source": [
    "func.__dict__"
   ]
  },
  {
   "cell_type": "markdown",
   "metadata": {},
   "source": [
    "func의 namespace도 존재한다."
   ]
  },
  {
   "cell_type": "code",
   "execution_count": 168,
   "metadata": {
    "collapsed": true
   },
   "outputs": [],
   "source": [
    "def func():\n",
    "    print(func.aaa)\n",
    "    \n",
    "func.aaa = 200"
   ]
  },
  {
   "cell_type": "code",
   "execution_count": 169,
   "metadata": {
    "collapsed": false
   },
   "outputs": [
    {
     "name": "stdout",
     "output_type": "stream",
     "text": [
      "200\n"
     ]
    }
   ],
   "source": [
    "func()"
   ]
  },
  {
   "cell_type": "markdown",
   "metadata": {},
   "source": [
    "함수를 호출할 때 마다 namespace에 저장된 aaa를 활용할 수 있다."
   ]
  }
 ],
 "metadata": {
  "anaconda-cloud": {},
  "colab": {
   "name": "01 장 실습.ipynb",
   "provenance": [],
   "version": "0.3.2"
  },
  "kernelspec": {
   "display_name": "Python [default]",
   "language": "python",
   "name": "python3"
  },
  "language_info": {
   "codemirror_mode": {
    "name": "ipython",
    "version": 3
   },
   "file_extension": ".py",
   "mimetype": "text/x-python",
   "name": "python",
   "nbconvert_exporter": "python",
   "pygments_lexer": "ipython3",
   "version": "3.5.2"
  }
 },
 "nbformat": 4,
 "nbformat_minor": 0
}

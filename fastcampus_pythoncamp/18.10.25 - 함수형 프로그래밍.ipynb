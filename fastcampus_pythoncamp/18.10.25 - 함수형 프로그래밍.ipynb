{
 "cells": [
  {
   "cell_type": "markdown",
   "metadata": {},
   "source": [
    "# 181025 함수형 프로그래밍\n",
    "\n",
    "프로그램의 함수를 수학적 함수의 평가로 간주하고,  \n",
    "상태 변경 및 변경 가능한 데이터를 피하는 방식(순수 함수를 사용)\n",
    "\n",
    "### 정의\n",
    "1. 함수는 1급 객체\n",
    "2. 재귀함수는 주요한 흐름제어 방법. for문 보다 재귀를 더 중요하게 여기며 어떤 함수형 언어에는 loop구문이 없다.\n",
    "3. 시퀀스를 중점적으로 다룹니다.\n",
    "4. 순수함수(외부의 영역이 닿지 않는 수학적인 함수)\n",
    "5. 구문을 지양\n",
    "    1. if문, for문, 할당문 지양\n",
    "6. 고차함수(high order function)를 사용 - 함수를 인자로 받거나 결과값으로 리턴해주는 함수"
   ]
  },
  {
   "cell_type": "markdown",
   "metadata": {},
   "source": [
    "### 함수형 프로그래밍 패러다임\n",
    "\n",
    "프로그램을 하나의 함수로 봅니다.  \n",
    "순수함수는 함수간의 합성이 가능하다. => 작은 함수들이 모여서 거대한 프로그램을 이루는 것\n",
    "\n",
    "\n",
    "### 함수형 프로그래밍을 배워야하는 이유\n",
    "\n",
    "# 언어의 한계가 나의 세계의 한계다. \n",
    "> 루트비히 비트겐슈타인"
   ]
  },
  {
   "cell_type": "markdown",
   "metadata": {},
   "source": [
    "# 함수형 프로그래밍의 장점\n",
    "\n",
    "1. 코드의 양이 적습니다.\n",
    "2. 최적화가 쉽다. (수학적으로 증명가능) - 디버깅 / 테스트가 쉽다.\n",
    "3. 모듈화가 쉽다. (병렬처리에 유리)\n",
    "\n",
    "\n",
    "# 함수형 언어의 조건\n",
    "\n",
    "1. 함수가 1급 객체인 언어 \n",
    "> TCO가 있으면 좋다.(공간복잡도를 최적화 하는 방법)  \n",
    "> 파이썬에서는 공간 최적화가 불가능하기 때문에 재귀함수의 max가 정해져있다."
   ]
  },
  {
   "cell_type": "code",
   "execution_count": 2,
   "metadata": {
    "collapsed": false
   },
   "outputs": [
    {
     "name": "stdout",
     "output_type": "stream",
     "text": [
      "[1, 2, 3, 4]\n"
     ]
    }
   ],
   "source": [
    "# 명령형 (절차형) \n",
    "\n",
    "a = [4, 3, 2, 1]\n",
    "\n",
    "def sort_a():\n",
    "    a.sort()\n",
    "    # return None\n",
    "    \n",
    "sort_a()\n",
    "\n",
    "print(a)"
   ]
  },
  {
   "cell_type": "markdown",
   "metadata": {},
   "source": [
    "a가 변경될 경우 a.sort()도 변경된다."
   ]
  },
  {
   "cell_type": "code",
   "execution_count": 4,
   "metadata": {
    "collapsed": false
   },
   "outputs": [
    {
     "data": {
      "text/plain": [
       "[1, 2, 3, 4]"
      ]
     },
     "execution_count": 4,
     "metadata": {},
     "output_type": "execute_result"
    }
   ],
   "source": [
    "# 함수형 패러다임에서 함수\n",
    "\n",
    "def sort_list(list_):\n",
    "    return sorted(list_)\n",
    "\n",
    "sort_list([4, 3, 1, 2])"
   ]
  },
  {
   "cell_type": "markdown",
   "metadata": {},
   "source": [
    "인자로 받은 값에 대해서 인자의 원본 리스트에 영향을 끼치지 않고 새로운 list를 만들어 return을 한다."
   ]
  },
  {
   "cell_type": "markdown",
   "metadata": {},
   "source": [
    "### 명령형 vs 함수형"
   ]
  },
  {
   "cell_type": "code",
   "execution_count": 5,
   "metadata": {
    "collapsed": true
   },
   "outputs": [],
   "source": [
    "# 1~100까지 정수중에 짝수들이 합"
   ]
  },
  {
   "cell_type": "code",
   "execution_count": 7,
   "metadata": {
    "collapsed": false
   },
   "outputs": [
    {
     "data": {
      "text/plain": [
       "2450"
      ]
     },
     "execution_count": 7,
     "metadata": {},
     "output_type": "execute_result"
    }
   ],
   "source": [
    "# 명령(절차)\n",
    "result = 0\n",
    "for i in range(100):\n",
    "    if i % 2 == 0:\n",
    "        result += i\n",
    "result"
   ]
  },
  {
   "cell_type": "code",
   "execution_count": 8,
   "metadata": {
    "collapsed": false
   },
   "outputs": [
    {
     "data": {
      "text/plain": [
       "2450"
      ]
     },
     "execution_count": 8,
     "metadata": {},
     "output_type": "execute_result"
    }
   ],
   "source": [
    "# 함수형\n",
    "def even(n):\n",
    "    return n % 2 == 0\n",
    "\n",
    "sum([x for x in range(100) if even(x)])"
   ]
  },
  {
   "cell_type": "markdown",
   "metadata": {},
   "source": [
    "## 함수의 합성\n",
    "\n",
    "수학에서의 합성과 동일하게,\n",
    "한 함수의 공역이 다른 함수의 정의역과 일치하는 경우 하나의 함수로 만드는 연산\n",
    "\n",
    "`f(g(x)) == f*g(x)`"
   ]
  },
  {
   "cell_type": "code",
   "execution_count": 14,
   "metadata": {
    "collapsed": true
   },
   "outputs": [],
   "source": [
    "def add_3(value): # x+3\n",
    "    return value + 3\n",
    "\n",
    "def mul_2(value): # 2x\n",
    "    return value * 2"
   ]
  },
  {
   "cell_type": "code",
   "execution_count": 15,
   "metadata": {
    "collapsed": false
   },
   "outputs": [
    {
     "data": {
      "text/plain": [
       "9"
      ]
     },
     "execution_count": 15,
     "metadata": {},
     "output_type": "execute_result"
    }
   ],
   "source": [
    "# f(g(x))\n",
    "\n",
    "add_3(mul_2(3))"
   ]
  },
  {
   "cell_type": "code",
   "execution_count": 17,
   "metadata": {
    "collapsed": false
   },
   "outputs": [
    {
     "data": {
      "text/plain": [
       "9"
      ]
     },
     "execution_count": 17,
     "metadata": {},
     "output_type": "execute_result"
    }
   ],
   "source": [
    "result1 = mul_2(3)\n",
    "result2 = add_3(result1)\n",
    "result2"
   ]
  },
  {
   "cell_type": "markdown",
   "metadata": {},
   "source": [
    "### 함수의 합성 compose"
   ]
  },
  {
   "cell_type": "code",
   "execution_count": 18,
   "metadata": {
    "collapsed": true
   },
   "outputs": [],
   "source": [
    "def compose(f, g):\n",
    "    return lambda x : f(g(x))"
   ]
  },
  {
   "cell_type": "code",
   "execution_count": 22,
   "metadata": {
    "collapsed": false
   },
   "outputs": [],
   "source": [
    "new_func = compose(add_3, mul_2)"
   ]
  },
  {
   "cell_type": "code",
   "execution_count": 21,
   "metadata": {
    "collapsed": false
   },
   "outputs": [
    {
     "data": {
      "text/plain": [
       "9"
      ]
     },
     "execution_count": 21,
     "metadata": {},
     "output_type": "execute_result"
    }
   ],
   "source": [
    "new_func(3)"
   ]
  },
  {
   "cell_type": "code",
   "execution_count": 23,
   "metadata": {
    "collapsed": true
   },
   "outputs": [],
   "source": [
    "from functools import reduce\n",
    "\n",
    "def compose2(*func):\n",
    "    # func = (f, g, h)\n",
    "    return reduce(lambda f, g : lambda x : f(g(x)), func)\n",
    "        # redunce는 함수의 sequence을 줄여나가서 하나의 함수로만 만들 것\n",
    "        # 처음에 f, g를 받아서 새로운 함수 f(g(x)) 를 리턴\n",
    "        # func = (new_func, h)\n",
    "        # f(g(h(x)))"
   ]
  },
  {
   "cell_type": "code",
   "execution_count": 25,
   "metadata": {
    "collapsed": false
   },
   "outputs": [],
   "source": [
    "def f(x):\n",
    "    return x + 1\n",
    "\n",
    "def g(x):\n",
    "    return x * 2\n",
    "\n",
    "def h(x):\n",
    "    return x / 2"
   ]
  },
  {
   "cell_type": "code",
   "execution_count": 26,
   "metadata": {
    "collapsed": true
   },
   "outputs": [],
   "source": [
    "new_func = compose2(f, g, h)"
   ]
  },
  {
   "cell_type": "code",
   "execution_count": 27,
   "metadata": {
    "collapsed": false
   },
   "outputs": [
    {
     "data": {
      "text/plain": [
       "11.0"
      ]
     },
     "execution_count": 27,
     "metadata": {},
     "output_type": "execute_result"
    }
   ],
   "source": [
    "new_func(10)"
   ]
  },
  {
   "cell_type": "markdown",
   "metadata": {},
   "source": [
    "## 필수 조건\n",
    "### 1급 객체\n",
    "\n",
    "1. 변수에 담을 수 있다.\n",
    "2. 인자로 전달할 수 있다.\n",
    "3. 결과값으로 리턴될 수 있다."
   ]
  },
  {
   "cell_type": "markdown",
   "metadata": {},
   "source": [
    "### 1. 변수에 담을 수 있다."
   ]
  },
  {
   "cell_type": "code",
   "execution_count": 28,
   "metadata": {
    "collapsed": false
   },
   "outputs": [
    {
     "name": "stdout",
     "output_type": "stream",
     "text": [
      "f 함수\n"
     ]
    }
   ],
   "source": [
    "def f():\n",
    "    print(\"f 함수\")\n",
    "    \n",
    "a = f\n",
    "a()"
   ]
  },
  {
   "cell_type": "markdown",
   "metadata": {},
   "source": [
    "### 2. 인자로 전달할 수 있다."
   ]
  },
  {
   "cell_type": "code",
   "execution_count": 30,
   "metadata": {
    "collapsed": false
   },
   "outputs": [
    {
     "data": {
      "text/plain": [
       "10"
      ]
     },
     "execution_count": 30,
     "metadata": {},
     "output_type": "execute_result"
    }
   ],
   "source": [
    "def call_f(f, x):\n",
    "    return f(x)\n",
    "\n",
    "call_f(sum, [1, 2, 3, 4])"
   ]
  },
  {
   "cell_type": "markdown",
   "metadata": {},
   "source": [
    "### 3. 결과값으로 리턴될 수 있다."
   ]
  },
  {
   "cell_type": "code",
   "execution_count": 33,
   "metadata": {
    "collapsed": false
   },
   "outputs": [
    {
     "name": "stdout",
     "output_type": "stream",
     "text": [
      "call inner\n"
     ]
    }
   ],
   "source": [
    "def outer():\n",
    "    def inner():\n",
    "        print(\"call inner\")\n",
    "    return inner\n",
    "\n",
    "func = outer()\n",
    "func()"
   ]
  },
  {
   "cell_type": "markdown",
   "metadata": {},
   "source": [
    "## higher order function\n",
    "\n",
    "map, filter, reduce\n",
    "\n",
    "첫 번째 인자는 함수"
   ]
  },
  {
   "cell_type": "markdown",
   "metadata": {},
   "source": [
    "### map"
   ]
  },
  {
   "cell_type": "code",
   "execution_count": 36,
   "metadata": {
    "collapsed": false
   },
   "outputs": [
    {
     "data": {
      "text/plain": [
       "[2, 3, 4, 5]"
      ]
     },
     "execution_count": 36,
     "metadata": {},
     "output_type": "execute_result"
    }
   ],
   "source": [
    "[ *map(lambda x : x+1, [1, 2, 3, 4]) ]"
   ]
  },
  {
   "cell_type": "markdown",
   "metadata": {},
   "source": [
    "map은 iterator 객체기 때문에 unpacking 을 통해서 결과를 확인"
   ]
  },
  {
   "cell_type": "markdown",
   "metadata": {},
   "source": [
    "### filter"
   ]
  },
  {
   "cell_type": "code",
   "execution_count": 42,
   "metadata": {
    "collapsed": false
   },
   "outputs": [
    {
     "data": {
      "text/plain": [
       "[4, 5, 6]"
      ]
     },
     "execution_count": 42,
     "metadata": {},
     "output_type": "execute_result"
    }
   ],
   "source": [
    "[ *filter(lambda x : x > 3, [1, 2, 3, 4, 5, 6]) ] # 함수의 결과값을 참 거짓으로 판단"
   ]
  },
  {
   "cell_type": "markdown",
   "metadata": {},
   "source": [
    "### reduce"
   ]
  },
  {
   "cell_type": "code",
   "execution_count": 45,
   "metadata": {
    "collapsed": false
   },
   "outputs": [
    {
     "data": {
      "text/plain": [
       "15"
      ]
     },
     "execution_count": 45,
     "metadata": {},
     "output_type": "execute_result"
    }
   ],
   "source": [
    "from functools import reduce\n",
    "\n",
    "reduce(lambda x, y : x + y, [1, 2, 3, 4, 5]) # func는 인자를 2개 받습니다."
   ]
  },
  {
   "cell_type": "markdown",
   "metadata": {},
   "source": [
    "reduce는 2개의 인자를 받아 한개로 반환해준다.  \n",
    "unpacking이 필요없음 "
   ]
  },
  {
   "cell_type": "markdown",
   "metadata": {},
   "source": [
    "## 연산자 리터럴 표기법 -> 함수\n",
    "\n",
    "### operator"
   ]
  },
  {
   "cell_type": "code",
   "execution_count": 49,
   "metadata": {
    "collapsed": false
   },
   "outputs": [
    {
     "data": {
      "text/plain": [
       "4"
      ]
     },
     "execution_count": 49,
     "metadata": {},
     "output_type": "execute_result"
    }
   ],
   "source": [
    "# 리터럴 표기법은?\n",
    "1 + 3 # (1).__add__(3) "
   ]
  },
  {
   "cell_type": "code",
   "execution_count": 50,
   "metadata": {
    "collapsed": true
   },
   "outputs": [],
   "source": [
    "import operator"
   ]
  },
  {
   "cell_type": "code",
   "execution_count": 51,
   "metadata": {
    "collapsed": false
   },
   "outputs": [
    {
     "data": {
      "text/plain": [
       "7"
      ]
     },
     "execution_count": 51,
     "metadata": {},
     "output_type": "execute_result"
    }
   ],
   "source": [
    "operator.add(3, 4) # +"
   ]
  },
  {
   "cell_type": "code",
   "execution_count": 53,
   "metadata": {
    "collapsed": false
   },
   "outputs": [
    {
     "ename": "NameError",
     "evalue": "name 'oeprator' is not defined",
     "output_type": "error",
     "traceback": [
      "\u001b[0;31m---------------------------------------------------------------------------\u001b[0m",
      "\u001b[0;31mNameError\u001b[0m                                 Traceback (most recent call last)",
      "\u001b[0;32m<ipython-input-53-5ff9c902cbba>\u001b[0m in \u001b[0;36m<module>\u001b[0;34m()\u001b[0m\n\u001b[0;32m----> 1\u001b[0;31m \u001b[0moeprator\u001b[0m\u001b[1;33m.\u001b[0m\u001b[0madd\u001b[0m\u001b[1;33m(\u001b[0m\u001b[1;36m3\u001b[0m\u001b[1;33m,\u001b[0m \u001b[1;36m4\u001b[0m\u001b[1;33m,\u001b[0m \u001b[1;36m5\u001b[0m\u001b[1;33m)\u001b[0m\u001b[1;33m\u001b[0m\u001b[0m\n\u001b[0m",
      "\u001b[0;31mNameError\u001b[0m: name 'oeprator' is not defined"
     ]
    }
   ],
   "source": [
    "oeprator.add(3, 4, 5)"
   ]
  },
  {
   "cell_type": "code",
   "execution_count": 54,
   "metadata": {
    "collapsed": false
   },
   "outputs": [
    {
     "data": {
      "text/plain": [
       "16"
      ]
     },
     "execution_count": 54,
     "metadata": {},
     "output_type": "execute_result"
    }
   ],
   "source": [
    "operator.mul(4, 4)"
   ]
  },
  {
   "cell_type": "code",
   "execution_count": 55,
   "metadata": {
    "collapsed": false
   },
   "outputs": [
    {
     "data": {
      "text/plain": [
       "1024"
      ]
     },
     "execution_count": 55,
     "metadata": {},
     "output_type": "execute_result"
    }
   ],
   "source": [
    "operator.pow(2, 10)"
   ]
  },
  {
   "cell_type": "code",
   "execution_count": 56,
   "metadata": {
    "collapsed": false
   },
   "outputs": [
    {
     "name": "stdout",
     "output_type": "stream",
     "text": [
      "call func\n"
     ]
    }
   ],
   "source": [
    "# 메소드 호출 => 점 연산자\n",
    "\n",
    "class A:\n",
    "    def func(self):\n",
    "        print('call func')\n",
    "    \n",
    "a = A()\n",
    "a.func()"
   ]
  },
  {
   "cell_type": "code",
   "execution_count": 58,
   "metadata": {
    "collapsed": false
   },
   "outputs": [],
   "source": [
    "# 점(.) 연산자는 methodcaller이라는 함수로 존재함\n",
    "mc = operator.methodcaller('func')"
   ]
  },
  {
   "cell_type": "code",
   "execution_count": 59,
   "metadata": {
    "collapsed": false
   },
   "outputs": [
    {
     "name": "stdout",
     "output_type": "stream",
     "text": [
      "call func\n"
     ]
    }
   ],
   "source": [
    "mc(a)"
   ]
  },
  {
   "cell_type": "code",
   "execution_count": 62,
   "metadata": {
    "collapsed": true
   },
   "outputs": [],
   "source": [
    "# a.__iter__() -> iter(a) ===> methodcaller 방식"
   ]
  },
  {
   "cell_type": "code",
   "execution_count": 63,
   "metadata": {
    "collapsed": false
   },
   "outputs": [
    {
     "data": {
      "text/plain": [
       "True"
      ]
     },
     "execution_count": 63,
     "metadata": {},
     "output_type": "execute_result"
    }
   ],
   "source": [
    "operator.eq(1, 1)"
   ]
  },
  {
   "cell_type": "code",
   "execution_count": 64,
   "metadata": {
    "collapsed": false
   },
   "outputs": [
    {
     "data": {
      "text/plain": [
       "True"
      ]
     },
     "execution_count": 64,
     "metadata": {},
     "output_type": "execute_result"
    }
   ],
   "source": [
    "operator.eq([1, 2, 3], [1, 2, 3])"
   ]
  },
  {
   "cell_type": "code",
   "execution_count": 67,
   "metadata": {
    "collapsed": false
   },
   "outputs": [
    {
     "data": {
      "text/plain": [
       "False"
      ]
     },
     "execution_count": 67,
     "metadata": {},
     "output_type": "execute_result"
    }
   ],
   "source": [
    "operator.is_([1, 2, 3], [1, 2, 3])"
   ]
  },
  {
   "cell_type": "markdown",
   "metadata": {},
   "source": [
    "### itertools\n",
    "\n",
    "함수형 언어는 시퀀스 조작 위주이기 때문에"
   ]
  },
  {
   "cell_type": "code",
   "execution_count": 68,
   "metadata": {
    "collapsed": true
   },
   "outputs": [],
   "source": [
    "import itertools"
   ]
  },
  {
   "cell_type": "markdown",
   "metadata": {},
   "source": [
    "### chain"
   ]
  },
  {
   "cell_type": "code",
   "execution_count": 70,
   "metadata": {
    "collapsed": false
   },
   "outputs": [
    {
     "data": {
      "text/plain": [
       "[1, 2, 3, 3, 4, 5, 6, 6, 7]"
      ]
     },
     "execution_count": 70,
     "metadata": {},
     "output_type": "execute_result"
    }
   ],
   "source": [
    "[ * itertools.chain([1, 2, 3], [3, 4, 5, 6], [6, 7]) ]"
   ]
  },
  {
   "cell_type": "markdown",
   "metadata": {},
   "source": [
    "iterable한 객체를 하나로 묶어줌 "
   ]
  },
  {
   "cell_type": "code",
   "execution_count": 71,
   "metadata": {
    "collapsed": false
   },
   "outputs": [
    {
     "data": {
      "text/plain": [
       "[1, 2, 3, 3, 4, 5, 6]"
      ]
     },
     "execution_count": 71,
     "metadata": {},
     "output_type": "execute_result"
    }
   ],
   "source": [
    "[1, 2, 3] + [3, 4, 5, 6]"
   ]
  },
  {
   "cell_type": "markdown",
   "metadata": {},
   "source": [
    "이터레이터 객체는 +연산이 사용 불가능하다.  \n",
    "이떄 chain을 쓰면 하나의 객체로 합쳐짐"
   ]
  },
  {
   "cell_type": "markdown",
   "metadata": {},
   "source": [
    "### product"
   ]
  },
  {
   "cell_type": "code",
   "execution_count": 73,
   "metadata": {
    "collapsed": false
   },
   "outputs": [
    {
     "data": {
      "text/plain": [
       "[(1, 4), (1, 5), (1, 6), (2, 4), (2, 5), (2, 6), (3, 4), (3, 5), (3, 6)]"
      ]
     },
     "execution_count": 73,
     "metadata": {},
     "output_type": "execute_result"
    }
   ],
   "source": [
    "[ * itertools.product([1, 2, 3], [4, 5, 6]) ]"
   ]
  },
  {
   "cell_type": "markdown",
   "metadata": {},
   "source": [
    "### zip_longest"
   ]
  },
  {
   "cell_type": "code",
   "execution_count": 79,
   "metadata": {
    "collapsed": true
   },
   "outputs": [],
   "source": [
    "from itertools import zip_longest"
   ]
  },
  {
   "cell_type": "code",
   "execution_count": 76,
   "metadata": {
    "collapsed": false
   },
   "outputs": [
    {
     "name": "stdout",
     "output_type": "stream",
     "text": [
      "a 는 1 개 있습니다.\n",
      "b 는 2 개 있습니다.\n",
      "c 는 3 개 있습니다.\n"
     ]
    }
   ],
   "source": [
    "for a, b in zip([1, 2, 3], ['a', 'b', 'c']):\n",
    "    print (b, '는', a, '개 있습니다.')"
   ]
  },
  {
   "cell_type": "code",
   "execution_count": 87,
   "metadata": {
    "collapsed": false
   },
   "outputs": [
    {
     "data": {
      "text/plain": [
       "[(1, 'a'), (2, 'b'), (3, 'c')]"
      ]
     },
     "execution_count": 87,
     "metadata": {},
     "output_type": "execute_result"
    }
   ],
   "source": [
    "[ * itertools.zip_longest([1, 2, 3], ['a', 'b', 'c']) ]"
   ]
  },
  {
   "cell_type": "code",
   "execution_count": 77,
   "metadata": {
    "collapsed": false
   },
   "outputs": [
    {
     "name": "stdout",
     "output_type": "stream",
     "text": [
      "a 는 1 개 있습니다.\n",
      "b 는 2 개 있습니다.\n",
      "c 는 3 개 있습니다.\n"
     ]
    }
   ],
   "source": [
    "for a, b in zip([1, 2, 3], ['a', 'b', 'c', 'd']):\n",
    "    print (b, '는', a, '개 있습니다.')"
   ]
  },
  {
   "cell_type": "code",
   "execution_count": 82,
   "metadata": {
    "collapsed": false
   },
   "outputs": [
    {
     "name": "stdout",
     "output_type": "stream",
     "text": [
      "a 는 1 개 있습니다.\n",
      "b 는 2 개 있습니다.\n",
      "c 는 3 개 있습니다.\n",
      "d 는 None 개 있습니다.\n"
     ]
    }
   ],
   "source": [
    "for a, b in zip_longest([1, 2, 3], ['a', 'b', 'c', 'd']):\n",
    "    print (b, '는', a, '개 있습니다.')"
   ]
  },
  {
   "cell_type": "code",
   "execution_count": 84,
   "metadata": {
    "collapsed": false
   },
   "outputs": [
    {
     "name": "stdout",
     "output_type": "stream",
     "text": [
      "a 는 1 개 있습니다.\n",
      "b 는 2 개 있습니다.\n",
      "c 는 3 개 있습니다.\n",
      "d 는 0 개 있습니다.\n"
     ]
    }
   ],
   "source": [
    "for a, b in zip_longest([1, 2, 3], ['a', 'b', 'c', 'd']):\n",
    "    print (b, '는', a if a else '0', '개 있습니다.')"
   ]
  },
  {
   "cell_type": "markdown",
   "metadata": {},
   "source": [
    "# 실습\n",
    "\n",
    "1 부터 n까지의 각 정수의 세제곱의 합을 구하는 코드\n",
    "\n",
    "1. 절차형 프로그래밍으로 작성\n",
    "2. 함수형 프로그래밍 기법  \n",
    "    a. 구문 x (for문, if문, 할당문)  \n",
    "    b. 함수의 호출  "
   ]
  },
  {
   "cell_type": "code",
   "execution_count": 103,
   "metadata": {
    "collapsed": false
   },
   "outputs": [
    {
     "name": "stdout",
     "output_type": "stream",
     "text": [
      "3025\n"
     ]
    }
   ],
   "source": [
    "n = 10\n",
    "result = 0\n",
    "for i in range(1, n+1):\n",
    "    result += i ** 3\n",
    "    \n",
    "print(result)"
   ]
  },
  {
   "cell_type": "code",
   "execution_count": 104,
   "metadata": {
    "collapsed": false
   },
   "outputs": [
    {
     "data": {
      "text/plain": [
       "3025"
      ]
     },
     "execution_count": 104,
     "metadata": {},
     "output_type": "execute_result"
    }
   ],
   "source": [
    "sum(map(lambda x : x ** 3, range(1, 10+1)))"
   ]
  },
  {
   "cell_type": "markdown",
   "metadata": {},
   "source": [
    "### 실습\n",
    "\n",
    "2012 Pycon\n",
    "\n",
    "`\"28+31+++32++39\"에서 \"+\"를 제외한 숫자들의 합을 구하는 코드`\n",
    "\n",
    "1. 절차형\n",
    "\n",
    "2. 함수형"
   ]
  },
  {
   "cell_type": "code",
   "execution_count": 113,
   "metadata": {
    "collapsed": false
   },
   "outputs": [
    {
     "data": {
      "text/plain": [
       "['28', '31', '', '', '32', '', '39']"
      ]
     },
     "execution_count": 113,
     "metadata": {},
     "output_type": "execute_result"
    }
   ],
   "source": [
    "expr = \"28+31+++32++39\"\n",
    "expr.split('+')"
   ]
  },
  {
   "cell_type": "code",
   "execution_count": 111,
   "metadata": {
    "collapsed": false
   },
   "outputs": [
    {
     "data": {
      "text/plain": [
       "130"
      ]
     },
     "execution_count": 111,
     "metadata": {},
     "output_type": "execute_result"
    }
   ],
   "source": [
    "result = 0 \n",
    "for t in expr.split('+'):\n",
    "    if t != '':\n",
    "        result += int(t)\n",
    "        \n",
    "result"
   ]
  },
  {
   "cell_type": "code",
   "execution_count": 117,
   "metadata": {
    "collapsed": false
   },
   "outputs": [
    {
     "data": {
      "text/plain": [
       "130"
      ]
     },
     "execution_count": 117,
     "metadata": {},
     "output_type": "execute_result"
    }
   ],
   "source": [
    "sum(map(int, filter(lambda x : len(x) != 0, expr.split('+'))))"
   ]
  },
  {
   "cell_type": "code",
   "execution_count": 119,
   "metadata": {
    "collapsed": false
   },
   "outputs": [
    {
     "data": {
      "text/plain": [
       "130"
      ]
     },
     "execution_count": 119,
     "metadata": {},
     "output_type": "execute_result"
    }
   ],
   "source": [
    "sum(map(int, filter(len, expr.split('+'))))"
   ]
  },
  {
   "cell_type": "markdown",
   "metadata": {},
   "source": [
    "# 재귀함수\n",
    "\n",
    "## 덧셈, 곱셈\n",
    "\n",
    "### 페아노의 공리(당연히 참으로 받아들일 수 있는 사실)\n",
    "\n",
    "1. 1은 자연수이다.\n",
    "2. 모든 자연수 a는 그 다음 자연수 b를 갖는다.\n",
    "3. 1은 어떤 자연수의 다음 자연수가 아니다.\n",
    "4. 두 자연수의 다음수가 같다면 두 자연수는 같다.\n",
    "5. 어떤 수들의 집합이 1을 포함하고 모든 원소에 대해 그 다음수를 항상 포함한다면, 그 집합은 자연수이다."
   ]
  },
  {
   "cell_type": "markdown",
   "metadata": {},
   "source": [
    "### 페아노의 공리에 의한 자연수의 덧셈\n",
    "\n",
    "`a + 0 = a`  \n",
    "`a + b = 다음수(a) + 이전수(b)`"
   ]
  },
  {
   "cell_type": "code",
   "execution_count": 122,
   "metadata": {
    "collapsed": true
   },
   "outputs": [],
   "source": [
    "def next_(n):\n",
    "    return n + 1\n",
    "\n",
    "def before(n):\n",
    "    return n - 1\n",
    "\n",
    "def add(n, a):\n",
    "    if next_(a) == next_(1):\n",
    "        return next_(n)\n",
    "    return add(next_(n), before(a)) # 재귀호출"
   ]
  },
  {
   "cell_type": "code",
   "execution_count": 123,
   "metadata": {
    "collapsed": false
   },
   "outputs": [
    {
     "data": {
      "text/plain": [
       "30"
      ]
     },
     "execution_count": 123,
     "metadata": {},
     "output_type": "execute_result"
    }
   ],
   "source": [
    "add(10, 20)"
   ]
  },
  {
   "cell_type": "markdown",
   "metadata": {},
   "source": [
    "## 페아노의 공리에 의한 자연수의 곱셈\n",
    "\n",
    "`a * 1 = a`  \n",
    "`a * b = a + a * 이전수(b)`"
   ]
  },
  {
   "cell_type": "code",
   "execution_count": 125,
   "metadata": {
    "collapsed": true
   },
   "outputs": [],
   "source": [
    "def mul(a, b):\n",
    "    if next_(b) == next_(1):\n",
    "        return a\n",
    "    return add(a, mul(a, before(b)))"
   ]
  },
  {
   "cell_type": "code",
   "execution_count": 126,
   "metadata": {
    "collapsed": false
   },
   "outputs": [
    {
     "data": {
      "text/plain": [
       "100"
      ]
     },
     "execution_count": 126,
     "metadata": {},
     "output_type": "execute_result"
    }
   ],
   "source": [
    "mul(10, 10)"
   ]
  },
  {
   "cell_type": "markdown",
   "metadata": {},
   "source": [
    "## 실습 : 등차수열\n",
    "\n",
    "```\n",
    "a(1) = 3\n",
    "a(n) = a(n-1) + 2\n",
    "```"
   ]
  },
  {
   "cell_type": "code",
   "execution_count": 129,
   "metadata": {
    "collapsed": true
   },
   "outputs": [],
   "source": [
    "def a(n):\n",
    "    if n == 1:\n",
    "        return 3\n",
    "    x = a(n-1) + 2\n",
    "    print(x)\n",
    "    return x"
   ]
  },
  {
   "cell_type": "code",
   "execution_count": 130,
   "metadata": {
    "collapsed": false
   },
   "outputs": [
    {
     "name": "stdout",
     "output_type": "stream",
     "text": [
      "5\n",
      "7\n",
      "9\n",
      "11\n",
      "13\n",
      "15\n",
      "17\n",
      "19\n",
      "21\n"
     ]
    },
    {
     "data": {
      "text/plain": [
       "21"
      ]
     },
     "execution_count": 130,
     "metadata": {},
     "output_type": "execute_result"
    }
   ],
   "source": [
    "a(10)"
   ]
  },
  {
   "cell_type": "markdown",
   "metadata": {},
   "source": [
    "## 실습 : 등비수열\n",
    "```\n",
    "a(1) = 1\n",
    "a(n) = a(n-1) * 3\n",
    "```"
   ]
  },
  {
   "cell_type": "code",
   "execution_count": 132,
   "metadata": {
    "collapsed": false
   },
   "outputs": [],
   "source": [
    "def a(n):\n",
    "    if n == 1:\n",
    "        return 1\n",
    "    return 3 * a(n-1)"
   ]
  },
  {
   "cell_type": "code",
   "execution_count": 133,
   "metadata": {
    "collapsed": false
   },
   "outputs": [
    {
     "data": {
      "text/plain": [
       "19683"
      ]
     },
     "execution_count": 133,
     "metadata": {},
     "output_type": "execute_result"
    }
   ],
   "source": [
    "a(10)"
   ]
  },
  {
   "cell_type": "markdown",
   "metadata": {},
   "source": [
    "## 팩토리얼\n",
    "```\n",
    "a(1) = 1\n",
    "a(n) = n* a(n-1)\n",
    "```"
   ]
  },
  {
   "cell_type": "code",
   "execution_count": 137,
   "metadata": {
    "collapsed": true
   },
   "outputs": [],
   "source": [
    "def fac(n):\n",
    "    if n == 1:\n",
    "        return 1\n",
    "    return n * fac(n-1)"
   ]
  },
  {
   "cell_type": "code",
   "execution_count": 139,
   "metadata": {
    "collapsed": false
   },
   "outputs": [
    {
     "data": {
      "text/plain": [
       "3628800"
      ]
     },
     "execution_count": 139,
     "metadata": {},
     "output_type": "execute_result"
    }
   ],
   "source": [
    "fac(10)"
   ]
  },
  {
   "cell_type": "markdown",
   "metadata": {},
   "source": [
    "# 3항 점화식\n",
    "\n",
    "## 완전순열\n",
    "\n",
    "```\n",
    "A, B, C, D 각 학생들이 시험 종료 후, 서로를 채점하게 할 때,   \n",
    "그 누구도 본인의 시험지를 채점하지 않고, 모든 시험지를 채점하는 경우의 수는?\n",
    "```\n",
    "\n",
    "```\n",
    "a(n) = n - 1 (if n < 4)\n",
    "a(n) = (n-1) * ( a(n-1) + a(n-2) )\n",
    "```"
   ]
  },
  {
   "cell_type": "code",
   "execution_count": 140,
   "metadata": {
    "collapsed": false
   },
   "outputs": [
    {
     "data": {
      "text/plain": [
       "24"
      ]
     },
     "execution_count": 140,
     "metadata": {},
     "output_type": "execute_result"
    }
   ],
   "source": [
    "fac(4)"
   ]
  },
  {
   "cell_type": "code",
   "execution_count": 141,
   "metadata": {
    "collapsed": true
   },
   "outputs": [],
   "source": [
    "def a(n):\n",
    "    if n < 4: \n",
    "        return n - 1\n",
    "    return (n-1) * ( a(n-1) + a(n-2) )"
   ]
  },
  {
   "cell_type": "code",
   "execution_count": 142,
   "metadata": {
    "collapsed": false
   },
   "outputs": [
    {
     "data": {
      "text/plain": [
       "9"
      ]
     },
     "execution_count": 142,
     "metadata": {},
     "output_type": "execute_result"
    }
   ],
   "source": [
    "a(4)"
   ]
  },
  {
   "cell_type": "code",
   "execution_count": 143,
   "metadata": {
    "collapsed": false
   },
   "outputs": [
    {
     "data": {
      "text/plain": [
       "44"
      ]
     },
     "execution_count": 143,
     "metadata": {},
     "output_type": "execute_result"
    }
   ],
   "source": [
    "a(5)"
   ]
  },
  {
   "cell_type": "markdown",
   "metadata": {},
   "source": [
    "## fib\n",
    "\n",
    "```\n",
    "a(n) = 1 (if n < 3)\n",
    "a(n) = a(n-1) + a(n-2)\n",
    "```"
   ]
  },
  {
   "cell_type": "code",
   "execution_count": 144,
   "metadata": {
    "collapsed": true
   },
   "outputs": [],
   "source": [
    "def a(n):\n",
    "    if n < 3:\n",
    "        return 1\n",
    "    return a(n-1) + a(n-2)"
   ]
  },
  {
   "cell_type": "code",
   "execution_count": 145,
   "metadata": {
    "collapsed": false
   },
   "outputs": [
    {
     "data": {
      "text/plain": [
       "5"
      ]
     },
     "execution_count": 145,
     "metadata": {},
     "output_type": "execute_result"
    }
   ],
   "source": [
    "a(5)"
   ]
  },
  {
   "cell_type": "code",
   "execution_count": 146,
   "metadata": {
    "collapsed": false
   },
   "outputs": [
    {
     "data": {
      "text/plain": [
       "8"
      ]
     },
     "execution_count": 146,
     "metadata": {},
     "output_type": "execute_result"
    }
   ],
   "source": [
    "a(6)"
   ]
  },
  {
   "cell_type": "markdown",
   "metadata": {},
   "source": [
    "## fib(5)\n",
    "\n",
    "```\n",
    "-> fib(4) + fib(3)\n",
    "-> fib(3) + fib(2) + fib(2) + fib(1)\n",
    "-> fib(2) + fib(1) + fib(1) + fib(0) + fib(1) + fib(0) + fib(1)\n",
    "```"
   ]
  },
  {
   "cell_type": "markdown",
   "metadata": {},
   "source": [
    "## 꼬리재귀 \n",
    "\n",
    "-> TCO가 구현되어 있지 않기 때문에 어느정도의 성능은 향상되지만 부족하다."
   ]
  },
  {
   "cell_type": "code",
   "execution_count": 147,
   "metadata": {
    "collapsed": true
   },
   "outputs": [],
   "source": [
    "def fib1(n):\n",
    "    a = [1, 1]\n",
    "    for _ in range(n-2):\n",
    "        a.append(sum(a[-2:]))\n",
    "    return a[-1]"
   ]
  },
  {
   "cell_type": "code",
   "execution_count": 148,
   "metadata": {
    "collapsed": false
   },
   "outputs": [
    {
     "data": {
      "text/plain": [
       "354224848179261915075"
      ]
     },
     "execution_count": 148,
     "metadata": {},
     "output_type": "execute_result"
    }
   ],
   "source": [
    "fib1(100)"
   ]
  },
  {
   "cell_type": "code",
   "execution_count": 156,
   "metadata": {
    "collapsed": true
   },
   "outputs": [],
   "source": [
    "# 재귀함수로 반복\n",
    "\n",
    "def fib2(n):\n",
    "    def increase(a, b, n):\n",
    "        if n == 0:\n",
    "            return a, b\n",
    "        return increase(b, a+b, n-1)\n",
    "    a, b = increase(0, 1, n)\n",
    "    return a"
   ]
  },
  {
   "cell_type": "code",
   "execution_count": 157,
   "metadata": {
    "collapsed": false
   },
   "outputs": [
    {
     "data": {
      "text/plain": [
       "139423224561697880139724382870407283950070256587697307264108962948325571622863290691557658876222521294125"
      ]
     },
     "execution_count": 157,
     "metadata": {},
     "output_type": "execute_result"
    }
   ],
   "source": [
    "fib2(500)"
   ]
  },
  {
   "cell_type": "code",
   "execution_count": 158,
   "metadata": {
    "collapsed": false
   },
   "outputs": [
    {
     "data": {
      "text/plain": [
       "139423224561697880139724382870407283950070256587697307264108962948325571622863290691557658876222521294125"
      ]
     },
     "execution_count": 158,
     "metadata": {},
     "output_type": "execute_result"
    }
   ],
   "source": [
    "fib1(500)"
   ]
  },
  {
   "cell_type": "markdown",
   "metadata": {},
   "source": [
    "## TCO (Tail call Optimization)\n",
    "\n",
    "fib2(3)\n",
    "```\n",
    "-> increase(0, 1, 3)\n",
    "    -> increase(1, 1, 2)\n",
    "        -> increase(1, 2, 1)\n",
    "            ->increase(2, 3, 0)\n",
    "```\n",
    "\n",
    "TCO가 구현되어 있다면\n",
    "```\n",
    "-> increase(0, 1, 3)\n",
    "-> increase(1, 1, 2)\n",
    "-> increase(1, 2, 1)\n",
    "-> increase(2, 3, 0)\n",
    "```"
   ]
  },
  {
   "cell_type": "markdown",
   "metadata": {},
   "source": [
    "# 실습 : 퀵소트 작성\n",
    "\n",
    "```\n",
    "1. 절차형\n",
    "2. 함수형\n",
    "```"
   ]
  },
  {
   "cell_type": "code",
   "execution_count": 172,
   "metadata": {
    "collapsed": false
   },
   "outputs": [],
   "source": [
    "def make_list():\n",
    "    return [ random.randint(1, 1000) for _ in range(1000) ] "
   ]
  },
  {
   "cell_type": "code",
   "execution_count": 166,
   "metadata": {
    "collapsed": false
   },
   "outputs": [],
   "source": [
    "def quick_sort(values):\n",
    "    return quick_sort([x for x in values[1:] if x < values[0]]) + \\\n",
    "            [values[0]] + \\\n",
    "            quick_sort([x for x in values[1:] if x >= values[0]]) \\\n",
    "        if values else []"
   ]
  },
  {
   "cell_type": "code",
   "execution_count": 170,
   "metadata": {
    "collapsed": false
   },
   "outputs": [
    {
     "data": {
      "text/plain": [
       "27"
      ]
     },
     "execution_count": 170,
     "metadata": {},
     "output_type": "execute_result"
    }
   ],
   "source": [
    "import random\n",
    "random.randint(1, 100) "
   ]
  },
  {
   "cell_type": "markdown",
   "metadata": {},
   "source": [
    "## curry \n",
    "\n",
    "여러 인자를 받는 함수에서, 함수를 인자별로 세분화 하는 것"
   ]
  },
  {
   "cell_type": "code",
   "execution_count": 178,
   "metadata": {
    "collapsed": true
   },
   "outputs": [],
   "source": [
    "import math\n",
    "\n",
    "def fsum(f):\n",
    "    def apply(a, b):\n",
    "        return sum(map(f, range(a, b+1)))\n",
    "    return apply"
   ]
  },
  {
   "cell_type": "code",
   "execution_count": 180,
   "metadata": {
    "collapsed": false
   },
   "outputs": [],
   "source": [
    "log_sum = fsum(math.log)"
   ]
  },
  {
   "cell_type": "code",
   "execution_count": 181,
   "metadata": {
    "collapsed": false
   },
   "outputs": [
    {
     "data": {
      "text/plain": [
       "15.104412573075518"
      ]
     },
     "execution_count": 181,
     "metadata": {},
     "output_type": "execute_result"
    }
   ],
   "source": [
    "log_sum(1, 10)"
   ]
  },
  {
   "cell_type": "code",
   "execution_count": 182,
   "metadata": {
    "collapsed": false
   },
   "outputs": [
    {
     "name": "stdout",
     "output_type": "stream",
     "text": [
      "Collecting pymonad\n",
      "  Downloading https://files.pythonhosted.org/packages/6b/c5/f1affc732c35903266b164c26dea2fda56c8a2eb498d18bcd38349c66f5b/PyMonad-1.3.tar.gz\n",
      "Building wheels for collected packages: pymonad\n",
      "  Running setup.py bdist_wheel for pymonad: started\n",
      "  Running setup.py bdist_wheel for pymonad: finished with status 'done'\n",
      "  Stored in directory: C:\\Users\\JungChul\\AppData\\Local\\pip\\Cache\\wheels\\8e\\6d\\a7\\7243c3b5f0d87421da9fd7fe97c52840c918818e80f8e0f176\n",
      "Successfully built pymonad\n",
      "Installing collected packages: pymonad\n",
      "Successfully installed pymonad-1.3\n"
     ]
    },
    {
     "name": "stderr",
     "output_type": "stream",
     "text": [
      "hyperlink 18.0.0 has requirement idna>=2.5, but you'll have idna 2.1 which is incompatible.\n",
      "You are using pip version 10.0.1, however version 18.1 is available.\n",
      "You should consider upgrading via the 'python -m pip install --upgrade pip' command.\n"
     ]
    }
   ],
   "source": [
    "!pip install pymonad"
   ]
  },
  {
   "cell_type": "code",
   "execution_count": 183,
   "metadata": {
    "collapsed": true
   },
   "outputs": [],
   "source": [
    "from pymonad import curry"
   ]
  },
  {
   "cell_type": "code",
   "execution_count": 184,
   "metadata": {
    "collapsed": true
   },
   "outputs": [],
   "source": [
    "@curry\n",
    "def fsum(f, a, b):\n",
    "    return sum(map(f, range(a, b+1)))"
   ]
  },
  {
   "cell_type": "code",
   "execution_count": 185,
   "metadata": {
    "collapsed": false
   },
   "outputs": [
    {
     "data": {
      "text/plain": [
       "15.104412573075518"
      ]
     },
     "execution_count": 185,
     "metadata": {},
     "output_type": "execute_result"
    }
   ],
   "source": [
    "fsum(math.log, 1, 10)"
   ]
  },
  {
   "cell_type": "code",
   "execution_count": 186,
   "metadata": {
    "collapsed": false
   },
   "outputs": [
    {
     "data": {
      "text/plain": [
       "15.104412573075518"
      ]
     },
     "execution_count": 186,
     "metadata": {},
     "output_type": "execute_result"
    }
   ],
   "source": [
    "new_func = fsum(math.log)\n",
    "new_func1 = new_func(1, 10)\n",
    "new_func1"
   ]
  },
  {
   "cell_type": "markdown",
   "metadata": {},
   "source": [
    "## GOOD function is small function"
   ]
  },
  {
   "cell_type": "code",
   "execution_count": 187,
   "metadata": {
    "collapsed": true
   },
   "outputs": [],
   "source": [
    "words = [\"Python\", \"Javascript\", \"Haskell\", \"Clang\"]"
   ]
  },
  {
   "cell_type": "code",
   "execution_count": 188,
   "metadata": {
    "collapsed": true
   },
   "outputs": [],
   "source": [
    "def len_sum(n):\n",
    "    return sum(map(len, words))"
   ]
  },
  {
   "cell_type": "code",
   "execution_count": 189,
   "metadata": {
    "collapsed": false
   },
   "outputs": [
    {
     "data": {
      "text/plain": [
       "28"
      ]
     },
     "execution_count": 189,
     "metadata": {},
     "output_type": "execute_result"
    }
   ],
   "source": [
    "len_sum(words)"
   ]
  },
  {
   "cell_type": "code",
   "execution_count": 191,
   "metadata": {
    "collapsed": false
   },
   "outputs": [
    {
     "data": {
      "text/plain": [
       "28"
      ]
     },
     "execution_count": 191,
     "metadata": {},
     "output_type": "execute_result"
    }
   ],
   "source": [
    "reduce(lambda acc, word : acc + len(word), words , 0)"
   ]
  },
  {
   "cell_type": "code",
   "execution_count": 192,
   "metadata": {
    "collapsed": false
   },
   "outputs": [
    {
     "data": {
      "text/plain": [
       "28"
      ]
     },
     "execution_count": 192,
     "metadata": {},
     "output_type": "execute_result"
    }
   ],
   "source": [
    "reduce (operator.add, map(len, words))"
   ]
  },
  {
   "cell_type": "code",
   "execution_count": null,
   "metadata": {
    "collapsed": true
   },
   "outputs": [],
   "source": []
  }
 ],
 "metadata": {
  "anaconda-cloud": {},
  "kernelspec": {
   "display_name": "Python [default]",
   "language": "python",
   "name": "python3"
  },
  "language_info": {
   "codemirror_mode": {
    "name": "ipython",
    "version": 3
   },
   "file_extension": ".py",
   "mimetype": "text/x-python",
   "name": "python",
   "nbconvert_exporter": "python",
   "pygments_lexer": "ipython3",
   "version": "3.5.2"
  }
 },
 "nbformat": 4,
 "nbformat_minor": 1
}

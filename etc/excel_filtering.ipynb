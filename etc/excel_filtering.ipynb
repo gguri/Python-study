{
 "cells": [
  {
   "cell_type": "code",
   "execution_count": 33,
   "metadata": {
    "collapsed": false
   },
   "outputs": [],
   "source": [
    "import pandas as pd"
   ]
  },
  {
   "cell_type": "markdown",
   "metadata": {},
   "source": [
    "## data load"
   ]
  },
  {
   "cell_type": "code",
   "execution_count": 140,
   "metadata": {
    "collapsed": false
   },
   "outputs": [],
   "source": [
    "df = pd.read_csv('ex.csv', encoding = 'utf-8')\n",
    "df = pd.DataFrame(df)\n",
    "\n",
    "# os.getcwd() 경로확인"
   ]
  },
  {
   "cell_type": "markdown",
   "metadata": {},
   "source": [
    "## data transform"
   ]
  },
  {
   "cell_type": "code",
   "execution_count": 141,
   "metadata": {
    "collapsed": false,
    "scrolled": true
   },
   "outputs": [],
   "source": [
    "result = pd.DataFrame()\n",
    "for i in range(df.shape[0]):\n",
    "    temp = DataFrame(df.ix[i])\n",
    "    temp = DataFrame(temp, columns = [i, 'col1'])\n",
    "    temp['col1'] = ''.join(list(df.ix[i][0]))\n",
    "    temp = temp[temp[i] == 'V']\n",
    "    temp = temp.reindex(columns = ['col1','col2'])\n",
    "    result = pd.concat([result, temp])"
   ]
  },
  {
   "cell_type": "markdown",
   "metadata": {},
   "source": [
    "## result save"
   ]
  },
  {
   "cell_type": "code",
   "execution_count": 142,
   "metadata": {
    "collapsed": false
   },
   "outputs": [],
   "source": [
    "result.to_csv('result.csv')"
   ]
  },
  {
   "cell_type": "markdown",
   "metadata": {},
   "source": [
    "---\n",
    "## 결과 확인용\n",
    "- V 부분만 변경하시면 됩니다."
   ]
  },
  {
   "cell_type": "code",
   "execution_count": 145,
   "metadata": {
    "collapsed": false
   },
   "outputs": [
    {
     "name": "stdout",
     "output_type": "stream",
     "text": [
      "  col1  col2\n",
      "1    가   NaN\n",
      "2    가   NaN\n",
      "3    가   NaN\n",
      "8    가   NaN\n"
     ]
    }
   ],
   "source": [
    "result = pd.DataFrame()\n",
    "i = 0\n",
    "temp = DataFrame(df.ix[i])\n",
    "temp = DataFrame(temp, columns = [i, 'col1'])\n",
    "temp['col1'] = ''.join(list(df.ix[i][0]))\n",
    "temp = temp[temp[i] == 'V'] # V변경\n",
    "temp = temp.reindex(columns = ['col1','col2'])\n",
    "result = pd.concat([result, temp])\n",
    "print (result)"
   ]
  },
  {
   "cell_type": "code",
   "execution_count": 146,
   "metadata": {
    "collapsed": false
   },
   "outputs": [
    {
     "name": "stdout",
     "output_type": "stream",
     "text": [
      "  col1  col2\n",
      "A    나   NaN\n",
      "B    나   NaN\n",
      "C    나   NaN\n",
      "D    나   NaN\n"
     ]
    }
   ],
   "source": [
    "result = pd.DataFrame()\n",
    "i = 1\n",
    "temp = DataFrame(df.ix[i])\n",
    "temp = DataFrame(temp, columns = [i, 'col1'])\n",
    "temp['col1'] = ''.join(list(df.ix[i][0]))\n",
    "temp = temp[temp[i] == 'V']\n",
    "temp = temp.reindex(columns = ['col1','col2'])\n",
    "result = pd.concat([result, temp])\n",
    "print (result)"
   ]
  },
  {
   "cell_type": "code",
   "execution_count": null,
   "metadata": {
    "collapsed": true
   },
   "outputs": [],
   "source": []
  }
 ],
 "metadata": {
  "kernelspec": {
   "display_name": "Python [default]",
   "language": "python",
   "name": "python3"
  },
  "language_info": {
   "codemirror_mode": {
    "name": "ipython",
    "version": 3
   },
   "file_extension": ".py",
   "mimetype": "text/x-python",
   "name": "python",
   "nbconvert_exporter": "python",
   "pygments_lexer": "ipython3",
   "version": "3.5.2"
  }
 },
 "nbformat": 4,
 "nbformat_minor": 1
}
